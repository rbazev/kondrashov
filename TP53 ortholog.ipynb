{
 "cells": [
  {
   "cell_type": "markdown",
   "id": "9a45b18f-1438-4270-b25d-30d7ccd63703",
   "metadata": {},
   "source": [
    "# Analysis outline\n",
    "\n",
    "The analysis has the following components:\n",
    "\n",
    "1. [orthologs.ipynb](orthologs.ipynb) collect primate orthologs of each human gene from NCBI, remove redundant sequences, save them to a `*.fasta` file.  \n",
    "\n",
    "1. [align.ipynb](align.ipynb) align orthologous sequences in each `*.fasta` file and save it to a `*.aln` file.\n",
    "\n",
    "1. [pathogen.ipynb](pathogen.ipynb) extract pathogenic variants from ClinVar data. \n",
    "\n",
    "1. [clean_up.ipynb](clean_up.ipynb) establish connections between transcripts in ClinVar data and proteins in ortholog collections.\n",
    "\n",
    "1. [find_CPDs.ipynb](find_CPDs.ipynb) find putative CPDs."
   ]
  },
  {
   "cell_type": "markdown",
   "id": "ceda640e-c21f-44b0-b8d2-86b39dbd05e7",
   "metadata": {},
   "source": [
    "# Set up\n",
    "\n",
    "Run the following cell.  It loads some required functions."
   ]
  },
  {
   "cell_type": "code",
   "execution_count": 14,
   "id": "df64b292-2ea7-4ec3-babb-abbbae732351",
   "metadata": {},
   "outputs": [],
   "source": [
    "run kondrashov"
   ]
  },
  {
   "cell_type": "markdown",
   "id": "ffcca603-accf-420a-a3a9-d49bf3a9614e",
   "metadata": {},
   "source": [
    "Run the following two cell.  The first displays the path to the current folder.  The second displays the contents of that folder.  (Note: your output will be different from mine.)"
   ]
  },
  {
   "cell_type": "code",
   "execution_count": 2,
   "id": "934dbbd3-1eef-4618-b572-a80f624d91d8",
   "metadata": {},
   "outputs": [
    {
     "data": {
      "text/plain": [
       "'/Users/arnav/hhh Dropbox/arnav mehta/Mac/Documents/GitHub/kondrashov'"
      ]
     },
     "execution_count": 2,
     "metadata": {},
     "output_type": "execute_result"
    }
   ],
   "source": [
    "pwd"
   ]
  },
  {
   "cell_type": "code",
   "execution_count": 3,
   "id": "84c3cf8a-b8b4-4271-a00a-a2ef84db450d",
   "metadata": {},
   "outputs": [
    {
     "name": "stdout",
     "output_type": "stream",
     "text": [
      "ACE2 ortholog-Copy1.ipynb  \u001b[34mfasta\u001b[m\u001b[m/\r\n",
      "ACE2 ortholog.ipynb        find_CPDs.ipynb\r\n",
      "README.md                  kondrashov.py\r\n",
      "TP53 ortholog.ipynb        orthologs-Copy1.ipynb\r\n",
      "align.ipynb                orthologs.ipynb\r\n",
      "\u001b[34maln\u001b[m\u001b[m/                       pathogen.ipynb\r\n",
      "clean_up.ipynb\r\n"
     ]
    }
   ],
   "source": [
    "ls"
   ]
  },
  {
   "cell_type": "markdown",
   "id": "8fdedeb9-2cd8-4fa0-9f33-de8b64d54eb9",
   "metadata": {},
   "source": [
    "If there is no folder called `fasta`, create it by running the following command."
   ]
  },
  {
   "cell_type": "code",
   "execution_count": 4,
   "id": "f93c1b3d-b6d9-4726-ac4c-f0c521e28a71",
   "metadata": {},
   "outputs": [
    {
     "name": "stdout",
     "output_type": "stream",
     "text": [
      "mkdir: fasta: File exists\r\n"
     ]
    }
   ],
   "source": [
    "mkdir fasta"
   ]
  },
  {
   "cell_type": "markdown",
   "id": "8daf83b6-5449-42f4-a9d5-f380cd467e01",
   "metadata": {},
   "source": [
    "If there is no folder called `aln`, create it by running the following command."
   ]
  },
  {
   "cell_type": "code",
   "execution_count": 5,
   "id": "80aa7acc-3303-470d-b7d1-8ab75c7dbf0b",
   "metadata": {},
   "outputs": [
    {
     "name": "stdout",
     "output_type": "stream",
     "text": [
      "mkdir: aln: File exists\r\n"
     ]
    }
   ],
   "source": [
    "mkdir aln"
   ]
  },
  {
   "cell_type": "markdown",
   "id": "516732c7-a4b4-42f1-862b-8d57b2ecd1a4",
   "metadata": {},
   "source": [
    "Rerun the `ls` command above to confirm that you have created those folders successfully. \n",
    "\n",
    "The following defines a function that gets the species name from a NCBI sequence record."
   ]
  },
  {
   "cell_type": "markdown",
   "id": "3ee2f223-394b-4031-9ced-488b29665361",
   "metadata": {},
   "source": [
    "# Get protein sequences for primate orthologs of human genes\n",
    "\n",
    "**Note: this is a new version of the `orthologs.ipynb` notebook that prevents unique human sequences from being dropped.**\n",
    "\n",
    "TP53\n"
   ]
  },
  {
   "cell_type": "markdown",
   "id": "77288b91-3273-479a-8dd4-a830e4efb43e",
   "metadata": {},
   "source": [
    "## TP53"
   ]
  },
  {
   "cell_type": "code",
   "execution_count": 6,
   "id": "e9553276-0e66-4d33-97cf-e8e9e4c8f043",
   "metadata": {},
   "outputs": [],
   "source": [
    "# enter gene name here\n",
    "gene = 'TP53'"
   ]
  },
  {
   "cell_type": "markdown",
   "id": "926c4fe2-d68b-4158-bc44-bac377ca58d1",
   "metadata": {},
   "source": [
    "* In the [NCBI query page](https://www.ncbi.nlm.nih.gov/labs/gquery/) search for `Homo sapiens ALPL`.  \n",
    "\n",
    "* When the search results come up ([this is the page for ALPL](https://www.ncbi.nlm.nih.gov/labs/gquery/all/?term=Homo+sapiens+ALPL)) click on `Orthologs`.  Here's what the output looks like for [ALPL](https://www.ncbi.nlm.nih.gov/gene/249/ortholog/?scope=9443&term=ALPL).\n",
    "\n",
    "* Use the Taxonomy Tree to select **mammals > placentals > primates**.  For ALPL, this reduces the number of orthologs from 335 to 29.\n",
    "\n",
    "* In the list of sequences click to select all (box labelled `0 selected`).\n",
    "\n",
    "* Click on `Add to cart`.  The items appear in a box with a shopping cart symbol.  Click on that box.\n",
    "\n",
    "* A popup window appears.  Click on `Protein alignment`.  Choose `all sequences per gene`.  Click `Align`.\n",
    "\n",
    "* Select all the accession numbers in the box (XP_039330133.1, XP_037856105.1, etc) and copy them.\n",
    "\n",
    "* Run the following cell (it pulls the names from the clipboard and puts them on a list)."
   ]
  },
  {
   "cell_type": "code",
   "execution_count": 22,
   "id": "e7898deb-d92d-4028-b302-64413fb9cb30",
   "metadata": {},
   "outputs": [
    {
     "name": "stdout",
     "output_type": "stream",
     "text": [
      "TP53 orthologs: 82 primate sequences (retrieved on 2022-07-21)\n",
      "\n",
      "['NP_001394193.1', 'NP_001394192.1', 'NP_001394197.1', 'NP_001394198.1', 'NP_001394200.1', 'NP_001394199.1', 'NP_001394191.1', 'NP_001394196.1', 'NP_001394194.1', 'NP_001394195.1', 'XP_045231359.1', 'XP_045231358.1', 'XP_039331970.1', 'XP_037843787.1', 'XP_037843786.1', 'XP_008008383.2', 'XP_035155777.1', 'XP_003810114.2', 'XP_033040609.1', 'XP_033040608.1', 'XP_032136324.1', 'XP_032136323.1', 'XP_032136322.1', 'XP_032136321.1', 'XP_031995228.1', 'XP_004058559.2', 'XP_018868682.2', 'XP_018868681.2', 'XP_030656345.1', 'XP_028691546.1', 'XP_025219304.1', 'XP_025219303.1', 'XP_025219302.1', 'XP_025219301.1', 'XP_025219300.1', 'XP_016786959.2', 'XP_002827020.2', 'XP_023049083.1', 'XP_023049082.1', 'XP_021530379.1', 'XP_017706034.1', 'XP_017706033.1', 'XP_017387084.1', 'XP_017387083.1', 'XP_012661495.1', 'XP_012631521.1', 'XP_012631512.1', 'XP_012511070.1', 'XP_011725915.1', 'XP_011813950.1', 'XP_011813949.1', 'XP_011813948.1', 'XP_011907826.1', 'XP_011907813.1', 'XP_011849932.1', 'XP_011849931.1', 'XP_011849930.1', 'XP_010360689.1', 'XP_008060532.1', 'XP_008008385.1', 'NP_001274608.1', 'XP_005582844.1', 'NP_001263628.1', 'NP_001263627.1', 'NP_001263626.1', 'NP_001263625.1', 'NP_001263624.1', 'NP_001263690.1', 'NP_001263689.1', 'XP_003929235.1', 'XP_003912321.1', 'NP_001119590.1', 'XP_001172077.2', 'XP_002747994.1', 'NP_001119589.1', 'NP_001119588.1', 'NP_001119587.1', 'NP_001119586.1', 'NP_001119585.1', 'NP_001119584.1', 'NP_000537.3', 'NP_001040616.1']\n"
     ]
    }
   ],
   "source": [
    "# copy IDs from NCBI ortholog protein alignment dialog (all sequences per gene)\n",
    "tmp = pd.read_clipboard(sep= '/n', names=['id'])\n",
    "seq_ids = tmp['id'].tolist()\n",
    "print('{0} orthologs: {1} primate sequences (retrieved on {2})\\n'.format(gene, len(seq_ids), date.today()))\n",
    "print(seq_ids)"
   ]
  },
  {
   "cell_type": "code",
   "execution_count": 24,
   "id": "487b8eac-3530-4c2a-bd04-9783b1d0622d",
   "metadata": {},
   "outputs": [
    {
     "name": "stdout",
     "output_type": "stream",
     "text": [
      "TP53 orthologs: 82 primate sequences\n",
      "\n",
      "['NP_001394193.1', 'NP_001394192.1', 'NP_001394197.1', 'NP_001394198.1', 'NP_001394200.1', 'NP_001394199.1', 'NP_001394191.1', 'NP_001394196.1', 'NP_001394194.1', 'NP_001394195.1', 'XP_045231359.1', 'XP_045231358.1', 'XP_039331970.1', 'XP_037843787.1', 'XP_037843786.1', 'XP_008008383.2', 'XP_035155777.1', 'XP_003810114.2', 'XP_033040609.1', 'XP_033040608.1', 'XP_032136324.1', 'XP_032136323.1', 'XP_032136322.1', 'XP_032136321.1', 'XP_031995228.1', 'XP_004058559.2', 'XP_018868682.2', 'XP_018868681.2', 'XP_030656345.1', 'XP_028691546.1', 'XP_025219304.1', 'XP_025219303.1', 'XP_025219302.1', 'XP_025219301.1', 'XP_025219300.1', 'XP_016786959.2', 'XP_002827020.2', 'XP_023049083.1', 'XP_023049082.1', 'XP_021530379.1', 'XP_017706034.1', 'XP_017706033.1', 'XP_017387084.1', 'XP_017387083.1', 'XP_012661495.1', 'XP_012631521.1', 'XP_012631512.1', 'XP_012511070.1', 'XP_011725915.1', 'XP_011813950.1', 'XP_011813949.1', 'XP_011813948.1', 'XP_011907826.1', 'XP_011907813.1', 'XP_011849932.1', 'XP_011849931.1', 'XP_011849930.1', 'XP_010360689.1', 'XP_008060532.1', 'XP_008008385.1', 'NP_001274608.1', 'XP_005582844.1', 'NP_001263628.1', 'NP_001263627.1', 'NP_001263626.1', 'NP_001263625.1', 'NP_001263624.1', 'NP_001263690.1', 'NP_001263689.1', 'XP_003929235.1', 'XP_003912321.1', 'NP_001119590.1', 'XP_001172077.2', 'XP_002747994.1', 'NP_001119589.1', 'NP_001119588.1', 'NP_001119587.1', 'NP_001119586.1', 'NP_001119585.1', 'NP_001119584.1', 'NP_000537.3', 'NP_001040616.1']\n"
     ]
    }
   ],
   "source": [
    "# you can do it by hand if you already have all the sequences\n",
    "seq_ids = ['NP_001394193.1', 'NP_001394192.1', 'NP_001394197.1', 'NP_001394198.1', 'NP_001394200.1', 'NP_001394199.1', 'NP_001394191.1', 'NP_001394196.1', 'NP_001394194.1', 'NP_001394195.1', 'XP_045231359.1', 'XP_045231358.1', 'XP_039331970.1', 'XP_037843787.1', 'XP_037843786.1', 'XP_008008383.2', 'XP_035155777.1', 'XP_003810114.2', 'XP_033040609.1', 'XP_033040608.1', 'XP_032136324.1', 'XP_032136323.1', 'XP_032136322.1', 'XP_032136321.1', 'XP_031995228.1', 'XP_004058559.2', 'XP_018868682.2', 'XP_018868681.2', 'XP_030656345.1', 'XP_028691546.1', 'XP_025219304.1', 'XP_025219303.1', 'XP_025219302.1', 'XP_025219301.1', 'XP_025219300.1', 'XP_016786959.2', 'XP_002827020.2', 'XP_023049083.1', 'XP_023049082.1', 'XP_021530379.1', 'XP_017706034.1', 'XP_017706033.1', 'XP_017387084.1', 'XP_017387083.1', 'XP_012661495.1', 'XP_012631521.1', 'XP_012631512.1', 'XP_012511070.1', 'XP_011725915.1', 'XP_011813950.1', 'XP_011813949.1', 'XP_011813948.1', 'XP_011907826.1', 'XP_011907813.1', 'XP_011849932.1', 'XP_011849931.1', 'XP_011849930.1', 'XP_010360689.1', 'XP_008060532.1', 'XP_008008385.1', 'NP_001274608.1', 'XP_005582844.1', 'NP_001263628.1', 'NP_001263627.1', 'NP_001263626.1', 'NP_001263625.1', 'NP_001263624.1', 'NP_001263690.1', 'NP_001263689.1', 'XP_003929235.1', 'XP_003912321.1', 'NP_001119590.1', 'XP_001172077.2', 'XP_002747994.1', 'NP_001119589.1', 'NP_001119588.1', 'NP_001119587.1', 'NP_001119586.1', 'NP_001119585.1', 'NP_001119584.1', 'NP_000537.3', 'NP_001040616.1']\n",
    "print('{0} orthologs: {1} primate sequences\\n'.format(gene, len(seq_ids)))\n",
    "print(seq_ids)"
   ]
  },
  {
   "cell_type": "markdown",
   "id": "d8513078-e3ad-4ccc-b444-84143326d3b9",
   "metadata": {},
   "source": [
    "* Run the next cell.  It pulls the sequences from NCBI and grabs any unique human sequences.  Then it flags any redundant sequences and drops those.  For ALPL it drops 84 sequences and we end up with 57."
   ]
  },
  {
   "cell_type": "code",
   "execution_count": 28,
   "id": "302f3ad9-2625-4a9a-b405-aee686e2d9e2",
   "metadata": {},
   "outputs": [
    {
     "name": "stdout",
     "output_type": "stream",
     "text": [
      "TP53 orthologs: all primate sequences\n",
      "\n",
      "0:\tNP_001394193.1\t(393 aa)\tcellular tumor antigen p53 isoform a [Homo sapiens]\n",
      "1:\tNP_001394192.1\t(354 aa)\tcellular tumor antigen p53 isoform g [Homo sapiens]\n",
      "2:\tNP_001394197.1\t(341 aa)\tcellular tumor antigen p53 isoform b [Homo sapiens]\n",
      "3:\tNP_001394198.1\t(302 aa)\tcellular tumor antigen p53 isoform i [Homo sapiens]\n",
      "\tNP_001394200.1\t(302 aa)\tcellular tumor antigen p53 isoform i [Homo sapiens]\t*** the same as sequence 3 (excluded) ***\n",
      "\tNP_001394199.1\t(341 aa)\tcellular tumor antigen p53 isoform b [Homo sapiens]\t*** the same as sequence 2 (excluded) ***\n",
      "\tNP_001394191.1\t(393 aa)\tcellular tumor antigen p53 isoform a [Homo sapiens]\t*** the same as sequence 0 (excluded) ***\n",
      "\tNP_001394196.1\t(354 aa)\tcellular tumor antigen p53 isoform g [Homo sapiens]\t*** the same as sequence 1 (excluded) ***\n",
      "\tNP_001394194.1\t(354 aa)\tcellular tumor antigen p53 isoform g [Homo sapiens]\t*** the same as sequence 1 (excluded) ***\n",
      "\tNP_001394195.1\t(393 aa)\tcellular tumor antigen p53 isoform a [Homo sapiens]\t*** the same as sequence 0 (excluded) ***\n",
      "4:\tNP_001263628.1\t(187 aa)\tcellular tumor antigen p53 isoform l [Homo sapiens]\n",
      "5:\tNP_001263627.1\t(182 aa)\tcellular tumor antigen p53 isoform k [Homo sapiens]\n",
      "6:\tNP_001263626.1\t(234 aa)\tcellular tumor antigen p53 isoform j [Homo sapiens]\n",
      "\tNP_001263625.1\t(302 aa)\tcellular tumor antigen p53 isoform i [Homo sapiens]\t*** the same as sequence 3 (excluded) ***\n",
      "7:\tNP_001263624.1\t(307 aa)\tcellular tumor antigen p53 isoform h [Homo sapiens]\n",
      "\tNP_001263690.1\t(354 aa)\tcellular tumor antigen p53 isoform g [Homo sapiens]\t*** the same as sequence 1 (excluded) ***\n",
      "\tNP_001263689.1\t(354 aa)\tcellular tumor antigen p53 isoform g [Homo sapiens]\t*** the same as sequence 1 (excluded) ***\n",
      "\tNP_001119590.1\t(354 aa)\tcellular tumor antigen p53 isoform g [Homo sapiens]\t*** the same as sequence 1 (excluded) ***\n",
      "8:\tNP_001119589.1\t(214 aa)\tcellular tumor antigen p53 isoform f [Homo sapiens]\n",
      "9:\tNP_001119588.1\t(209 aa)\tcellular tumor antigen p53 isoform e [Homo sapiens]\n",
      "10:\tNP_001119587.1\t(261 aa)\tcellular tumor antigen p53 isoform d [Homo sapiens]\n",
      "\tNP_001119586.1\t(341 aa)\tcellular tumor antigen p53 isoform b [Homo sapiens]\t*** the same as sequence 2 (excluded) ***\n",
      "11:\tNP_001119585.1\t(346 aa)\tcellular tumor antigen p53 isoform c [Homo sapiens]\n",
      "\tNP_001119584.1\t(393 aa)\tcellular tumor antigen p53 isoform a [Homo sapiens]\t*** the same as sequence 0 (excluded) ***\n",
      "\tNP_000537.3\t(393 aa)\tcellular tumor antigen p53 isoform a [Homo sapiens]\t*** the same as sequence 0 (excluded) ***\n",
      "\tNP_001394193.1\t(393 aa)\tcellular tumor antigen p53 isoform a [Homo sapiens]\t*** the same as sequence 0 (excluded) ***\n",
      "\tNP_001394192.1\t(354 aa)\tcellular tumor antigen p53 isoform g [Homo sapiens]\t*** the same as sequence 1 (excluded) ***\n",
      "\tNP_001394197.1\t(341 aa)\tcellular tumor antigen p53 isoform b [Homo sapiens]\t*** the same as sequence 2 (excluded) ***\n",
      "\tNP_001394198.1\t(302 aa)\tcellular tumor antigen p53 isoform i [Homo sapiens]\t*** the same as sequence 3 (excluded) ***\n",
      "\tNP_001394200.1\t(302 aa)\tcellular tumor antigen p53 isoform i [Homo sapiens]\t*** the same as sequence 3 (excluded) ***\n",
      "\tNP_001394199.1\t(341 aa)\tcellular tumor antigen p53 isoform b [Homo sapiens]\t*** the same as sequence 2 (excluded) ***\n",
      "\tNP_001394191.1\t(393 aa)\tcellular tumor antigen p53 isoform a [Homo sapiens]\t*** the same as sequence 0 (excluded) ***\n",
      "\tNP_001394196.1\t(354 aa)\tcellular tumor antigen p53 isoform g [Homo sapiens]\t*** the same as sequence 1 (excluded) ***\n",
      "\tNP_001394194.1\t(354 aa)\tcellular tumor antigen p53 isoform g [Homo sapiens]\t*** the same as sequence 1 (excluded) ***\n",
      "\tNP_001394195.1\t(393 aa)\tcellular tumor antigen p53 isoform a [Homo sapiens]\t*** the same as sequence 0 (excluded) ***\n",
      "12:\tXP_045231359.1\t(393 aa)\tcellular tumor antigen p53 isoform X2 [Macaca fascicularis]\n",
      "13:\tXP_045231358.1\t(412 aa)\tcellular tumor antigen p53 isoform X1 [Macaca fascicularis]\n",
      "14:\tXP_039331970.1\t(416 aa)\tcellular tumor antigen p53 isoform X1 [Saimiri boliviensis boliviensis]\n",
      "15:\tXP_037843787.1\t(341 aa)\tcellular tumor antigen p53 isoform X4 [Chlorocebus sabaeus]\n",
      "16:\tXP_037843786.1\t(359 aa)\tcellular tumor antigen p53 isoform X3 [Chlorocebus sabaeus]\n",
      "17:\tXP_008008383.2\t(411 aa)\tcellular tumor antigen p53 isoform X1 [Chlorocebus sabaeus]\n",
      "18:\tXP_035155777.1\t(345 aa)\tcellular tumor antigen p53 isoform X2 [Callithrix jacchus]\n",
      "19:\tXP_003810114.2\t(393 aa)\tcellular tumor antigen p53 [Pan paniscus]\n",
      "20:\tXP_033040609.1\t(344 aa)\tcellular tumor antigen p53 isoform X2 [Trachypithecus francoisi]\n",
      "21:\tXP_033040608.1\t(393 aa)\tcellular tumor antigen p53 isoform X1 [Trachypithecus francoisi]\n",
      "22:\tXP_032136324.1\t(343 aa)\tcellular tumor antigen p53 isoform X4 [Sapajus apella]\n",
      "23:\tXP_032136323.1\t(360 aa)\tcellular tumor antigen p53 isoform X3 [Sapajus apella]\n",
      "24:\tXP_032136322.1\t(395 aa)\tcellular tumor antigen p53 isoform X2 [Sapajus apella]\n",
      "25:\tXP_032136321.1\t(412 aa)\tcellular tumor antigen p53 isoform X1 [Sapajus apella]\n",
      "26:\tXP_031995228.1\t(393 aa)\tcellular tumor antigen p53 [Hylobates moloch]\n",
      "\tXP_004058559.2\t(393 aa)\tcellular tumor antigen p53 isoform X3 [Gorilla gorilla gorilla]\t*** the same as sequence 0 (excluded) ***\n",
      "27:\tXP_018868682.2\t(405 aa)\tcellular tumor antigen p53 isoform X2 [Gorilla gorilla gorilla]\n",
      "28:\tXP_018868681.2\t(408 aa)\tcellular tumor antigen p53 isoform X1 [Gorilla gorilla gorilla]\n",
      "29:\tXP_030656345.1\t(393 aa)\tcellular tumor antigen p53 [Nomascus leucogenys]\n",
      "\tXP_028691546.1\t(393 aa)\tcellular tumor antigen p53 isoform X1 [Macaca mulatta]\t*** the same as sequence 12 (excluded) ***\n",
      "30:\tXP_025219304.1\t(350 aa)\tcellular tumor antigen p53 isoform X4 [Theropithecus gelada]\n",
      "31:\tXP_025219303.1\t(373 aa)\tcellular tumor antigen p53 isoform X3 [Theropithecus gelada]\n",
      "32:\tXP_025219302.1\t(393 aa)\tcellular tumor antigen p53 isoform X2 [Theropithecus gelada]\n",
      "\tXP_025219301.1\t(393 aa)\tcellular tumor antigen p53 isoform X2 [Theropithecus gelada]\t*** the same as sequence 32 (excluded) ***\n",
      "33:\tXP_025219300.1\t(394 aa)\tcellular tumor antigen p53 isoform X1 [Theropithecus gelada]\n",
      "34:\tXP_016786959.2\t(411 aa)\tcellular tumor antigen p53 isoform X1 [Pan troglodytes]\n",
      "35:\tXP_002827020.2\t(393 aa)\tcellular tumor antigen p53 [Pongo abelii]\n",
      "36:\tXP_023049083.1\t(344 aa)\tcellular tumor antigen p53 isoform X2 [Piliocolobus tephrosceles]\n",
      "37:\tXP_023049082.1\t(393 aa)\tcellular tumor antigen p53 isoform X1 [Piliocolobus tephrosceles]\n",
      "38:\tXP_021530379.1\t(397 aa)\tLOW QUALITY PROTEIN: cellular tumor antigen p53 [Aotus nancymaae]\n",
      "39:\tXP_017706034.1\t(393 aa)\tPREDICTED: cellular tumor antigen p53 isoform X2 [Rhinopithecus bieti]\n",
      "40:\tXP_017706033.1\t(412 aa)\tPREDICTED: cellular tumor antigen p53 isoform X1 [Rhinopithecus bieti]\n",
      "41:\tXP_017387084.1\t(343 aa)\tcellular tumor antigen p53 isoform X2 [Cebus imitator]\n",
      "42:\tXP_017387083.1\t(395 aa)\tcellular tumor antigen p53 isoform X1 [Cebus imitator]\n",
      "43:\tXP_012661495.1\t(390 aa)\tcellular tumor antigen p53 [Otolemur garnettii]\n",
      "44:\tXP_012631521.1\t(385 aa)\tcellular tumor antigen p53 [Microcebus murinus]\n",
      "\tXP_012631512.1\t(385 aa)\tcellular tumor antigen p53 [Microcebus murinus]\t*** the same as sequence 44 (excluded) ***\n",
      "45:\tXP_012511070.1\t(385 aa)\tPREDICTED: cellular tumor antigen p53 [Propithecus coquereli]\n",
      "46:\tXP_011725915.1\t(236 aa)\tcellular tumor antigen p53 [Macaca nemestrina]\n",
      "47:\tXP_011813950.1\t(369 aa)\tPREDICTED: cellular tumor antigen p53 isoform X2 [Colobus angolensis palliatus]\n",
      "48:\tXP_011813949.1\t(393 aa)\tPREDICTED: cellular tumor antigen p53 isoform X1 [Colobus angolensis palliatus]\n",
      "\tXP_011813948.1\t(393 aa)\tPREDICTED: cellular tumor antigen p53 isoform X1 [Colobus angolensis palliatus]\t*** the same as sequence 48 (excluded) ***\n",
      "\tXP_011907826.1\t(341 aa)\tPREDICTED: cellular tumor antigen p53 isoform X2 [Cercocebus atys]\t*** the same as sequence 15 (excluded) ***\n",
      "49:\tXP_011907813.1\t(393 aa)\tPREDICTED: cellular tumor antigen p53 isoform X1 [Cercocebus atys]\n",
      "\tXP_011849932.1\t(373 aa)\tPREDICTED: cellular tumor antigen p53 isoform X2 [Mandrillus leucophaeus]\t*** the same as sequence 31 (excluded) ***\n",
      "\tXP_011849931.1\t(393 aa)\tPREDICTED: cellular tumor antigen p53 isoform X1 [Mandrillus leucophaeus]\t*** the same as sequence 49 (excluded) ***\n",
      "\tXP_011849930.1\t(393 aa)\tPREDICTED: cellular tumor antigen p53 isoform X1 [Mandrillus leucophaeus]\t*** the same as sequence 49 (excluded) ***\n",
      "\tXP_010360689.1\t(393 aa)\tcellular tumor antigen p53 [Rhinopithecus roxellana]\t*** the same as sequence 39 (excluded) ***\n",
      "50:\tXP_008060532.1\t(388 aa)\tcellular tumor antigen p53 [Carlito syrichta]\n",
      "\tXP_008008385.1\t(393 aa)\tcellular tumor antigen p53 isoform X2 [Chlorocebus sabaeus]\t*** the same as sequence 49 (excluded) ***\n"
     ]
    },
    {
     "name": "stdout",
     "output_type": "stream",
     "text": [
      "\tNP_001274608.1\t(393 aa)\tcellular tumor antigen p53 [Macaca fascicularis]\t*** the same as sequence 12 (excluded) ***\n",
      "\tXP_005582844.1\t(393 aa)\tcellular tumor antigen p53 isoform X2 [Macaca fascicularis]\t*** the same as sequence 12 (excluded) ***\n",
      "\tNP_001263628.1\t(187 aa)\tcellular tumor antigen p53 isoform l [Homo sapiens]\t*** the same as sequence 4 (excluded) ***\n",
      "\tNP_001263627.1\t(182 aa)\tcellular tumor antigen p53 isoform k [Homo sapiens]\t*** the same as sequence 5 (excluded) ***\n",
      "\tNP_001263626.1\t(234 aa)\tcellular tumor antigen p53 isoform j [Homo sapiens]\t*** the same as sequence 6 (excluded) ***\n",
      "\tNP_001263625.1\t(302 aa)\tcellular tumor antigen p53 isoform i [Homo sapiens]\t*** the same as sequence 3 (excluded) ***\n",
      "\tNP_001263624.1\t(307 aa)\tcellular tumor antigen p53 isoform h [Homo sapiens]\t*** the same as sequence 7 (excluded) ***\n",
      "\tNP_001263690.1\t(354 aa)\tcellular tumor antigen p53 isoform g [Homo sapiens]\t*** the same as sequence 1 (excluded) ***\n",
      "\tNP_001263689.1\t(354 aa)\tcellular tumor antigen p53 isoform g [Homo sapiens]\t*** the same as sequence 1 (excluded) ***\n",
      "51:\tXP_003929235.1\t(393 aa)\tcellular tumor antigen p53 isoform X2 [Saimiri boliviensis boliviensis]\n",
      "\tXP_003912321.1\t(393 aa)\tcellular tumor antigen p53 [Papio anubis]\t*** the same as sequence 32 (excluded) ***\n",
      "\tNP_001119590.1\t(354 aa)\tcellular tumor antigen p53 isoform g [Homo sapiens]\t*** the same as sequence 1 (excluded) ***\n",
      "\tXP_001172077.2\t(393 aa)\tcellular tumor antigen p53 isoform X2 [Pan troglodytes]\t*** the same as sequence 0 (excluded) ***\n",
      "52:\tXP_002747994.1\t(395 aa)\tcellular tumor antigen p53 isoform X1 [Callithrix jacchus]\n",
      "\tNP_001119589.1\t(214 aa)\tcellular tumor antigen p53 isoform f [Homo sapiens]\t*** the same as sequence 8 (excluded) ***\n",
      "\tNP_001119588.1\t(209 aa)\tcellular tumor antigen p53 isoform e [Homo sapiens]\t*** the same as sequence 9 (excluded) ***\n",
      "\tNP_001119587.1\t(261 aa)\tcellular tumor antigen p53 isoform d [Homo sapiens]\t*** the same as sequence 10 (excluded) ***\n",
      "\tNP_001119586.1\t(341 aa)\tcellular tumor antigen p53 isoform b [Homo sapiens]\t*** the same as sequence 2 (excluded) ***\n",
      "\tNP_001119585.1\t(346 aa)\tcellular tumor antigen p53 isoform c [Homo sapiens]\t*** the same as sequence 11 (excluded) ***\n",
      "\tNP_001119584.1\t(393 aa)\tcellular tumor antigen p53 isoform a [Homo sapiens]\t*** the same as sequence 0 (excluded) ***\n",
      "\tNP_000537.3\t(393 aa)\tcellular tumor antigen p53 isoform a [Homo sapiens]\t*** the same as sequence 0 (excluded) ***\n",
      "\tNP_001040616.1\t(393 aa)\tcellular tumor antigen p53 [Macaca mulatta]\t*** the same as sequence 12 (excluded) ***\n",
      "\n",
      "\tTotal:\t53 unique sequences (54 excluded)\n"
     ]
    }
   ],
   "source": [
    "# 1. Collect unique human sequences\n",
    "print('{0} orthologs: all primate sequences\\n'.format(gene))\n",
    "all_sequences = []\n",
    "seq_records = []\n",
    "inc = 0\n",
    "exc = 0\n",
    "with Entrez.efetch(\n",
    "    db=\"protein\", rettype=\"gb\", retmode=\"text\", id=seq_ids,\n",
    ") as handle:\n",
    "    for seq_record in SeqIO.parse(handle, \"gb\"):\n",
    "        sp = get_species(seq_record)\n",
    "        if sp == 'Homo sapiens':\n",
    "            seq = seq_record.seq\n",
    "            if seq in all_sequences:\n",
    "                print(\"\\t{0}\\t({1} aa)\\t{2}\\t*** the same as sequence {3} (excluded) ***\".format(seq_record.id, len(seq), seq_record.description, all_sequences.index(seq)))\n",
    "                exc += 1\n",
    "            else:\n",
    "                all_sequences.append(seq)\n",
    "                print(\"{3}:\\t{0}\\t({1} aa)\\t{2}\".format(seq_record.id, len(seq), seq_record.description, inc))\n",
    "                seq_records.append(seq_record)\n",
    "                inc += 1\n",
    "# # 2. Collect other unique sequences\n",
    "with Entrez.efetch(\n",
    "    db=\"protein\", rettype=\"gb\", retmode=\"text\", id=seq_ids,\n",
    ") as handle:\n",
    "    for seq_record in SeqIO.parse(handle, \"gb\"):\n",
    "        seq = seq_record.seq\n",
    "        if seq in all_sequences:\n",
    "            print(\"\\t{0}\\t({1} aa)\\t{2}\\t*** the same as sequence {3} (excluded) ***\".format(seq_record.id, len(seq), seq_record.description, all_sequences.index(seq)))\n",
    "            exc += 1\n",
    "        else:\n",
    "            all_sequences.append(seq)\n",
    "            print(\"{3}:\\t{0}\\t({1} aa)\\t{2}\".format(seq_record.id, len(seq), seq_record.description, inc))\n",
    "            seq_records.append(seq_record)\n",
    "            inc += 1\n",
    "print('\\n\\tTotal:\\t', inc, ' unique sequences (', exc, ' excluded)', sep='')"
   ]
  },
  {
   "cell_type": "code",
   "execution_count": 27,
   "id": "d8bf98bf-82d0-4da5-bdef-d412aa2629d3",
   "metadata": {},
   "outputs": [
    {
     "data": {
      "text/plain": [
       "[SeqRecord(seq=Seq('MEEPQSDPSVEPPLSQETFSDLWKLLPENNVLSPLPSQAMDDLMLSPDDIEQWF...DSD'), id='NP_001394193.1', name='NP_001394193', description='cellular tumor antigen p53 isoform a [Homo sapiens]', dbxrefs=[]),\n",
       " SeqRecord(seq=Seq('MDDLMLSPDDIEQWFTEDPGPDEAPRMPEAAPPVAPAPAAPTPAAPAPAPSWPL...DSD'), id='NP_001394192.1', name='NP_001394192', description='cellular tumor antigen p53 isoform g [Homo sapiens]', dbxrefs=[]),\n",
       " SeqRecord(seq=Seq('MEEPQSDPSVEPPLSQETFSDLWKLLPENNVLSPLPSQAMDDLMLSPDDIEQWF...ENC'), id='NP_001394197.1', name='NP_001394197', description='cellular tumor antigen p53 isoform b [Homo sapiens]', dbxrefs=[]),\n",
       " SeqRecord(seq=Seq('MDDLMLSPDDIEQWFTEDPGPDEAPRMPEAAPPVAPAPAAPTPAAPAPAPSWPL...ENC'), id='NP_001394198.1', name='NP_001394198', description='cellular tumor antigen p53 isoform i [Homo sapiens]', dbxrefs=[]),\n",
       " SeqRecord(seq=Seq('MAIYKQSQHMTEVVRRCPHHERCSDSDGLAPPQHLIRVEGNLRVEYLDDRNTFR...NSS'), id='NP_001263628.1', name='NP_001263628', description='cellular tumor antigen p53 isoform l [Homo sapiens]', dbxrefs=[]),\n",
       " SeqRecord(seq=Seq('MAIYKQSQHMTEVVRRCPHHERCSDSDGLAPPQHLIRVEGNLRVEYLDDRNTFR...ENC'), id='NP_001263627.1', name='NP_001263627', description='cellular tumor antigen p53 isoform k [Homo sapiens]', dbxrefs=[]),\n",
       " SeqRecord(seq=Seq('MAIYKQSQHMTEVVRRCPHHERCSDSDGLAPPQHLIRVEGNLRVEYLDDRNTFR...DSD'), id='NP_001263626.1', name='NP_001263626', description='cellular tumor antigen p53 isoform j [Homo sapiens]', dbxrefs=[]),\n",
       " SeqRecord(seq=Seq('MDDLMLSPDDIEQWFTEDPGPDEAPRMPEAAPPVAPAPAAPTPAAPAPAPSWPL...NSS'), id='NP_001263624.1', name='NP_001263624', description='cellular tumor antigen p53 isoform h [Homo sapiens]', dbxrefs=[]),\n",
       " SeqRecord(seq=Seq('MFCQLAKTCPVQLWVDSTPPPGTRVRAMAIYKQSQHMTEVVRRCPHHERCSDSD...NSS'), id='NP_001119589.1', name='NP_001119589', description='cellular tumor antigen p53 isoform f [Homo sapiens]', dbxrefs=[]),\n",
       " SeqRecord(seq=Seq('MFCQLAKTCPVQLWVDSTPPPGTRVRAMAIYKQSQHMTEVVRRCPHHERCSDSD...ENC'), id='NP_001119588.1', name='NP_001119588', description='cellular tumor antigen p53 isoform e [Homo sapiens]', dbxrefs=[]),\n",
       " SeqRecord(seq=Seq('MFCQLAKTCPVQLWVDSTPPPGTRVRAMAIYKQSQHMTEVVRRCPHHERCSDSD...DSD'), id='NP_001119587.1', name='NP_001119587', description='cellular tumor antigen p53 isoform d [Homo sapiens]', dbxrefs=[]),\n",
       " SeqRecord(seq=Seq('MEEPQSDPSVEPPLSQETFSDLWKLLPENNVLSPLPSQAMDDLMLSPDDIEQWF...NSS'), id='NP_001119585.1', name='NP_001119585', description='cellular tumor antigen p53 isoform c [Homo sapiens]', dbxrefs=[]),\n",
       " SeqRecord(seq=Seq('MEEPQSDPSIEPPLSQETFSDLWKLLPENNVLSPLPSQAVDDLMLSPDDLAQWL...DSD'), id='XP_045231359.1', name='XP_045231359', description='cellular tumor antigen p53 isoform X2 [Macaca fascicularis]', dbxrefs=['BioProject:PRJNA690070']),\n",
       " SeqRecord(seq=Seq('MLDPHFSPCSSQTALRVTAMEEPQSDPSIEPPLSQETFSDLWKLLPENNVLSPL...DSD'), id='XP_045231358.1', name='XP_045231358', description='cellular tumor antigen p53 isoform X1 [Macaca fascicularis]', dbxrefs=['BioProject:PRJNA690070']),\n",
       " SeqRecord(seq=Seq('METVSGSMRRAGPPSPPQPQPPSRDLREAKKKKKKKKKSTDFLLLSFRLPENNI...DSD'), id='XP_039331970.1', name='XP_039331970', description='cellular tumor antigen p53 isoform X1 [Saimiri boliviensis boliviensis]', dbxrefs=['BioProject:PRJNA699579']),\n",
       " SeqRecord(seq=Seq('MEEPQSDPSIEPPLSQETFSDLWKLLPENNVLSPLPSQAVDDLMLSPDDLAQWL...ENC'), id='XP_037843787.1', name='XP_037843787', description='cellular tumor antigen p53 isoform X4 [Chlorocebus sabaeus]', dbxrefs=['BioProject:PRJNA680339']),\n",
       " SeqRecord(seq=Seq('METVSRPMGGADPLSPPQPQPPSRGLWEAKKIHGTDFLLLSFRLPENNVLSPLP...ENC'), id='XP_037843786.1', name='XP_037843786', description='cellular tumor antigen p53 isoform X3 [Chlorocebus sabaeus]', dbxrefs=['BioProject:PRJNA680339']),\n",
       " SeqRecord(seq=Seq('METVSRPMGGADPLSPPQPQPPSRGLWEAKKIHGTDFLLLSFRLPENNVLSPLP...DSD'), id='XP_008008383.2', name='XP_008008383', description='cellular tumor antigen p53 isoform X1 [Chlorocebus sabaeus]', dbxrefs=['BioProject:PRJNA680339']),\n",
       " SeqRecord(seq=Seq('MEEPQSDLSIEPPLSQETFSDLWKLLPENNILSSSLSQPVDDLMLSPDDIDIAQ...DSD'), id='XP_035155777.1', name='XP_035155777', description='cellular tumor antigen p53 isoform X2 [Callithrix jacchus]', dbxrefs=['BioProject:PRJNA635392']),\n",
       " SeqRecord(seq=Seq('MEEPQSDPSVEPPLSQETFSDLWKLLPENNVLSPLPSQAMDDLMLSPDDIEQWF...DSD'), id='XP_003810114.2', name='XP_003810114', description='cellular tumor antigen p53 [Pan paniscus]', dbxrefs=['BioProject:PRJNA633582']),\n",
       " SeqRecord(seq=Seq('MEEPQSDPSIEPPLSQETFSDLWKLLPENNVLSPLPSQAVDDLMLSPDDLAQWL...LPP'), id='XP_033040609.1', name='XP_033040609', description='cellular tumor antigen p53 isoform X2 [Trachypithecus francoisi]', dbxrefs=['BioProject:PRJNA614514']),\n",
       " SeqRecord(seq=Seq('MEEPQSDPSIEPPLSQETFSDLWKLLPENNVLSPLPSQAVDDLMLSPDDLAQWL...DSD'), id='XP_033040608.1', name='XP_033040608', description='cellular tumor antigen p53 isoform X1 [Trachypithecus francoisi]', dbxrefs=['BioProject:PRJNA614514']),\n",
       " SeqRecord(seq=Seq('MEEPHSDLSIEPPLSQETFSDLWKLLPENNILSPSLSQPVDDLMLSPDDIDIAQ...ENC'), id='XP_032136324.1', name='XP_032136324', description='cellular tumor antigen p53 isoform X4 [Sapajus apella]', dbxrefs=['BioProject:PRJNA599380']),\n",
       " SeqRecord(seq=Seq('METVSGSMRRAGPPTPPQPQPPSRDLWEAKKKSTDSLLLSFRLPENNILSPSLS...ENC'), id='XP_032136323.1', name='XP_032136323', description='cellular tumor antigen p53 isoform X3 [Sapajus apella]', dbxrefs=['BioProject:PRJNA599380']),\n",
       " SeqRecord(seq=Seq('MEEPHSDLSIEPPLSQETFSDLWKLLPENNILSPSLSQPVDDLMLSPDDIDIAQ...DSD'), id='XP_032136322.1', name='XP_032136322', description='cellular tumor antigen p53 isoform X2 [Sapajus apella]', dbxrefs=['BioProject:PRJNA599380']),\n",
       " SeqRecord(seq=Seq('METVSGSMRRAGPPTPPQPQPPSRDLWEAKKKSTDSLLLSFRLPENNILSPSLS...DSD'), id='XP_032136321.1', name='XP_032136321', description='cellular tumor antigen p53 isoform X1 [Sapajus apella]', dbxrefs=['BioProject:PRJNA599380']),\n",
       " SeqRecord(seq=Seq('MEEPQSDPSVEPPLSQETFSDLWKLLPENNVLSPLPSQAMDDLMLSPEDIAQWF...DSD'), id='XP_031995228.1', name='XP_031995228', description='cellular tumor antigen p53 [Hylobates moloch]', dbxrefs=['BioProject:PRJNA600985']),\n",
       " SeqRecord(seq=Seq('MGSSQTAFRVTAMEEPQSDPSVEPPLSQETFSDLWKLLPENNVLSPLPSQAMDD...DSD'), id='XP_018868682.2', name='XP_018868682', description='cellular tumor antigen p53 isoform X2 [Gorilla gorilla gorilla]', dbxrefs=['BioProject:PRJNA564096']),\n",
       " SeqRecord(seq=Seq('MEPCISSQTAFRVTAMEEPQSDPSVEPPLSQETFSDLWKLLPENNVLSPLPSQA...DSD'), id='XP_018868681.2', name='XP_018868681', description='cellular tumor antigen p53 isoform X1 [Gorilla gorilla gorilla]', dbxrefs=['BioProject:PRJNA564096']),\n",
       " SeqRecord(seq=Seq('MEEPQSDPSVEPPLSQETFSDLWKLLPENNVLSPLPSQAMDDLMLSPEDIAQWF...DSD'), id='XP_030656345.1', name='XP_030656345', description='cellular tumor antigen p53 [Nomascus leucogenys]', dbxrefs=['BioProject:PRJNA564096']),\n",
       " SeqRecord(seq=Seq('MLSPDDLAQWLTEDPGPDEAPRMSEATPPMAPTPAAPTPAAPAPAPSWPLSSSV...DSD'), id='XP_025219304.1', name='XP_025219304', description='cellular tumor antigen p53 isoform X4 [Theropithecus gelada]', dbxrefs=['BioProject:PRJNA477372']),\n",
       " SeqRecord(seq=Seq('MEEPQSDPSIEPPLSQETFSDLWKLLPENNVLSPLPSQAVDDLMLSPDDLAQWL...DSD'), id='XP_025219303.1', name='XP_025219303', description='cellular tumor antigen p53 isoform X3 [Theropithecus gelada]', dbxrefs=['BioProject:PRJNA477372']),\n",
       " SeqRecord(seq=Seq('MEEPQSDPSIEPPLSQETFSDLWKLLPENNVLSPLPSQAVDDLMLSPDDLAQWL...DSD'), id='XP_025219302.1', name='XP_025219302', description='cellular tumor antigen p53 isoform X2 [Theropithecus gelada]', dbxrefs=['BioProject:PRJNA477372']),\n",
       " SeqRecord(seq=Seq('MEEPQSDPSIEPPLSQETFSDLWKLLPENNVLSPLPSQAVDDLMLSPDDLAQWL...DSD'), id='XP_025219300.1', name='XP_025219300', description='cellular tumor antigen p53 isoform X1 [Theropithecus gelada]', dbxrefs=['BioProject:PRJNA477372']),\n",
       " SeqRecord(seq=Seq('METVSGSIGKAGPPPPHPNPSPLVETCGKRKFHGTDFLLLSFRLPENNVLSPLP...DSD'), id='XP_016786959.2', name='XP_016786959', description='cellular tumor antigen p53 isoform X1 [Pan troglodytes]', dbxrefs=['BioProject:PRJNA10627']),\n",
       " SeqRecord(seq=Seq('MEEPQSDPSVEPPLSQETFSDLWKLLPENNVLSPLPSQAVDDLLLSPDDIAQWF...DSD'), id='XP_002827020.2', name='XP_002827020', description='cellular tumor antigen p53 [Pongo abelii]', dbxrefs=['BioProject:PRJNA37793']),\n",
       " SeqRecord(seq=Seq('MEEPQSDPSIEPPLSQETFSDLWKLLPENNVLSPLPSQAVDDLMLSPDDLAQWL...LPP'), id='XP_023049083.1', name='XP_023049083', description='cellular tumor antigen p53 isoform X2 [Piliocolobus tephrosceles]', dbxrefs=['BioProject:PRJNA419387']),\n",
       " SeqRecord(seq=Seq('MEEPQSDPSIEPPLSQETFSDLWKLLPENNVLSPLPSQAVDDLMLSPDDLAQWL...DSD'), id='XP_023049082.1', name='XP_023049082', description='cellular tumor antigen p53 isoform X1 [Piliocolobus tephrosceles]', dbxrefs=['BioProject:PRJNA419387']),\n",
       " SeqRecord(seq=Seq('MEEPQSDLSIEPPLSQETFSDLWKLLPENNILSSSLSQPVDDLMLSPDDIYIAQ...DSD'), id='XP_021530379.1', name='XP_021530379', description='LOW QUALITY PROTEIN: cellular tumor antigen p53 [Aotus nancymaae]', dbxrefs=['BioProject:PRJNA282745']),\n",
       " SeqRecord(seq=Seq('MEEPQSDPSIEPPLSQETFSDLWKLLPENNVLSPLPSQAVDDLMLSPDDLAQWL...DSD'), id='XP_017706034.1', name='XP_017706034', description='PREDICTED: cellular tumor antigen p53 isoform X2 [Rhinopithecus bieti]', dbxrefs=['BioProject:PRJNA339282']),\n",
       " SeqRecord(seq=Seq('MLDPHFSPCSSQTALRVTAMEEPQSDPSIEPPLSQETFSDLWKLLPENNVLSPL...DSD'), id='XP_017706033.1', name='XP_017706033', description='PREDICTED: cellular tumor antigen p53 isoform X1 [Rhinopithecus bieti]', dbxrefs=['BioProject:PRJNA339282']),\n",
       " SeqRecord(seq=Seq('MEEPHSDLSIEPPLSQETFSDLWKLLPENNILSPSLSQPVDDLMLSPDDIDIAQ...ENC'), id='XP_017387084.1', name='XP_017387084', description='cellular tumor antigen p53 isoform X2 [Cebus imitator]', dbxrefs=['BioProject:PRJNA328123']),\n",
       " SeqRecord(seq=Seq('MEEPHSDLSIEPPLSQETFSDLWKLLPENNILSPSLSQPVDDLMLSPDDIDIAQ...DSD'), id='XP_017387083.1', name='XP_017387083', description='cellular tumor antigen p53 isoform X1 [Cebus imitator]', dbxrefs=['BioProject:PRJNA328123']),\n",
       " SeqRecord(seq=Seq('MEETQSDLTIEPPLSQETFSDLWKLLPENNVLSSSLSPPVDDLMLSPDIVNWFD...DSD'), id='XP_012661495.1', name='XP_012661495', description='cellular tumor antigen p53 [Otolemur garnettii]', dbxrefs=['BioProject:PRJNA169348']),\n",
       " SeqRecord(seq=Seq('MEEPQSDLSIEAPLSQETFSDLWKLLPENNVLSSSLSPPVDDLMLSAEDFAGWF...DSD'), id='XP_012631521.1', name='XP_012631521', description='cellular tumor antigen p53 [Microcebus murinus]', dbxrefs=['BioProject:PRJNA285159']),\n",
       " SeqRecord(seq=Seq('MEEPQSDLSIEPPLSQETFSDLWKLLPENNLLSSSLSPPVDDLMLNPEDFVGLF...DSD'), id='XP_012511070.1', name='XP_012511070', description='PREDICTED: cellular tumor antigen p53 [Propithecus coquereli]', dbxrefs=['BioProject:PRJNA281642']),\n",
       " SeqRecord(seq=Seq('MEEPQSDPSIEPPLSQETFSDLWKLLPENNVLSPLPSQAVDDLMLSPDDLAQWL...RRG'), id='XP_011725915.1', name='XP_011725915', description='cellular tumor antigen p53 [Macaca nemestrina]', dbxrefs=['BioProject:PRJNA279145']),\n",
       " SeqRecord(seq=Seq('MEEPQSDPSIEPPLSQETFSDLWKLLPENNVLSPLPSQAVDDLMLSPDDLAQWL...DSD'), id='XP_011813950.1', name='XP_011813950', description='PREDICTED: cellular tumor antigen p53 isoform X2 [Colobus angolensis palliatus]', dbxrefs=['BioProject:PRJNA279495']),\n",
       " SeqRecord(seq=Seq('MEEPQSDPSIEPPLSQETFSDLWKLLPENNVLSPLPSQAVDDLMLSPDDLAQWL...DSD'), id='XP_011813949.1', name='XP_011813949', description='PREDICTED: cellular tumor antigen p53 isoform X1 [Colobus angolensis palliatus]', dbxrefs=['BioProject:PRJNA279495']),\n",
       " SeqRecord(seq=Seq('MEEPQSDPSIEPPLSQETFSDLWKLLPENNVLSPLPSQAVDDLMLSPDDLAQWL...DSD'), id='XP_011907813.1', name='XP_011907813', description='PREDICTED: cellular tumor antigen p53 isoform X1 [Cercocebus atys]', dbxrefs=['BioProject:PRJNA279144']),\n",
       " SeqRecord(seq=Seq('MEEPQSDLSIEPLSQETFSDLWKLLPENNVLSPSLSPPVDDLILSTEDIANWFS...DSD'), id='XP_008060532.1', name='XP_008060532', description='cellular tumor antigen p53 [Carlito syrichta]', dbxrefs=['BioProject:PRJNA236776']),\n",
       " SeqRecord(seq=Seq('MEEPQSDLSIEPPLSQETFSDLWKLLPENNILSSSLSQPVDDLMLSPDDIAQWF...DSD'), id='XP_003929235.1', name='XP_003929235', description='cellular tumor antigen p53 isoform X2 [Saimiri boliviensis boliviensis]', dbxrefs=['BioProject:PRJNA699579']),\n",
       " SeqRecord(seq=Seq('MEEPQSDLSIEPPLSQETFSDLWKLLPENNILSSSLSQPVDDLMLSPDDIDIAQ...DSD'), id='XP_002747994.1', name='XP_002747994', description='cellular tumor antigen p53 isoform X1 [Callithrix jacchus]', dbxrefs=['BioProject:PRJNA635392'])]"
      ]
     },
     "execution_count": 27,
     "metadata": {},
     "output_type": "execute_result"
    }
   ],
   "source": [
    "seq_records"
   ]
  },
  {
   "cell_type": "markdown",
   "id": "83e76525-0819-4b56-8b19-4ce06a6c2d36",
   "metadata": {},
   "source": [
    "* Copy the output to the cell below"
   ]
  },
  {
   "cell_type": "raw",
   "id": "2250f086-44ec-4b4b-a3d0-d940af12254a",
   "metadata": {},
   "source": [
    "TP53 orthologs: all primate sequences\n",
    "\n",
    "0:\tNP_001394193.1\t(393 aa)\tcellular tumor antigen p53 isoform a [Homo sapiens]\n",
    "1:\tNP_001394192.1\t(354 aa)\tcellular tumor antigen p53 isoform g [Homo sapiens]\n",
    "2:\tNP_001394197.1\t(341 aa)\tcellular tumor antigen p53 isoform b [Homo sapiens]\n",
    "3:\tNP_001394198.1\t(302 aa)\tcellular tumor antigen p53 isoform i [Homo sapiens]\n",
    "\tNP_001394200.1\t(302 aa)\tcellular tumor antigen p53 isoform i [Homo sapiens]\t*** the same as sequence 3 (excluded) ***\n",
    "\tNP_001394199.1\t(341 aa)\tcellular tumor antigen p53 isoform b [Homo sapiens]\t*** the same as sequence 2 (excluded) ***\n",
    "\tNP_001394191.1\t(393 aa)\tcellular tumor antigen p53 isoform a [Homo sapiens]\t*** the same as sequence 0 (excluded) ***\n",
    "\tNP_001394196.1\t(354 aa)\tcellular tumor antigen p53 isoform g [Homo sapiens]\t*** the same as sequence 1 (excluded) ***\n",
    "\tNP_001394194.1\t(354 aa)\tcellular tumor antigen p53 isoform g [Homo sapiens]\t*** the same as sequence 1 (excluded) ***\n",
    "\tNP_001394195.1\t(393 aa)\tcellular tumor antigen p53 isoform a [Homo sapiens]\t*** the same as sequence 0 (excluded) ***\n",
    "4:\tNP_001263628.1\t(187 aa)\tcellular tumor antigen p53 isoform l [Homo sapiens]\n",
    "5:\tNP_001263627.1\t(182 aa)\tcellular tumor antigen p53 isoform k [Homo sapiens]\n",
    "6:\tNP_001263626.1\t(234 aa)\tcellular tumor antigen p53 isoform j [Homo sapiens]\n",
    "\tNP_001263625.1\t(302 aa)\tcellular tumor antigen p53 isoform i [Homo sapiens]\t*** the same as sequence 3 (excluded) ***\n",
    "7:\tNP_001263624.1\t(307 aa)\tcellular tumor antigen p53 isoform h [Homo sapiens]\n",
    "\tNP_001263690.1\t(354 aa)\tcellular tumor antigen p53 isoform g [Homo sapiens]\t*** the same as sequence 1 (excluded) ***\n",
    "\tNP_001263689.1\t(354 aa)\tcellular tumor antigen p53 isoform g [Homo sapiens]\t*** the same as sequence 1 (excluded) ***\n",
    "\tNP_001119590.1\t(354 aa)\tcellular tumor antigen p53 isoform g [Homo sapiens]\t*** the same as sequence 1 (excluded) ***\n",
    "8:\tNP_001119589.1\t(214 aa)\tcellular tumor antigen p53 isoform f [Homo sapiens]\n",
    "9:\tNP_001119588.1\t(209 aa)\tcellular tumor antigen p53 isoform e [Homo sapiens]\n",
    "10:\tNP_001119587.1\t(261 aa)\tcellular tumor antigen p53 isoform d [Homo sapiens]\n",
    "\tNP_001119586.1\t(341 aa)\tcellular tumor antigen p53 isoform b [Homo sapiens]\t*** the same as sequence 2 (excluded) ***\n",
    "11:\tNP_001119585.1\t(346 aa)\tcellular tumor antigen p53 isoform c [Homo sapiens]\n",
    "\tNP_001119584.1\t(393 aa)\tcellular tumor antigen p53 isoform a [Homo sapiens]\t*** the same as sequence 0 (excluded) ***\n",
    "\tNP_000537.3\t(393 aa)\tcellular tumor antigen p53 isoform a [Homo sapiens]\t*** the same as sequence 0 (excluded) ***\n",
    "\tNP_001394193.1\t(393 aa)\tcellular tumor antigen p53 isoform a [Homo sapiens]\t*** the same as sequence 0 (excluded) ***\n",
    "\tNP_001394192.1\t(354 aa)\tcellular tumor antigen p53 isoform g [Homo sapiens]\t*** the same as sequence 1 (excluded) ***\n",
    "\tNP_001394197.1\t(341 aa)\tcellular tumor antigen p53 isoform b [Homo sapiens]\t*** the same as sequence 2 (excluded) ***\n",
    "\tNP_001394198.1\t(302 aa)\tcellular tumor antigen p53 isoform i [Homo sapiens]\t*** the same as sequence 3 (excluded) ***\n",
    "\tNP_001394200.1\t(302 aa)\tcellular tumor antigen p53 isoform i [Homo sapiens]\t*** the same as sequence 3 (excluded) ***\n",
    "\tNP_001394199.1\t(341 aa)\tcellular tumor antigen p53 isoform b [Homo sapiens]\t*** the same as sequence 2 (excluded) ***\n",
    "\tNP_001394191.1\t(393 aa)\tcellular tumor antigen p53 isoform a [Homo sapiens]\t*** the same as sequence 0 (excluded) ***\n",
    "\tNP_001394196.1\t(354 aa)\tcellular tumor antigen p53 isoform g [Homo sapiens]\t*** the same as sequence 1 (excluded) ***\n",
    "\tNP_001394194.1\t(354 aa)\tcellular tumor antigen p53 isoform g [Homo sapiens]\t*** the same as sequence 1 (excluded) ***\n",
    "\tNP_001394195.1\t(393 aa)\tcellular tumor antigen p53 isoform a [Homo sapiens]\t*** the same as sequence 0 (excluded) ***\n",
    "12:\tXP_045231359.1\t(393 aa)\tcellular tumor antigen p53 isoform X2 [Macaca fascicularis]\n",
    "13:\tXP_045231358.1\t(412 aa)\tcellular tumor antigen p53 isoform X1 [Macaca fascicularis]\n",
    "14:\tXP_039331970.1\t(416 aa)\tcellular tumor antigen p53 isoform X1 [Saimiri boliviensis boliviensis]\n",
    "15:\tXP_037843787.1\t(341 aa)\tcellular tumor antigen p53 isoform X4 [Chlorocebus sabaeus]\n",
    "16:\tXP_037843786.1\t(359 aa)\tcellular tumor antigen p53 isoform X3 [Chlorocebus sabaeus]\n",
    "17:\tXP_008008383.2\t(411 aa)\tcellular tumor antigen p53 isoform X1 [Chlorocebus sabaeus]\n",
    "18:\tXP_035155777.1\t(345 aa)\tcellular tumor antigen p53 isoform X2 [Callithrix jacchus]\n",
    "19:\tXP_003810114.2\t(393 aa)\tcellular tumor antigen p53 [Pan paniscus]\n",
    "20:\tXP_033040609.1\t(344 aa)\tcellular tumor antigen p53 isoform X2 [Trachypithecus francoisi]\n",
    "21:\tXP_033040608.1\t(393 aa)\tcellular tumor antigen p53 isoform X1 [Trachypithecus francoisi]\n",
    "22:\tXP_032136324.1\t(343 aa)\tcellular tumor antigen p53 isoform X4 [Sapajus apella]\n",
    "23:\tXP_032136323.1\t(360 aa)\tcellular tumor antigen p53 isoform X3 [Sapajus apella]\n",
    "24:\tXP_032136322.1\t(395 aa)\tcellular tumor antigen p53 isoform X2 [Sapajus apella]\n",
    "25:\tXP_032136321.1\t(412 aa)\tcellular tumor antigen p53 isoform X1 [Sapajus apella]\n",
    "26:\tXP_031995228.1\t(393 aa)\tcellular tumor antigen p53 [Hylobates moloch]\n",
    "\tXP_004058559.2\t(393 aa)\tcellular tumor antigen p53 isoform X3 [Gorilla gorilla gorilla]\t*** the same as sequence 0 (excluded) ***\n",
    "27:\tXP_018868682.2\t(405 aa)\tcellular tumor antigen p53 isoform X2 [Gorilla gorilla gorilla]\n",
    "28:\tXP_018868681.2\t(408 aa)\tcellular tumor antigen p53 isoform X1 [Gorilla gorilla gorilla]\n",
    "29:\tXP_030656345.1\t(393 aa)\tcellular tumor antigen p53 [Nomascus leucogenys]\n",
    "\tXP_028691546.1\t(393 aa)\tcellular tumor antigen p53 isoform X1 [Macaca mulatta]\t*** the same as sequence 12 (excluded) ***\n",
    "30:\tXP_025219304.1\t(350 aa)\tcellular tumor antigen p53 isoform X4 [Theropithecus gelada]\n",
    "31:\tXP_025219303.1\t(373 aa)\tcellular tumor antigen p53 isoform X3 [Theropithecus gelada]\n",
    "32:\tXP_025219302.1\t(393 aa)\tcellular tumor antigen p53 isoform X2 [Theropithecus gelada]\n",
    "\tXP_025219301.1\t(393 aa)\tcellular tumor antigen p53 isoform X2 [Theropithecus gelada]\t*** the same as sequence 32 (excluded) ***\n",
    "33:\tXP_025219300.1\t(394 aa)\tcellular tumor antigen p53 isoform X1 [Theropithecus gelada]\n",
    "34:\tXP_016786959.2\t(411 aa)\tcellular tumor antigen p53 isoform X1 [Pan troglodytes]\n",
    "35:\tXP_002827020.2\t(393 aa)\tcellular tumor antigen p53 [Pongo abelii]\n",
    "36:\tXP_023049083.1\t(344 aa)\tcellular tumor antigen p53 isoform X2 [Piliocolobus tephrosceles]\n",
    "37:\tXP_023049082.1\t(393 aa)\tcellular tumor antigen p53 isoform X1 [Piliocolobus tephrosceles]\n",
    "38:\tXP_021530379.1\t(397 aa)\tLOW QUALITY PROTEIN: cellular tumor antigen p53 [Aotus nancymaae]\n",
    "39:\tXP_017706034.1\t(393 aa)\tPREDICTED: cellular tumor antigen p53 isoform X2 [Rhinopithecus bieti]\n",
    "40:\tXP_017706033.1\t(412 aa)\tPREDICTED: cellular tumor antigen p53 isoform X1 [Rhinopithecus bieti]\n",
    "41:\tXP_017387084.1\t(343 aa)\tcellular tumor antigen p53 isoform X2 [Cebus imitator]\n",
    "42:\tXP_017387083.1\t(395 aa)\tcellular tumor antigen p53 isoform X1 [Cebus imitator]\n",
    "43:\tXP_012661495.1\t(390 aa)\tcellular tumor antigen p53 [Otolemur garnettii]\n",
    "44:\tXP_012631521.1\t(385 aa)\tcellular tumor antigen p53 [Microcebus murinus]\n",
    "\tXP_012631512.1\t(385 aa)\tcellular tumor antigen p53 [Microcebus murinus]\t*** the same as sequence 44 (excluded) ***\n",
    "45:\tXP_012511070.1\t(385 aa)\tPREDICTED: cellular tumor antigen p53 [Propithecus coquereli]\n",
    "46:\tXP_011725915.1\t(236 aa)\tcellular tumor antigen p53 [Macaca nemestrina]\n",
    "47:\tXP_011813950.1\t(369 aa)\tPREDICTED: cellular tumor antigen p53 isoform X2 [Colobus angolensis palliatus]\n",
    "48:\tXP_011813949.1\t(393 aa)\tPREDICTED: cellular tumor antigen p53 isoform X1 [Colobus angolensis palliatus]\n",
    "\tXP_011813948.1\t(393 aa)\tPREDICTED: cellular tumor antigen p53 isoform X1 [Colobus angolensis palliatus]\t*** the same as sequence 48 (excluded) ***\n",
    "\tXP_011907826.1\t(341 aa)\tPREDICTED: cellular tumor antigen p53 isoform X2 [Cercocebus atys]\t*** the same as sequence 15 (excluded) ***\n",
    "49:\tXP_011907813.1\t(393 aa)\tPREDICTED: cellular tumor antigen p53 isoform X1 [Cercocebus atys]\n",
    "\tXP_011849932.1\t(373 aa)\tPREDICTED: cellular tumor antigen p53 isoform X2 [Mandrillus leucophaeus]\t*** the same as sequence 31 (excluded) ***\n",
    "\tXP_011849931.1\t(393 aa)\tPREDICTED: cellular tumor antigen p53 isoform X1 [Mandrillus leucophaeus]\t*** the same as sequence 49 (excluded) ***\n",
    "\tXP_011849930.1\t(393 aa)\tPREDICTED: cellular tumor antigen p53 isoform X1 [Mandrillus leucophaeus]\t*** the same as sequence 49 (excluded) ***\n",
    "\tXP_010360689.1\t(393 aa)\tcellular tumor antigen p53 [Rhinopithecus roxellana]\t*** the same as sequence 39 (excluded) ***\n",
    "50:\tXP_008060532.1\t(388 aa)\tcellular tumor antigen p53 [Carlito syrichta]\n",
    "\tXP_008008385.1\t(393 aa)\tcellular tumor antigen p53 isoform X2 [Chlorocebus sabaeus]\t*** the same as sequence 49 (excluded) ***\n",
    "\tNP_001274608.1\t(393 aa)\tcellular tumor antigen p53 [Macaca fascicularis]\t*** the same as sequence 12 (excluded) ***\n",
    "\tXP_005582844.1\t(393 aa)\tcellular tumor antigen p53 isoform X2 [Macaca fascicularis]\t*** the same as sequence 12 (excluded) ***\n",
    "\tNP_001263628.1\t(187 aa)\tcellular tumor antigen p53 isoform l [Homo sapiens]\t*** the same as sequence 4 (excluded) ***\n",
    "\tNP_001263627.1\t(182 aa)\tcellular tumor antigen p53 isoform k [Homo sapiens]\t*** the same as sequence 5 (excluded) ***\n",
    "\tNP_001263626.1\t(234 aa)\tcellular tumor antigen p53 isoform j [Homo sapiens]\t*** the same as sequence 6 (excluded) ***\n",
    "\tNP_001263625.1\t(302 aa)\tcellular tumor antigen p53 isoform i [Homo sapiens]\t*** the same as sequence 3 (excluded) ***\n",
    "\tNP_001263624.1\t(307 aa)\tcellular tumor antigen p53 isoform h [Homo sapiens]\t*** the same as sequence 7 (excluded) ***\n",
    "\tNP_001263690.1\t(354 aa)\tcellular tumor antigen p53 isoform g [Homo sapiens]\t*** the same as sequence 1 (excluded) ***\n",
    "\tNP_001263689.1\t(354 aa)\tcellular tumor antigen p53 isoform g [Homo sapiens]\t*** the same as sequence 1 (excluded) ***\n",
    "51:\tXP_003929235.1\t(393 aa)\tcellular tumor antigen p53 isoform X2 [Saimiri boliviensis boliviensis]\n",
    "\tXP_003912321.1\t(393 aa)\tcellular tumor antigen p53 [Papio anubis]\t*** the same as sequence 32 (excluded) ***\n",
    "\tNP_001119590.1\t(354 aa)\tcellular tumor antigen p53 isoform g [Homo sapiens]\t*** the same as sequence 1 (excluded) ***\n",
    "\tXP_001172077.2\t(393 aa)\tcellular tumor antigen p53 isoform X2 [Pan troglodytes]\t*** the same as sequence 0 (excluded) ***\n",
    "52:\tXP_002747994.1\t(395 aa)\tcellular tumor antigen p53 isoform X1 [Callithrix jacchus]\n",
    "\tNP_001119589.1\t(214 aa)\tcellular tumor antigen p53 isoform f [Homo sapiens]\t*** the same as sequence 8 (excluded) ***\n",
    "\tNP_001119588.1\t(209 aa)\tcellular tumor antigen p53 isoform e [Homo sapiens]\t*** the same as sequence 9 (excluded) ***\n",
    "\tNP_001119587.1\t(261 aa)\tcellular tumor antigen p53 isoform d [Homo sapiens]\t*** the same as sequence 10 (excluded) ***\n",
    "\tNP_001119586.1\t(341 aa)\tcellular tumor antigen p53 isoform b [Homo sapiens]\t*** the same as sequence 2 (excluded) ***\n",
    "\tNP_001119585.1\t(346 aa)\tcellular tumor antigen p53 isoform c [Homo sapiens]\t*** the same as sequence 11 (excluded) ***\n",
    "\tNP_001119584.1\t(393 aa)\tcellular tumor antigen p53 isoform a [Homo sapiens]\t*** the same as sequence 0 (excluded) ***\n",
    "\tNP_000537.3\t(393 aa)\tcellular tumor antigen p53 isoform a [Homo sapiens]\t*** the same as sequence 0 (excluded) ***\n",
    "\tNP_001040616.1\t(393 aa)\tcellular tumor antigen p53 [Macaca mulatta]\t*** the same as sequence 12 (excluded) ***\n",
    "\n",
    "\tTotal:\t53 unique sequences (54 excluded)"
   ]
  },
  {
   "cell_type": "markdown",
   "id": "3eb7ab81-1fc0-498e-8a45-538ce1c80261",
   "metadata": {},
   "source": [
    "* The following cell writes the sequences to the file `ALPL.fasta` (fasta format)."
   ]
  },
  {
   "cell_type": "code",
   "execution_count": 29,
   "id": "97a2e5fb-e47f-43e9-a1c2-2c89c23cac94",
   "metadata": {},
   "outputs": [
    {
     "name": "stdout",
     "output_type": "stream",
     "text": [
      "TP53 orthologs: unique primate sequences\n",
      "\n",
      "0:\tNP_001394193.1\t(393 aa)\tcellular tumor antigen p53 isoform a [Homo sapiens]\n",
      "1:\tNP_001394192.1\t(393 aa)\tcellular tumor antigen p53 isoform g [Homo sapiens]\n",
      "2:\tNP_001394197.1\t(393 aa)\tcellular tumor antigen p53 isoform b [Homo sapiens]\n",
      "3:\tNP_001394198.1\t(393 aa)\tcellular tumor antigen p53 isoform i [Homo sapiens]\n",
      "4:\tNP_001263628.1\t(393 aa)\tcellular tumor antigen p53 isoform l [Homo sapiens]\n",
      "5:\tNP_001263627.1\t(393 aa)\tcellular tumor antigen p53 isoform k [Homo sapiens]\n",
      "6:\tNP_001263626.1\t(393 aa)\tcellular tumor antigen p53 isoform j [Homo sapiens]\n",
      "7:\tNP_001263624.1\t(393 aa)\tcellular tumor antigen p53 isoform h [Homo sapiens]\n",
      "8:\tNP_001119589.1\t(393 aa)\tcellular tumor antigen p53 isoform f [Homo sapiens]\n",
      "9:\tNP_001119588.1\t(393 aa)\tcellular tumor antigen p53 isoform e [Homo sapiens]\n",
      "10:\tNP_001119587.1\t(393 aa)\tcellular tumor antigen p53 isoform d [Homo sapiens]\n",
      "11:\tNP_001119585.1\t(393 aa)\tcellular tumor antigen p53 isoform c [Homo sapiens]\n",
      "12:\tXP_045231359.1\t(393 aa)\tcellular tumor antigen p53 isoform X2 [Macaca fascicularis]\n",
      "13:\tXP_045231358.1\t(393 aa)\tcellular tumor antigen p53 isoform X1 [Macaca fascicularis]\n",
      "14:\tXP_039331970.1\t(393 aa)\tcellular tumor antigen p53 isoform X1 [Saimiri boliviensis boliviensis]\n",
      "15:\tXP_037843787.1\t(393 aa)\tcellular tumor antigen p53 isoform X4 [Chlorocebus sabaeus]\n",
      "16:\tXP_037843786.1\t(393 aa)\tcellular tumor antigen p53 isoform X3 [Chlorocebus sabaeus]\n",
      "17:\tXP_008008383.2\t(393 aa)\tcellular tumor antigen p53 isoform X1 [Chlorocebus sabaeus]\n",
      "18:\tXP_035155777.1\t(393 aa)\tcellular tumor antigen p53 isoform X2 [Callithrix jacchus]\n",
      "19:\tXP_003810114.2\t(393 aa)\tcellular tumor antigen p53 [Pan paniscus]\n",
      "20:\tXP_033040609.1\t(393 aa)\tcellular tumor antigen p53 isoform X2 [Trachypithecus francoisi]\n",
      "21:\tXP_033040608.1\t(393 aa)\tcellular tumor antigen p53 isoform X1 [Trachypithecus francoisi]\n",
      "22:\tXP_032136324.1\t(393 aa)\tcellular tumor antigen p53 isoform X4 [Sapajus apella]\n",
      "23:\tXP_032136323.1\t(393 aa)\tcellular tumor antigen p53 isoform X3 [Sapajus apella]\n",
      "24:\tXP_032136322.1\t(393 aa)\tcellular tumor antigen p53 isoform X2 [Sapajus apella]\n",
      "25:\tXP_032136321.1\t(393 aa)\tcellular tumor antigen p53 isoform X1 [Sapajus apella]\n",
      "26:\tXP_031995228.1\t(393 aa)\tcellular tumor antigen p53 [Hylobates moloch]\n",
      "27:\tXP_018868682.2\t(393 aa)\tcellular tumor antigen p53 isoform X2 [Gorilla gorilla gorilla]\n",
      "28:\tXP_018868681.2\t(393 aa)\tcellular tumor antigen p53 isoform X1 [Gorilla gorilla gorilla]\n",
      "29:\tXP_030656345.1\t(393 aa)\tcellular tumor antigen p53 [Nomascus leucogenys]\n",
      "30:\tXP_025219304.1\t(393 aa)\tcellular tumor antigen p53 isoform X4 [Theropithecus gelada]\n",
      "31:\tXP_025219303.1\t(393 aa)\tcellular tumor antigen p53 isoform X3 [Theropithecus gelada]\n",
      "32:\tXP_025219302.1\t(393 aa)\tcellular tumor antigen p53 isoform X2 [Theropithecus gelada]\n",
      "33:\tXP_025219300.1\t(393 aa)\tcellular tumor antigen p53 isoform X1 [Theropithecus gelada]\n",
      "34:\tXP_016786959.2\t(393 aa)\tcellular tumor antigen p53 isoform X1 [Pan troglodytes]\n",
      "35:\tXP_002827020.2\t(393 aa)\tcellular tumor antigen p53 [Pongo abelii]\n",
      "36:\tXP_023049083.1\t(393 aa)\tcellular tumor antigen p53 isoform X2 [Piliocolobus tephrosceles]\n",
      "37:\tXP_023049082.1\t(393 aa)\tcellular tumor antigen p53 isoform X1 [Piliocolobus tephrosceles]\n",
      "38:\tXP_021530379.1\t(393 aa)\tLOW QUALITY PROTEIN: cellular tumor antigen p53 [Aotus nancymaae]\n",
      "39:\tXP_017706034.1\t(393 aa)\tPREDICTED: cellular tumor antigen p53 isoform X2 [Rhinopithecus bieti]\n",
      "40:\tXP_017706033.1\t(393 aa)\tPREDICTED: cellular tumor antigen p53 isoform X1 [Rhinopithecus bieti]\n",
      "41:\tXP_017387084.1\t(393 aa)\tcellular tumor antigen p53 isoform X2 [Cebus imitator]\n",
      "42:\tXP_017387083.1\t(393 aa)\tcellular tumor antigen p53 isoform X1 [Cebus imitator]\n",
      "43:\tXP_012661495.1\t(393 aa)\tcellular tumor antigen p53 [Otolemur garnettii]\n",
      "44:\tXP_012631521.1\t(393 aa)\tcellular tumor antigen p53 [Microcebus murinus]\n",
      "45:\tXP_012511070.1\t(393 aa)\tPREDICTED: cellular tumor antigen p53 [Propithecus coquereli]\n",
      "46:\tXP_011725915.1\t(393 aa)\tcellular tumor antigen p53 [Macaca nemestrina]\n",
      "47:\tXP_011813950.1\t(393 aa)\tPREDICTED: cellular tumor antigen p53 isoform X2 [Colobus angolensis palliatus]\n",
      "48:\tXP_011813949.1\t(393 aa)\tPREDICTED: cellular tumor antigen p53 isoform X1 [Colobus angolensis palliatus]\n",
      "49:\tXP_011907813.1\t(393 aa)\tPREDICTED: cellular tumor antigen p53 isoform X1 [Cercocebus atys]\n",
      "50:\tXP_008060532.1\t(393 aa)\tcellular tumor antigen p53 [Carlito syrichta]\n",
      "51:\tXP_003929235.1\t(393 aa)\tcellular tumor antigen p53 isoform X2 [Saimiri boliviensis boliviensis]\n",
      "52:\tXP_002747994.1\t(393 aa)\tcellular tumor antigen p53 isoform X1 [Callithrix jacchus]\n",
      "\n",
      "TP53.fasta saved!\n"
     ]
    }
   ],
   "source": [
    "# write the sequences to a fasta file\n",
    "print('{0} orthologs: unique primate sequences\\n'.format(gene))\n",
    "i = 0\n",
    "with open(\"fasta/{0}.fasta\".format(gene), \"w\") as output:\n",
    "    for seq_record in seq_records:\n",
    "        print(\"{3}:\\t{0}\\t({1} aa)\\t{2}\".format(seq_record.id, len(seq), seq_record.description, i))\n",
    "        SeqIO.write(seq_record, output, \"fasta\")\n",
    "        i += 1\n",
    "print(\"\\n{0}.fasta saved!\".format(gene))"
   ]
  },
  {
   "cell_type": "markdown",
   "id": "f144aaf2-dfdb-4d29-bc0f-efb9e10ec3fd",
   "metadata": {},
   "source": [
    "* The following cell aligns the sequences and writes them to the file `ALPL.aln` (also in fasta format).  To look at the alignment open it in [this viewer application](https://alignmentviewer.org/).  (Hannah: you may not be able to run this step.  Just skip it and repeat the sequence processing above for the other genes.)"
   ]
  },
  {
   "cell_type": "code",
   "execution_count": 30,
   "id": "06b24b03-2bde-4df8-b791-328a1fe15c71",
   "metadata": {},
   "outputs": [
    {
     "name": "stdout",
     "output_type": "stream",
     "text": [
      "TP53 orthologs\n",
      "\n"
     ]
    },
    {
     "ename": "ApplicationError",
     "evalue": "Non-zero return code 127 from 'muscle -in fasta/TP53.fasta', message '/bin/sh: muscle: command not found'",
     "output_type": "error",
     "traceback": [
      "\u001b[0;31m---------------------------------------------------------------------------\u001b[0m",
      "\u001b[0;31mApplicationError\u001b[0m                          Traceback (most recent call last)",
      "Input \u001b[0;32mIn [30]\u001b[0m, in \u001b[0;36m<cell line: 4>\u001b[0;34m()\u001b[0m\n\u001b[1;32m      2\u001b[0m \u001b[38;5;28mprint\u001b[39m(\u001b[38;5;124m'\u001b[39m\u001b[38;5;132;01m{0}\u001b[39;00m\u001b[38;5;124m orthologs\u001b[39m\u001b[38;5;130;01m\\n\u001b[39;00m\u001b[38;5;124m'\u001b[39m\u001b[38;5;241m.\u001b[39mformat(gene))\n\u001b[1;32m      3\u001b[0m muscle_cline \u001b[38;5;241m=\u001b[39m MuscleCommandline(\u001b[38;5;28minput\u001b[39m\u001b[38;5;241m=\u001b[39m\u001b[38;5;124m'\u001b[39m\u001b[38;5;124mfasta/\u001b[39m\u001b[38;5;132;01m{0}\u001b[39;00m\u001b[38;5;124m.fasta\u001b[39m\u001b[38;5;124m'\u001b[39m\u001b[38;5;241m.\u001b[39mformat(gene))\n\u001b[0;32m----> 4\u001b[0m stdout, stderr \u001b[38;5;241m=\u001b[39m \u001b[43mmuscle_cline\u001b[49m\u001b[43m(\u001b[49m\u001b[43m)\u001b[49m\n\u001b[1;32m      5\u001b[0m align \u001b[38;5;241m=\u001b[39m AlignIO\u001b[38;5;241m.\u001b[39mread(StringIO(stdout), \u001b[38;5;124m'\u001b[39m\u001b[38;5;124mfasta\u001b[39m\u001b[38;5;124m'\u001b[39m)\n\u001b[1;32m      6\u001b[0m AlignIO\u001b[38;5;241m.\u001b[39mwrite(align, \u001b[38;5;124m'\u001b[39m\u001b[38;5;124maln/\u001b[39m\u001b[38;5;132;01m{0}\u001b[39;00m\u001b[38;5;124m.aln\u001b[39m\u001b[38;5;124m'\u001b[39m\u001b[38;5;241m.\u001b[39mformat(gene), \u001b[38;5;124m'\u001b[39m\u001b[38;5;124mfasta\u001b[39m\u001b[38;5;124m'\u001b[39m)\n",
      "File \u001b[0;32m/Library/Frameworks/Python.framework/Versions/3.10/lib/python3.10/site-packages/Bio/Application/__init__.py:574\u001b[0m, in \u001b[0;36mAbstractCommandline.__call__\u001b[0;34m(self, stdin, stdout, stderr, cwd, env)\u001b[0m\n\u001b[1;32m    571\u001b[0m     stderr_arg\u001b[38;5;241m.\u001b[39mclose()\n\u001b[1;32m    573\u001b[0m \u001b[38;5;28;01mif\u001b[39;00m return_code:\n\u001b[0;32m--> 574\u001b[0m     \u001b[38;5;28;01mraise\u001b[39;00m ApplicationError(return_code, \u001b[38;5;28mstr\u001b[39m(\u001b[38;5;28mself\u001b[39m), stdout_str, stderr_str)\n\u001b[1;32m    575\u001b[0m \u001b[38;5;28;01mreturn\u001b[39;00m stdout_str, stderr_str\n",
      "\u001b[0;31mApplicationError\u001b[0m: Non-zero return code 127 from 'muscle -in fasta/TP53.fasta', message '/bin/sh: muscle: command not found'"
     ]
    }
   ],
   "source": [
    "# align sequences\n",
    "print('{0} orthologs\\n'.format(gene))\n",
    "muscle_cline = MuscleCommandline(input='fasta/{0}.fasta'.format(gene))\n",
    "stdout, stderr = muscle_cline()\n",
    "align = AlignIO.read(StringIO(stdout), 'fasta')\n",
    "AlignIO.write(align, 'aln/{0}.aln'.format(gene), 'fasta')\n",
    "print(align)\n",
    "print(\"\\n{0}.aln saved!\".format(gene))"
   ]
  },
  {
   "cell_type": "markdown",
   "id": "7b7d1326-4d64-4982-8823-75da74b52d13",
   "metadata": {},
   "source": [
    "* Repeat for other genes."
   ]
  },
  {
   "cell_type": "code",
   "execution_count": 31,
   "id": "bb6cd792-0608-4c4e-bc63-055d825cb675",
   "metadata": {},
   "outputs": [],
   "source": [
    "!open ."
   ]
  },
  {
   "cell_type": "code",
   "execution_count": null,
   "id": "f515d4ed-60b7-4cee-ac94-eddcf63e6dcd",
   "metadata": {},
   "outputs": [],
   "source": []
  },
  {
   "cell_type": "code",
   "execution_count": null,
   "id": "9b07ec16",
   "metadata": {},
   "outputs": [],
   "source": []
  }
 ],
 "metadata": {
  "kernelspec": {
   "display_name": "Python 3 (ipykernel)",
   "language": "python",
   "name": "python3"
  },
  "language_info": {
   "codemirror_mode": {
    "name": "ipython",
    "version": 3
   },
   "file_extension": ".py",
   "mimetype": "text/x-python",
   "name": "python",
   "nbconvert_exporter": "python",
   "pygments_lexer": "ipython3",
   "version": "3.10.5"
  }
 },
 "nbformat": 4,
 "nbformat_minor": 5
}
