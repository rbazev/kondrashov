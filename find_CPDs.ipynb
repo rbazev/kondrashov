{
 "cells": [
  {
   "cell_type": "markdown",
   "id": "1a38fca2-7d9a-4508-bda7-49dc4d10be13",
   "metadata": {},
   "source": [
    "# Find putative CPDs\n",
    "\n",
    "## Rerun clean up commands\n",
    "\n",
    "Since the ClinVar data was modified we begin by rerun the commands in the [clean_up.ipynb](clean_up.ipynb) notebook.\n",
    "\n",
    "### Extract transcript IDs from variants\n",
    "\n",
    "Pull the transcript record IDs from the ClinVar records of each gene.\n",
    "\n",
    "**Output:** `vartranscripts` dictionary with genes as keys and lists of transcripts as values.  The new `dict` has 68 transcripts instead of 72."
   ]
  },
  {
   "cell_type": "code",
   "execution_count": 1,
   "id": "8ab8240c-b3b3-41dd-a9d1-6abb67f8a087",
   "metadata": {
    "tags": []
   },
   "outputs": [],
   "source": [
    "run kondrashov"
   ]
  },
  {
   "cell_type": "code",
   "execution_count": 2,
   "id": "178015c2-8ded-45d0-8f76-889f786b83d7",
   "metadata": {},
   "outputs": [
    {
     "name": "stdout",
     "output_type": "stream",
     "text": [
      "ABCD1 ['NM_000033.4'] 1 transcripts\n",
      "ALPL ['NM_000478.6'] 2 transcripts\n",
      "AR ['NM_000044.6'] 3 transcripts\n",
      "ATP7B ['NM_000053.3', 'NM_000053.4'] 5 transcripts\n",
      "BTK ['NM_001287345.1', 'NM_000061.3', 'NM_000061.2'] 8 transcripts\n",
      "CASR ['NM_000388.4'] 9 transcripts\n",
      "CBS ['NM_001178009.3', 'NM_000071.3', 'NM_000071.2'] 12 transcripts\n",
      "CFTR ['NM_000492.3', 'NM_000492.4'] 14 transcripts\n",
      "CYBB ['NM_000397.3', 'NM_000397.4'] 16 transcripts\n",
      "F7 ['NM_019616.4'] 17 transcripts\n",
      "F8 ['NM_019863.2', 'NM_000132.4', 'NM_000132.3'] 20 transcripts\n",
      "F9 ['NM_000133.4', 'NM_001313913.1', 'NM_000133.3'] 23 transcripts\n",
      "G6PD ['NM_001042351.1', 'NM_001360016.2', 'NM_000402.4'] 26 transcripts\n",
      "GALT ['NM_000155.2', 'NM_000155.4'] 28 transcripts\n",
      "GBA ['NM_000157.3', 'NM_001005741.2', 'NM_000157.4'] 31 transcripts\n",
      "GJB1 ['NM_000166.6'] 32 transcripts\n",
      "HBB ['NM_000518.4', 'NM_000518.5'] 34 transcripts\n",
      "HPRT1 ['NM_000194.2', 'NM_000194.3'] 36 transcripts\n",
      "IL2RG ['NM_000206.2', 'NM_000206.3'] 38 transcripts\n",
      "KCNH2 ['NM_172056.2', 'NM_000238.4', 'NM_000238.3'] 41 transcripts\n",
      "KCNQ1 ['NM_000218.3', 'NM_000218.2', 'NM_181798.1'] 44 transcripts\n",
      "L1CAM ['NM_001278116.2'] 45 transcripts\n",
      "LDLR ['NM_001195800.2', 'NM_001195803.2', 'NM_000527.4', 'NM_000527.5'] 49 transcripts\n",
      "MPZ ['NM_000530.6', 'NM_000530.8'] 51 transcripts\n",
      "MYH7 ['NM_000257.4', 'NM_000257.3'] 53 transcripts\n",
      "TYR ['NM_000372.5'] 54 transcripts\n",
      "PAH ['NM_000277.1', 'NM_000277.3'] 56 transcripts\n",
      "PMM2 ['NM_000303.3'] 57 transcripts\n",
      "RHO ['NM_000539.3'] 58 transcripts\n",
      "TP53 ['NM_001126118.1', 'NM_001276697.2', 'NM_001126113.2', 'NM_001126115.1', 'NM_000546.5', 'NM_000546.6'] 64 transcripts\n",
      "TTR ['NM_000371.3', 'NM_000371.4'] 66 transcripts\n",
      "VWF ['NM_000552.4', 'NM_000552.5'] 68 transcripts\n"
     ]
    }
   ],
   "source": [
    "i = 0\n",
    "vartranscripts = {}\n",
    "for gene in loci:\n",
    "    vt = get_transcripts_from_variants(gene, True)\n",
    "    i += len(vt)    \n",
    "    print(gene, vt, i, 'transcripts')\n",
    "    vartranscripts.update({gene: vt})"
   ]
  },
  {
   "cell_type": "markdown",
   "id": "348e385c-f4cb-4ad9-8e39-2d49d8267ad5",
   "metadata": {},
   "source": [
    "### Extract human protein sequence records from the fasta files\n",
    "\n",
    "Take the fasta files containing ortholog sequences, search for human sequences and extract the corresponding record.\n",
    "\n",
    "**Output:** `protrecs` dictionary with genes as keys and lists of protein records as values. Unchanged."
   ]
  },
  {
   "cell_type": "code",
   "execution_count": 3,
   "id": "c27e0adc-aed2-482e-940b-f18c8d682ec7",
   "metadata": {},
   "outputs": [
    {
     "name": "stdout",
     "output_type": "stream",
     "text": [
      "1 ABCD1 NP_000024.2 745\n",
      "2 ALPL NP_001356734.1 524\n",
      "3 ALPL XP_016856392.1 472\n",
      "4 ALPL NP_001170991.1 447\n",
      "5 ALPL NP_001120973.2 469\n",
      "6 AR NP_001334993.1 572\n",
      "7 AR NP_001334992.1 648\n",
      "8 AR NP_001334990.1 644\n",
      "9 AR NP_001011645.1 388\n",
      "10 AR NP_000035.2 920\n",
      "11 ATP7B NP_001317508.1 1381\n",
      "12 ATP7B NP_001317507.1 1387\n",
      "13 ATP7B XP_016876116.1 1433\n",
      "14 ATP7B XP_005266488.1 1453\n",
      "15 ATP7B XP_005266487.1 1465\n",
      "16 ATP7B NP_001230111.1 1354\n",
      "17 ATP7B NP_001005918.1 1258\n",
      "18 BTK NP_001274274.1 483\n",
      "19 BTK NP_001274273.1 693\n",
      "20 BTK NP_000052.1 659\n",
      "21 CASR NP_000379.3 1078\n",
      "22 CASR NP_001171536.2 1088\n",
      "23 CASR XP_005247894.1 917\n",
      "24 CBS XP_024307908.1 446\n",
      "25 CBS XP_024307905.1 568\n",
      "26 CBS XP_024307904.1 582\n",
      "27 CBS XP_016883980.1 551\n",
      "28 CBS XP_011528085.1 460\n",
      "29 CBS XP_011528079.1 565\n",
      "30 CFTR NP_000483.3 1480\n",
      "31 CYBB NP_000388.2 570\n",
      "32 F7 XP_006720026.2 412\n",
      "33 F7 XP_011535777.2 433\n",
      "34 F7 XP_011535776.2 495\n",
      "35 F7 XP_011535778.1 364\n",
      "36 F7 NP_001254483.1 382\n",
      "37 F7 NP_062562.1 444\n",
      "38 F7 NP_000122.1 466\n",
      "39 F8 NP_063916.1 216\n",
      "40 F8 NP_000123.1 2351\n",
      "41 F9 NP_001300842.1 423\n",
      "42 F9 XP_005262454.1 418\n",
      "43 F9 NP_000124.1 461\n",
      "44 G6PD NP_001346945.1 515\n",
      "45 G6PD NP_000393.4 545\n",
      "46 GALT NP_001245261.1 270\n",
      "47 GALT NP_000146.2 379\n",
      "48 GBA NP_001165283.1 487\n",
      "49 GBA NP_001165282.1 449\n",
      "50 GBA NP_001005742.1 536\n",
      "51 GJB1 XP_011529209.1 283\n",
      "52 HBB NP_000509.1 147\n",
      "53 HPRT1 NP_000185.1 218\n",
      "54 IL2RG NP_000197.1 369\n",
      "55 KCNH2 XP_016867685.1 1100\n",
      "56 KCNH2 XP_016867684.1 1109\n",
      "57 KCNH2 XP_011514488.1 910\n",
      "58 KCNH2 XP_011514487.1 1059\n",
      "59 KCNH2 NP_001191727.1 548\n",
      "60 KCNH2 NP_742054.1 819\n",
      "61 KCNH2 NP_742053.1 888\n",
      "62 KCNH2 NP_000229.1 1159\n",
      "63 KCNQ1 NP_000209.2 676\n",
      "64 KCNQ1 NP_861463.1 549\n",
      "65 L1CAM NP_001265045.1 1257\n",
      "66 L1CAM NP_001137435.1 1248\n",
      "67 L1CAM NP_076493.1 1253\n",
      "68 LDLR XP_011526312.1 834\n",
      "69 LDLR NP_001182732.1 682\n",
      "70 LDLR NP_001182729.1 692\n",
      "71 LDLR NP_001182728.1 819\n",
      "72 LDLR NP_001182727.1 858\n",
      "73 LDLR NP_000518.1 860\n",
      "74 MPZ XP_016856810.1 240\n",
      "75 MPZ NP_001302420.1 312\n",
      "76 MPZ NP_000521.2 248\n",
      "77 MYH7 XP_016876829.1 1935\n",
      "78 TYR XP_011541272.1 471\n",
      "79 TYR NP_000363.1 529\n",
      "80 PAH NP_001341233.1 452\n",
      "81 PAH XP_016874859.1 240\n",
      "82 PMM2 XP_005255431.1 163\n",
      "83 PMM2 NP_000294.1 246\n",
      "84 RHO NP_000530.1 348\n",
      "85 TP53 NP_001263628.1 187\n",
      "86 TP53 NP_001263627.1 182\n",
      "87 TP53 NP_001263626.1 234\n",
      "88 TP53 NP_001263625.1 302\n",
      "89 TP53 NP_001263624.1 307\n",
      "90 TP53 NP_001263690.1 354\n",
      "91 TP53 NP_001119589.1 214\n",
      "92 TP53 NP_001119588.1 209\n",
      "93 TP53 NP_001119587.1 261\n",
      "94 TP53 NP_001119586.1 341\n",
      "95 TP53 NP_001119585.1 346\n",
      "96 TP53 NP_001119584.1 393\n",
      "97 TTR NP_000362.1 147\n",
      "98 VWF NP_000543.3 2813\n"
     ]
    }
   ],
   "source": [
    "i = 1\n",
    "protrecs = {}\n",
    "for gene in loci:\n",
    "    protrecs.update({gene: []})\n",
    "    for record in SeqIO.parse('fasta/{0}.fasta'.format(gene), 'fasta'):\n",
    "        sp = get_species(record)\n",
    "        if sp=='Homo sapiens':\n",
    "            protrecs[gene].append(record)\n",
    "            print(i, gene, record.id, len(record))\n",
    "            i += 1"
   ]
  },
  {
   "cell_type": "markdown",
   "id": "8243c8d9-1a72-43de-af07-cd0898032be3",
   "metadata": {},
   "source": [
    "### Match variant transcript IDs with ortholog proteins\n",
    "\n",
    "Take variant transcript ID, query the NCBI database, extract the corresponding protein, and look for it in the ortholog set.  Flag problems.\n",
    "\n",
    "**Output:** `translation` dictionary with transcript IDs as keys and lists of protein IDs as values."
   ]
  },
  {
   "cell_type": "code",
   "execution_count": 4,
   "id": "53821e78-7a37-492f-8896-befdcbe496c8",
   "metadata": {},
   "outputs": [
    {
     "name": "stdout",
     "output_type": "stream",
     "text": [
      "1 ABCD1 NM_000033.4 NP_000024.2\n",
      "2 ALPL NM_000478.6 NP_001356734.1\n",
      "3 AR NM_000044.6 NP_000035.2\n",
      "4 ATP7B NM_000053.3 XP_005266487.1\n",
      "5 ATP7B NM_000053.4 XP_005266487.1\n",
      "6 BTK NM_001287345.1 NP_001274274.1\n",
      "7 BTK NM_000061.3 NP_000052.1\n",
      "8 BTK NM_000061.2 NP_000052.1\n",
      "9 CASR NM_000388.4 NP_000379.3\n",
      "10 CBS NM_001178009.3 XP_016883980.1\n",
      "11 CBS NM_000071.3 XP_016883980.1\n",
      "12 CBS NM_000071.2 XP_016883980.1\n",
      "13 CFTR NM_000492.3 NP_000483.3\n",
      "14 CFTR NM_000492.4 NP_000483.3\n",
      "15 CYBB NM_000397.3 NP_000388.2\n",
      "16 CYBB NM_000397.4 NP_000388.2\n",
      "17 F7 NM_019616.4 NP_062562.1\n",
      "18 F8 NM_019863.2 NP_063916.1\n",
      "19 F8 NM_000132.4 NP_000123.1\n",
      "20 F8 NM_000132.3 NP_000123.1\n",
      "21 F9 NM_000133.4 NP_000124.1\n",
      "22 F9 NM_001313913.1 NP_001300842.1\n",
      "23 F9 NM_000133.3 NP_000124.1\n",
      "24 G6PD NM_001042351.1 NP_001346945.1\n",
      "25 G6PD NM_001360016.2 NP_001346945.1\n",
      "26 G6PD NM_000402.4 NP_000393.4\n",
      "27 GALT NM_000155.2 NP_000146.2\n",
      "28 GALT NM_000155.4 NP_000146.2\n",
      "29 GBA NM_000157.3 NP_001005742.1\n",
      "30 GBA NM_001005741.2 NP_001005742.1\n",
      "31 GBA NM_000157.4 NP_001005742.1\n",
      "32 GJB1 NM_000166.6 XP_011529209.1\n",
      "33 HBB NM_000518.4 NP_000509.1\n",
      "34 HBB NM_000518.5 NP_000509.1\n",
      "35 HPRT1 NM_000194.2 NP_000185.1\n",
      "36 HPRT1 NM_000194.3 NP_000185.1\n",
      "37 IL2RG NM_000206.2 NP_000197.1\n",
      "38 IL2RG NM_000206.3 NP_000197.1\n",
      "39 KCNH2 NM_172056.2 NP_742053.1\n",
      "40 KCNH2 NM_000238.4 NP_000229.1\n",
      "41 KCNH2 NM_000238.3 NP_000229.1\n",
      "42 KCNQ1 NM_000218.3 NP_000209.2\n",
      "43 KCNQ1 NM_000218.2 NP_000209.2\n",
      "44 KCNQ1 NM_181798.1 NP_861463.1\n",
      "45 L1CAM NM_001278116.2 NP_001265045.1\n",
      "46 LDLR NM_001195800.2 NP_001182729.1\n",
      "47 LDLR NM_001195803.2 NP_001182732.1\n",
      "48 LDLR NM_000527.4 NP_000518.1\n",
      "49 LDLR NM_000527.5 NP_000518.1\n",
      "50 MPZ NM_000530.6 NP_000521.2\n",
      "51 MPZ NM_000530.8 NP_000521.2\n",
      "52 MYH7 NM_000257.4 XP_016876829.1\n",
      "53 MYH7 NM_000257.3 XP_016876829.1\n",
      "54 TYR NM_000372.5 NP_000363.1\n",
      "55 PAH NM_000277.1 NP_001341233.1\n",
      "56 PAH NM_000277.3 NP_001341233.1\n",
      "57 PMM2 NM_000303.3 NP_000294.1\n",
      "58 RHO NM_000539.3 NP_000530.1\n",
      "59 TP53 NM_001126118.1 NP_001263690.1\n",
      "60 TP53 NM_001276697.2 NP_001263626.1\n",
      "61 TP53 NM_001126113.2 NP_001119585.1\n",
      "62 TP53 NM_001126115.1 NP_001119587.1\n",
      "63 TP53 NM_000546.5 NP_001119584.1\n",
      "64 TP53 NM_000546.6 NP_001119584.1\n",
      "65 TTR NM_000371.3 NP_000362.1\n",
      "66 TTR NM_000371.4 NP_000362.1\n",
      "67 VWF NM_000552.4 no matching protein         <<<<<\n",
      "68 VWF NM_000552.5 NP_000543.3\n",
      "CPU times: user 1.76 s, sys: 163 ms, total: 1.92 s\n",
      "Wall time: 40.9 s\n"
     ]
    }
   ],
   "source": [
    "%%time\n",
    "translation = {}\n",
    "i = 1\n",
    "for gene in loci:\n",
    "    for transcript in vartranscripts[gene]:\n",
    "        if transcript[:3] == 'NM_':\n",
    "            rec = get_transcript(transcript)\n",
    "            seq = get_CDS(rec)\n",
    "            match = False\n",
    "            for prot in protrecs[gene]: \n",
    "                if seq[4] == prot.seq:\n",
    "                    print(i, gene, transcript, prot.id)\n",
    "                    match = True\n",
    "                    translation.update({transcript: prot.id})\n",
    "            if not match:\n",
    "                print(i, gene, transcript, 'no matching protein         <<<<<')\n",
    "        else:\n",
    "            print(i, gene, transcript, 'invalid transcript name         *****')\n",
    "        i += 1"
   ]
  },
  {
   "cell_type": "markdown",
   "id": "6529a8b8-8f1e-4f6e-b9a3-9df0aa2bb92e",
   "metadata": {},
   "source": [
    "### Add VWF NM_000552.4\n",
    "\n",
    "As explained in the [clean_up.ipynb](clean_up.ipynb) notebook we add it to the `translation` dictionary."
   ]
  },
  {
   "cell_type": "code",
   "execution_count": 5,
   "id": "f17f6a21-6282-4005-8cbd-a712bc22e5e1",
   "metadata": {},
   "outputs": [],
   "source": [
    "translation.update({'NM_000552.4': 'NP_000543.3'})"
   ]
  },
  {
   "cell_type": "markdown",
   "id": "e1a97217-6177-4159-ac05-d4d9aef3fd2d",
   "metadata": {},
   "source": [
    "## Extract individual variants\n",
    "\n",
    "Process each ClinVar dataset and extract variants for each transcript.\n",
    "\n",
    "**Output:** `variants` dictionary with transcript IDs as keys and lists of changes as values."
   ]
  },
  {
   "cell_type": "code",
   "execution_count": 6,
   "id": "05255675-b285-420c-96a7-2a831231a593",
   "metadata": {},
   "outputs": [
    {
     "name": "stdout",
     "output_type": "stream",
     "text": [
      "gene transcript protein changes errors\n",
      "ABCD1 NM_000033.4 NP_000024.2 134 0\n",
      "ALPL NM_000478.6 NP_001356734.1 76 0\n",
      "AR NM_000044.6 NP_000035.2 132 0\n",
      "ATP7B NM_000053.3 XP_005266487.1 0 2\n",
      "ATP7B NM_000053.4 XP_005266487.1 183 0\n",
      "BTK NM_001287345.1 NP_001274274.1 0 8\n",
      "BTK NM_000061.3 NP_000052.1 25 1\n",
      "BTK NM_000061.2 NP_000052.1 68 0\n",
      "CASR NM_000388.4 NP_000379.3 108 1\n",
      "CBS NM_001178009.3 XP_016883980.1 1 0\n",
      "CBS NM_000071.3 XP_016883980.1 21 0\n",
      "CBS NM_000071.2 XP_016883980.1 46 0\n",
      "CFTR NM_000492.3 NP_000483.3 225 7\n",
      "CFTR NM_000492.4 NP_000483.3 153 6\n",
      "CYBB NM_000397.3 NP_000388.2 38 0\n",
      "CYBB NM_000397.4 NP_000388.2 17 0\n",
      "F7 NM_019616.4 NP_062562.1 26 0\n",
      "F8 NM_019863.2 NP_063916.1 1 0\n",
      "F8 NM_000132.4 NP_000123.1 33 0\n",
      "F8 NM_000132.3 NP_000123.1 235 0\n",
      "F9 NM_000133.4 NP_000124.1 51 0\n",
      "F9 NM_001313913.1 NP_001300842.1 1 5\n",
      "F9 NM_000133.3 NP_000124.1 81 0\n",
      "G6PD NM_001042351.1 NP_001346945.1 0 1\n",
      "G6PD NM_001360016.2 NP_001346945.1 25 1\n",
      "G6PD NM_000402.4 NP_000393.4 25 0\n",
      "GALT NM_000155.2 NP_000146.2 0 1\n",
      "GALT NM_000155.4 NP_000146.2 173 0\n",
      "GBA NM_000157.3 NP_001005742.1 0 2\n",
      "GBA NM_001005741.2 NP_001005742.1 0 3\n",
      "GBA NM_000157.4 NP_001005742.1 98 0\n",
      "GJB1 NM_000166.6 XP_011529209.1 111 0\n",
      "HBB NM_000518.4 NP_000509.1 41 5\n",
      "HBB NM_000518.5 NP_000509.1 81 0\n",
      "HPRT1 NM_000194.2 NP_000185.1 24 0\n",
      "HPRT1 NM_000194.3 NP_000185.1 22 0\n",
      "IL2RG NM_000206.2 NP_000197.1 44 0\n",
      "IL2RG NM_000206.3 NP_000197.1 11 0\n",
      "KCNH2 NM_172056.2 NP_742053.1 162 0\n",
      "KCNH2 NM_000238.4 NP_000229.1 31 0\n",
      "KCNH2 NM_000238.3 NP_000229.1 13 0\n",
      "KCNQ1 NM_000218.3 NP_000209.2 20 0\n",
      "KCNQ1 NM_000218.2 NP_000209.2 17 1\n",
      "KCNQ1 NM_181798.1 NP_861463.1 172 0\n",
      "L1CAM NM_001278116.2 NP_001265045.1 54 0\n",
      "LDLR NM_001195800.2 NP_001182729.1 0 3\n",
      "LDLR NM_001195803.2 NP_001182732.1 0 1\n",
      "LDLR NM_000527.4 NP_000518.1 160 3\n",
      "LDLR NM_000527.5 NP_000518.1 640 0\n",
      "MPZ NM_000530.6 NP_000521.2 0 3\n",
      "MPZ NM_000530.8 NP_000521.2 94 0\n",
      "MYH7 NM_000257.4 XP_016876829.1 269 0\n",
      "MYH7 NM_000257.3 XP_016876829.1 0 1\n",
      "TYR NM_000372.5 NP_000363.1 72 0\n",
      "PAH NM_000277.1 NP_001341233.1 0 1\n",
      "PAH NM_000277.3 NP_001341233.1 356 0\n",
      "PMM2 NM_000303.3 NP_000294.1 56 0\n",
      "RHO NM_000539.3 NP_000530.1 105 0\n",
      "TP53 NM_001126118.1 NP_001263690.1 0 1\n",
      "TP53 NM_001276697.2 NP_001263626.1 0 9\n",
      "TP53 NM_001126113.2 NP_001119585.1 0 1\n",
      "TP53 NM_001126115.1 NP_001119587.1 0 1\n",
      "TP53 NM_000546.5 NP_001119584.1 177 0\n",
      "TP53 NM_000546.6 NP_001119584.1 48 4\n",
      "TTR NM_000371.3 NP_000362.1 50 0\n",
      "TTR NM_000371.4 NP_000362.1 25 2\n",
      "VWF NM_000552.4 NP_000543.3 116 0\n",
      "VWF NM_000552.5 NP_000543.3 33 0\n"
     ]
    }
   ],
   "source": [
    "print('gene transcript protein changes errors')\n",
    "for gene in loci:\n",
    "    transcripts = vartranscripts[gene]\n",
    "    for transcript in transcripts:\n",
    "        sites, wilds, muts, errs = get_all_changes(gene, transcript, True)\n",
    "        print(gene, transcript, translation[transcript], len(sites), len(errs))"
   ]
  },
  {
   "cell_type": "markdown",
   "id": "dec70758-7f95-483a-9ed5-20e6c32ae1b7",
   "metadata": {},
   "source": [
    "Let's look more closely at the variants where there are errors.  **They appear to be variants where the name does not specify an amino acid change.**  We can ignore them."
   ]
  },
  {
   "cell_type": "code",
   "execution_count": 7,
   "id": "27d2812d-9222-47b1-8b74-b22368d7cfc1",
   "metadata": {},
   "outputs": [
    {
     "name": "stdout",
     "output_type": "stream",
     "text": [
      "gene transcript protein changes errors\n",
      "ATP7B NM_000053.3 XP_005266487.1 0 2\n",
      "    [('NM_000053.3(ATP7B):c.3809A>G', 'VCV000003859'), ('NM_000053.3(ATP7B):c.[3443T>C;3526G>A]', 'VCV000003863')]\n",
      "BTK NM_001287345.1 NP_001274274.1 0 8\n",
      "    [('NM_001287345.1(BTK):c.1039-1398T>C', 'VCV000571649'), ('NM_001287345.1(BTK):c.1039-1411G>T', 'VCV000656776'), ('NM_001287345.1(BTK):c.1039-1418C>A', 'VCV000011375'), ('NM_001287345.1(BTK):c.1038+1529A>G', 'VCV000011343'), ('NM_001287345.1(BTK):c.1038+1516C>A', 'VCV000011374'), ('NM_001287345.1(BTK):c.1038+1464T>C', 'VCV000011373'), ('NM_001287345.1(BTK):c.1038+813T>G', 'VCV000011371'), ('NM_001287345.1(BTK):c.1038+44A>G', 'VCV000011346')]\n",
      "BTK NM_000061.3 NP_000052.1 25 1\n",
      "    [('NM_000061.3(BTK):c.763C>T', 'VCV000011363')]\n",
      "CASR NM_000388.4 NP_000379.3 108 1\n",
      "    [('NM_000388.4(CASR):c.1609-2A>G', 'VCV000854168')]\n",
      "CFTR NM_000492.3 NP_000483.3 225 7\n",
      "    [('NM_000492.3(CFTR):c.[350G>A;1210-12[5]]', 'VCV000209047'), ('NM_000492.3(CFTR):c.[1075C>A;1079C>A]', 'VCV000040200'), ('NM_000492.3(CFTR):c.[1397C>G;3209G>A]', 'VCV000634835'), ('NM_000492.3(CFTR):c.[1521_1523delCTT;3080T>C]', 'VCV000634837'), ('NM_000492.3(CFTR):c.[1327G>T;1727G>C;2002C>T]', 'VCV000870319'), ('NM_000492.3(CFTR):c.[2735C>T;3731G>T]', 'VCV000007239'), ('NM_000492.3(CFTR):c.[2816A>G;2846A>T]', 'VCV000996223')]\n",
      "CFTR NM_000492.4 NP_000483.3 153 6\n",
      "    [('NM_000492.4(CFTR):c.274G>A', 'VCV000007181'), ('NM_000492.4(CFTR):c.376G>A', 'VCV000053808'), ('NM_000492.4(CFTR):c.1013C>T', 'VCV000007193'), ('NM_000492.4(CFTR):c.1367T>C', 'VCV000035821'), ('NM_000492.4(CFTR):c.1516A>C', 'VCV000053275'), ('NM_000492.4(CFTR):c.1705T>G', 'VCV000053352')]\n",
      "F9 NM_001313913.1 NP_001300842.1 1 5\n",
      "    [('NM_001313913.1(F9):c.277+3690A>G', 'VCV000010576'), ('NM_001313913.1(F9):c.277+3699A>C', 'VCV000010577'), ('NM_001313913.1(F9):c.277+3713C>G', 'VCV000010578'), ('NM_001313913.1(F9):c.277+3740G>A', 'VCV000010643'), ('NM_001313913.1(F9):c.277+3741A>G', 'VCV000010580')]\n",
      "G6PD NM_001042351.1 NP_001346945.1 0 1\n",
      "    [('NM_001042351.1(G6PD):c.[317C>G;544C>T;592C>T]', 'VCV000010392')]\n",
      "G6PD NM_001360016.2 NP_001346945.1 25 1\n",
      "    [('NM_001360016.2(G6PD):c.[376A>G;968T>C]', 'VCV001065168')]\n",
      "GALT NM_000155.2 NP_000146.2 0 1\n",
      "    [('NM_000155.2(GALT):c.[940A>G;-119_-116delGTCA]', 'VCV000140570')]\n",
      "GBA NM_000157.3 NP_001005742.1 0 2\n",
      "    [('NM_000157.3(GBA):c.1603C>T', 'VCV000242383'), ('NM_000157.3(GBA):c.1448T>C', 'VCV000004288')]\n",
      "GBA NM_001005741.2 NP_001005742.1 0 3\n",
      "    [('NM_001005741.2(GBA):c.[1448T>C;1483G>C;1497G>C]', 'VCV000004297'), ('NM_001005741.2(GBA):c.[880T>G;1342G>C]', 'VCV000004334'), ('NM_001005741.2(GBA):c.[535G>C;c.1093G>A]', 'VCV000004299')]\n",
      "HBB NM_000518.4 NP_000509.1 41 5\n",
      "    [('NM_000518.4(HBB):c.[20A>T;364G>A]', 'VCV000446736'), ('NM_000518.4(HBB):c.[20A>T;271G>A]', 'VCV000446747'), ('NM_000518.4(HBB):c.[20A>T;249G>Y]', 'VCV000446737'), ('NM_000518.4(HBB):c.[20A>T;428C>T]', 'VCV000446738'), ('NM_000518.4(HBB):c.[20A>T;70G>A]', 'VCV000446735')]\n",
      "KCNQ1 NM_000218.2 NP_000209.2 17 1\n",
      "    [('NM_000218.2(KCNQ1):c.[1249G>A;760G>A]', 'VCV000444879')]\n",
      "LDLR NM_001195800.2 NP_001182729.1 0 3\n",
      "    [('NM_001195800.2(LDLR):c.314-2016G>A', 'VCV000441186'), ('NM_001195800.2(LDLR):c.314-2007G>T', 'VCV000441187'), ('NM_001195800.2(LDLR):c.314-1999C>T', 'VCV000431511')]\n",
      "LDLR NM_001195803.2 NP_001182732.1 0 1\n",
      "    [('NM_001195803.2(LDLR):c.1606+203C>A', 'VCV000441227')]\n",
      "LDLR NM_000527.4 NP_000518.1 160 3\n",
      "    [('NM_000527.4:c.[829G>A;1268T>C]', 'VCV000430765'), ('NM_000527.4:c.[932A>G;939C>G]', 'VCV000430769'), ('NM_000527.4:c.[1979A>C;2359G>A]', 'VCV000430800')]\n",
      "MPZ NM_000530.6 NP_000521.2 0 3\n",
      "    [('NM_000530.6(MPZ):c.[341T>C;346A>C;382G>A]', 'VCV000014180'), ('NM_000530.6(MPZ):c.[266T>A;274G>A;486C>G]', 'VCV000014182'), ('NM_000530.6(MPZ):c.[241C>T;337G>T]', 'VCV000208147')]\n",
      "MYH7 NM_000257.3 XP_016876829.1 0 1\n",
      "    [('NM_000257.3(MYH7):c.[1816G>A;2183C>T]', 'VCV000487487')]\n",
      "PAH NM_000277.1 NP_001341233.1 0 1\n",
      "    [('NM_000277.1(PAH):c.[353-507G>T;754C>T]', 'VCV000217885')]\n",
      "TP53 NM_001126118.1 NP_001263690.1 0 1\n",
      "    [('NM_001126118.1(TP53):c.-13G>T', 'VCV000012371')]\n",
      "TP53 NM_001276697.2 NP_001263626.1 0 9\n",
      "    [('NM_001276697.2(TP53):c.-26C>G', 'VCV000376640'), ('NM_001276697.2(TP53):c.-27C>G', 'VCV000376641'), ('NM_001276697.2(TP53):c.-46G>T', 'VCV000376648'), ('NM_001276697.2(TP53):c.-50T>C', 'VCV000804214'), ('NM_001276697.2(TP53):c.-57T>A', 'VCV000376567'), ('NM_001276697.2(TP53):c.-57T>G', 'VCV000376566'), ('NM_001276697.2(TP53):c.-57T>C', 'VCV000376565'), ('NM_001276697.2(TP53):c.-66G>C', 'VCV000012376'), ('NM_001276697.2(TP53):c.-75T>C', 'VCV000376560')]\n",
      "TP53 NM_001126113.2 NP_001119585.1 0 1\n",
      "    [('NM_001126113.2(TP53):c.*50T>C', 'VCV000012375')]\n",
      "TP53 NM_001126115.1 NP_001119587.1 0 1\n",
      "    [('NM_001126115.1(TP53):c.-2A>C', 'VCV000376627')]\n",
      "TP53 NM_000546.6 NP_001119584.1 48 4\n",
      "    [('NM_000546.6(TP53):c.1045G>T', 'VCV000634695'), ('NM_000546.6(TP53):c.880G>T', 'VCV000379471'), ('NM_000546.6(TP53):c.537T>A', 'VCV000406578'), ('NM_000546.6(TP53):c.438G>A', 'VCV000428890')]\n",
      "TTR NM_000371.4 NP_000362.1 25 2\n",
      "    [('NM_000371.4(TTR):c.194C>A', 'VCV000181702'), ('NM_000371.4(TTR):c.239C>T', 'VCV000577420')]\n"
     ]
    }
   ],
   "source": [
    "print('gene transcript protein changes errors')\n",
    "for gene in loci:\n",
    "    transcripts = vartranscripts[gene]\n",
    "    for transcript in transcripts:\n",
    "        sites, wilds, muts, errs = get_all_changes(gene, transcript, True)\n",
    "        if len(errs)>0:\n",
    "            print(gene, transcript, translation[transcript], len(sites), len(errs))\n",
    "            print('   ', errs)"
   ]
  },
  {
   "cell_type": "markdown",
   "id": "71df8395-68da-4c53-8858-5e93d1f4fcfa",
   "metadata": {},
   "source": [
    "We collect all valid variants in a `variants` dictionary."
   ]
  },
  {
   "cell_type": "code",
   "execution_count": 8,
   "id": "3f772bc4-6e49-4a18-93bc-d13fb6d4215f",
   "metadata": {},
   "outputs": [
    {
     "name": "stdout",
     "output_type": "stream",
     "text": [
      "ABCD1 ... ALPL ... AR ... ATP7B ... BTK ... CASR ... CBS ... CFTR ... CYBB ... F7 ... F8 ... F9 ... G6PD ... GALT ... GBA ... GJB1 ... HBB ... HPRT1 ... IL2RG ... KCNH2 ... KCNQ1 ... L1CAM ... LDLR ... MPZ ... MYH7 ... TYR ... PAH ... PMM2 ... RHO ... TP53 ... TTR ... VWF ... "
     ]
    }
   ],
   "source": [
    "variants = {}\n",
    "for gene in loci:\n",
    "    print(gene, end=' ... ')\n",
    "    transcripts = vartranscripts[gene]\n",
    "    for transcript in transcripts:\n",
    "        sites, wilds, muts, errs = get_all_changes(gene, transcript, True)\n",
    "        if len(sites)>0:\n",
    "            variants.update({transcript: (sites, wilds, muts, errs)})"
   ]
  },
  {
   "cell_type": "code",
   "execution_count": 9,
   "id": "2cb4a8ff-f84e-463a-a3b0-b8ad34d4992a",
   "metadata": {},
   "outputs": [
    {
     "name": "stdout",
     "output_type": "stream",
     "text": [
      "[147, 147, 147, 143, 128, 125, 122, 111, 107, 107, 102, 101, 100, 100, 100, 100, 100, 100, 98, 95, 93, 93, 92, 90, 89, 83, 83, 83, 69, 68, 61, 46, 43, 37, 33, 31, 29, 27, 24, 9, 7]\n",
      "['H', 'H', 'H', 'A', 'Q', 'P', 'E', 'L', 'L', 'L', 'E', 'P', 'D', 'D', 'D', 'D', 'D', 'D', 'H', 'D', 'H', 'H', 'L', 'S', 'L', 'K', 'K', 'K', 'L', 'V', 'V', 'F', 'F', 'P', 'L', 'R', 'L', 'E', 'V', 'K', 'E']\n",
      "['P', 'L', 'D', 'D', 'R', 'R', 'K', 'P', 'R', 'Q', 'K', 'L', 'A', 'G', 'V', 'Y', 'H', 'N', 'L', 'H', 'N', 'Y', 'P', 'N', 'P', 'T', 'M', 'E', 'H', 'E', 'E', 'S', 'V', 'H', 'Q', 'T', 'Q', 'G', 'F', 'E', 'K']\n"
     ]
    }
   ],
   "source": [
    "sites, wilds, muts, errs = variants['NM_000518.4']\n",
    "print(sites)\n",
    "print(wilds)\n",
    "print(muts)"
   ]
  },
  {
   "cell_type": "markdown",
   "id": "531e3350-d09f-4d20-a10d-450a63467555",
   "metadata": {},
   "source": [
    "## Extract variable sites\n",
    "\n",
    "Process each alignment and extract variable sites for each protein.\n",
    "\n",
    "**Output:** `variable` dictionary with transcript IDs as keys and dictionaries of variable sites as values."
   ]
  },
  {
   "cell_type": "code",
   "execution_count": 10,
   "id": "f7593f32-c27c-4ebc-8874-6a08816acbf5",
   "metadata": {},
   "outputs": [
    {
     "name": "stdout",
     "output_type": "stream",
     "text": [
      "ABCD1 ... ALPL ... AR ... ATP7B ... BTK ... CASR ... CBS ... CFTR ... CYBB ... F7 ... F8 ... F9 ... G6PD ... GALT ... GBA ... GJB1 ... HBB ... HPRT1 ... IL2RG ... KCNH2 ... KCNQ1 ... L1CAM ... LDLR ... MPZ ... MYH7 ... TYR ... PAH ... PMM2 ... RHO ... TP53 ... TTR ... VWF ... "
     ]
    }
   ],
   "source": [
    "variable = {}\n",
    "for gene in loci:\n",
    "    print(gene, end=' ... ')\n",
    "    transcripts = vartranscripts[gene]\n",
    "    for transcript in transcripts:\n",
    "        protein = translation[transcript]\n",
    "        variable.update({transcript: get_variable_sites(gene, protein, False)})"
   ]
  },
  {
   "cell_type": "code",
   "execution_count": 11,
   "id": "69eb08ae-9723-4dd1-a551-6c2f9fe24f58",
   "metadata": {},
   "outputs": [],
   "source": [
    "!open ."
   ]
  },
  {
   "cell_type": "markdown",
   "id": "50a6e4a9-fa87-4108-92fc-3653bf233d56",
   "metadata": {},
   "source": [
    "## Identify putative CPDs"
   ]
  },
  {
   "cell_type": "code",
   "execution_count": 12,
   "id": "fc8f6550-7396-4bef-888c-c374b1f258d0",
   "metadata": {},
   "outputs": [
    {
     "name": "stdout",
     "output_type": "stream",
     "text": [
      "gene\ttranscript\tsite\twild\tmut\tvar\n",
      "ALPL\tNM_000478.6\t491\tG\tR\t['R']\n",
      "AR\tNM_000044.6\t611\tN\tK\t['E', 'K']\n",
      "AR\tNM_000044.6\t788\tM\tV\t['V', 'C', 'Y', 'I']\n",
      "ATP7B\tNM_000053.4\t1178\tT\tA\t['A']\n",
      "ATP7B\tNM_000053.4\t969\tR\tQ\t['Q']\n",
      "CFTR\tNM_000492.4\t1\tM\tR\t['L', 'P', 'Q', 'R']\n",
      "CFTR\tNM_000492.4\t13\tS\tF\t['G', 'F']\n",
      "F8\tNM_000132.3\t2319\tP\tL\t['L']\n",
      "F8\tNM_000132.3\t2185\tL\tS\t['S']\n",
      "F8\tNM_000132.3\t2183\tM\tV\t['G', 'V']\n",
      "F8\tNM_000132.3\t2038\tN\tS\t['H', 'K', 'S']\n",
      "F8\tNM_000132.3\t1979\tG\tV\t['V']\n",
      "F8\tNM_000132.3\t585\tI\tT\t['M', 'T']\n",
      "F8\tNM_000132.3\t584\tQ\tK\t['K', 'S', 'P']\n",
      "F8\tNM_000132.3\t494\tI\tT\t['T']\n",
      "F9\tNM_000133.3\t75\tR\tQ\t['Q']\n",
      "GALT\tNM_000155.4\t23\tT\tA\t['A', 'W']\n",
      "GALT\tNM_000155.4\t97\tN\tD\t['Q', 'D', 'E']\n",
      "GALT\tNM_000155.4\t114\tH\tL\t['L']\n",
      "GALT\tNM_000155.4\t129\tM\tL\t['L']\n",
      "GALT\tNM_000155.4\t186\tH\tY\t['Y']\n",
      "GALT\tNM_000155.4\t198\tI\tT\t['D', 'T', 'V']\n",
      "GALT\tNM_000155.4\t204\tR\tP\t['P']\n",
      "GALT\tNM_000155.4\t212\tQ\tP\t['P']\n",
      "GALT\tNM_000155.4\t226\tL\tP\t['P']\n",
      "GALT\tNM_000155.4\t319\tH\tQ\t['Q']\n",
      "GALT\tNM_000155.4\t329\tS\tP\t['P']\n",
      "GALT\tNM_000155.4\t333\tR\tL\t['L', 'S']\n",
      "GALT\tNM_000155.4\t363\tE\tK\t['D', 'K', 'R', 'G']\n",
      "GBA\tNM_000157.4\t535\tR\tH\t['L', 'H']\n",
      "GBA\tNM_000157.4\t502\tR\tC\t['C']\n",
      "GBA\tNM_000157.4\t416\tG\tS\t['S']\n",
      "GBA\tNM_000157.4\t351\tW\tC\t['C']\n",
      "GBA\tNM_000157.4\t350\tH\tR\t['R']\n",
      "GBA\tNM_000157.4\t324\tR\tC\t['T', 'C']\n",
      "GBA\tNM_000157.4\t227\tN\tS\t['S']\n",
      "GBA\tNM_000157.4\t223\tW\tR\t['R']\n",
      "KCNH2\tNM_172056.2\t92\tR\tL\t['L']\n",
      "KCNH2\tNM_172056.2\t72\tP\tL\t['L']\n",
      "KCNH2\tNM_172056.2\t65\tT\tP\t['V', 'P']\n",
      "KCNH2\tNM_172056.2\t56\tR\tQ\t['T', 'Q']\n",
      "KCNQ1\tNM_000218.2\t1\tM\tK\t['K', 'R']\n",
      "KCNQ1\tNM_000218.2\t2\tA\tG\t['L', 'P', 'G']\n",
      "KCNQ1\tNM_000218.2\t114\tL\tP\t['M', 'P', 'V']\n",
      "KCNQ1\tNM_000218.2\t115\tE\tK\t['K', 'Q', 'G', 'L', 'R']\n",
      "KCNQ1\tNM_000218.2\t117\tP\tS\t['S', 'E', 'A', 'C', 'R']\n",
      "KCNQ1\tNM_000218.2\t125\tY\tD\t['F', 'T', 'D', 'S', 'A']\n",
      "KCNQ1\tNM_181798.1\t145\tG\tD\t['D']\n",
      "LDLR\tNM_000527.4\t88\tR\tK\t['K']\n",
      "LDLR\tNM_000527.4\t215\tR\tH\t['H']\n",
      "LDLR\tNM_000527.4\t470\tS\tG\t['G']\n",
      "LDLR\tNM_000527.4\t471\tR\tK\t['K', 'G']\n",
      "LDLR\tNM_000527.4\t578\tV\tA\t['A']\n",
      "LDLR\tNM_000527.5\t36\tD\tE\t['E', 'P']\n",
      "LDLR\tNM_000527.5\t46\tC\tS\t['S']\n",
      "LDLR\tNM_000527.5\t137\tG\tS\t['S']\n",
      "LDLR\tNM_000527.5\t579\tD\tG\t['G']\n",
      "LDLR\tNM_000527.5\t583\tH\tD\t['D']\n",
      "TYR\tNM_000372.5\t346\tG\tV\t['A', 'V']\n",
      "TYR\tNM_000372.5\t370\tM\tI\t['I']\n",
      "PAH\tNM_000277.3\t413\tR\tH\t['H']\n",
      "PAH\tNM_000277.3\t400\tR\tS\t['S']\n",
      "PAH\tNM_000277.3\t176\tR\tQ\t['Q']\n",
      "PMM2\tNM_000303.3\t226\tT\tS\t['V', 'S', 'L']\n",
      "TP53\tNM_000546.5\t276\tA\tG\t['G']\n",
      "TP53\tNM_000546.5\t273\tR\tG\t['G']\n",
      "TTR\tNM_000371.3\t77\tG\tR\t['R']\n",
      "TTR\tNM_000371.3\t82\tE\tK\t['K']\n",
      "TTR\tNM_000371.3\t127\tI\tV\t['V', 'F']\n",
      "TTR\tNM_000371.3\t131\tL\tM\t['T', 'M']\n",
      "TTR\tNM_000371.3\t136\tY\tS\t['S', 'W', 'R']\n",
      "TTR\tNM_000371.4\t142\tV\tI\t['I', 'L']\n",
      "VWF\tNM_000552.4\t528\tN\tS\t['S']\n"
     ]
    }
   ],
   "source": [
    "print('gene\\ttranscript\\tsite\\twild\\tmut\\tvar')\n",
    "final_transcripts = variants.keys()\n",
    "for gene in loci:\n",
    "    transcripts = vartranscripts[gene]\n",
    "    for transcript in transcripts:\n",
    "        if transcript in final_transcripts:\n",
    "            sites, wilds, muts, errs = variants[transcript]\n",
    "            tmp_variable = variable[transcript]\n",
    "            variable_sites = tmp_variable.keys()\n",
    "            n = len(sites)\n",
    "            for i in range(n):\n",
    "                site = sites[i]\n",
    "                if (site in variable_sites) and (muts[i] in tmp_variable[site]):\n",
    "                    print(gene, transcript, site, wilds[i], muts[i], tmp_variable[site], sep='\\t')"
   ]
  },
  {
   "cell_type": "markdown",
   "id": "a3128448-9249-446a-a92d-161d7086966d",
   "metadata": {},
   "source": [
    "## Look at particular sites\n",
    "\n",
    "The following command allows you to double check particular sites.  It now also outputs which site each species has."
   ]
  },
  {
   "cell_type": "code",
   "execution_count": 13,
   "id": "faf41dda-757d-4327-a8f6-5d7c5cdbe8d0",
   "metadata": {
    "collapsed": true,
    "jupyter": {
     "outputs_hidden": true
    },
    "tags": []
   },
   "outputs": [
    {
     "name": "stdout",
     "output_type": "stream",
     "text": [
      "     Gene: ATP7B\n",
      "    Human: 969 R\n",
      "Alignment: 1102 R\n",
      "R    105\n",
      "-      6\n",
      "Q      1\n",
      "dtype: int64\n",
      "\n",
      "R XP_012668202.1 Otolemur garnettii\n",
      "R XP_023363838.1 Otolemur garnettii\n",
      "R XP_023363839.1 Otolemur garnettii\n",
      "R XP_012638114.1 Microcebus murinus\n",
      "R XP_012638117.1 Microcebus murinus\n",
      "R XP_020145970.1 Microcebus murinus\n",
      "R XP_012638108.1 Microcebus murinus\n",
      "R XP_012504533.1 Propithecus coquereli\n",
      "R XP_012504538.1 Propithecus coquereli\n",
      "R XP_012504534.1 Propithecus coquereli\n",
      "R XP_012504529.1 Propithecus coquereli\n",
      "R XP_008070488.1 Carlito syrichta\n",
      "R XP_008070485.1 Carlito syrichta\n",
      "R XP_008070483.1 Carlito syrichta\n",
      "- XP_008070484.1 Carlito syrichta\n",
      "R XP_008070486.1 Carlito syrichta\n",
      "R XP_021561720.1 Carlito syrichta\n",
      "R XP_008070482.1 Carlito syrichta\n",
      "R XP_011920046.1 Cercocebus atys\n",
      "R XP_016780802.1 Pan troglodytes\n",
      "R XP_005266488.1 Homo sapiens\n",
      "R XP_016876116.1 Homo sapiens\n",
      "R NP_001005918.1 Homo sapiens\n",
      "R NP_001230111.1 Homo sapiens\n",
      "R NP_001317507.1 Homo sapiens\n",
      "R NP_001317508.1 Homo sapiens\n",
      "R XP_005266487.1 Homo sapiens\n",
      "R XP_024086846.1 Pongo abelii\n",
      "R XP_018895400.1 Gorilla gorilla gorilla\n",
      "R XP_018895395.1 Gorilla gorilla gorilla\n",
      "R XP_018895399.1 Gorilla gorilla gorilla\n",
      "R XP_018895398.1 Gorilla gorilla gorilla\n",
      "R XP_018895397.1 Gorilla gorilla gorilla\n",
      "R XP_004054587.1 Gorilla gorilla gorilla\n",
      "R XP_024781041.2 Pan paniscus\n",
      "R XP_008960333.2 Pan paniscus\n",
      "R XP_008960332.2 Pan paniscus\n",
      "R XP_024781039.2 Pan paniscus\n",
      "R XP_016780804.1 Pan troglodytes\n",
      "R XP_016780795.1 Pan troglodytes\n",
      "- XP_016780803.1 Pan troglodytes\n",
      "R XP_016780796.1 Pan troglodytes\n",
      "- XP_016780801.1 Pan troglodytes\n",
      "R XP_016780799.1 Pan troglodytes\n",
      "R XP_016780797.1 Pan troglodytes\n",
      "R XP_016780798.1 Pan troglodytes\n",
      "R XP_016780792.1 Pan troglodytes\n",
      "R XP_032006829.1 Hylobates moloch\n",
      "Q XP_030669295.1 Nomascus leucogenys\n",
      "R XP_033033526.1 Trachypithecus francoisi\n",
      "R XP_033033524.1 Trachypithecus francoisi\n",
      "R XP_023043183.1 Piliocolobus tephrosceles\n",
      "R XP_011794363.1 Colobus angolensis palliatus\n",
      "R XP_011794355.1 Colobus angolensis palliatus\n",
      "- XP_011794340.1 Colobus angolensis palliatus\n",
      "R XP_011794322.1 Colobus angolensis palliatus\n",
      "R XP_011794349.1 Colobus angolensis palliatus\n",
      "R XP_011794331.1 Colobus angolensis palliatus\n",
      "R XP_010351222.1 Rhinopithecus roxellana\n",
      "R XP_017713761.1 Rhinopithecus bieti\n",
      "R XP_017713762.1 Rhinopithecus bieti\n",
      "R XP_017713764.1 Rhinopithecus bieti\n",
      "R XP_037842590.1 Chlorocebus sabaeus\n",
      "R XP_037842589.1 Chlorocebus sabaeus\n",
      "R XP_021785340.1 Papio anubis\n",
      "R XP_031511724.1 Papio anubis\n",
      "R XP_021785339.1 Papio anubis\n",
      "R XP_025220045.1 Theropithecus gelada\n",
      "R XP_025220042.1 Theropithecus gelada\n",
      "R XP_025220040.1 Theropithecus gelada\n",
      "R XP_025220044.1 Theropithecus gelada\n",
      "- XP_025220041.1 Theropithecus gelada\n",
      "R XP_025220043.1 Theropithecus gelada\n",
      "R XP_025220038.1 Theropithecus gelada\n",
      "R XP_028693405.1 Macaca mulatta\n",
      "R XP_011754962.1 Macaca nemestrina\n",
      "R XP_011754960.1 Macaca nemestrina\n",
      "R XP_011754959.1 Macaca nemestrina\n",
      "R XP_011754965.1 Macaca nemestrina\n",
      "R XP_014976602.2 Macaca mulatta\n",
      "R XP_017806754.3 Papio anubis\n",
      "R XP_017806752.3 Papio anubis\n",
      "R XP_021785338.2 Papio anubis\n",
      "R XP_014976601.2 Macaca mulatta\n",
      "R XP_011844139.1 Mandrillus leucophaeus\n",
      "R XP_011844138.1 Mandrillus leucophaeus\n",
      "- XP_011844136.1 Mandrillus leucophaeus\n",
      "R XP_011844134.1 Mandrillus leucophaeus\n",
      "R XP_011844137.1 Mandrillus leucophaeus\n",
      "R XP_011844135.1 Mandrillus leucophaeus\n",
      "R XP_015294467.1 Macaca fascicularis\n",
      "R XP_015294466.1 Macaca fascicularis\n",
      "R XP_005585947.1 Macaca fascicularis\n",
      "R XP_015294469.1 Macaca fascicularis\n",
      "R XP_035153347.1 Callithrix jacchus\n",
      "R XP_035153336.1 Callithrix jacchus\n",
      "R XP_035153361.1 Callithrix jacchus\n",
      "R XP_035153372.1 Callithrix jacchus\n",
      "R XP_035153325.1 Callithrix jacchus\n",
      "R XP_035153322.1 Callithrix jacchus\n",
      "R XP_010336209.1 Saimiri boliviensis boliviensis\n",
      "R XP_003927227.1 Saimiri boliviensis boliviensis\n",
      "R XP_010336210.1 Saimiri boliviensis boliviensis\n",
      "R XP_012321638.1 Aotus nancymaae\n",
      "R XP_032150437.1 Sapajus apella\n",
      "R XP_032150436.1 Sapajus apella\n",
      "R XP_017397952.1 Cebus imitator\n",
      "R XP_017397951.1 Cebus imitator\n",
      "R XP_032150439.1 Sapajus apella\n",
      "R XP_032150438.1 Sapajus apella\n",
      "R XP_017397954.1 Cebus imitator\n",
      "R XP_017397953.1 Cebus imitator\n"
     ]
    },
    {
     "data": {
      "text/plain": [
       "(True,\n",
       " 969,\n",
       " 'R',\n",
       " R    105\n",
       " -      6\n",
       " Q      1\n",
       " dtype: int64)"
      ]
     },
     "execution_count": 13,
     "metadata": {},
     "output_type": "execute_result"
    }
   ],
   "source": [
    "get_alleles('ATP7B', translation['NM_000053.4'], 969, True)"
   ]
  },
  {
   "cell_type": "code",
   "execution_count": 14,
   "id": "0913a05c-0192-40cd-8166-1337f8db62eb",
   "metadata": {
    "collapsed": true,
    "jupyter": {
     "outputs_hidden": true
    },
    "tags": []
   },
   "outputs": [
    {
     "name": "stdout",
     "output_type": "stream",
     "text": [
      "     Gene: F8\n",
      "    Human: 2038 N\n",
      "Alignment: 2964 N\n",
      "N    46\n",
      "-    14\n",
      "H     4\n",
      "S     3\n",
      "K     3\n",
      "dtype: int64\n",
      "\n",
      "N XP_021524500.1 Aotus nancymaae\n",
      "K XP_003802782.1 Otolemur garnettii\n",
      "K XP_012517042.1 Propithecus coquereli\n",
      "K XP_020140823.1 Microcebus murinus\n",
      "N XP_017376032.2 Cebus imitator\n",
      "N XP_032121193.1 Sapajus apella\n",
      "N XP_032121192.1 Sapajus apella\n",
      "N XP_032121191.1 Sapajus apella\n",
      "N XP_032121190.1 Sapajus apella\n",
      "N XP_003943974.1 Saimiri boliviensis boliviensis\n",
      "S XP_035144731.1 Callithrix jacchus\n",
      "S XP_035144732.1 Callithrix jacchus\n",
      "S XP_035144729.1 Callithrix jacchus\n",
      "- XP_008960582.2 Pan paniscus\n",
      "- XP_030861623.1 Gorilla gorilla gorilla\n",
      "- XP_030662513.1 Nomascus leucogenys\n",
      "N XP_032612179.1 Hylobates moloch\n",
      "N XP_003279379.1 Nomascus leucogenys\n",
      "- NP_063916.1 Homo sapiens\n",
      "N NP_000123.1 Homo sapiens\n",
      "N XP_034806192.1 Pan paniscus\n",
      "N XP_003810005.2 Pan paniscus\n",
      "N XP_034806193.1 Pan paniscus\n",
      "N XP_016800115.1 Pan troglodytes\n",
      "N XP_009438145.1 Pan troglodytes\n",
      "N XP_016800113.1 Pan troglodytes\n",
      "N XP_016800114.1 Pan troglodytes\n",
      "N XP_003317837.1 Pan troglodytes\n",
      "N XP_016800116.1 Pan troglodytes\n",
      "N XP_004065205.1 Gorilla gorilla gorilla\n",
      "N XP_018874840.1 Gorilla gorilla gorilla\n",
      "- XP_024096330.1 Pongo abelii\n",
      "N XP_024096329.1 Pongo abelii\n",
      "N XP_031516315.1 Papio anubis\n",
      "- XP_025227753.1 Theropithecus gelada\n",
      "N XP_033057806.1 Trachypithecus francoisi\n",
      "N XP_011818598.1 Colobus angolensis palliatus\n",
      "- XP_026307119.1 Piliocolobus tephrosceles\n",
      "N XP_010351146.1 Rhinopithecus roxellana\n",
      "N XP_025227752.1 Theropithecus gelada\n",
      "N XP_031516316.1 Papio anubis\n",
      "N XP_031516314.1 Papio anubis\n",
      "N XP_010351139.1 Rhinopithecus roxellana\n",
      "N XP_010351130.1 Rhinopithecus roxellana\n",
      "N XP_010351142.1 Rhinopithecus roxellana\n",
      "N XP_011889285.1 Cercocebus atys\n",
      "N XP_011889280.1 Cercocebus atys\n",
      "H XP_011716757.1 Macaca nemestrina\n",
      "- XP_011716758.1 Macaca nemestrina\n",
      "N XP_005595091.1 Macaca fascicularis\n",
      "N XP_015299410.1 Macaca fascicularis\n",
      "N XP_015299411.1 Macaca fascicularis\n",
      "H XP_011716756.1 Macaca nemestrina\n",
      "H XP_011716754.1 Macaca nemestrina\n",
      "H XP_011716755.1 Macaca nemestrina\n",
      "N XP_014984060.2 Macaca mulatta\n",
      "N XP_014984059.2 Macaca mulatta\n",
      "- XP_030789545.1 Rhinopithecus roxellana\n",
      "- XP_030789544.1 Rhinopithecus roxellana\n",
      "N XP_037845232.1 Chlorocebus sabaeus\n",
      "N XP_011889284.1 Cercocebus atys\n",
      "N XP_011889283.1 Cercocebus atys\n",
      "N XP_011889281.1 Cercocebus atys\n",
      "N XP_005595095.1 Macaca fascicularis\n",
      "- XP_028698333.1 Macaca mulatta\n",
      "N XP_028698332.1 Macaca mulatta\n",
      "- XP_011889287.1 Cercocebus atys\n",
      "N XP_015299412.1 Macaca fascicularis\n",
      "- XP_011889288.1 Cercocebus atys\n",
      "- XP_011889289.1 Cercocebus atys\n"
     ]
    },
    {
     "data": {
      "text/plain": [
       "(True,\n",
       " 2038,\n",
       " 'N',\n",
       " N    46\n",
       " -    14\n",
       " H     4\n",
       " S     3\n",
       " K     3\n",
       " dtype: int64)"
      ]
     },
     "execution_count": 14,
     "metadata": {},
     "output_type": "execute_result"
    }
   ],
   "source": [
    "get_alleles('F8', translation['NM_000132.3'], 2038, True)"
   ]
  },
  {
   "cell_type": "code",
   "execution_count": 18,
   "id": "6c4b6223-8aec-4ea0-aa9f-aee0054961b7",
   "metadata": {},
   "outputs": [
    {
     "data": {
      "text/plain": [
       "'NP_001005742.1'"
      ]
     },
     "execution_count": 18,
     "metadata": {},
     "output_type": "execute_result"
    }
   ],
   "source": [
    "translation['NM_000157.4']"
   ]
  },
  {
   "cell_type": "code",
   "execution_count": 15,
   "id": "5455267d-e6fe-41a4-b070-839375dc9a2a",
   "metadata": {
    "collapsed": true,
    "jupyter": {
     "outputs_hidden": true
    },
    "tags": []
   },
   "outputs": [
    {
     "name": "stdout",
     "output_type": "stream",
     "text": [
      "     Gene: TTR\n",
      "    Human: 142 V\n",
      "Alignment: 144 V\n",
      "V    26\n",
      "-     2\n",
      "L     1\n",
      "I     1\n",
      "dtype: int64\n",
      "\n",
      "L XP_011788672.1 Colobus angolensis palliatus\n",
      "- XP_010333769.1 Saimiri boliviensis boliviensis\n",
      "V XP_010333768.1 Saimiri boliviensis boliviensis\n",
      "V XP_032149005.1 Sapajus apella\n",
      "V XP_012302669.1 Aotus nancymaae\n",
      "V NP_001254679.1 Callithrix jacchus\n",
      "V XP_003784812.1 Otolemur garnettii\n",
      "V XP_012638014.1 Microcebus murinus\n",
      "V XP_012512049.1 Propithecus coquereli\n",
      "V NP_001127064.1 Pongo abelii\n",
      "V NP_000362.1 Homo sapiens\n",
      "V XP_004059337.1 Gorilla gorilla gorilla\n",
      "V XP_032008476.1 Hylobates moloch\n",
      "V XP_003830303.2 Pan paniscus\n",
      "V NP_001009137.1 Pan troglodytes\n",
      "V XP_011930274.1 Cercocebus atys\n",
      "I XP_007972558.2 Chlorocebus sabaeus\n",
      "V XP_011829762.1 Mandrillus leucophaeus\n",
      "V XP_025220794.1 Theropithecus gelada\n",
      "V XP_025220793.1 Theropithecus gelada\n",
      "V XP_023063511.2 Piliocolobus tephrosceles\n",
      "V XP_017713537.1 Rhinopithecus bieti\n",
      "V XP_010379114.1 Rhinopithecus roxellana\n",
      "V XP_011788674.1 Colobus angolensis palliatus\n",
      "V XP_011788673.1 Colobus angolensis palliatus\n",
      "V XP_033033949.1 Trachypithecus francoisi\n",
      "- XP_021562314.1 Carlito syrichta\n",
      "V XP_021562313.1 Carlito syrichta\n",
      "V XP_021562312.1 Carlito syrichta\n",
      "V XP_008071577.1 Carlito syrichta\n"
     ]
    },
    {
     "data": {
      "text/plain": [
       "(True,\n",
       " 142,\n",
       " 'V',\n",
       " V    26\n",
       " -     2\n",
       " L     1\n",
       " I     1\n",
       " dtype: int64)"
      ]
     },
     "execution_count": 15,
     "metadata": {},
     "output_type": "execute_result"
    }
   ],
   "source": [
    "get_alleles('TTR', translation['NM_000371.3'], 142, True)"
   ]
  },
  {
   "cell_type": "code",
   "execution_count": 16,
   "id": "e9dd79c1-c5cc-48b4-9faf-6ec2800d818d",
   "metadata": {
    "collapsed": true,
    "jupyter": {
     "outputs_hidden": true
    },
    "tags": []
   },
   "outputs": [
    {
     "name": "stdout",
     "output_type": "stream",
     "text": [
      "     Gene: GBA\n",
      "    Human: 535 R\n",
      "Alignment: 547 R\n",
      "R    36\n",
      "L     3\n",
      "H     1\n",
      "-     1\n",
      "dtype: int64\n",
      "\n",
      "- XP_037855735.1 Chlorocebus sabaeus\n",
      "R XP_012514200.1 Propithecus coquereli\n",
      "R XP_012623306.1 Microcebus murinus\n",
      "R XP_012623305.1 Microcebus murinus\n",
      "R XP_023372167.1 Otolemur garnettii\n",
      "R XP_012664043.1 Otolemur garnettii\n",
      "R XP_008048281.1 Carlito syrichta\n",
      "R XP_021564251.1 Carlito syrichta\n",
      "R XP_008048283.1 Carlito syrichta\n",
      "R XP_011932225.1 Cercocebus atys\n",
      "R XP_021528768.1 Aotus nancymaae\n",
      "R XP_039315825.1 Saimiri boliviensis boliviensis\n",
      "R XP_010346697.1 Saimiri boliviensis boliviensis\n",
      "R XP_032129098.1 Sapajus apella\n",
      "R XP_017368970.1 Cebus imitator\n",
      "H XP_032010219.1 Hylobates moloch\n",
      "R XP_030866469.1 Gorilla gorilla gorilla\n",
      "R XP_030866465.1 Gorilla gorilla gorilla\n",
      "R NP_001165282.1 Homo sapiens\n",
      "R NP_001165283.1 Homo sapiens\n",
      "R NP_001005742.1 Homo sapiens\n",
      "R XP_030680202.1 Nomascus leucogenys\n",
      "R XP_024098242.1 Pongo abelii\n",
      "R NP_001127488.1 Pongo abelii\n",
      "L XP_005541629.1 Macaca fascicularis\n",
      "L XP_005541627.1 Macaca fascicularis\n",
      "L XP_005541626.1 Macaca fascicularis\n",
      "R XP_030791630.1 Rhinopithecus roxellana\n",
      "R XP_030791629.1 Rhinopithecus roxellana\n",
      "R XP_028684174.1 Macaca mulatta\n",
      "R XP_014966769.2 Macaca mulatta\n",
      "R XP_028684167.1 Macaca mulatta\n",
      "R XP_014966754.2 Macaca mulatta\n",
      "R XP_033052144.1 Trachypithecus francoisi\n",
      "R XP_033052142.1 Trachypithecus francoisi\n",
      "R XP_033052141.1 Trachypithecus francoisi\n",
      "R XP_033052140.1 Trachypithecus francoisi\n",
      "R XP_011783701.1 Colobus angolensis palliatus\n",
      "R XP_011783702.1 Colobus angolensis palliatus\n",
      "R XP_025237659.1 Theropithecus gelada\n",
      "R XP_031509384.1 Papio anubis\n"
     ]
    },
    {
     "data": {
      "text/plain": [
       "(True,\n",
       " 535,\n",
       " 'R',\n",
       " R    36\n",
       " L     3\n",
       " H     1\n",
       " -     1\n",
       " dtype: int64)"
      ]
     },
     "execution_count": 16,
     "metadata": {},
     "output_type": "execute_result"
    }
   ],
   "source": [
    "get_alleles('GBA', translation['NM_000157.4'], 535, True)"
   ]
  },
  {
   "cell_type": "code",
   "execution_count": 17,
   "id": "81055ee4-05e3-4002-8829-6f146d744df8",
   "metadata": {
    "collapsed": true,
    "jupyter": {
     "outputs_hidden": true
    },
    "tags": []
   },
   "outputs": [
    {
     "name": "stdout",
     "output_type": "stream",
     "text": [
      "     Gene: GALT\n",
      "    Human: 23 T\n",
      "Alignment: 43 T\n",
      "T    37\n",
      "-    24\n",
      "W     1\n",
      "A     1\n",
      "dtype: int64\n",
      "\n",
      "T XP_035106695.1 Callithrix jacchus\n",
      "T XP_008068994.1 Carlito syrichta\n",
      "- XP_034823261.1 Pan paniscus\n",
      "T XP_034823259.1 Pan paniscus\n",
      "T XP_034823258.1 Pan paniscus\n",
      "T XP_034823256.1 Pan paniscus\n",
      "- XP_023059055.1 Piliocolobus tephrosceles\n",
      "- XP_037854236.1 Chlorocebus sabaeus\n",
      "- XP_033094123.1 Trachypithecus francoisi\n",
      "- XP_017747549.1 Rhinopithecus bieti\n",
      "- XP_028690929.1 Macaca mulatta\n",
      "- XP_011805906.1 Colobus angolensis palliatus\n",
      "- NP_001245261.1 Homo sapiens\n",
      "- XP_034823265.1 Pan paniscus\n",
      "T XP_011924614.1 Cercocebus atys\n",
      "W XP_011924616.1 Cercocebus atys\n",
      "T XP_011924615.1 Cercocebus atys\n",
      "- XP_011924617.1 Cercocebus atys\n",
      "T XP_021783112.2 Papio anubis\n",
      "T XP_025214557.1 Theropithecus gelada\n",
      "T XP_021783108.2 Papio anubis\n",
      "- XP_021783109.2 Papio anubis\n",
      "- XP_021783111.1 Papio anubis\n",
      "T XP_009186860.2 Papio anubis\n",
      "T XP_033094120.1 Trachypithecus francoisi\n",
      "- XP_033094122.1 Trachypithecus francoisi\n",
      "- XP_023059054.1 Piliocolobus tephrosceles\n",
      "T XP_011835461.1 Mandrillus leucophaeus\n",
      "T XP_011805904.1 Colobus angolensis palliatus\n",
      "T XP_011924618.1 Cercocebus atys\n",
      "T XP_007967100.2 Chlorocebus sabaeus\n",
      "T XP_023059053.1 Piliocolobus tephrosceles\n",
      "T XP_028690927.1 Macaca mulatta\n",
      "- XP_007967102.2 Chlorocebus sabaeus\n",
      "T XP_017747545.1 Rhinopithecus bieti\n",
      "- XP_030775929.1 Rhinopithecus roxellana\n",
      "T NP_000146.2 Homo sapiens\n",
      "- XP_034823262.1 Pan paniscus\n",
      "T XP_004048011.1 Gorilla gorilla gorilla\n",
      "T XP_001163419.1 Pan troglodytes\n",
      "T XP_003829858.2 Pan paniscus\n",
      "T XP_009242596.2 Pongo abelii\n",
      "T XP_003263433.1 Nomascus leucogenys\n",
      "- XP_032019925.1 Hylobates moloch\n",
      "T XP_032019924.1 Hylobates moloch\n",
      "T XP_032019923.1 Hylobates moloch\n",
      "- XP_012318677.1 Aotus nancymaae\n",
      "T XP_012318674.1 Aotus nancymaae\n",
      "- XP_035106712.1 Callithrix jacchus\n",
      "T XP_008996942.1 Callithrix jacchus\n",
      "T XP_003732050.1 Callithrix jacchus\n",
      "- XP_037599582.1 Cebus imitator\n",
      "- XP_010330022.1 Saimiri boliviensis boliviensis\n",
      "T XP_010330018.1 Saimiri boliviensis boliviensis\n",
      "T XP_010330019.1 Saimiri boliviensis boliviensis\n",
      "T XP_032155758.1 Sapajus apella\n",
      "T XP_037599581.1 Cebus imitator\n",
      "T XP_017398495.1 Cebus imitator\n",
      "- XP_023375102.1 Otolemur garnettii\n",
      "A XP_003800307.1 Otolemur garnettii\n",
      "T XP_012625552.1 Microcebus murinus\n",
      "- XP_012512307.1 Propithecus coquereli\n",
      "T XP_012512299.1 Propithecus coquereli\n"
     ]
    },
    {
     "data": {
      "text/plain": [
       "(True,\n",
       " 23,\n",
       " 'T',\n",
       " T    37\n",
       " -    24\n",
       " W     1\n",
       " A     1\n",
       " dtype: int64)"
      ]
     },
     "execution_count": 17,
     "metadata": {},
     "output_type": "execute_result"
    }
   ],
   "source": [
    "get_alleles('GALT', translation['NM_000155.4'], 23, True)"
   ]
  },
  {
   "cell_type": "code",
   "execution_count": 18,
   "id": "69c7431d-6f3c-4526-aed2-623963a664ce",
   "metadata": {
    "collapsed": true,
    "jupyter": {
     "outputs_hidden": true
    },
    "tags": []
   },
   "outputs": [
    {
     "name": "stdout",
     "output_type": "stream",
     "text": [
      "     Gene: F9\n",
      "    Human: 75 R\n",
      "Alignment: 75 R\n",
      "R    39\n",
      "Q     1\n",
      "dtype: int64\n",
      "\n",
      "R XP_002763378.1 Callithrix jacchus\n",
      "R XP_012325320.1 Aotus nancymaae\n",
      "R XP_017355402.1 Cebus imitator\n",
      "R XP_032124214.1 Sapajus apella\n",
      "R XP_003940777.1 Saimiri boliviensis boliviensis\n",
      "R XP_011930388.1 Cercocebus atys\n",
      "R XP_037844800.1 Chlorocebus sabaeus\n",
      "R XP_007991031.1 Chlorocebus sabaeus\n",
      "R NP_001103153.1 Macaca mulatta\n",
      "R XP_028697500.1 Macaca mulatta\n",
      "R XP_011739181.1 Macaca nemestrina\n",
      "R XP_028697499.1 Macaca mulatta\n",
      "R XP_025228623.1 Theropithecus gelada\n",
      "R XP_025228622.1 Theropithecus gelada\n",
      "R XP_017809908.1 Papio anubis\n",
      "R XP_003918402.1 Papio anubis\n",
      "R XP_023058339.1 Piliocolobus tephrosceles\n",
      "R XP_023058338.1 Piliocolobus tephrosceles\n",
      "R XP_033057437.1 Trachypithecus francoisi\n",
      "R XP_010387043.1 Rhinopithecus roxellana\n",
      "R XP_011816431.1 Colobus angolensis palliatus\n",
      "R XP_011816430.1 Colobus angolensis palliatus\n",
      "R XP_009233598.2 Pongo abelii\n",
      "R XP_002832230.2 Pongo abelii\n",
      "R XP_032612351.1 Hylobates moloch\n",
      "R XP_032612350.1 Hylobates moloch\n",
      "R XP_012354229.1 Nomascus leucogenys\n",
      "R XP_003272634.1 Nomascus leucogenys\n",
      "R XP_016798133.1 Pan troglodytes\n",
      "R XP_003812356.2 Pan paniscus\n",
      "R XP_004064996.1 Gorilla gorilla gorilla\n",
      "R XP_005262454.1 Homo sapiens\n",
      "R NP_001300842.1 Homo sapiens\n",
      "R NP_000124.1 Homo sapiens\n",
      "R XP_008059975.1 Carlito syrichta\n",
      "R XP_008059974.1 Carlito syrichta\n",
      "Q XP_023373463.1 Otolemur garnettii\n",
      "R XP_012520761.1 Propithecus coquereli\n",
      "R XP_012637955.1 Microcebus murinus\n",
      "R XP_012637954.1 Microcebus murinus\n"
     ]
    },
    {
     "data": {
      "text/plain": [
       "(True,\n",
       " 75,\n",
       " 'R',\n",
       " R    39\n",
       " Q     1\n",
       " dtype: int64)"
      ]
     },
     "execution_count": 18,
     "metadata": {},
     "output_type": "execute_result"
    }
   ],
   "source": [
    "get_alleles('F9', translation['NM_000133.3'], 75, True)"
   ]
  },
  {
   "cell_type": "code",
   "execution_count": 14,
   "id": "d16918a8-3551-46e8-be06-fa616f41a456",
   "metadata": {},
   "outputs": [
    {
     "data": {
      "text/plain": [
       "'NP_000518.1'"
      ]
     },
     "execution_count": 14,
     "metadata": {},
     "output_type": "execute_result"
    }
   ],
   "source": [
    "translation['NM_000527.4']"
   ]
  },
  {
   "cell_type": "code",
   "execution_count": 13,
   "id": "398ce43c-a67d-43bb-8a6f-515c03a0574a",
   "metadata": {
    "tags": []
   },
   "outputs": [
    {
     "name": "stdout",
     "output_type": "stream",
     "text": [
      "     Gene: LDLR\n",
      "    Human: 215 R\n",
      "Alignment: 351 R\n",
      "R    35\n",
      "-     9\n",
      "H     9\n",
      "dtype: int64\n",
      "\n",
      "R XP_020139390.1 Microcebus murinus\n",
      "R XP_012496802.1 Propithecus coquereli\n",
      "H XP_021573646.1 Carlito syrichta\n",
      "H XP_023373820.1 Otolemur garnettii\n",
      "H XP_012665677.1 Otolemur garnettii\n",
      "H XP_021532454.1 Aotus nancymaae\n",
      "H XP_035141328.1 Callithrix jacchus\n",
      "H XP_002761791.1 Callithrix jacchus\n",
      "H XP_039321728.1 Saimiri boliviensis boliviensis\n",
      "H XP_037583448.1 Cebus imitator\n",
      "H XP_032107631.1 Sapajus apella\n",
      "R XP_011810343.1 Colobus angolensis palliatus\n",
      "R XP_032025606.1 Hylobates moloch\n",
      "R XP_030676686.1 Nomascus leucogenys\n",
      "R XP_024092494.1 Pongo abelii\n",
      "R XP_024092493.1 Pongo abelii\n",
      "- XP_024206936.1 Pan troglodytes\n",
      "- NP_001182729.1 Homo sapiens\n",
      "R NP_001182728.1 Homo sapiens\n",
      "- NP_001182732.1 Homo sapiens\n",
      "R XP_011526312.1 Homo sapiens\n",
      "R NP_001182727.1 Homo sapiens\n",
      "R NP_000518.1 Homo sapiens\n",
      "R XP_018871452.1 Gorilla gorilla gorilla\n",
      "R XP_018871450.1 Gorilla gorilla gorilla\n",
      "- XP_034800282.1 Pan paniscus\n",
      "R XP_034800281.1 Pan paniscus\n",
      "R XP_024206935.1 Pan troglodytes\n",
      "R XP_024206934.1 Pan troglodytes\n",
      "R XP_024206933.1 Pan troglodytes\n",
      "R XP_037848032.1 Chlorocebus sabaeus\n",
      "R XP_011884149.1 Cercocebus atys\n",
      "R XP_031790584.1 Piliocolobus tephrosceles\n",
      "R XP_033056644.1 Trachypithecus francoisi\n",
      "R XP_030791739.1 Rhinopithecus roxellana\n",
      "R XP_017724974.1 Rhinopithecus bieti\n",
      "- XP_011748364.1 Macaca nemestrina\n",
      "- XP_011850155.1 Mandrillus leucophaeus\n",
      "- XP_011850148.1 Mandrillus leucophaeus\n",
      "- XP_025222242.1 Theropithecus gelada\n",
      "- XP_025222241.1 Theropithecus gelada\n",
      "R NP_001028078.1 Macaca mulatta\n",
      "R XP_014978386.2 Macaca mulatta\n",
      "R XP_028694161.1 Macaca mulatta\n",
      "R XP_015296177.1 Macaca fascicularis\n",
      "R XP_005588053.1 Macaca fascicularis\n",
      "R XP_011850142.1 Mandrillus leucophaeus\n",
      "R XP_011850140.1 Mandrillus leucophaeus\n",
      "R XP_011850139.1 Mandrillus leucophaeus\n",
      "R XP_031515756.1 Papio anubis\n",
      "R XP_025222240.1 Theropithecus gelada\n",
      "R XP_025222239.1 Theropithecus gelada\n",
      "R XP_025222238.1 Theropithecus gelada\n"
     ]
    },
    {
     "data": {
      "text/plain": [
       "(True,\n",
       " 215,\n",
       " 'R',\n",
       " R    35\n",
       " -     9\n",
       " H     9\n",
       " dtype: int64)"
      ]
     },
     "execution_count": 13,
     "metadata": {},
     "output_type": "execute_result"
    }
   ],
   "source": [
    "get_alleles('LDLR', translation['NM_000527.4'], 215, True)"
   ]
  },
  {
   "cell_type": "markdown",
   "id": "bed0d5fd-97f0-47d3-9fbd-bbf1c547afbb",
   "metadata": {
    "tags": []
   },
   "source": [
    "# Validate CPDs\n",
    "\n",
    "Here we test whether a putative CPD is valid by investigating the vicinity of the sequence, 10 amino acids on either side of the site.\n",
    "\n",
    "This function pulls out the species and protein IDs showing a particular amino acid at a site."
   ]
  },
  {
   "cell_type": "code",
   "execution_count": 19,
   "id": "1f4d4608-42ae-4660-9edf-2ae1f7ffdb78",
   "metadata": {},
   "outputs": [
    {
     "data": {
      "text/plain": [
       "[('Macaca fascicularis', 'XP_005541629.1'),\n",
       " ('Macaca fascicularis', 'XP_005541627.1'),\n",
       " ('Macaca fascicularis', 'XP_005541626.1')]"
      ]
     },
     "execution_count": 19,
     "metadata": {},
     "output_type": "execute_result"
    }
   ],
   "source": [
    "get_species_with_allele('GBA', translation['NM_000157.4'], 535, 'L')"
   ]
  },
  {
   "cell_type": "code",
   "execution_count": 20,
   "id": "d78df445-9d7a-4337-8a96-57595ce7c004",
   "metadata": {},
   "outputs": [
    {
     "data": {
      "text/plain": [
       "[('Otolemur garnettii', 'XP_003800307.1')]"
      ]
     },
     "execution_count": 20,
     "metadata": {},
     "output_type": "execute_result"
    }
   ],
   "source": [
    "get_species_with_allele('GALT', translation['NM_000155.4'], 23, 'A')"
   ]
  },
  {
   "cell_type": "markdown",
   "id": "cd3b4d1f-ae83-444f-94cc-3f83ce44ae2c",
   "metadata": {},
   "source": [
    "This function compares the human and nonhuman sequences in the -10 / +10 range.  The output at the bottom shows the numbers of:\n",
    "\n",
    "* differences between the sequences\n",
    "* gaps \n",
    "* sites out of range\n",
    "\n",
    "For example, the GBA site at the end means that 9 sites are outside the range.  The GALT sequence shows some aminoacid differences. "
   ]
  },
  {
   "cell_type": "code",
   "execution_count": 21,
   "id": "9d94e970-acad-46a3-acab-35d5912c253b",
   "metadata": {},
   "outputs": [
    {
     "name": "stdout",
     "output_type": "stream",
     "text": [
      "-10 G G\n",
      "-9 Y Y\n",
      "-8 S S\n",
      "-7 I I\n",
      "-6 H H\n",
      "-5 T T\n",
      "-4 Y Y\n",
      "-3 L L\n",
      "-2 W W\n",
      "-1 R C\n",
      "0 R L\n",
      "1 Q Q\n",
      "2 outside sequence\n",
      "3 outside sequence\n",
      "4 outside sequence\n",
      "5 outside sequence\n",
      "6 outside sequence\n",
      "7 outside sequence\n",
      "8 outside sequence\n",
      "9 outside sequence\n",
      "10 outside sequence\n"
     ]
    },
    {
     "data": {
      "text/plain": [
       "(1, 0, 9)"
      ]
     },
     "execution_count": 21,
     "metadata": {},
     "output_type": "execute_result"
    }
   ],
   "source": [
    "local_compare_to_human('GBA', translation['NM_000157.4'], 535, 'XP_005541629.1')"
   ]
  },
  {
   "cell_type": "code",
   "execution_count": 22,
   "id": "d5181aaf-c79a-4f14-8f3c-de3b519b1d54",
   "metadata": {},
   "outputs": [
    {
     "name": "stdout",
     "output_type": "stream",
     "text": [
      "-10 Q Q\n",
      "-9 A A\n",
      "-8 S S\n",
      "-7 E E\n",
      "-6 A A\n",
      "-5 D D\n",
      "-4 A I\n",
      "-3 A P\n",
      "-2 A V\n",
      "-1 A A\n",
      "0 T A\n",
      "1 F F\n",
      "2 R Q\n",
      "3 A A\n",
      "4 N S\n",
      "5 D D\n",
      "6 H H\n",
      "7 Q Q\n",
      "8 H H\n",
      "9 I I\n",
      "10 R R\n"
     ]
    },
    {
     "data": {
      "text/plain": [
       "(5, 0, 0)"
      ]
     },
     "execution_count": 22,
     "metadata": {},
     "output_type": "execute_result"
    }
   ],
   "source": [
    "local_compare_to_human('GALT', translation['NM_000155.4'], 23, 'XP_003800307.1')"
   ]
  },
  {
   "cell_type": "markdown",
   "id": "196cdeeb-04bc-4ad9-ab92-402084a2b091",
   "metadata": {},
   "source": [
    "This function spits out a site by site comparison of the human and nonhuman sequences.  Only the differences are shown."
   ]
  },
  {
   "cell_type": "code",
   "execution_count": 23,
   "id": "fed14ef2-8741-40f2-9732-ecc2e83c3d57",
   "metadata": {},
   "outputs": [
    {
     "name": "stdout",
     "output_type": "stream",
     "text": [
      "5 S -\n",
      "6 S -\n",
      "7 P -\n",
      "10 E K\n",
      "16 L S\n",
      "17 S G\n",
      "24 G A\n",
      "67 F L\n",
      "68 D E\n",
      "70 P L\n",
      "94 M T\n",
      "96 P T\n",
      "101 H R\n",
      "213 R H\n",
      "344 V -\n",
      "345 L -\n",
      "346 T -\n",
      "347 D -\n",
      "348 P -\n",
      "349 E -\n",
      "350 A -\n",
      "351 A -\n",
      "352 K -\n",
      "353 Y -\n",
      "354 V -\n",
      "355 H -\n",
      "356 G -\n",
      "357 I -\n",
      "358 A -\n",
      "359 V -\n",
      "360 H -\n",
      "361 W -\n",
      "362 Y -\n",
      "363 L -\n",
      "364 D -\n",
      "365 F -\n",
      "366 L -\n",
      "367 A -\n",
      "368 P -\n",
      "369 A -\n",
      "370 K -\n",
      "371 A -\n",
      "372 T -\n",
      "373 L -\n",
      "374 G -\n",
      "375 E -\n",
      "376 T -\n",
      "377 H -\n",
      "378 R -\n",
      "379 L -\n",
      "380 F -\n",
      "381 P -\n",
      "382 N -\n",
      "383 T -\n",
      "384 M -\n",
      "385 L -\n",
      "386 F -\n",
      "387 A -\n",
      "388 S -\n",
      "389 E -\n",
      "390 A -\n",
      "391 C -\n",
      "392 V -\n",
      "393 G -\n",
      "394 S -\n",
      "395 K -\n",
      "396 F -\n",
      "397 W -\n",
      "398 E -\n",
      "399 Q -\n",
      "401 S -\n",
      "402 V -\n",
      "403 R -\n",
      "404 L -\n",
      "405 G -\n",
      "406 S -\n",
      "407 W -\n",
      "408 D -\n",
      "409 R -\n",
      "410 G -\n",
      "411 M -\n",
      "412 Q -\n",
      "413 Y -\n",
      "414 S -\n",
      "415 H -\n",
      "416 S -\n",
      "417 I -\n",
      "418 I -\n",
      "419 T -\n",
      "452 I V\n",
      "496 A T\n",
      "507 A T\n",
      "546 R C\n",
      "547 R L\n"
     ]
    }
   ],
   "source": [
    "global_compare_to_human('GBA', translation['NM_000157.4'], 'XP_005541629.1')"
   ]
  },
  {
   "cell_type": "code",
   "execution_count": 24,
   "id": "e4810b92-5f5e-4d39-ada8-397f16d390fb",
   "metadata": {},
   "outputs": [
    {
     "name": "stdout",
     "output_type": "stream",
     "text": [
      "23 R C\n",
      "26 T A\n",
      "28 P L\n",
      "29 Q D\n",
      "30 Q R\n",
      "39 A I\n",
      "40 A P\n",
      "41 A V\n",
      "43 T A\n",
      "45 R Q\n",
      "47 N S\n",
      "106 I T\n",
      "115 Q H\n",
      "118 S A\n",
      "153 K E\n",
      "154 S A\n",
      "177 V M\n",
      "203 A V\n",
      "216 A S\n",
      "248 Q R\n",
      "251 K Q\n",
      "256 E V\n",
      "268 L I\n",
      "269 R K\n",
      "289 T V\n",
      "310 P S\n",
      "360 E A\n",
      "363 A D\n",
      "366 N D\n",
      "669 H C\n",
      "671 G R\n",
      "828 T A\n"
     ]
    }
   ],
   "source": [
    "global_compare_to_human('GALT', translation['NM_000155.4'], 'XP_003800307.1')"
   ]
  },
  {
   "cell_type": "code",
   "execution_count": 25,
   "id": "b4c07c16-8497-49c7-add1-727f63864474",
   "metadata": {},
   "outputs": [
    {
     "data": {
      "text/plain": [
       "[('Otolemur garnettii', 'XP_003789873.1')]"
      ]
     },
     "execution_count": 25,
     "metadata": {},
     "output_type": "execute_result"
    }
   ],
   "source": [
    "get_species_with_allele('CFTR', translation['NM_000492.4'], 13, 'F')"
   ]
  },
  {
   "cell_type": "code",
   "execution_count": 26,
   "id": "88f20b8c-db8f-4354-8696-75824353dc12",
   "metadata": {},
   "outputs": [
    {
     "name": "stdout",
     "output_type": "stream",
     "text": [
      "-10 P P\n",
      "-9 L L\n",
      "-8 E K\n",
      "-7 K K\n",
      "-6 A L\n",
      "-5 S N\n",
      "-4 V L\n",
      "-3 V L\n",
      "-2 - -\n",
      "-1 - -\n",
      "0 S F\n",
      "1 K F\n",
      "2 L L\n",
      "3 F Y\n",
      "4 F F\n",
      "5 S S\n",
      "6 W W\n",
      "7 T T\n",
      "8 R R\n",
      "9 P P\n",
      "10 I I\n"
     ]
    },
    {
     "data": {
      "text/plain": [
       "(7, 0, 0)"
      ]
     },
     "execution_count": 26,
     "metadata": {},
     "output_type": "execute_result"
    }
   ],
   "source": [
    "local_compare_to_human('CFTR', translation['NM_000492.4'], 13, 'XP_003789873.1')"
   ]
  },
  {
   "cell_type": "code",
   "execution_count": 28,
   "id": "81a31f43-875e-4805-b1fb-cd38abdbcd53",
   "metadata": {},
   "outputs": [
    {
     "data": {
      "text/plain": [
       "'NP_000123.1'"
      ]
     },
     "execution_count": 28,
     "metadata": {},
     "output_type": "execute_result"
    }
   ],
   "source": [
    "translation['NM_000132.3']"
   ]
  },
  {
   "cell_type": "code",
   "execution_count": 29,
   "id": "deb4abdd-5fa1-4d5e-8b80-d1f1a4b17bf4",
   "metadata": {},
   "outputs": [
    {
     "data": {
      "text/plain": [
       "[('Hylobates moloch', 'XP_032612179.1')]"
      ]
     },
     "execution_count": 29,
     "metadata": {},
     "output_type": "execute_result"
    }
   ],
   "source": [
    "get_species_with_allele('F8', 'NP_000123.1', 2183, 'V')"
   ]
  },
  {
   "cell_type": "code",
   "execution_count": 30,
   "id": "e8a88239-26b9-4d5a-a023-41a41d466c90",
   "metadata": {},
   "outputs": [
    {
     "ename": "UnboundLocalError",
     "evalue": "local variable 'nonaln' referenced before assignment",
     "output_type": "error",
     "traceback": [
      "\u001b[0;31m---------------------------------------------------------------------------\u001b[0m",
      "\u001b[0;31mUnboundLocalError\u001b[0m                         Traceback (most recent call last)",
      "\u001b[0;32m<ipython-input-30-e9a12691cf5d>\u001b[0m in \u001b[0;36m<module>\u001b[0;34m\u001b[0m\n\u001b[0;32m----> 1\u001b[0;31m \u001b[0mlocal_compare_to_human\u001b[0m\u001b[0;34m(\u001b[0m\u001b[0;34m'F8'\u001b[0m\u001b[0;34m,\u001b[0m \u001b[0;34m'NP_000123.1'\u001b[0m\u001b[0;34m,\u001b[0m \u001b[0;36m2183\u001b[0m\u001b[0;34m,\u001b[0m \u001b[0;34m'XP_003789873.1'\u001b[0m\u001b[0;34m)\u001b[0m\u001b[0;34m\u001b[0m\u001b[0;34m\u001b[0m\u001b[0m\n\u001b[0m",
      "\u001b[0;32m/Volumes/Extreme Pro/Desktop/kondrashov/kondrashov.py\u001b[0m in \u001b[0;36mlocal_compare_to_human\u001b[0;34m(gene, human, site, nonhuman)\u001b[0m\n\u001b[1;32m    838\u001b[0m     \u001b[0;32mfor\u001b[0m \u001b[0mdelta\u001b[0m \u001b[0;32min\u001b[0m \u001b[0mrange\u001b[0m\u001b[0;34m(\u001b[0m\u001b[0;34m-\u001b[0m\u001b[0;36m10\u001b[0m\u001b[0;34m,\u001b[0m \u001b[0;36m11\u001b[0m\u001b[0;34m)\u001b[0m\u001b[0;34m:\u001b[0m\u001b[0;34m\u001b[0m\u001b[0;34m\u001b[0m\u001b[0m\n\u001b[1;32m    839\u001b[0m         \u001b[0;32mif\u001b[0m \u001b[0;34m(\u001b[0m\u001b[0;36m0\u001b[0m \u001b[0;34m<=\u001b[0m \u001b[0mj\u001b[0m\u001b[0;34m+\u001b[0m\u001b[0mdelta\u001b[0m \u001b[0;34m<\u001b[0m \u001b[0mL\u001b[0m\u001b[0;34m)\u001b[0m\u001b[0;34m:\u001b[0m\u001b[0;34m\u001b[0m\u001b[0;34m\u001b[0m\u001b[0m\n\u001b[0;32m--> 840\u001b[0;31m             \u001b[0mprint\u001b[0m\u001b[0;34m(\u001b[0m\u001b[0mdelta\u001b[0m\u001b[0;34m,\u001b[0m \u001b[0maln\u001b[0m\u001b[0;34m.\u001b[0m\u001b[0mseq\u001b[0m\u001b[0;34m[\u001b[0m\u001b[0mj\u001b[0m\u001b[0;34m+\u001b[0m\u001b[0mdelta\u001b[0m\u001b[0;34m]\u001b[0m\u001b[0;34m,\u001b[0m \u001b[0mnonaln\u001b[0m\u001b[0;34m.\u001b[0m\u001b[0mseq\u001b[0m\u001b[0;34m[\u001b[0m\u001b[0mj\u001b[0m\u001b[0;34m+\u001b[0m\u001b[0mdelta\u001b[0m\u001b[0;34m]\u001b[0m\u001b[0;34m)\u001b[0m\u001b[0;34m\u001b[0m\u001b[0;34m\u001b[0m\u001b[0m\n\u001b[0m\u001b[1;32m    841\u001b[0m             \u001b[0;32mif\u001b[0m \u001b[0;34m(\u001b[0m\u001b[0mdelta\u001b[0m \u001b[0;34m!=\u001b[0m \u001b[0;36m0\u001b[0m\u001b[0;34m)\u001b[0m \u001b[0;32mand\u001b[0m \u001b[0;34m(\u001b[0m\u001b[0maln\u001b[0m\u001b[0;34m.\u001b[0m\u001b[0mseq\u001b[0m\u001b[0;34m[\u001b[0m\u001b[0mj\u001b[0m\u001b[0;34m+\u001b[0m\u001b[0mdelta\u001b[0m\u001b[0;34m]\u001b[0m \u001b[0;34m!=\u001b[0m \u001b[0mnonaln\u001b[0m\u001b[0;34m.\u001b[0m\u001b[0mseq\u001b[0m\u001b[0;34m[\u001b[0m\u001b[0mj\u001b[0m\u001b[0;34m+\u001b[0m\u001b[0mdelta\u001b[0m\u001b[0;34m]\u001b[0m\u001b[0;34m)\u001b[0m\u001b[0;34m:\u001b[0m\u001b[0;34m\u001b[0m\u001b[0;34m\u001b[0m\u001b[0m\n\u001b[1;32m    842\u001b[0m                 \u001b[0mdiff\u001b[0m \u001b[0;34m+=\u001b[0m \u001b[0;36m1\u001b[0m\u001b[0;34m\u001b[0m\u001b[0;34m\u001b[0m\u001b[0m\n",
      "\u001b[0;31mUnboundLocalError\u001b[0m: local variable 'nonaln' referenced before assignment"
     ]
    }
   ],
   "source": [
    "local_compare_to_human('F8', 'NP_000123.1', 2183, 'XP_003789873.1')"
   ]
  },
  {
   "cell_type": "code",
   "execution_count": null,
   "id": "296eb189-88ae-488d-b2c1-5f40d881f508",
   "metadata": {},
   "outputs": [],
   "source": []
  }
 ],
 "metadata": {
  "kernelspec": {
   "display_name": "Python 3",
   "language": "python",
   "name": "python3"
  },
  "language_info": {
   "codemirror_mode": {
    "name": "ipython",
    "version": 3
   },
   "file_extension": ".py",
   "mimetype": "text/x-python",
   "name": "python",
   "nbconvert_exporter": "python",
   "pygments_lexer": "ipython3",
   "version": "3.7.10"
  }
 },
 "nbformat": 4,
 "nbformat_minor": 5
}
