{
 "cells": [
  {
   "cell_type": "markdown",
   "id": "9a45b18f-1438-4270-b25d-30d7ccd63703",
   "metadata": {},
   "source": [
    "# Analysis outline\n",
    "\n",
    "The analysis has the following components:\n",
    "\n",
    "1. [orthologs.ipynb](orthologs.ipynb) collect primate orthologs of each human gene from NCBI, remove redundant sequences, save them to a `*.fasta` file.  \n",
    "\n",
    "1. [align.ipynb](align.ipynb) align orthologous sequences in each `*.fasta` file and save it to a `*.aln` file.\n",
    "\n",
    "1. [pathogen.ipynb](pathogen.ipynb) extract pathogenic variants from ClinVar data. \n",
    "\n",
    "1. [clean_up.ipynb](clean_up.ipynb) establish connections between transcripts in ClinVar data and proteins in ortholog collections.\n",
    "\n",
    "1. [find_CPDs.ipynb](find_CPDs.ipynb) find putative CPDs."
   ]
  },
  {
   "cell_type": "markdown",
   "id": "ceda640e-c21f-44b0-b8d2-86b39dbd05e7",
   "metadata": {},
   "source": [
    "# Set up\n",
    "\n",
    "Run the following cell.  It loads some required functions."
   ]
  },
  {
   "cell_type": "code",
   "execution_count": 1,
   "id": "df64b292-2ea7-4ec3-babb-abbbae732351",
   "metadata": {},
   "outputs": [],
   "source": [
    "run kondrashov"
   ]
  },
  {
   "cell_type": "markdown",
   "id": "ffcca603-accf-420a-a3a9-d49bf3a9614e",
   "metadata": {},
   "source": [
    "Run the following two cell.  The first displays the path to the current folder.  The second displays the contents of that folder.  (Note: your output will be different from mine.)"
   ]
  },
  {
   "cell_type": "code",
   "execution_count": 3,
   "id": "934dbbd3-1eef-4618-b572-a80f624d91d8",
   "metadata": {},
   "outputs": [
    {
     "data": {
      "text/plain": [
       "'/Users/rbazev/Documents/GitHub/kondrashov'"
      ]
     },
     "execution_count": 3,
     "metadata": {},
     "output_type": "execute_result"
    }
   ],
   "source": [
    "pwd"
   ]
  },
  {
   "cell_type": "code",
   "execution_count": 7,
   "id": "84c3cf8a-b8b4-4271-a00a-a2ef84db450d",
   "metadata": {},
   "outputs": [
    {
     "name": "stdout",
     "output_type": "stream",
     "text": [
      "README.md        clean_up.ipynb   kondrashov.py\n",
      "align.ipynb      \u001b[1m\u001b[34mfasta\u001b[m\u001b[m/           orthologs.ipynb\n",
      "\u001b[1m\u001b[34maln\u001b[m\u001b[m/             find_CPDs.ipynb  pathogen.ipynb\n"
     ]
    }
   ],
   "source": [
    "ls"
   ]
  },
  {
   "cell_type": "markdown",
   "id": "8fdedeb9-2cd8-4fa0-9f33-de8b64d54eb9",
   "metadata": {},
   "source": [
    "If there is no folder called `fasta`, create it by running the following command."
   ]
  },
  {
   "cell_type": "code",
   "execution_count": 5,
   "id": "f93c1b3d-b6d9-4726-ac4c-f0c521e28a71",
   "metadata": {},
   "outputs": [],
   "source": [
    "mkdir fasta"
   ]
  },
  {
   "cell_type": "markdown",
   "id": "8daf83b6-5449-42f4-a9d5-f380cd467e01",
   "metadata": {},
   "source": [
    "If there is no folder called `aln`, create it by running the following command."
   ]
  },
  {
   "cell_type": "code",
   "execution_count": 6,
   "id": "80aa7acc-3303-470d-b7d1-8ab75c7dbf0b",
   "metadata": {},
   "outputs": [],
   "source": [
    "mkdir aln"
   ]
  },
  {
   "cell_type": "markdown",
   "id": "516732c7-a4b4-42f1-862b-8d57b2ecd1a4",
   "metadata": {},
   "source": [
    "Rerun the `ls` command above to confirm that you have created those folders successfully. \n",
    "\n",
    "The following defines a function that gets the species name from a NCBI sequence record."
   ]
  },
  {
   "cell_type": "markdown",
   "id": "3ee2f223-394b-4031-9ced-488b29665361",
   "metadata": {},
   "source": [
    "# Get protein sequences for primate orthologs of human genes\n",
    "\n",
    "**Note: this is a new version of the `orthologs.ipynb` notebook that prevents unique human sequences from being dropped.**\n",
    "\n",
    "* Enter the gene name you are working on in the following cell.  In this page I'll use ALPL as an example."
   ]
  },
  {
   "cell_type": "code",
   "execution_count": 7,
   "id": "e9553276-0e66-4d33-97cf-e8e9e4c8f043",
   "metadata": {},
   "outputs": [],
   "source": [
    "# enter gene name here\n",
    "gene = 'ALPL'"
   ]
  },
  {
   "cell_type": "markdown",
   "id": "926c4fe2-d68b-4158-bc44-bac377ca58d1",
   "metadata": {},
   "source": [
    "* In the [NCBI query page](https://www.ncbi.nlm.nih.gov/labs/gquery/) search for `Homo sapiens ALPL`.  \n",
    "\n",
    "* When the search results come up ([this is the page for ALPL](https://www.ncbi.nlm.nih.gov/labs/gquery/all/?term=Homo+sapiens+ALPL)) click on `Orthologs`.  Here's what the output looks like for [ALPL](https://www.ncbi.nlm.nih.gov/gene/249/ortholog/?scope=9443&term=ALPL).\n",
    "\n",
    "* Use the Taxonomy Tree to select **mammals > placentals > primates**.  For ALPL, this reduces the number of orthologs from 335 to 29.\n",
    "\n",
    "* In the list of sequences click to select all (box labelled `0 selected`).\n",
    "\n",
    "* Click on `Add to cart`.  The items appear in a box with a shopping cart symbol.  Click on that box.\n",
    "\n",
    "* A popup window appears.  Click on `Protein alignment`.  Choose `all sequences per gene`.  Click `Align`.\n",
    "\n",
    "* Select all the accession numbers in the box (XP_039330133.1, XP_037856105.1, etc) and copy them.\n",
    "\n",
    "* Run the following cell (it pulls the names from the clipboard and puts them on a list)."
   ]
  },
  {
   "cell_type": "code",
   "execution_count": 10,
   "id": "e7898deb-d92d-4028-b302-64413fb9cb30",
   "metadata": {},
   "outputs": [
    {
     "name": "stdout",
     "output_type": "stream",
     "text": [
      "ALPL orthologs: 134 primate sequences (retrieved on 2021-09-10)\n",
      "\n",
      "['XP_039330133.1', 'XP_037856105.1', 'XP_037856035.1', 'XP_037856000.1', 'XP_037855971.1', 'XP_037855931.1', 'XP_037855886.1', 'XP_037855836.1', 'XP_037855813.1', 'XP_037586579.1', 'XP_037586562.1', 'XP_035162547.1', 'XP_035162546.1', 'XP_033083840.1', 'XP_033083839.1', 'XP_033083838.1', 'XP_033083837.1', 'XP_032615100.1', 'XP_032615099.1', 'XP_032156584.1', 'XP_032156583.1', 'XP_032156582.1', 'XP_032156581.1', 'XP_032156580.1', 'XP_032156579.1', 'XP_032156578.1', 'XP_032156577.1', 'XP_032156576.1', 'XP_031521026.1', 'XP_031521023.1', 'XP_031521022.1', 'XP_031521018.1', 'XP_030661091.1', 'XP_028701740.1', 'NP_001356734.1', 'NP_001356733.1', 'NP_001356732.1', 'XP_025210047.1', 'XP_025210038.1', 'XP_025210030.1', 'XP_025210024.1', 'XP_002811389.2', 'XP_012657049.2', 'XP_023365504.1', 'XP_023075500.1', 'XP_023075499.1', 'XP_023075498.1', 'XP_023075497.1', 'XP_017829425.1', 'XP_017742028.1', 'XP_017742025.1', 'XP_017742024.1', 'XP_017742023.1', 'XP_017362337.1', 'XP_017362322.1', 'XP_017362309.1', 'XP_017362307.1', 'XP_016856392.1', 'XP_016811347.1', 'XP_016811339.1', 'XP_016811335.1', 'XP_016811328.1', 'XP_016811317.1', 'XP_016811306.1', 'XP_015296763.1', 'XP_014985703.1', 'XP_014985698.1', 'XP_014985689.1', 'XP_014985684.1', 'XP_014199352.1', 'XP_012657050.1', 'XP_012624163.1', 'XP_012624161.1', 'XP_012624159.1', 'XP_012624158.1', 'XP_012506390.1', 'XP_012506389.1', 'XP_012506388.1', 'XP_012506387.1', 'XP_012506386.1', 'XP_012506384.1', 'XP_012506383.1', 'XP_012295598.1', 'XP_012295596.1', 'XP_012295595.1', 'XP_012295594.1', 'XP_012295593.1', 'XP_011741980.1', 'XP_011741979.1', 'XP_011741978.1', 'XP_011935677.1', 'XP_011935676.1', 'XP_011935675.1', 'XP_011935674.1', 'XP_011935673.1', 'XP_011935672.1', 'XP_011935671.1', 'XP_011845537.1', 'XP_011789365.1', 'XP_011789364.1', 'XP_011789363.1', 'XP_011789361.1', 'XP_010343782.1', 'XP_010362644.1', 'XP_010362643.1', 'XP_009199482.1', 'XP_008964792.1', 'XP_008964791.1', 'XP_008998772.1', 'XP_008998771.1', 'XP_008998770.1', 'XP_008998769.1', 'XP_008998768.1', 'XP_008998767.1', 'XP_008060915.1', 'XP_008060914.1', 'XP_008060913.1', 'XP_007978339.1', 'XP_005544583.1', 'XP_005544582.1', 'XP_004024893.1', 'XP_004024892.1', 'XP_003934954.1', 'XP_003934953.1', 'XP_003891323.1', 'XP_003813998.1', 'XP_003813997.1', 'XP_003813996.1', 'NP_001253798.1', 'XP_003271616.1', 'NP_001171963.1', 'NP_001170991.1', 'NP_001120973.2', 'NP_000469.3']\n"
     ]
    }
   ],
   "source": [
    "# copy IDs from NCBI ortholog protein alignment dialog (all sequences per gene)\n",
    "tmp = pd.read_clipboard(sep='\\n', names=['id'])\n",
    "seq_ids = [i for i in tmp['id']]\n",
    "print('{0} orthologs: {1} primate sequences (retrieved on {2})\\n'.format(gene, len(seq_ids), date.today()))\n",
    "print(seq_ids)"
   ]
  },
  {
   "cell_type": "code",
   "execution_count": 5,
   "id": "487b8eac-3530-4c2a-bd04-9783b1d0622d",
   "metadata": {},
   "outputs": [
    {
     "name": "stdout",
     "output_type": "stream",
     "text": [
      "ALPL orthologs: 134 primate sequences\n",
      "\n",
      "['XP_039330133.1', 'XP_037856105.1', 'XP_037856035.1', 'XP_037856000.1', 'XP_037855971.1', 'XP_037855931.1', 'XP_037855886.1', 'XP_037855836.1', 'XP_037855813.1', 'XP_037586579.1', 'XP_037586562.1', 'XP_035162547.1', 'XP_035162546.1', 'XP_033083840.1', 'XP_033083839.1', 'XP_033083838.1', 'XP_033083837.1', 'XP_032615100.1', 'XP_032615099.1', 'XP_032156584.1', 'XP_032156583.1', 'XP_032156582.1', 'XP_032156581.1', 'XP_032156580.1', 'XP_032156579.1', 'XP_032156578.1', 'XP_032156577.1', 'XP_032156576.1', 'XP_031521026.1', 'XP_031521023.1', 'XP_031521022.1', 'XP_031521018.1', 'XP_030661091.1', 'XP_028701740.1', 'NP_001356734.1', 'NP_001356733.1', 'NP_001356732.1', 'XP_025210047.1', 'XP_025210038.1', 'XP_025210030.1', 'XP_025210024.1', 'XP_002811389.2', 'XP_012657049.2', 'XP_023365504.1', 'XP_023075500.1', 'XP_023075499.1', 'XP_023075498.1', 'XP_023075497.1', 'XP_017829425.1', 'XP_017742028.1', 'XP_017742025.1', 'XP_017742024.1', 'XP_017742023.1', 'XP_017362337.1', 'XP_017362322.1', 'XP_017362309.1', 'XP_017362307.1', 'XP_016856392.1', 'XP_016811347.1', 'XP_016811339.1', 'XP_016811335.1', 'XP_016811328.1', 'XP_016811317.1', 'XP_016811306.1', 'XP_015296763.1', 'XP_014985703.1', 'XP_014985698.1', 'XP_014985689.1', 'XP_014985684.1', 'XP_014199352.1', 'XP_012657050.1', 'XP_012624163.1', 'XP_012624161.1', 'XP_012624159.1', 'XP_012624158.1', 'XP_012506390.1', 'XP_012506389.1', 'XP_012506388.1', 'XP_012506387.1', 'XP_012506386.1', 'XP_012506384.1', 'XP_012506383.1', 'XP_012295598.1', 'XP_012295596.1', 'XP_012295595.1', 'XP_012295594.1', 'XP_012295593.1', 'XP_011741980.1', 'XP_011741979.1', 'XP_011741978.1', 'XP_011935677.1', 'XP_011935676.1', 'XP_011935675.1', 'XP_011935674.1', 'XP_011935673.1', 'XP_011935672.1', 'XP_011935671.1', 'XP_011845537.1', 'XP_011789365.1', 'XP_011789364.1', 'XP_011789363.1', 'XP_011789361.1', 'XP_010343782.1', 'XP_010362644.1', 'XP_010362643.1', 'XP_009199482.1', 'XP_008964792.1', 'XP_008964791.1', 'XP_008998772.1', 'XP_008998771.1', 'XP_008998770.1', 'XP_008998769.1', 'XP_008998768.1', 'XP_008998767.1', 'XP_008060915.1', 'XP_008060914.1', 'XP_008060913.1', 'XP_007978339.1', 'XP_005544583.1', 'XP_005544582.1', 'XP_004024893.1', 'XP_004024892.1', 'XP_003934954.1', 'XP_003934953.1', 'XP_003891323.1', 'XP_003813998.1', 'XP_003813997.1', 'XP_003813996.1', 'NP_001253798.1', 'XP_003271616.1', 'NP_001171963.1', 'NP_001170991.1', 'NP_001120973.2', 'NP_000469.3']\n"
     ]
    }
   ],
   "source": [
    "# you can do it by hand if you already have all the sequences\n",
    "seq_ids = ['XP_039330133.1', 'XP_037856105.1', 'XP_037856035.1', 'XP_037856000.1', 'XP_037855971.1', 'XP_037855931.1', \n",
    "           'XP_037855886.1', 'XP_037855836.1', 'XP_037855813.1', 'XP_037586579.1', 'XP_037586562.1', 'XP_035162547.1', \n",
    "           'XP_035162546.1', 'XP_033083840.1', 'XP_033083839.1', 'XP_033083838.1', 'XP_033083837.1', 'XP_032615100.1', \n",
    "           'XP_032615099.1', 'XP_032156584.1', 'XP_032156583.1', 'XP_032156582.1', 'XP_032156581.1', 'XP_032156580.1', \n",
    "           'XP_032156579.1', 'XP_032156578.1', 'XP_032156577.1', 'XP_032156576.1', 'XP_031521026.1', 'XP_031521023.1', \n",
    "           'XP_031521022.1', 'XP_031521018.1', 'XP_030661091.1', 'XP_028701740.1', 'NP_001356734.1', 'NP_001356733.1', \n",
    "           'NP_001356732.1', 'XP_025210047.1', 'XP_025210038.1', 'XP_025210030.1', 'XP_025210024.1', 'XP_002811389.2', \n",
    "           'XP_012657049.2', 'XP_023365504.1', 'XP_023075500.1', 'XP_023075499.1', 'XP_023075498.1', 'XP_023075497.1', \n",
    "           'XP_017829425.1', 'XP_017742028.1', 'XP_017742025.1', 'XP_017742024.1', 'XP_017742023.1', 'XP_017362337.1', \n",
    "           'XP_017362322.1', 'XP_017362309.1', 'XP_017362307.1', 'XP_016856392.1', 'XP_016811347.1', 'XP_016811339.1', \n",
    "           'XP_016811335.1', 'XP_016811328.1', 'XP_016811317.1', 'XP_016811306.1', 'XP_015296763.1', 'XP_014985703.1', \n",
    "           'XP_014985698.1', 'XP_014985689.1', 'XP_014985684.1', 'XP_014199352.1', 'XP_012657050.1', 'XP_012624163.1', \n",
    "           'XP_012624161.1', 'XP_012624159.1', 'XP_012624158.1', 'XP_012506390.1', 'XP_012506389.1', 'XP_012506388.1', \n",
    "           'XP_012506387.1', 'XP_012506386.1', 'XP_012506384.1', 'XP_012506383.1', 'XP_012295598.1', 'XP_012295596.1', \n",
    "           'XP_012295595.1', 'XP_012295594.1', 'XP_012295593.1', 'XP_011741980.1', 'XP_011741979.1', 'XP_011741978.1', \n",
    "           'XP_011935677.1', 'XP_011935676.1', 'XP_011935675.1', 'XP_011935674.1', 'XP_011935673.1', 'XP_011935672.1', \n",
    "           'XP_011935671.1', 'XP_011845537.1', 'XP_011789365.1', 'XP_011789364.1', 'XP_011789363.1', 'XP_011789361.1', \n",
    "           'XP_010343782.1', 'XP_010362644.1', 'XP_010362643.1', 'XP_009199482.1', 'XP_008964792.1', 'XP_008964791.1', \n",
    "           'XP_008998772.1', 'XP_008998771.1', 'XP_008998770.1', 'XP_008998769.1', 'XP_008998768.1', 'XP_008998767.1', \n",
    "           'XP_008060915.1', 'XP_008060914.1', 'XP_008060913.1', 'XP_007978339.1', 'XP_005544583.1', 'XP_005544582.1', \n",
    "           'XP_004024893.1', 'XP_004024892.1', 'XP_003934954.1', 'XP_003934953.1', 'XP_003891323.1', 'XP_003813998.1', \n",
    "           'XP_003813997.1', 'XP_003813996.1', 'NP_001253798.1', 'XP_003271616.1', 'NP_001171963.1', 'NP_001170991.1', \n",
    "           'NP_001120973.2', 'NP_000469.3']\n",
    "print('{0} orthologs: {1} primate sequences\\n'.format(gene, len(seq_ids)))\n",
    "print(seq_ids)"
   ]
  },
  {
   "cell_type": "markdown",
   "id": "1ffa06ce-c453-4e6e-8c3a-ba00b91013b3",
   "metadata": {},
   "source": [
    "* Copy the output to the cell below"
   ]
  },
  {
   "cell_type": "raw",
   "id": "4e80cbaa-6401-4cdb-a34b-1b95bfe4f8cf",
   "metadata": {},
   "source": [
    "ALPL orthologs: 134 primate sequences (retrieved on 2021-09-10)\n",
    "\n",
    "['XP_039330133.1', 'XP_037856105.1', 'XP_037856035.1', 'XP_037856000.1', 'XP_037855971.1', 'XP_037855931.1', 'XP_037855886.1', 'XP_037855836.1', 'XP_037855813.1', 'XP_037586579.1', 'XP_037586562.1', 'XP_035162547.1', 'XP_035162546.1', 'XP_033083840.1', 'XP_033083839.1', 'XP_033083838.1', 'XP_033083837.1', 'XP_032615100.1', 'XP_032615099.1', 'XP_032156584.1', 'XP_032156583.1', 'XP_032156582.1', 'XP_032156581.1', 'XP_032156580.1', 'XP_032156579.1', 'XP_032156578.1', 'XP_032156577.1', 'XP_032156576.1', 'XP_031521026.1', 'XP_031521023.1', 'XP_031521022.1', 'XP_031521018.1', 'XP_030661091.1', 'XP_028701740.1', 'NP_001356734.1', 'NP_001356733.1', 'NP_001356732.1', 'XP_025210047.1', 'XP_025210038.1', 'XP_025210030.1', 'XP_025210024.1', 'XP_002811389.2', 'XP_012657049.2', 'XP_023365504.1', 'XP_023075500.1', 'XP_023075499.1', 'XP_023075498.1', 'XP_023075497.1', 'XP_017829425.1', 'XP_017742028.1', 'XP_017742025.1', 'XP_017742024.1', 'XP_017742023.1', 'XP_017362337.1', 'XP_017362322.1', 'XP_017362309.1', 'XP_017362307.1', 'XP_016856392.1', 'XP_016811347.1', 'XP_016811339.1', 'XP_016811335.1', 'XP_016811328.1', 'XP_016811317.1', 'XP_016811306.1', 'XP_015296763.1', 'XP_014985703.1', 'XP_014985698.1', 'XP_014985689.1', 'XP_014985684.1', 'XP_014199352.1', 'XP_012657050.1', 'XP_012624163.1', 'XP_012624161.1', 'XP_012624159.1', 'XP_012624158.1', 'XP_012506390.1', 'XP_012506389.1', 'XP_012506388.1', 'XP_012506387.1', 'XP_012506386.1', 'XP_012506384.1', 'XP_012506383.1', 'XP_012295598.1', 'XP_012295596.1', 'XP_012295595.1', 'XP_012295594.1', 'XP_012295593.1', 'XP_011741980.1', 'XP_011741979.1', 'XP_011741978.1', 'XP_011935677.1', 'XP_011935676.1', 'XP_011935675.1', 'XP_011935674.1', 'XP_011935673.1', 'XP_011935672.1', 'XP_011935671.1', 'XP_011845537.1', 'XP_011789365.1', 'XP_011789364.1', 'XP_011789363.1', 'XP_011789361.1', 'XP_010343782.1', 'XP_010362644.1', 'XP_010362643.1', 'XP_009199482.1', 'XP_008964792.1', 'XP_008964791.1', 'XP_008998772.1', 'XP_008998771.1', 'XP_008998770.1', 'XP_008998769.1', 'XP_008998768.1', 'XP_008998767.1', 'XP_008060915.1', 'XP_008060914.1', 'XP_008060913.1', 'XP_007978339.1', 'XP_005544583.1', 'XP_005544582.1', 'XP_004024893.1', 'XP_004024892.1', 'XP_003934954.1', 'XP_003934953.1', 'XP_003891323.1', 'XP_003813998.1', 'XP_003813997.1', 'XP_003813996.1', 'NP_001253798.1', 'XP_003271616.1', 'NP_001171963.1', 'NP_001170991.1', 'NP_001120973.2', 'NP_000469.3']"
   ]
  },
  {
   "cell_type": "markdown",
   "id": "d8513078-e3ad-4ccc-b444-84143326d3b9",
   "metadata": {},
   "source": [
    "* Run the next cell.  It pulls the sequences from NCBI and grabs any unique human sequences.  Then it flags any redundant sequences and drops those.  For ALPL it drops 84 sequences and we end up with 57."
   ]
  },
  {
   "cell_type": "code",
   "execution_count": 11,
   "id": "302f3ad9-2625-4a9a-b405-aee686e2d9e2",
   "metadata": {},
   "outputs": [
    {
     "name": "stdout",
     "output_type": "stream",
     "text": [
      "ALPL orthologs: all primate sequences\n",
      "\n",
      "0:\tNP_001356734.1\t(524 aa)\talkaline phosphatase, tissue-nonspecific isozyme isoform 1 precursor preproprotein [Homo sapiens]\n",
      "\tNP_001356733.1\t(524 aa)\talkaline phosphatase, tissue-nonspecific isozyme isoform 1 preproprotein [Homo sapiens]\t*** the same as sequence 0 (excluded) ***\n",
      "\tNP_001356732.1\t(524 aa)\talkaline phosphatase, tissue-nonspecific isozyme isoform 1 preproprotein [Homo sapiens]\t*** the same as sequence 0 (excluded) ***\n",
      "1:\tXP_016856392.1\t(472 aa)\talkaline phosphatase, tissue-nonspecific isozyme isoform X2 [Homo sapiens]\n",
      "2:\tNP_001170991.1\t(447 aa)\talkaline phosphatase, tissue-nonspecific isozyme isoform 3 [Homo sapiens]\n",
      "3:\tNP_001120973.2\t(469 aa)\talkaline phosphatase, tissue-nonspecific isozyme isoform 2 [Homo sapiens]\n",
      "\tNP_000469.3\t(524 aa)\talkaline phosphatase, tissue-nonspecific isozyme isoform 1 preproprotein [Homo sapiens]\t*** the same as sequence 0 (excluded) ***\n",
      "4:\tXP_039330133.1\t(524 aa)\talkaline phosphatase, tissue-nonspecific isozyme isoform X1 [Saimiri boliviensis boliviensis]\n",
      "5:\tXP_037856105.1\t(458 aa)\talkaline phosphatase, tissue-nonspecific isozyme isoform X4 [Chlorocebus sabaeus]\n",
      "6:\tXP_037856035.1\t(539 aa)\talkaline phosphatase, tissue-nonspecific isozyme isoform X1 [Chlorocebus sabaeus]\n",
      "7:\tXP_037856000.1\t(484 aa)\talkaline phosphatase, tissue-nonspecific isozyme isoform X3 [Chlorocebus sabaeus]\n",
      "8:\tXP_037855971.1\t(524 aa)\talkaline phosphatase, tissue-nonspecific isozyme isoform X2 [Chlorocebus sabaeus]\n",
      "\tXP_037855931.1\t(524 aa)\talkaline phosphatase, tissue-nonspecific isozyme isoform X2 [Chlorocebus sabaeus]\t*** the same as sequence 8 (excluded) ***\n",
      "\tXP_037855886.1\t(539 aa)\talkaline phosphatase, tissue-nonspecific isozyme isoform X1 [Chlorocebus sabaeus]\t*** the same as sequence 6 (excluded) ***\n",
      "\tXP_037855836.1\t(539 aa)\talkaline phosphatase, tissue-nonspecific isozyme isoform X1 [Chlorocebus sabaeus]\t*** the same as sequence 6 (excluded) ***\n",
      "\tXP_037855813.1\t(539 aa)\talkaline phosphatase, tissue-nonspecific isozyme isoform X1 [Chlorocebus sabaeus]\t*** the same as sequence 6 (excluded) ***\n",
      "9:\tXP_037586579.1\t(447 aa)\talkaline phosphatase, tissue-nonspecific isozyme isoform X3 [Cebus imitator]\n",
      "10:\tXP_037586562.1\t(524 aa)\talkaline phosphatase, tissue-nonspecific isozyme isoform X1 [Cebus imitator]\n",
      "11:\tXP_035162547.1\t(524 aa)\talkaline phosphatase, tissue-nonspecific isozyme isoform X1 [Callithrix jacchus]\n",
      "\tXP_035162546.1\t(524 aa)\talkaline phosphatase, tissue-nonspecific isozyme isoform X1 [Callithrix jacchus]\t*** the same as sequence 11 (excluded) ***\n",
      "12:\tXP_033083840.1\t(472 aa)\talkaline phosphatase, tissue-nonspecific isozyme isoform X2 [Trachypithecus francoisi]\n",
      "13:\tXP_033083839.1\t(524 aa)\talkaline phosphatase, tissue-nonspecific isozyme isoform X1 [Trachypithecus francoisi]\n",
      "\tXP_033083838.1\t(524 aa)\talkaline phosphatase, tissue-nonspecific isozyme isoform X1 [Trachypithecus francoisi]\t*** the same as sequence 13 (excluded) ***\n",
      "\tXP_033083837.1\t(524 aa)\talkaline phosphatase, tissue-nonspecific isozyme isoform X1 [Trachypithecus francoisi]\t*** the same as sequence 13 (excluded) ***\n",
      "14:\tXP_032615100.1\t(472 aa)\talkaline phosphatase, tissue-nonspecific isozyme isoform X2 [Hylobates moloch]\n",
      "15:\tXP_032615099.1\t(532 aa)\talkaline phosphatase, tissue-nonspecific isozyme isoform X1 [Hylobates moloch]\n",
      "16:\tXP_032156584.1\t(472 aa)\talkaline phosphatase, tissue-nonspecific isozyme isoform X3 [Sapajus apella]\n",
      "17:\tXP_032156583.1\t(479 aa)\talkaline phosphatase, tissue-nonspecific isozyme isoform X2 [Sapajus apella]\n",
      "\tXP_032156582.1\t(524 aa)\talkaline phosphatase, tissue-nonspecific isozyme isoform X1 [Sapajus apella]\t*** the same as sequence 10 (excluded) ***\n",
      "\tXP_032156581.1\t(524 aa)\talkaline phosphatase, tissue-nonspecific isozyme isoform X1 [Sapajus apella]\t*** the same as sequence 10 (excluded) ***\n",
      "\tXP_032156580.1\t(524 aa)\talkaline phosphatase, tissue-nonspecific isozyme isoform X1 [Sapajus apella]\t*** the same as sequence 10 (excluded) ***\n",
      "\tXP_032156579.1\t(524 aa)\talkaline phosphatase, tissue-nonspecific isozyme isoform X1 [Sapajus apella]\t*** the same as sequence 10 (excluded) ***\n",
      "\tXP_032156578.1\t(524 aa)\talkaline phosphatase, tissue-nonspecific isozyme isoform X1 [Sapajus apella]\t*** the same as sequence 10 (excluded) ***\n",
      "\tXP_032156577.1\t(524 aa)\talkaline phosphatase, tissue-nonspecific isozyme isoform X1 [Sapajus apella]\t*** the same as sequence 10 (excluded) ***\n",
      "\tXP_032156576.1\t(524 aa)\talkaline phosphatase, tissue-nonspecific isozyme isoform X1 [Sapajus apella]\t*** the same as sequence 10 (excluded) ***\n",
      "18:\tXP_031521026.1\t(472 aa)\talkaline phosphatase, tissue-nonspecific isozyme isoform X5 [Papio anubis]\n",
      "19:\tXP_031521023.1\t(539 aa)\talkaline phosphatase, tissue-nonspecific isozyme isoform X4 [Papio anubis]\n",
      "20:\tXP_031521022.1\t(541 aa)\talkaline phosphatase, tissue-nonspecific isozyme isoform X2 [Papio anubis]\n",
      "21:\tXP_031521018.1\t(556 aa)\talkaline phosphatase, tissue-nonspecific isozyme isoform X1 [Papio anubis]\n",
      "22:\tXP_030661091.1\t(472 aa)\talkaline phosphatase, tissue-nonspecific isozyme isoform X2 [Nomascus leucogenys]\n",
      "\tXP_028701740.1\t(524 aa)\talkaline phosphatase, tissue-nonspecific isozyme isoform X1 [Macaca mulatta]\t*** the same as sequence 8 (excluded) ***\n",
      "\tNP_001356734.1\t(524 aa)\talkaline phosphatase, tissue-nonspecific isozyme isoform 1 precursor preproprotein [Homo sapiens]\t*** the same as sequence 0 (excluded) ***\n",
      "\tNP_001356733.1\t(524 aa)\talkaline phosphatase, tissue-nonspecific isozyme isoform 1 preproprotein [Homo sapiens]\t*** the same as sequence 0 (excluded) ***\n",
      "\tNP_001356732.1\t(524 aa)\talkaline phosphatase, tissue-nonspecific isozyme isoform 1 preproprotein [Homo sapiens]\t*** the same as sequence 0 (excluded) ***\n",
      "23:\tXP_025210047.1\t(447 aa)\talkaline phosphatase, tissue-nonspecific isozyme isoform X4 [Theropithecus gelada]\n",
      "24:\tXP_025210038.1\t(469 aa)\talkaline phosphatase, tissue-nonspecific isozyme isoform X3 [Theropithecus gelada]\n",
      "25:\tXP_025210030.1\t(472 aa)\talkaline phosphatase, tissue-nonspecific isozyme isoform X2 [Theropithecus gelada]\n",
      "26:\tXP_025210024.1\t(524 aa)\talkaline phosphatase, tissue-nonspecific isozyme isoform X1 [Theropithecus gelada]\n",
      "27:\tXP_002811389.2\t(524 aa)\talkaline phosphatase, tissue-nonspecific isozyme [Pongo abelii]\n",
      "28:\tXP_012657049.2\t(524 aa)\talkaline phosphatase, tissue-nonspecific isozyme isoform X1 [Otolemur garnettii]\n",
      "\tXP_023365504.1\t(524 aa)\talkaline phosphatase, tissue-nonspecific isozyme isoform X1 [Otolemur garnettii]\t*** the same as sequence 28 (excluded) ***\n",
      "\tXP_023075500.1\t(472 aa)\talkaline phosphatase, tissue-nonspecific isozyme isoform X2 [Piliocolobus tephrosceles]\t*** the same as sequence 12 (excluded) ***\n",
      "\tXP_023075499.1\t(524 aa)\talkaline phosphatase, tissue-nonspecific isozyme isoform X1 [Piliocolobus tephrosceles]\t*** the same as sequence 13 (excluded) ***\n",
      "\tXP_023075498.1\t(524 aa)\talkaline phosphatase, tissue-nonspecific isozyme isoform X1 [Piliocolobus tephrosceles]\t*** the same as sequence 13 (excluded) ***\n",
      "\tXP_023075497.1\t(524 aa)\talkaline phosphatase, tissue-nonspecific isozyme isoform X1 [Piliocolobus tephrosceles]\t*** the same as sequence 13 (excluded) ***\n",
      "\tXP_017829425.1\t(524 aa)\talkaline phosphatase, tissue-nonspecific isozyme isoform X1 [Callithrix jacchus]\t*** the same as sequence 11 (excluded) ***\n",
      "29:\tXP_017742028.1\t(524 aa)\tPREDICTED: alkaline phosphatase, tissue-nonspecific isozyme isoform X2 [Rhinopithecus bieti]\n",
      "30:\tXP_017742025.1\t(539 aa)\tPREDICTED: alkaline phosphatase, tissue-nonspecific isozyme isoform X1 [Rhinopithecus bieti]\n",
      "\tXP_017742024.1\t(539 aa)\tPREDICTED: alkaline phosphatase, tissue-nonspecific isozyme isoform X1 [Rhinopithecus bieti]\t*** the same as sequence 30 (excluded) ***\n",
      "\tXP_017742023.1\t(539 aa)\tPREDICTED: alkaline phosphatase, tissue-nonspecific isozyme isoform X1 [Rhinopithecus bieti]\t*** the same as sequence 30 (excluded) ***\n",
      "\tXP_017362337.1\t(479 aa)\talkaline phosphatase, tissue-nonspecific isozyme isoform X2 [Cebus imitator]\t*** the same as sequence 17 (excluded) ***\n",
      "\tXP_017362322.1\t(524 aa)\talkaline phosphatase, tissue-nonspecific isozyme isoform X1 [Cebus imitator]\t*** the same as sequence 10 (excluded) ***\n",
      "\tXP_017362309.1\t(524 aa)\talkaline phosphatase, tissue-nonspecific isozyme isoform X1 [Cebus imitator]\t*** the same as sequence 10 (excluded) ***\n",
      "\tXP_017362307.1\t(524 aa)\talkaline phosphatase, tissue-nonspecific isozyme isoform X1 [Cebus imitator]\t*** the same as sequence 10 (excluded) ***\n",
      "\tXP_016856392.1\t(472 aa)\talkaline phosphatase, tissue-nonspecific isozyme isoform X2 [Homo sapiens]\t*** the same as sequence 1 (excluded) ***\n",
      "31:\tXP_016811347.1\t(524 aa)\talkaline phosphatase, tissue-nonspecific isozyme isoform X1 [Pan troglodytes]\n",
      "32:\tXP_016811339.1\t(469 aa)\talkaline phosphatase, tissue-nonspecific isozyme isoform X3 [Pan troglodytes]\n",
      "33:\tXP_016811335.1\t(479 aa)\talkaline phosphatase, tissue-nonspecific isozyme isoform X2 [Pan troglodytes]\n",
      "\tXP_016811328.1\t(524 aa)\talkaline phosphatase, tissue-nonspecific isozyme isoform X1 [Pan troglodytes]\t*** the same as sequence 31 (excluded) ***\n",
      "\tXP_016811317.1\t(524 aa)\talkaline phosphatase, tissue-nonspecific isozyme isoform X1 [Pan troglodytes]\t*** the same as sequence 31 (excluded) ***\n",
      "\tXP_016811306.1\t(524 aa)\talkaline phosphatase, tissue-nonspecific isozyme isoform X1 [Pan troglodytes]\t*** the same as sequence 31 (excluded) ***\n",
      "\tXP_015296763.1\t(472 aa)\tPREDICTED: alkaline phosphatase, tissue-nonspecific isozyme isoform X2 [Macaca fascicularis]\t*** the same as sequence 18 (excluded) ***\n",
      "\tXP_014985703.1\t(472 aa)\talkaline phosphatase, tissue-nonspecific isozyme isoform X2 [Macaca mulatta]\t*** the same as sequence 18 (excluded) ***\n",
      "\tXP_014985698.1\t(524 aa)\talkaline phosphatase, tissue-nonspecific isozyme isoform X1 [Macaca mulatta]\t*** the same as sequence 8 (excluded) ***\n",
      "\tXP_014985689.1\t(524 aa)\talkaline phosphatase, tissue-nonspecific isozyme isoform X1 [Macaca mulatta]\t*** the same as sequence 8 (excluded) ***\n",
      "\tXP_014985684.1\t(524 aa)\talkaline phosphatase, tissue-nonspecific isozyme isoform X1 [Macaca mulatta]\t*** the same as sequence 8 (excluded) ***\n",
      "34:\tXP_014199352.1\t(458 aa)\talkaline phosphatase, tissue-nonspecific isozyme isoform X4 [Pan paniscus]\n",
      "35:\tXP_012657050.1\t(472 aa)\talkaline phosphatase, tissue-nonspecific isozyme isoform X2 [Otolemur garnettii]\n",
      "36:\tXP_012624163.1\t(472 aa)\talkaline phosphatase, tissue-nonspecific isozyme isoform X2 [Microcebus murinus]\n",
      "37:\tXP_012624161.1\t(524 aa)\talkaline phosphatase, tissue-nonspecific isozyme isoform X1 [Microcebus murinus]\n",
      "\tXP_012624159.1\t(524 aa)\talkaline phosphatase, tissue-nonspecific isozyme isoform X1 [Microcebus murinus]\t*** the same as sequence 37 (excluded) ***\n",
      "\tXP_012624158.1\t(524 aa)\talkaline phosphatase, tissue-nonspecific isozyme isoform X1 [Microcebus murinus]\t*** the same as sequence 37 (excluded) ***\n",
      "38:\tXP_012506390.1\t(472 aa)\tPREDICTED: alkaline phosphatase, tissue-nonspecific isozyme isoform X3 [Propithecus coquereli]\n",
      "39:\tXP_012506389.1\t(469 aa)\tPREDICTED: alkaline phosphatase, tissue-nonspecific isozyme isoform X2 [Propithecus coquereli]\n",
      "40:\tXP_012506388.1\t(524 aa)\tPREDICTED: alkaline phosphatase, tissue-nonspecific isozyme isoform X1 [Propithecus coquereli]\n",
      "\tXP_012506387.1\t(524 aa)\tPREDICTED: alkaline phosphatase, tissue-nonspecific isozyme isoform X1 [Propithecus coquereli]\t*** the same as sequence 40 (excluded) ***\n",
      "\tXP_012506386.1\t(524 aa)\tPREDICTED: alkaline phosphatase, tissue-nonspecific isozyme isoform X1 [Propithecus coquereli]\t*** the same as sequence 40 (excluded) ***\n",
      "\tXP_012506384.1\t(524 aa)\tPREDICTED: alkaline phosphatase, tissue-nonspecific isozyme isoform X1 [Propithecus coquereli]\t*** the same as sequence 40 (excluded) ***\n",
      "\tXP_012506383.1\t(524 aa)\tPREDICTED: alkaline phosphatase, tissue-nonspecific isozyme isoform X1 [Propithecus coquereli]\t*** the same as sequence 40 (excluded) ***\n",
      "41:\tXP_012295598.1\t(472 aa)\talkaline phosphatase, tissue-nonspecific isozyme isoform X2 [Aotus nancymaae]\n",
      "42:\tXP_012295596.1\t(524 aa)\talkaline phosphatase, tissue-nonspecific isozyme isoform X1 [Aotus nancymaae]\n",
      "\tXP_012295595.1\t(524 aa)\talkaline phosphatase, tissue-nonspecific isozyme isoform X1 [Aotus nancymaae]\t*** the same as sequence 42 (excluded) ***\n",
      "\tXP_012295594.1\t(524 aa)\talkaline phosphatase, tissue-nonspecific isozyme isoform X1 [Aotus nancymaae]\t*** the same as sequence 42 (excluded) ***\n",
      "\tXP_012295593.1\t(524 aa)\talkaline phosphatase, tissue-nonspecific isozyme isoform X1 [Aotus nancymaae]\t*** the same as sequence 42 (excluded) ***\n",
      "\tXP_011741980.1\t(472 aa)\talkaline phosphatase, tissue-nonspecific isozyme isoform X2 [Macaca nemestrina]\t*** the same as sequence 18 (excluded) ***\n",
      "\tXP_011741979.1\t(524 aa)\talkaline phosphatase, tissue-nonspecific isozyme isoform X1 [Macaca nemestrina]\t*** the same as sequence 8 (excluded) ***\n",
      "\tXP_011741978.1\t(524 aa)\talkaline phosphatase, tissue-nonspecific isozyme isoform X1 [Macaca nemestrina]\t*** the same as sequence 8 (excluded) ***\n",
      "43:\tXP_011935677.1\t(484 aa)\tPREDICTED: alkaline phosphatase, tissue-nonspecific isozyme isoform X5 [Cercocebus atys]\n",
      "\tXP_011935676.1\t(484 aa)\tPREDICTED: alkaline phosphatase, tissue-nonspecific isozyme isoform X5 [Cercocebus atys]\t*** the same as sequence 43 (excluded) ***\n",
      "\tXP_011935675.1\t(524 aa)\tPREDICTED: alkaline phosphatase, tissue-nonspecific isozyme isoform X4 [Cercocebus atys]\t*** the same as sequence 8 (excluded) ***\n",
      "\tXP_011935674.1\t(539 aa)\tPREDICTED: alkaline phosphatase, tissue-nonspecific isozyme isoform X3 [Cercocebus atys]\t*** the same as sequence 19 (excluded) ***\n",
      "\tXP_011935673.1\t(539 aa)\tPREDICTED: alkaline phosphatase, tissue-nonspecific isozyme isoform X3 [Cercocebus atys]\t*** the same as sequence 19 (excluded) ***\n",
      "44:\tXP_011935672.1\t(476 aa)\tPREDICTED: alkaline phosphatase, tissue-nonspecific isozyme isoform X2 [Cercocebus atys]\n",
      "45:\tXP_011935671.1\t(529 aa)\tPREDICTED: alkaline phosphatase, tissue-nonspecific isozyme isoform X1 [Cercocebus atys]\n",
      "46:\tXP_011845537.1\t(559 aa)\tPREDICTED: alkaline phosphatase, tissue-nonspecific isozyme [Mandrillus leucophaeus]\n",
      "47:\tXP_011789365.1\t(447 aa)\tPREDICTED: alkaline phosphatase, tissue-nonspecific isozyme isoform X4 [Colobus angolensis palliatus]\n",
      "48:\tXP_011789364.1\t(469 aa)\tPREDICTED: alkaline phosphatase, tissue-nonspecific isozyme isoform X3 [Colobus angolensis palliatus]\n",
      "\tXP_011789363.1\t(472 aa)\tPREDICTED: alkaline phosphatase, tissue-nonspecific isozyme isoform X2 [Colobus angolensis palliatus]\t*** the same as sequence 12 (excluded) ***\n",
      "\tXP_011789361.1\t(524 aa)\tPREDICTED: alkaline phosphatase, tissue-nonspecific isozyme isoform X1 [Colobus angolensis palliatus]\t*** the same as sequence 13 (excluded) ***\n",
      "49:\tXP_010343782.1\t(472 aa)\talkaline phosphatase, tissue-nonspecific isozyme isoform X2 [Saimiri boliviensis boliviensis]\n",
      "\tXP_010362644.1\t(524 aa)\talkaline phosphatase, tissue-nonspecific isozyme [Rhinopithecus roxellana]\t*** the same as sequence 29 (excluded) ***\n",
      "\tXP_010362643.1\t(524 aa)\talkaline phosphatase, tissue-nonspecific isozyme [Rhinopithecus roxellana]\t*** the same as sequence 29 (excluded) ***\n",
      "\tXP_009199482.1\t(524 aa)\talkaline phosphatase, tissue-nonspecific isozyme isoform X3 [Papio anubis]\t*** the same as sequence 8 (excluded) ***\n",
      "\tXP_008964792.1\t(479 aa)\talkaline phosphatase, tissue-nonspecific isozyme isoform X2 [Pan paniscus]\t*** the same as sequence 33 (excluded) ***\n",
      "\tXP_008964791.1\t(524 aa)\talkaline phosphatase, tissue-nonspecific isozyme isoform X1 [Pan paniscus]\t*** the same as sequence 31 (excluded) ***\n",
      "50:\tXP_008998772.1\t(472 aa)\talkaline phosphatase, tissue-nonspecific isozyme isoform X3 [Callithrix jacchus]\n",
      "51:\tXP_008998771.1\t(479 aa)\talkaline phosphatase, tissue-nonspecific isozyme isoform X2 [Callithrix jacchus]\n",
      "\tXP_008998770.1\t(524 aa)\talkaline phosphatase, tissue-nonspecific isozyme isoform X1 [Callithrix jacchus]\t*** the same as sequence 11 (excluded) ***\n",
      "\tXP_008998769.1\t(524 aa)\talkaline phosphatase, tissue-nonspecific isozyme isoform X1 [Callithrix jacchus]\t*** the same as sequence 11 (excluded) ***\n",
      "\tXP_008998768.1\t(524 aa)\talkaline phosphatase, tissue-nonspecific isozyme isoform X1 [Callithrix jacchus]\t*** the same as sequence 11 (excluded) ***\n",
      "\tXP_008998767.1\t(524 aa)\talkaline phosphatase, tissue-nonspecific isozyme isoform X1 [Callithrix jacchus]\t*** the same as sequence 11 (excluded) ***\n",
      "52:\tXP_008060915.1\t(437 aa)\talkaline phosphatase, tissue-nonspecific isozyme isoform X3 [Carlito syrichta]\n",
      "53:\tXP_008060914.1\t(462 aa)\talkaline phosphatase, tissue-nonspecific isozyme isoform X2 [Carlito syrichta]\n",
      "54:\tXP_008060913.1\t(524 aa)\talkaline phosphatase, tissue-nonspecific isozyme isoform X1 [Carlito syrichta]\n",
      "\tXP_007978339.1\t(524 aa)\talkaline phosphatase, tissue-nonspecific isozyme isoform X2 [Chlorocebus sabaeus]\t*** the same as sequence 8 (excluded) ***\n",
      "\tXP_005544583.1\t(524 aa)\tPREDICTED: alkaline phosphatase, tissue-nonspecific isozyme isoform X1 [Macaca fascicularis]\t*** the same as sequence 8 (excluded) ***\n",
      "\tXP_005544582.1\t(524 aa)\tPREDICTED: alkaline phosphatase, tissue-nonspecific isozyme isoform X1 [Macaca fascicularis]\t*** the same as sequence 8 (excluded) ***\n",
      "55:\tXP_004024893.1\t(524 aa)\talkaline phosphatase, tissue-nonspecific isozyme [Gorilla gorilla gorilla]\n",
      "\tXP_004024892.1\t(524 aa)\talkaline phosphatase, tissue-nonspecific isozyme [Gorilla gorilla gorilla]\t*** the same as sequence 55 (excluded) ***\n",
      "\tXP_003934954.1\t(524 aa)\talkaline phosphatase, tissue-nonspecific isozyme isoform X1 [Saimiri boliviensis boliviensis]\t*** the same as sequence 4 (excluded) ***\n",
      "\tXP_003934953.1\t(524 aa)\talkaline phosphatase, tissue-nonspecific isozyme isoform X1 [Saimiri boliviensis boliviensis]\t*** the same as sequence 4 (excluded) ***\n",
      "\tXP_003891323.1\t(524 aa)\talkaline phosphatase, tissue-nonspecific isozyme isoform X3 [Papio anubis]\t*** the same as sequence 8 (excluded) ***\n",
      "\tXP_003813998.1\t(469 aa)\talkaline phosphatase, tissue-nonspecific isozyme isoform X3 [Pan paniscus]\t*** the same as sequence 32 (excluded) ***\n",
      "\tXP_003813997.1\t(524 aa)\talkaline phosphatase, tissue-nonspecific isozyme isoform X1 [Pan paniscus]\t*** the same as sequence 31 (excluded) ***\n",
      "\tXP_003813996.1\t(524 aa)\talkaline phosphatase, tissue-nonspecific isozyme isoform X1 [Pan paniscus]\t*** the same as sequence 31 (excluded) ***\n",
      "\tNP_001253798.1\t(524 aa)\talkaline phosphatase, tissue-nonspecific isozyme precursor [Macaca mulatta]\t*** the same as sequence 8 (excluded) ***\n",
      "56:\tXP_003271616.1\t(532 aa)\talkaline phosphatase, tissue-nonspecific isozyme isoform X1 [Nomascus leucogenys]\n",
      "\tNP_001171963.1\t(524 aa)\talkaline phosphatase, tissue-nonspecific isozyme precursor [Callithrix jacchus]\t*** the same as sequence 11 (excluded) ***\n",
      "\tNP_001170991.1\t(447 aa)\talkaline phosphatase, tissue-nonspecific isozyme isoform 3 [Homo sapiens]\t*** the same as sequence 2 (excluded) ***\n",
      "\tNP_001120973.2\t(469 aa)\talkaline phosphatase, tissue-nonspecific isozyme isoform 2 [Homo sapiens]\t*** the same as sequence 3 (excluded) ***\n",
      "\tNP_000469.3\t(524 aa)\talkaline phosphatase, tissue-nonspecific isozyme isoform 1 preproprotein [Homo sapiens]\t*** the same as sequence 0 (excluded) ***\n",
      "\n",
      "\tTotal:\t57 unique sequences (84 excluded)\n"
     ]
    }
   ],
   "source": [
    "# 1. Collect unique human sequences\n",
    "print('{0} orthologs: all primate sequences\\n'.format(gene))\n",
    "all_sequences = []\n",
    "seq_records = []\n",
    "inc = 0\n",
    "exc = 0\n",
    "with Entrez.efetch(\n",
    "    db=\"protein\", rettype=\"gb\", retmode=\"text\", id=seq_ids,\n",
    ") as handle:\n",
    "    for seq_record in SeqIO.parse(handle, \"gb\"):\n",
    "        sp = get_species(seq_record)\n",
    "        if sp == 'Homo sapiens':\n",
    "            seq = seq_record.seq\n",
    "            if seq in all_sequences:\n",
    "                print(\"\\t{0}\\t({1} aa)\\t{2}\\t*** the same as sequence {3} (excluded) ***\".format(seq_record.id, len(seq), seq_record.description, all_sequences.index(seq)))\n",
    "                exc += 1\n",
    "            else:\n",
    "                all_sequences.append(seq)\n",
    "                print(\"{3}:\\t{0}\\t({1} aa)\\t{2}\".format(seq_record.id, len(seq), seq_record.description, inc))\n",
    "                seq_records.append(seq_record)\n",
    "                inc += 1\n",
    "# 2. Collect other unique sequences\n",
    "with Entrez.efetch(\n",
    "    db=\"protein\", rettype=\"gb\", retmode=\"text\", id=seq_ids,\n",
    ") as handle:\n",
    "    for seq_record in SeqIO.parse(handle, \"gb\"):\n",
    "        seq = seq_record.seq\n",
    "        if seq in all_sequences:\n",
    "            print(\"\\t{0}\\t({1} aa)\\t{2}\\t*** the same as sequence {3} (excluded) ***\".format(seq_record.id, len(seq), seq_record.description, all_sequences.index(seq)))\n",
    "            exc += 1\n",
    "        else:\n",
    "            all_sequences.append(seq)\n",
    "            print(\"{3}:\\t{0}\\t({1} aa)\\t{2}\".format(seq_record.id, len(seq), seq_record.description, inc))\n",
    "            seq_records.append(seq_record)\n",
    "            inc += 1\n",
    "print('\\n\\tTotal:\\t', inc, ' unique sequences (', exc, ' excluded)', sep='')"
   ]
  },
  {
   "cell_type": "markdown",
   "id": "83e76525-0819-4b56-8b19-4ce06a6c2d36",
   "metadata": {},
   "source": [
    "* Copy the output to the cell below"
   ]
  },
  {
   "cell_type": "raw",
   "id": "2250f086-44ec-4b4b-a3d0-d940af12254a",
   "metadata": {},
   "source": [
    "ALPL orthologs: all primate sequences\n",
    "\n",
    "0:\tNP_001356734.1\t(524 aa)\talkaline phosphatase, tissue-nonspecific isozyme isoform 1 precursor preproprotein [Homo sapiens]\n",
    "\tNP_001356733.1\t(524 aa)\talkaline phosphatase, tissue-nonspecific isozyme isoform 1 preproprotein [Homo sapiens]\t*** the same as sequence 0 (excluded) ***\n",
    "\tNP_001356732.1\t(524 aa)\talkaline phosphatase, tissue-nonspecific isozyme isoform 1 preproprotein [Homo sapiens]\t*** the same as sequence 0 (excluded) ***\n",
    "1:\tXP_016856392.1\t(472 aa)\talkaline phosphatase, tissue-nonspecific isozyme isoform X2 [Homo sapiens]\n",
    "2:\tNP_001170991.1\t(447 aa)\talkaline phosphatase, tissue-nonspecific isozyme isoform 3 [Homo sapiens]\n",
    "3:\tNP_001120973.2\t(469 aa)\talkaline phosphatase, tissue-nonspecific isozyme isoform 2 [Homo sapiens]\n",
    "\tNP_000469.3\t(524 aa)\talkaline phosphatase, tissue-nonspecific isozyme isoform 1 preproprotein [Homo sapiens]\t*** the same as sequence 0 (excluded) ***\n",
    "4:\tXP_039330133.1\t(524 aa)\talkaline phosphatase, tissue-nonspecific isozyme isoform X1 [Saimiri boliviensis boliviensis]\n",
    "5:\tXP_037856105.1\t(458 aa)\talkaline phosphatase, tissue-nonspecific isozyme isoform X4 [Chlorocebus sabaeus]\n",
    "6:\tXP_037856035.1\t(539 aa)\talkaline phosphatase, tissue-nonspecific isozyme isoform X1 [Chlorocebus sabaeus]\n",
    "7:\tXP_037856000.1\t(484 aa)\talkaline phosphatase, tissue-nonspecific isozyme isoform X3 [Chlorocebus sabaeus]\n",
    "8:\tXP_037855971.1\t(524 aa)\talkaline phosphatase, tissue-nonspecific isozyme isoform X2 [Chlorocebus sabaeus]\n",
    "\tXP_037855931.1\t(524 aa)\talkaline phosphatase, tissue-nonspecific isozyme isoform X2 [Chlorocebus sabaeus]\t*** the same as sequence 8 (excluded) ***\n",
    "\tXP_037855886.1\t(539 aa)\talkaline phosphatase, tissue-nonspecific isozyme isoform X1 [Chlorocebus sabaeus]\t*** the same as sequence 6 (excluded) ***\n",
    "\tXP_037855836.1\t(539 aa)\talkaline phosphatase, tissue-nonspecific isozyme isoform X1 [Chlorocebus sabaeus]\t*** the same as sequence 6 (excluded) ***\n",
    "\tXP_037855813.1\t(539 aa)\talkaline phosphatase, tissue-nonspecific isozyme isoform X1 [Chlorocebus sabaeus]\t*** the same as sequence 6 (excluded) ***\n",
    "9:\tXP_037586579.1\t(447 aa)\talkaline phosphatase, tissue-nonspecific isozyme isoform X3 [Cebus imitator]\n",
    "10:\tXP_037586562.1\t(524 aa)\talkaline phosphatase, tissue-nonspecific isozyme isoform X1 [Cebus imitator]\n",
    "11:\tXP_035162547.1\t(524 aa)\talkaline phosphatase, tissue-nonspecific isozyme isoform X1 [Callithrix jacchus]\n",
    "\tXP_035162546.1\t(524 aa)\talkaline phosphatase, tissue-nonspecific isozyme isoform X1 [Callithrix jacchus]\t*** the same as sequence 11 (excluded) ***\n",
    "12:\tXP_033083840.1\t(472 aa)\talkaline phosphatase, tissue-nonspecific isozyme isoform X2 [Trachypithecus francoisi]\n",
    "13:\tXP_033083839.1\t(524 aa)\talkaline phosphatase, tissue-nonspecific isozyme isoform X1 [Trachypithecus francoisi]\n",
    "\tXP_033083838.1\t(524 aa)\talkaline phosphatase, tissue-nonspecific isozyme isoform X1 [Trachypithecus francoisi]\t*** the same as sequence 13 (excluded) ***\n",
    "\tXP_033083837.1\t(524 aa)\talkaline phosphatase, tissue-nonspecific isozyme isoform X1 [Trachypithecus francoisi]\t*** the same as sequence 13 (excluded) ***\n",
    "14:\tXP_032615100.1\t(472 aa)\talkaline phosphatase, tissue-nonspecific isozyme isoform X2 [Hylobates moloch]\n",
    "15:\tXP_032615099.1\t(532 aa)\talkaline phosphatase, tissue-nonspecific isozyme isoform X1 [Hylobates moloch]\n",
    "16:\tXP_032156584.1\t(472 aa)\talkaline phosphatase, tissue-nonspecific isozyme isoform X3 [Sapajus apella]\n",
    "17:\tXP_032156583.1\t(479 aa)\talkaline phosphatase, tissue-nonspecific isozyme isoform X2 [Sapajus apella]\n",
    "\tXP_032156582.1\t(524 aa)\talkaline phosphatase, tissue-nonspecific isozyme isoform X1 [Sapajus apella]\t*** the same as sequence 10 (excluded) ***\n",
    "\tXP_032156581.1\t(524 aa)\talkaline phosphatase, tissue-nonspecific isozyme isoform X1 [Sapajus apella]\t*** the same as sequence 10 (excluded) ***\n",
    "\tXP_032156580.1\t(524 aa)\talkaline phosphatase, tissue-nonspecific isozyme isoform X1 [Sapajus apella]\t*** the same as sequence 10 (excluded) ***\n",
    "\tXP_032156579.1\t(524 aa)\talkaline phosphatase, tissue-nonspecific isozyme isoform X1 [Sapajus apella]\t*** the same as sequence 10 (excluded) ***\n",
    "\tXP_032156578.1\t(524 aa)\talkaline phosphatase, tissue-nonspecific isozyme isoform X1 [Sapajus apella]\t*** the same as sequence 10 (excluded) ***\n",
    "\tXP_032156577.1\t(524 aa)\talkaline phosphatase, tissue-nonspecific isozyme isoform X1 [Sapajus apella]\t*** the same as sequence 10 (excluded) ***\n",
    "\tXP_032156576.1\t(524 aa)\talkaline phosphatase, tissue-nonspecific isozyme isoform X1 [Sapajus apella]\t*** the same as sequence 10 (excluded) ***\n",
    "18:\tXP_031521026.1\t(472 aa)\talkaline phosphatase, tissue-nonspecific isozyme isoform X5 [Papio anubis]\n",
    "19:\tXP_031521023.1\t(539 aa)\talkaline phosphatase, tissue-nonspecific isozyme isoform X4 [Papio anubis]\n",
    "20:\tXP_031521022.1\t(541 aa)\talkaline phosphatase, tissue-nonspecific isozyme isoform X2 [Papio anubis]\n",
    "21:\tXP_031521018.1\t(556 aa)\talkaline phosphatase, tissue-nonspecific isozyme isoform X1 [Papio anubis]\n",
    "22:\tXP_030661091.1\t(472 aa)\talkaline phosphatase, tissue-nonspecific isozyme isoform X2 [Nomascus leucogenys]\n",
    "\tXP_028701740.1\t(524 aa)\talkaline phosphatase, tissue-nonspecific isozyme isoform X1 [Macaca mulatta]\t*** the same as sequence 8 (excluded) ***\n",
    "\tNP_001356734.1\t(524 aa)\talkaline phosphatase, tissue-nonspecific isozyme isoform 1 precursor preproprotein [Homo sapiens]\t*** the same as sequence 0 (excluded) ***\n",
    "\tNP_001356733.1\t(524 aa)\talkaline phosphatase, tissue-nonspecific isozyme isoform 1 preproprotein [Homo sapiens]\t*** the same as sequence 0 (excluded) ***\n",
    "\tNP_001356732.1\t(524 aa)\talkaline phosphatase, tissue-nonspecific isozyme isoform 1 preproprotein [Homo sapiens]\t*** the same as sequence 0 (excluded) ***\n",
    "23:\tXP_025210047.1\t(447 aa)\talkaline phosphatase, tissue-nonspecific isozyme isoform X4 [Theropithecus gelada]\n",
    "24:\tXP_025210038.1\t(469 aa)\talkaline phosphatase, tissue-nonspecific isozyme isoform X3 [Theropithecus gelada]\n",
    "25:\tXP_025210030.1\t(472 aa)\talkaline phosphatase, tissue-nonspecific isozyme isoform X2 [Theropithecus gelada]\n",
    "26:\tXP_025210024.1\t(524 aa)\talkaline phosphatase, tissue-nonspecific isozyme isoform X1 [Theropithecus gelada]\n",
    "27:\tXP_002811389.2\t(524 aa)\talkaline phosphatase, tissue-nonspecific isozyme [Pongo abelii]\n",
    "28:\tXP_012657049.2\t(524 aa)\talkaline phosphatase, tissue-nonspecific isozyme isoform X1 [Otolemur garnettii]\n",
    "\tXP_023365504.1\t(524 aa)\talkaline phosphatase, tissue-nonspecific isozyme isoform X1 [Otolemur garnettii]\t*** the same as sequence 28 (excluded) ***\n",
    "\tXP_023075500.1\t(472 aa)\talkaline phosphatase, tissue-nonspecific isozyme isoform X2 [Piliocolobus tephrosceles]\t*** the same as sequence 12 (excluded) ***\n",
    "\tXP_023075499.1\t(524 aa)\talkaline phosphatase, tissue-nonspecific isozyme isoform X1 [Piliocolobus tephrosceles]\t*** the same as sequence 13 (excluded) ***\n",
    "\tXP_023075498.1\t(524 aa)\talkaline phosphatase, tissue-nonspecific isozyme isoform X1 [Piliocolobus tephrosceles]\t*** the same as sequence 13 (excluded) ***\n",
    "\tXP_023075497.1\t(524 aa)\talkaline phosphatase, tissue-nonspecific isozyme isoform X1 [Piliocolobus tephrosceles]\t*** the same as sequence 13 (excluded) ***\n",
    "\tXP_017829425.1\t(524 aa)\talkaline phosphatase, tissue-nonspecific isozyme isoform X1 [Callithrix jacchus]\t*** the same as sequence 11 (excluded) ***\n",
    "29:\tXP_017742028.1\t(524 aa)\tPREDICTED: alkaline phosphatase, tissue-nonspecific isozyme isoform X2 [Rhinopithecus bieti]\n",
    "30:\tXP_017742025.1\t(539 aa)\tPREDICTED: alkaline phosphatase, tissue-nonspecific isozyme isoform X1 [Rhinopithecus bieti]\n",
    "\tXP_017742024.1\t(539 aa)\tPREDICTED: alkaline phosphatase, tissue-nonspecific isozyme isoform X1 [Rhinopithecus bieti]\t*** the same as sequence 30 (excluded) ***\n",
    "\tXP_017742023.1\t(539 aa)\tPREDICTED: alkaline phosphatase, tissue-nonspecific isozyme isoform X1 [Rhinopithecus bieti]\t*** the same as sequence 30 (excluded) ***\n",
    "\tXP_017362337.1\t(479 aa)\talkaline phosphatase, tissue-nonspecific isozyme isoform X2 [Cebus imitator]\t*** the same as sequence 17 (excluded) ***\n",
    "\tXP_017362322.1\t(524 aa)\talkaline phosphatase, tissue-nonspecific isozyme isoform X1 [Cebus imitator]\t*** the same as sequence 10 (excluded) ***\n",
    "\tXP_017362309.1\t(524 aa)\talkaline phosphatase, tissue-nonspecific isozyme isoform X1 [Cebus imitator]\t*** the same as sequence 10 (excluded) ***\n",
    "\tXP_017362307.1\t(524 aa)\talkaline phosphatase, tissue-nonspecific isozyme isoform X1 [Cebus imitator]\t*** the same as sequence 10 (excluded) ***\n",
    "\tXP_016856392.1\t(472 aa)\talkaline phosphatase, tissue-nonspecific isozyme isoform X2 [Homo sapiens]\t*** the same as sequence 1 (excluded) ***\n",
    "31:\tXP_016811347.1\t(524 aa)\talkaline phosphatase, tissue-nonspecific isozyme isoform X1 [Pan troglodytes]\n",
    "32:\tXP_016811339.1\t(469 aa)\talkaline phosphatase, tissue-nonspecific isozyme isoform X3 [Pan troglodytes]\n",
    "33:\tXP_016811335.1\t(479 aa)\talkaline phosphatase, tissue-nonspecific isozyme isoform X2 [Pan troglodytes]\n",
    "\tXP_016811328.1\t(524 aa)\talkaline phosphatase, tissue-nonspecific isozyme isoform X1 [Pan troglodytes]\t*** the same as sequence 31 (excluded) ***\n",
    "\tXP_016811317.1\t(524 aa)\talkaline phosphatase, tissue-nonspecific isozyme isoform X1 [Pan troglodytes]\t*** the same as sequence 31 (excluded) ***\n",
    "\tXP_016811306.1\t(524 aa)\talkaline phosphatase, tissue-nonspecific isozyme isoform X1 [Pan troglodytes]\t*** the same as sequence 31 (excluded) ***\n",
    "\tXP_015296763.1\t(472 aa)\tPREDICTED: alkaline phosphatase, tissue-nonspecific isozyme isoform X2 [Macaca fascicularis]\t*** the same as sequence 18 (excluded) ***\n",
    "\tXP_014985703.1\t(472 aa)\talkaline phosphatase, tissue-nonspecific isozyme isoform X2 [Macaca mulatta]\t*** the same as sequence 18 (excluded) ***\n",
    "\tXP_014985698.1\t(524 aa)\talkaline phosphatase, tissue-nonspecific isozyme isoform X1 [Macaca mulatta]\t*** the same as sequence 8 (excluded) ***\n",
    "\tXP_014985689.1\t(524 aa)\talkaline phosphatase, tissue-nonspecific isozyme isoform X1 [Macaca mulatta]\t*** the same as sequence 8 (excluded) ***\n",
    "\tXP_014985684.1\t(524 aa)\talkaline phosphatase, tissue-nonspecific isozyme isoform X1 [Macaca mulatta]\t*** the same as sequence 8 (excluded) ***\n",
    "34:\tXP_014199352.1\t(458 aa)\talkaline phosphatase, tissue-nonspecific isozyme isoform X4 [Pan paniscus]\n",
    "35:\tXP_012657050.1\t(472 aa)\talkaline phosphatase, tissue-nonspecific isozyme isoform X2 [Otolemur garnettii]\n",
    "36:\tXP_012624163.1\t(472 aa)\talkaline phosphatase, tissue-nonspecific isozyme isoform X2 [Microcebus murinus]\n",
    "37:\tXP_012624161.1\t(524 aa)\talkaline phosphatase, tissue-nonspecific isozyme isoform X1 [Microcebus murinus]\n",
    "\tXP_012624159.1\t(524 aa)\talkaline phosphatase, tissue-nonspecific isozyme isoform X1 [Microcebus murinus]\t*** the same as sequence 37 (excluded) ***\n",
    "\tXP_012624158.1\t(524 aa)\talkaline phosphatase, tissue-nonspecific isozyme isoform X1 [Microcebus murinus]\t*** the same as sequence 37 (excluded) ***\n",
    "38:\tXP_012506390.1\t(472 aa)\tPREDICTED: alkaline phosphatase, tissue-nonspecific isozyme isoform X3 [Propithecus coquereli]\n",
    "39:\tXP_012506389.1\t(469 aa)\tPREDICTED: alkaline phosphatase, tissue-nonspecific isozyme isoform X2 [Propithecus coquereli]\n",
    "40:\tXP_012506388.1\t(524 aa)\tPREDICTED: alkaline phosphatase, tissue-nonspecific isozyme isoform X1 [Propithecus coquereli]\n",
    "\tXP_012506387.1\t(524 aa)\tPREDICTED: alkaline phosphatase, tissue-nonspecific isozyme isoform X1 [Propithecus coquereli]\t*** the same as sequence 40 (excluded) ***\n",
    "\tXP_012506386.1\t(524 aa)\tPREDICTED: alkaline phosphatase, tissue-nonspecific isozyme isoform X1 [Propithecus coquereli]\t*** the same as sequence 40 (excluded) ***\n",
    "\tXP_012506384.1\t(524 aa)\tPREDICTED: alkaline phosphatase, tissue-nonspecific isozyme isoform X1 [Propithecus coquereli]\t*** the same as sequence 40 (excluded) ***\n",
    "\tXP_012506383.1\t(524 aa)\tPREDICTED: alkaline phosphatase, tissue-nonspecific isozyme isoform X1 [Propithecus coquereli]\t*** the same as sequence 40 (excluded) ***\n",
    "41:\tXP_012295598.1\t(472 aa)\talkaline phosphatase, tissue-nonspecific isozyme isoform X2 [Aotus nancymaae]\n",
    "42:\tXP_012295596.1\t(524 aa)\talkaline phosphatase, tissue-nonspecific isozyme isoform X1 [Aotus nancymaae]\n",
    "\tXP_012295595.1\t(524 aa)\talkaline phosphatase, tissue-nonspecific isozyme isoform X1 [Aotus nancymaae]\t*** the same as sequence 42 (excluded) ***\n",
    "\tXP_012295594.1\t(524 aa)\talkaline phosphatase, tissue-nonspecific isozyme isoform X1 [Aotus nancymaae]\t*** the same as sequence 42 (excluded) ***\n",
    "\tXP_012295593.1\t(524 aa)\talkaline phosphatase, tissue-nonspecific isozyme isoform X1 [Aotus nancymaae]\t*** the same as sequence 42 (excluded) ***\n",
    "\tXP_011741980.1\t(472 aa)\talkaline phosphatase, tissue-nonspecific isozyme isoform X2 [Macaca nemestrina]\t*** the same as sequence 18 (excluded) ***\n",
    "\tXP_011741979.1\t(524 aa)\talkaline phosphatase, tissue-nonspecific isozyme isoform X1 [Macaca nemestrina]\t*** the same as sequence 8 (excluded) ***\n",
    "\tXP_011741978.1\t(524 aa)\talkaline phosphatase, tissue-nonspecific isozyme isoform X1 [Macaca nemestrina]\t*** the same as sequence 8 (excluded) ***\n",
    "43:\tXP_011935677.1\t(484 aa)\tPREDICTED: alkaline phosphatase, tissue-nonspecific isozyme isoform X5 [Cercocebus atys]\n",
    "\tXP_011935676.1\t(484 aa)\tPREDICTED: alkaline phosphatase, tissue-nonspecific isozyme isoform X5 [Cercocebus atys]\t*** the same as sequence 43 (excluded) ***\n",
    "\tXP_011935675.1\t(524 aa)\tPREDICTED: alkaline phosphatase, tissue-nonspecific isozyme isoform X4 [Cercocebus atys]\t*** the same as sequence 8 (excluded) ***\n",
    "\tXP_011935674.1\t(539 aa)\tPREDICTED: alkaline phosphatase, tissue-nonspecific isozyme isoform X3 [Cercocebus atys]\t*** the same as sequence 19 (excluded) ***\n",
    "\tXP_011935673.1\t(539 aa)\tPREDICTED: alkaline phosphatase, tissue-nonspecific isozyme isoform X3 [Cercocebus atys]\t*** the same as sequence 19 (excluded) ***\n",
    "44:\tXP_011935672.1\t(476 aa)\tPREDICTED: alkaline phosphatase, tissue-nonspecific isozyme isoform X2 [Cercocebus atys]\n",
    "45:\tXP_011935671.1\t(529 aa)\tPREDICTED: alkaline phosphatase, tissue-nonspecific isozyme isoform X1 [Cercocebus atys]\n",
    "46:\tXP_011845537.1\t(559 aa)\tPREDICTED: alkaline phosphatase, tissue-nonspecific isozyme [Mandrillus leucophaeus]\n",
    "47:\tXP_011789365.1\t(447 aa)\tPREDICTED: alkaline phosphatase, tissue-nonspecific isozyme isoform X4 [Colobus angolensis palliatus]\n",
    "48:\tXP_011789364.1\t(469 aa)\tPREDICTED: alkaline phosphatase, tissue-nonspecific isozyme isoform X3 [Colobus angolensis palliatus]\n",
    "\tXP_011789363.1\t(472 aa)\tPREDICTED: alkaline phosphatase, tissue-nonspecific isozyme isoform X2 [Colobus angolensis palliatus]\t*** the same as sequence 12 (excluded) ***\n",
    "\tXP_011789361.1\t(524 aa)\tPREDICTED: alkaline phosphatase, tissue-nonspecific isozyme isoform X1 [Colobus angolensis palliatus]\t*** the same as sequence 13 (excluded) ***\n",
    "49:\tXP_010343782.1\t(472 aa)\talkaline phosphatase, tissue-nonspecific isozyme isoform X2 [Saimiri boliviensis boliviensis]\n",
    "\tXP_010362644.1\t(524 aa)\talkaline phosphatase, tissue-nonspecific isozyme [Rhinopithecus roxellana]\t*** the same as sequence 29 (excluded) ***\n",
    "\tXP_010362643.1\t(524 aa)\talkaline phosphatase, tissue-nonspecific isozyme [Rhinopithecus roxellana]\t*** the same as sequence 29 (excluded) ***\n",
    "\tXP_009199482.1\t(524 aa)\talkaline phosphatase, tissue-nonspecific isozyme isoform X3 [Papio anubis]\t*** the same as sequence 8 (excluded) ***\n",
    "\tXP_008964792.1\t(479 aa)\talkaline phosphatase, tissue-nonspecific isozyme isoform X2 [Pan paniscus]\t*** the same as sequence 33 (excluded) ***\n",
    "\tXP_008964791.1\t(524 aa)\talkaline phosphatase, tissue-nonspecific isozyme isoform X1 [Pan paniscus]\t*** the same as sequence 31 (excluded) ***\n",
    "50:\tXP_008998772.1\t(472 aa)\talkaline phosphatase, tissue-nonspecific isozyme isoform X3 [Callithrix jacchus]\n",
    "51:\tXP_008998771.1\t(479 aa)\talkaline phosphatase, tissue-nonspecific isozyme isoform X2 [Callithrix jacchus]\n",
    "\tXP_008998770.1\t(524 aa)\talkaline phosphatase, tissue-nonspecific isozyme isoform X1 [Callithrix jacchus]\t*** the same as sequence 11 (excluded) ***\n",
    "\tXP_008998769.1\t(524 aa)\talkaline phosphatase, tissue-nonspecific isozyme isoform X1 [Callithrix jacchus]\t*** the same as sequence 11 (excluded) ***\n",
    "\tXP_008998768.1\t(524 aa)\talkaline phosphatase, tissue-nonspecific isozyme isoform X1 [Callithrix jacchus]\t*** the same as sequence 11 (excluded) ***\n",
    "\tXP_008998767.1\t(524 aa)\talkaline phosphatase, tissue-nonspecific isozyme isoform X1 [Callithrix jacchus]\t*** the same as sequence 11 (excluded) ***\n",
    "52:\tXP_008060915.1\t(437 aa)\talkaline phosphatase, tissue-nonspecific isozyme isoform X3 [Carlito syrichta]\n",
    "53:\tXP_008060914.1\t(462 aa)\talkaline phosphatase, tissue-nonspecific isozyme isoform X2 [Carlito syrichta]\n",
    "54:\tXP_008060913.1\t(524 aa)\talkaline phosphatase, tissue-nonspecific isozyme isoform X1 [Carlito syrichta]\n",
    "\tXP_007978339.1\t(524 aa)\talkaline phosphatase, tissue-nonspecific isozyme isoform X2 [Chlorocebus sabaeus]\t*** the same as sequence 8 (excluded) ***\n",
    "\tXP_005544583.1\t(524 aa)\tPREDICTED: alkaline phosphatase, tissue-nonspecific isozyme isoform X1 [Macaca fascicularis]\t*** the same as sequence 8 (excluded) ***\n",
    "\tXP_005544582.1\t(524 aa)\tPREDICTED: alkaline phosphatase, tissue-nonspecific isozyme isoform X1 [Macaca fascicularis]\t*** the same as sequence 8 (excluded) ***\n",
    "55:\tXP_004024893.1\t(524 aa)\talkaline phosphatase, tissue-nonspecific isozyme [Gorilla gorilla gorilla]\n",
    "\tXP_004024892.1\t(524 aa)\talkaline phosphatase, tissue-nonspecific isozyme [Gorilla gorilla gorilla]\t*** the same as sequence 55 (excluded) ***\n",
    "\tXP_003934954.1\t(524 aa)\talkaline phosphatase, tissue-nonspecific isozyme isoform X1 [Saimiri boliviensis boliviensis]\t*** the same as sequence 4 (excluded) ***\n",
    "\tXP_003934953.1\t(524 aa)\talkaline phosphatase, tissue-nonspecific isozyme isoform X1 [Saimiri boliviensis boliviensis]\t*** the same as sequence 4 (excluded) ***\n",
    "\tXP_003891323.1\t(524 aa)\talkaline phosphatase, tissue-nonspecific isozyme isoform X3 [Papio anubis]\t*** the same as sequence 8 (excluded) ***\n",
    "\tXP_003813998.1\t(469 aa)\talkaline phosphatase, tissue-nonspecific isozyme isoform X3 [Pan paniscus]\t*** the same as sequence 32 (excluded) ***\n",
    "\tXP_003813997.1\t(524 aa)\talkaline phosphatase, tissue-nonspecific isozyme isoform X1 [Pan paniscus]\t*** the same as sequence 31 (excluded) ***\n",
    "\tXP_003813996.1\t(524 aa)\talkaline phosphatase, tissue-nonspecific isozyme isoform X1 [Pan paniscus]\t*** the same as sequence 31 (excluded) ***\n",
    "\tNP_001253798.1\t(524 aa)\talkaline phosphatase, tissue-nonspecific isozyme precursor [Macaca mulatta]\t*** the same as sequence 8 (excluded) ***\n",
    "56:\tXP_003271616.1\t(532 aa)\talkaline phosphatase, tissue-nonspecific isozyme isoform X1 [Nomascus leucogenys]\n",
    "\tNP_001171963.1\t(524 aa)\talkaline phosphatase, tissue-nonspecific isozyme precursor [Callithrix jacchus]\t*** the same as sequence 11 (excluded) ***\n",
    "\tNP_001170991.1\t(447 aa)\talkaline phosphatase, tissue-nonspecific isozyme isoform 3 [Homo sapiens]\t*** the same as sequence 2 (excluded) ***\n",
    "\tNP_001120973.2\t(469 aa)\talkaline phosphatase, tissue-nonspecific isozyme isoform 2 [Homo sapiens]\t*** the same as sequence 3 (excluded) ***\n",
    "\tNP_000469.3\t(524 aa)\talkaline phosphatase, tissue-nonspecific isozyme isoform 1 preproprotein [Homo sapiens]\t*** the same as sequence 0 (excluded) ***\n",
    "\n",
    "\tTotal:\t57 unique sequences (84 excluded)"
   ]
  },
  {
   "cell_type": "markdown",
   "id": "3eb7ab81-1fc0-498e-8a45-538ce1c80261",
   "metadata": {},
   "source": [
    "* The following cell writes the sequences to the file `ALPL.fasta` (fasta format)."
   ]
  },
  {
   "cell_type": "code",
   "execution_count": 12,
   "id": "97a2e5fb-e47f-43e9-a1c2-2c89c23cac94",
   "metadata": {},
   "outputs": [
    {
     "name": "stdout",
     "output_type": "stream",
     "text": [
      "ALPL orthologs: unique primate sequences\n",
      "\n",
      "0:\tNP_001356734.1\t(524 aa)\talkaline phosphatase, tissue-nonspecific isozyme isoform 1 precursor preproprotein [Homo sapiens]\n",
      "1:\tXP_016856392.1\t(524 aa)\talkaline phosphatase, tissue-nonspecific isozyme isoform X2 [Homo sapiens]\n",
      "2:\tNP_001170991.1\t(524 aa)\talkaline phosphatase, tissue-nonspecific isozyme isoform 3 [Homo sapiens]\n",
      "3:\tNP_001120973.2\t(524 aa)\talkaline phosphatase, tissue-nonspecific isozyme isoform 2 [Homo sapiens]\n",
      "4:\tXP_039330133.1\t(524 aa)\talkaline phosphatase, tissue-nonspecific isozyme isoform X1 [Saimiri boliviensis boliviensis]\n",
      "5:\tXP_037856105.1\t(524 aa)\talkaline phosphatase, tissue-nonspecific isozyme isoform X4 [Chlorocebus sabaeus]\n",
      "6:\tXP_037856035.1\t(524 aa)\talkaline phosphatase, tissue-nonspecific isozyme isoform X1 [Chlorocebus sabaeus]\n",
      "7:\tXP_037856000.1\t(524 aa)\talkaline phosphatase, tissue-nonspecific isozyme isoform X3 [Chlorocebus sabaeus]\n",
      "8:\tXP_037855971.1\t(524 aa)\talkaline phosphatase, tissue-nonspecific isozyme isoform X2 [Chlorocebus sabaeus]\n",
      "9:\tXP_037586579.1\t(524 aa)\talkaline phosphatase, tissue-nonspecific isozyme isoform X3 [Cebus imitator]\n",
      "10:\tXP_037586562.1\t(524 aa)\talkaline phosphatase, tissue-nonspecific isozyme isoform X1 [Cebus imitator]\n",
      "11:\tXP_035162547.1\t(524 aa)\talkaline phosphatase, tissue-nonspecific isozyme isoform X1 [Callithrix jacchus]\n",
      "12:\tXP_033083840.1\t(524 aa)\talkaline phosphatase, tissue-nonspecific isozyme isoform X2 [Trachypithecus francoisi]\n",
      "13:\tXP_033083839.1\t(524 aa)\talkaline phosphatase, tissue-nonspecific isozyme isoform X1 [Trachypithecus francoisi]\n",
      "14:\tXP_032615100.1\t(524 aa)\talkaline phosphatase, tissue-nonspecific isozyme isoform X2 [Hylobates moloch]\n",
      "15:\tXP_032615099.1\t(524 aa)\talkaline phosphatase, tissue-nonspecific isozyme isoform X1 [Hylobates moloch]\n",
      "16:\tXP_032156584.1\t(524 aa)\talkaline phosphatase, tissue-nonspecific isozyme isoform X3 [Sapajus apella]\n",
      "17:\tXP_032156583.1\t(524 aa)\talkaline phosphatase, tissue-nonspecific isozyme isoform X2 [Sapajus apella]\n",
      "18:\tXP_031521026.1\t(524 aa)\talkaline phosphatase, tissue-nonspecific isozyme isoform X5 [Papio anubis]\n",
      "19:\tXP_031521023.1\t(524 aa)\talkaline phosphatase, tissue-nonspecific isozyme isoform X4 [Papio anubis]\n",
      "20:\tXP_031521022.1\t(524 aa)\talkaline phosphatase, tissue-nonspecific isozyme isoform X2 [Papio anubis]\n",
      "21:\tXP_031521018.1\t(524 aa)\talkaline phosphatase, tissue-nonspecific isozyme isoform X1 [Papio anubis]\n",
      "22:\tXP_030661091.1\t(524 aa)\talkaline phosphatase, tissue-nonspecific isozyme isoform X2 [Nomascus leucogenys]\n",
      "23:\tXP_025210047.1\t(524 aa)\talkaline phosphatase, tissue-nonspecific isozyme isoform X4 [Theropithecus gelada]\n",
      "24:\tXP_025210038.1\t(524 aa)\talkaline phosphatase, tissue-nonspecific isozyme isoform X3 [Theropithecus gelada]\n",
      "25:\tXP_025210030.1\t(524 aa)\talkaline phosphatase, tissue-nonspecific isozyme isoform X2 [Theropithecus gelada]\n",
      "26:\tXP_025210024.1\t(524 aa)\talkaline phosphatase, tissue-nonspecific isozyme isoform X1 [Theropithecus gelada]\n",
      "27:\tXP_002811389.2\t(524 aa)\talkaline phosphatase, tissue-nonspecific isozyme [Pongo abelii]\n",
      "28:\tXP_012657049.2\t(524 aa)\talkaline phosphatase, tissue-nonspecific isozyme isoform X1 [Otolemur garnettii]\n",
      "29:\tXP_017742028.1\t(524 aa)\tPREDICTED: alkaline phosphatase, tissue-nonspecific isozyme isoform X2 [Rhinopithecus bieti]\n",
      "30:\tXP_017742025.1\t(524 aa)\tPREDICTED: alkaline phosphatase, tissue-nonspecific isozyme isoform X1 [Rhinopithecus bieti]\n",
      "31:\tXP_016811347.1\t(524 aa)\talkaline phosphatase, tissue-nonspecific isozyme isoform X1 [Pan troglodytes]\n",
      "32:\tXP_016811339.1\t(524 aa)\talkaline phosphatase, tissue-nonspecific isozyme isoform X3 [Pan troglodytes]\n",
      "33:\tXP_016811335.1\t(524 aa)\talkaline phosphatase, tissue-nonspecific isozyme isoform X2 [Pan troglodytes]\n",
      "34:\tXP_014199352.1\t(524 aa)\talkaline phosphatase, tissue-nonspecific isozyme isoform X4 [Pan paniscus]\n",
      "35:\tXP_012657050.1\t(524 aa)\talkaline phosphatase, tissue-nonspecific isozyme isoform X2 [Otolemur garnettii]\n",
      "36:\tXP_012624163.1\t(524 aa)\talkaline phosphatase, tissue-nonspecific isozyme isoform X2 [Microcebus murinus]\n",
      "37:\tXP_012624161.1\t(524 aa)\talkaline phosphatase, tissue-nonspecific isozyme isoform X1 [Microcebus murinus]\n",
      "38:\tXP_012506390.1\t(524 aa)\tPREDICTED: alkaline phosphatase, tissue-nonspecific isozyme isoform X3 [Propithecus coquereli]\n",
      "39:\tXP_012506389.1\t(524 aa)\tPREDICTED: alkaline phosphatase, tissue-nonspecific isozyme isoform X2 [Propithecus coquereli]\n",
      "40:\tXP_012506388.1\t(524 aa)\tPREDICTED: alkaline phosphatase, tissue-nonspecific isozyme isoform X1 [Propithecus coquereli]\n",
      "41:\tXP_012295598.1\t(524 aa)\talkaline phosphatase, tissue-nonspecific isozyme isoform X2 [Aotus nancymaae]\n",
      "42:\tXP_012295596.1\t(524 aa)\talkaline phosphatase, tissue-nonspecific isozyme isoform X1 [Aotus nancymaae]\n",
      "43:\tXP_011935677.1\t(524 aa)\tPREDICTED: alkaline phosphatase, tissue-nonspecific isozyme isoform X5 [Cercocebus atys]\n",
      "44:\tXP_011935672.1\t(524 aa)\tPREDICTED: alkaline phosphatase, tissue-nonspecific isozyme isoform X2 [Cercocebus atys]\n",
      "45:\tXP_011935671.1\t(524 aa)\tPREDICTED: alkaline phosphatase, tissue-nonspecific isozyme isoform X1 [Cercocebus atys]\n",
      "46:\tXP_011845537.1\t(524 aa)\tPREDICTED: alkaline phosphatase, tissue-nonspecific isozyme [Mandrillus leucophaeus]\n",
      "47:\tXP_011789365.1\t(524 aa)\tPREDICTED: alkaline phosphatase, tissue-nonspecific isozyme isoform X4 [Colobus angolensis palliatus]\n",
      "48:\tXP_011789364.1\t(524 aa)\tPREDICTED: alkaline phosphatase, tissue-nonspecific isozyme isoform X3 [Colobus angolensis palliatus]\n",
      "49:\tXP_010343782.1\t(524 aa)\talkaline phosphatase, tissue-nonspecific isozyme isoform X2 [Saimiri boliviensis boliviensis]\n",
      "50:\tXP_008998772.1\t(524 aa)\talkaline phosphatase, tissue-nonspecific isozyme isoform X3 [Callithrix jacchus]\n",
      "51:\tXP_008998771.1\t(524 aa)\talkaline phosphatase, tissue-nonspecific isozyme isoform X2 [Callithrix jacchus]\n",
      "52:\tXP_008060915.1\t(524 aa)\talkaline phosphatase, tissue-nonspecific isozyme isoform X3 [Carlito syrichta]\n",
      "53:\tXP_008060914.1\t(524 aa)\talkaline phosphatase, tissue-nonspecific isozyme isoform X2 [Carlito syrichta]\n",
      "54:\tXP_008060913.1\t(524 aa)\talkaline phosphatase, tissue-nonspecific isozyme isoform X1 [Carlito syrichta]\n",
      "55:\tXP_004024893.1\t(524 aa)\talkaline phosphatase, tissue-nonspecific isozyme [Gorilla gorilla gorilla]\n",
      "56:\tXP_003271616.1\t(524 aa)\talkaline phosphatase, tissue-nonspecific isozyme isoform X1 [Nomascus leucogenys]\n",
      "\n",
      "ALPL.fasta saved!\n"
     ]
    }
   ],
   "source": [
    "# write the sequences to a fasta file\n",
    "print('{0} orthologs: unique primate sequences\\n'.format(gene))\n",
    "i = 0\n",
    "with open(\"fasta/{0}.fasta\".format(gene), \"w\") as output:\n",
    "    for seq_record in seq_records:\n",
    "        print(\"{3}:\\t{0}\\t({1} aa)\\t{2}\".format(seq_record.id, len(seq), seq_record.description, i))\n",
    "        SeqIO.write(seq_record, output, \"fasta\")\n",
    "        i += 1\n",
    "print(\"\\n{0}.fasta saved!\".format(gene))"
   ]
  },
  {
   "cell_type": "markdown",
   "id": "f144aaf2-dfdb-4d29-bc0f-efb9e10ec3fd",
   "metadata": {},
   "source": [
    "* The following cell aligns the sequences and writes them to the file `ALPL.aln` (also in fasta format).  To look at the alignment open it in [this viewer application](https://alignmentviewer.org/).  (Hannah: you may not be able to run this step.  Just skip it and repeat the sequence processing above for the other genes.)"
   ]
  },
  {
   "cell_type": "code",
   "execution_count": 13,
   "id": "06b24b03-2bde-4df8-b791-328a1fe15c71",
   "metadata": {},
   "outputs": [
    {
     "name": "stdout",
     "output_type": "stream",
     "text": [
      "ALPL orthologs\n",
      "\n",
      "Alignment with 57 rows and 598 columns\n",
      "-----------------MISPFLVLAIGTCLTNSLVPEKEKDPK...--- XP_011935671.1\n",
      "-----------------MISAFLILAIGTCLTNSFVPEKEKDPE...ILF XP_012657049.2\n",
      "-----------------------------------------MPW...ILF XP_012657050.1\n",
      "-----------------MISAFLVLAIGTCLANSLVPEKEKDPK...SLF XP_012624161.1\n",
      "--------------------------------------------...SLF XP_012506389.1\n",
      "-----------------MISAFLVLAIGTCLTNSLVPEKEKDPK...SLF XP_012506388.1\n",
      "-----------------------------------------MPW...SLF XP_012506390.1\n",
      "-----------------------------------------MPW...SLF XP_012624163.1\n",
      "-----------------MISPFLVLVIGTCLTHCLVPEKEKDPK...MLF XP_008060913.1\n",
      "--------------------------------------------...MLF XP_008060915.1\n",
      "--------------------------------------------...MLF XP_008060914.1\n",
      "-----------------MISPFLVLAIGTCLTNSLVPGMLGDTG...ILF XP_011845537.1\n",
      "-----------------MISPFLVLAIGTCLTNSLVPEKEKDPK...VLF XP_012295596.1\n",
      "-----------------MISPFLVLAIGTCLTNSLVPEKEKDPK...ILF XP_035162547.1\n",
      "-----------------MISPFLVLAIGTCLTNSLVPEKEKDPK...ILF XP_008998771.1\n",
      "-----------------MISPFLVLAVGTCLTSSLVPEKEKDPK...VLF XP_039330133.1\n",
      "-----------------MISPFLVLAIGTCLTSSLVPEKEKDPK...VLF XP_037586562.1\n",
      "-----------------MISPFLVLAIGTCLTSSLVPEKEKDPK...VLF XP_032156583.1\n",
      "...\n",
      "-----------------MISPFLVLAIGTCLTNSLVPEKEKDPK...VLF XP_016811347.1\n",
      "\n",
      "ALPL.aln saved!\n"
     ]
    }
   ],
   "source": [
    "# align sequences\n",
    "print('{0} orthologs\\n'.format(gene))\n",
    "muscle_cline = MuscleCommandline(input='fasta/{0}.fasta'.format(gene))\n",
    "stdout, stderr = muscle_cline()\n",
    "align = AlignIO.read(StringIO(stdout), 'fasta')\n",
    "AlignIO.write(align, 'aln/{0}.aln'.format(gene), 'fasta')\n",
    "print(align)\n",
    "print(\"\\n{0}.aln saved!\".format(gene))"
   ]
  },
  {
   "cell_type": "markdown",
   "id": "7b7d1326-4d64-4982-8823-75da74b52d13",
   "metadata": {},
   "source": [
    "* Repeat for other genes."
   ]
  },
  {
   "cell_type": "code",
   "execution_count": 15,
   "id": "bb6cd792-0608-4c4e-bc63-055d825cb675",
   "metadata": {},
   "outputs": [],
   "source": [
    "!open ."
   ]
  },
  {
   "cell_type": "code",
   "execution_count": null,
   "id": "f515d4ed-60b7-4cee-ac94-eddcf63e6dcd",
   "metadata": {},
   "outputs": [],
   "source": []
  }
 ],
 "metadata": {
  "kernelspec": {
   "display_name": "Python 3",
   "language": "python",
   "name": "python3"
  },
  "language_info": {
   "codemirror_mode": {
    "name": "ipython",
    "version": 3
   },
   "file_extension": ".py",
   "mimetype": "text/x-python",
   "name": "python",
   "nbconvert_exporter": "python",
   "pygments_lexer": "ipython3",
   "version": "3.7.10"
  }
 },
 "nbformat": 4,
 "nbformat_minor": 5
}
