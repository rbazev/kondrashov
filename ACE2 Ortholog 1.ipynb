{
 "cells": [
  {
   "cell_type": "markdown",
   "id": "9a45b18f-1438-4270-b25d-30d7ccd63703",
   "metadata": {},
   "source": [
    "# Analysis outline\n",
    "\n",
    "The analysis has the following components:\n",
    "\n",
    "1. [orthologs.ipynb](orthologs.ipynb) collect primate orthologs of each human gene from NCBI, remove redundant sequences, save them to a `*.fasta` file.  \n",
    "\n",
    "1. [align.ipynb](align.ipynb) align orthologous sequences in each `*.fasta` file and save it to a `*.aln` file.\n",
    "\n",
    "1. [pathogen.ipynb](pathogen.ipynb) extract pathogenic variants from ClinVar data. \n",
    "\n",
    "1. [clean_up.ipynb](clean_up.ipynb) establish connections between transcripts in ClinVar data and proteins in ortholog collections.\n",
    "\n",
    "1. [find_CPDs.ipynb](find_CPDs.ipynb) find putative CPDs."
   ]
  },
  {
   "cell_type": "markdown",
   "id": "ceda640e-c21f-44b0-b8d2-86b39dbd05e7",
   "metadata": {},
   "source": [
    "# Set up\n",
    "\n",
    "Run the following cell.  It loads some required functions."
   ]
  },
  {
   "cell_type": "code",
   "execution_count": 2,
   "id": "df64b292-2ea7-4ec3-babb-abbbae732351",
   "metadata": {},
   "outputs": [],
   "source": [
    "run kondrashov"
   ]
  },
  {
   "cell_type": "markdown",
   "id": "ffcca603-accf-420a-a3a9-d49bf3a9614e",
   "metadata": {},
   "source": [
    "Run the following two cell.  The first displays the path to the current folder.  The second displays the contents of that folder.  (Note: your output will be different from mine.)"
   ]
  },
  {
   "cell_type": "code",
   "execution_count": 34,
   "id": "934dbbd3-1eef-4618-b572-a80f624d91d8",
   "metadata": {},
   "outputs": [
    {
     "data": {
      "text/plain": [
       "'/Users/arnav/hhh Dropbox/arnav mehta/Mac/Documents/GitHub/kondrashov'"
      ]
     },
     "execution_count": 34,
     "metadata": {},
     "output_type": "execute_result"
    }
   ],
   "source": [
    "pwd"
   ]
  },
  {
   "cell_type": "code",
   "execution_count": 35,
   "id": "84c3cf8a-b8b4-4271-a00a-a2ef84db450d",
   "metadata": {},
   "outputs": [
    {
     "name": "stdout",
     "output_type": "stream",
     "text": [
      "ACE2 ortholog.ipynb    clean_up.ipynb         orthologs-Copy1.ipynb\r\n",
      "README.md              \u001b[34mfasta\u001b[m\u001b[m/                 orthologs.ipynb\r\n",
      "align.ipynb            find_CPDs.ipynb        pathogen.ipynb\r\n",
      "\u001b[34maln\u001b[m\u001b[m/                   kondrashov.py\r\n"
     ]
    }
   ],
   "source": [
    "ls"
   ]
  },
  {
   "cell_type": "markdown",
   "id": "8fdedeb9-2cd8-4fa0-9f33-de8b64d54eb9",
   "metadata": {},
   "source": [
    "If there is no folder called `fasta`, create it by running the following command."
   ]
  },
  {
   "cell_type": "code",
   "execution_count": 36,
   "id": "f93c1b3d-b6d9-4726-ac4c-f0c521e28a71",
   "metadata": {},
   "outputs": [
    {
     "name": "stdout",
     "output_type": "stream",
     "text": [
      "mkdir: fasta: File exists\r\n"
     ]
    }
   ],
   "source": [
    "mkdir fasta"
   ]
  },
  {
   "cell_type": "markdown",
   "id": "8daf83b6-5449-42f4-a9d5-f380cd467e01",
   "metadata": {},
   "source": [
    "If there is no folder called `aln`, create it by running the following command."
   ]
  },
  {
   "cell_type": "code",
   "execution_count": 37,
   "id": "80aa7acc-3303-470d-b7d1-8ab75c7dbf0b",
   "metadata": {},
   "outputs": [
    {
     "name": "stdout",
     "output_type": "stream",
     "text": [
      "mkdir: aln: File exists\r\n"
     ]
    }
   ],
   "source": [
    "mkdir aln"
   ]
  },
  {
   "cell_type": "markdown",
   "id": "516732c7-a4b4-42f1-862b-8d57b2ecd1a4",
   "metadata": {},
   "source": [
    "Rerun the `ls` command above to confirm that you have created those folders successfully. \n",
    "\n",
    "The following defines a function that gets the species name from a NCBI sequence record."
   ]
  },
  {
   "cell_type": "markdown",
   "id": "3ee2f223-394b-4031-9ced-488b29665361",
   "metadata": {},
   "source": [
    "# Get protein sequences for primate orthologs of human genes\n",
    "\n",
    "**Note: this is a new version of the `orthologs.ipynb` notebook that prevents unique human sequences from being dropped.**\n",
    "\n",
    "* Enter the gene name you are working on in the following cell.  In this page I'll use ALPL as an example."
   ]
  },
  {
   "cell_type": "markdown",
   "id": "77288b91-3273-479a-8dd4-a830e4efb43e",
   "metadata": {},
   "source": [
    "## ACE2"
   ]
  },
  {
   "cell_type": "code",
   "execution_count": 4,
   "id": "e9553276-0e66-4d33-97cf-e8e9e4c8f043",
   "metadata": {},
   "outputs": [],
   "source": [
    "# enter gene name here\n",
    "gene = 'ACE2'"
   ]
  },
  {
   "cell_type": "markdown",
   "id": "926c4fe2-d68b-4158-bc44-bac377ca58d1",
   "metadata": {},
   "source": [
    "* In the [NCBI query page](https://www.ncbi.nlm.nih.gov/labs/gquery/) search for `Homo sapiens ALPL`.  \n",
    "\n",
    "* When the search results come up ([this is the page for ALPL](https://www.ncbi.nlm.nih.gov/labs/gquery/all/?term=Homo+sapiens+ALPL)) click on `Orthologs`.  Here's what the output looks like for [ALPL](https://www.ncbi.nlm.nih.gov/gene/249/ortholog/?scope=9443&term=ALPL).\n",
    "\n",
    "* Use the Taxonomy Tree to select **mammals > placentals > primates**.  For ALPL, this reduces the number of orthologs from 335 to 29.\n",
    "\n",
    "* In the list of sequences click to select all (box labelled `0 selected`).\n",
    "\n",
    "* Click on `Add to cart`.  The items appear in a box with a shopping cart symbol.  Click on that box.\n",
    "\n",
    "* A popup window appears.  Click on `Protein alignment`.  Choose `all sequences per gene`.  Click `Align`.\n",
    "\n",
    "* Select all the accession numbers in the box (XP_039330133.1, XP_037856105.1, etc) and copy them.\n",
    "\n",
    "* Run the following cell (it pulls the names from the clipboard and puts them on a list)."
   ]
  },
  {
   "cell_type": "code",
   "execution_count": 5,
   "id": "e7898deb-d92d-4028-b302-64413fb9cb30",
   "metadata": {
    "scrolled": true
   },
   "outputs": [
    {
     "name": "stdout",
     "output_type": "stream",
     "text": [
      "ACE2 orthologs: 28 primate sequences (retrieved on 2022-07-21)\n",
      "\n",
      "['NP_001358344.1', 'NP_001129168.1', 'XP_016798468.1', 'XP_007989304.2', 'XP_008987241.1', 'XP_011891198.1', 'XP_005593094.1', 'XP_011733505.1', 'XP_021788732.1', 'XP_025227847.1', 'XP_011850923.1', 'XP_033056809.1', 'XP_017744069.1', 'XP_010364367.2', 'XP_023054821.1', 'XP_018874749.1', 'XP_008972428.2', 'NP_001124604.1', 'XP_003261132.2', 'XP_032612508.1', 'XP_010334925.2', 'XP_032141854.1', 'XP_017367865.1', 'XP_012290105.1', 'XP_008062810.1', 'XP_012494185.1', 'XP_020140826.1', 'XP_003791912.1']\n"
     ]
    }
   ],
   "source": [
    "# copy IDs from NCBI ortholog protein alignment dialog (all sequences per gene)\n",
    "tmp = pd.read_clipboard(sep= '/n', names=['id'])\n",
    "seq_ids = tmp['id'].tolist()\n",
    "print('{0} orthologs: {1} primate sequences (retrieved on {2})\\n'.format(gene, len(seq_ids), date.today()))\n",
    "print(seq_ids)"
   ]
  },
  {
   "cell_type": "code",
   "execution_count": 6,
   "id": "487b8eac-3530-4c2a-bd04-9783b1d0622d",
   "metadata": {},
   "outputs": [
    {
     "name": "stdout",
     "output_type": "stream",
     "text": [
      "ACE2 orthologs: 28 primate sequences\n",
      "\n",
      "['NP_001358344.1', 'NP_001129168.1', 'XP_016798468.1', 'XP_007989304.2', 'XP_008987241.1', 'XP_011891198.1', 'XP_005593094.1', 'XP_011733505.1', 'XP_021788732.1', 'XP_025227847.1', 'XP_011850923.1', 'XP_033056809.1', 'XP_017744069.1', 'XP_010364367.2', 'XP_023054821.1', 'XP_018874749.1', 'XP_008972428.2', 'NP_001124604.1', 'XP_003261132.2', 'XP_032612508.1', 'XP_010334925.2', 'XP_032141854.1', 'XP_017367865.1', 'XP_012290105.1', 'XP_008062810.1', 'XP_012494185.1', 'XP_020140826.1', 'XP_003791912.1']\n"
     ]
    }
   ],
   "source": [
    "# you can do it by hand if you already have all the sequences\n",
    "seq_ids = ['NP_001358344.1', 'NP_001129168.1', 'XP_016798468.1', 'XP_007989304.2', 'XP_008987241.1', 'XP_011891198.1', 'XP_005593094.1', 'XP_011733505.1', 'XP_021788732.1', 'XP_025227847.1', 'XP_011850923.1', 'XP_033056809.1', 'XP_017744069.1', 'XP_010364367.2', 'XP_023054821.1', 'XP_018874749.1', 'XP_008972428.2', 'NP_001124604.1', 'XP_003261132.2', 'XP_032612508.1', 'XP_010334925.2', 'XP_032141854.1', 'XP_017367865.1', 'XP_012290105.1', 'XP_008062810.1', 'XP_012494185.1', 'XP_020140826.1', 'XP_003791912.1']\n",
    "print('{0} orthologs: {1} primate sequences\\n'.format(gene, len(seq_ids)))\n",
    "print(seq_ids)"
   ]
  },
  {
   "cell_type": "markdown",
   "id": "d8513078-e3ad-4ccc-b444-84143326d3b9",
   "metadata": {},
   "source": [
    "* Run the next cell.  It pulls the sequences from NCBI and grabs any unique human sequences.  Then it flags any redundant sequences and drops those.  For ALPL it drops 84 sequences and we end up with 57."
   ]
  },
  {
   "cell_type": "code",
   "execution_count": 7,
   "id": "302f3ad9-2625-4a9a-b405-aee686e2d9e2",
   "metadata": {},
   "outputs": [
    {
     "name": "stdout",
     "output_type": "stream",
     "text": [
      "ACE2 orthologs: all primate sequences\n",
      "\n",
      "0:\tNP_001358344.1\t(805 aa)\tangiotensin-converting enzyme 2 isoform 1 precursor [Homo sapiens]\n",
      "\tNP_001358344.1\t(805 aa)\tangiotensin-converting enzyme 2 isoform 1 precursor [Homo sapiens]\t*** the same as sequence 0 (excluded) ***\n",
      "1:\tNP_001129168.1\t(805 aa)\tangiotensin-converting enzyme 2 precursor [Macaca mulatta]\n",
      "2:\tXP_016798468.1\t(805 aa)\tangiotensin-converting enzyme 2 isoform X1 [Pan troglodytes]\n",
      "3:\tXP_007989304.2\t(805 aa)\tangiotensin-converting enzyme 2 [Chlorocebus sabaeus]\n",
      "4:\tXP_008987241.1\t(805 aa)\tangiotensin-converting enzyme 2 [Callithrix jacchus]\n",
      "5:\tXP_011891198.1\t(805 aa)\tPREDICTED: angiotensin-converting enzyme 2 [Cercocebus atys]\n",
      "6:\tXP_005593094.1\t(805 aa)\tPREDICTED: angiotensin-converting enzyme 2 [Macaca fascicularis]\n",
      "7:\tXP_011733505.1\t(805 aa)\tangiotensin-converting enzyme 2 [Macaca nemestrina]\n",
      "8:\tXP_021788732.1\t(805 aa)\tangiotensin-converting enzyme 2 [Papio anubis]\n",
      "9:\tXP_025227847.1\t(805 aa)\tangiotensin-converting enzyme 2 [Theropithecus gelada]\n",
      "10:\tXP_011850923.1\t(805 aa)\tPREDICTED: angiotensin-converting enzyme 2 [Mandrillus leucophaeus]\n",
      "11:\tXP_033056809.1\t(805 aa)\tLOW QUALITY PROTEIN: angiotensin-converting enzyme 2 [Trachypithecus francoisi]\n",
      "12:\tXP_017744069.1\t(724 aa)\tPREDICTED: angiotensin-converting enzyme 2 [Rhinopithecus bieti]\n",
      "13:\tXP_010364367.2\t(805 aa)\tangiotensin-converting enzyme 2 [Rhinopithecus roxellana]\n",
      "14:\tXP_023054821.1\t(805 aa)\tangiotensin-converting enzyme 2 [Piliocolobus tephrosceles]\n",
      "15:\tXP_018874749.1\t(805 aa)\tangiotensin-converting enzyme 2 [Gorilla gorilla gorilla]\n",
      "16:\tXP_008972428.2\t(805 aa)\tangiotensin-converting enzyme 2 isoform X1 [Pan paniscus]\n",
      "17:\tNP_001124604.1\t(805 aa)\tangiotensin-converting enzyme 2 precursor [Pongo abelii]\n",
      "18:\tXP_003261132.2\t(805 aa)\tangiotensin-converting enzyme 2 [Nomascus leucogenys]\n",
      "19:\tXP_032612508.1\t(805 aa)\tangiotensin-converting enzyme 2 [Hylobates moloch]\n",
      "20:\tXP_010334925.2\t(805 aa)\tangiotensin-converting enzyme 2 isoform X1 [Saimiri boliviensis boliviensis]\n",
      "21:\tXP_032141854.1\t(805 aa)\tangiotensin-converting enzyme 2 [Sapajus apella]\n",
      "22:\tXP_017367865.1\t(805 aa)\tangiotensin-converting enzyme 2 [Cebus imitator]\n",
      "23:\tXP_012290105.1\t(805 aa)\tangiotensin-converting enzyme 2 [Aotus nancymaae]\n",
      "24:\tXP_008062810.1\t(805 aa)\tangiotensin-converting enzyme 2 [Carlito syrichta]\n",
      "25:\tXP_012494185.1\t(826 aa)\tPREDICTED: angiotensin-converting enzyme 2 [Propithecus coquereli]\n",
      "26:\tXP_020140826.1\t(851 aa)\tangiotensin-converting enzyme 2 [Microcebus murinus]\n",
      "27:\tXP_003791912.1\t(805 aa)\tangiotensin-converting enzyme 2 [Otolemur garnettii]\n",
      "\n",
      "\tTotal:\t28 unique sequences (1 excluded)\n"
     ]
    }
   ],
   "source": [
    "# 1. Collect unique human sequences\n",
    "print('{0} orthologs: all primate sequences\\n'.format(gene))\n",
    "all_sequences = []\n",
    "seq_records = []\n",
    "inc = 0\n",
    "exc = 0\n",
    "with Entrez.efetch(\n",
    "    db=\"protein\", rettype=\"gb\", retmode=\"text\", id=seq_ids,\n",
    ") as handle:\n",
    "    for seq_record in SeqIO.parse(handle, \"gb\"):\n",
    "        sp = get_species(seq_record)\n",
    "        if sp == 'Homo sapiens':\n",
    "            seq = seq_record.seq\n",
    "            if seq in all_sequences:\n",
    "                print(\"\\t{0}\\t({1} aa)\\t{2}\\t*** the same as sequence {3} (excluded) ***\".format(seq_record.id, len(seq), seq_record.description, all_sequences.index(seq)))\n",
    "                exc += 1\n",
    "            else:\n",
    "                all_sequences.append(seq)\n",
    "                print(\"{3}:\\t{0}\\t({1} aa)\\t{2}\".format(seq_record.id, len(seq), seq_record.description, inc))\n",
    "                seq_records.append(seq_record)\n",
    "                inc += 1\n",
    "# # 2. Collect other unique sequences\n",
    "with Entrez.efetch(\n",
    "    db=\"protein\", rettype=\"gb\", retmode=\"text\", id=seq_ids,\n",
    ") as handle:\n",
    "    for seq_record in SeqIO.parse(handle, \"gb\"):\n",
    "        seq = seq_record.seq\n",
    "        if seq in all_sequences:\n",
    "            print(\"\\t{0}\\t({1} aa)\\t{2}\\t*** the same as sequence {3} (excluded) ***\".format(seq_record.id, len(seq), seq_record.description, all_sequences.index(seq)))\n",
    "            exc += 1\n",
    "        else:\n",
    "            all_sequences.append(seq)\n",
    "            print(\"{3}:\\t{0}\\t({1} aa)\\t{2}\".format(seq_record.id, len(seq), seq_record.description, inc))\n",
    "            seq_records.append(seq_record)\n",
    "            inc += 1\n",
    "print('\\n\\tTotal:\\t', inc, ' unique sequences (', exc, ' excluded)', sep='')"
   ]
  },
  {
   "cell_type": "code",
   "execution_count": 41,
   "id": "d8bf98bf-82d0-4da5-bdef-d412aa2629d3",
   "metadata": {},
   "outputs": [
    {
     "data": {
      "text/plain": [
       "[SeqRecord(seq=Seq('MISPFLVLAIGTCLTNSLVPEKEKDPKYWRDQAQETLKYALELQKLNTNVAKNV...VLF'), id='NP_001356734.1', name='NP_001356734', description='alkaline phosphatase, tissue-nonspecific isozyme isoform 1 preproprotein [Homo sapiens]', dbxrefs=[]),\n",
       " SeqRecord(seq=Seq('MPWSFRSSTPTWLRMSSCSWEMGQLHHNPGEETRLEMDKFPFVALSKTYNTNAQ...VLF'), id='XP_016856392.1', name='XP_016856392', description='alkaline phosphatase, tissue-nonspecific isozyme isoform X1 [Homo sapiens]', dbxrefs=['BioProject:PRJNA168']),\n",
       " SeqRecord(seq=Seq('MPWSFRSSTPTWLRMSSCSWEMTYNTNAQVPDSAGTATAYLCGVKANEGTVGVS...VLF'), id='NP_001170991.1', name='NP_001170991', description='alkaline phosphatase, tissue-nonspecific isozyme isoform 3 [Homo sapiens]', dbxrefs=[]),\n",
       " SeqRecord(seq=Seq('MFLGDGMGVSTVTAARILKGQLHHNPGEETRLEMDKFPFVALSKTYNTNAQVPD...VLF'), id='NP_001120973.2', name='NP_001120973', description='alkaline phosphatase, tissue-nonspecific isozyme isoform 2 [Homo sapiens]', dbxrefs=[]),\n",
       " SeqRecord(seq=Seq('MISPFLVLAIGTCLTNSLVPEKEKDPKYWRDQAQETLKYALELQKLNTNVAKNV...ILF'), id='XP_045234812.1', name='XP_045234812', description='alkaline phosphatase, tissue-nonspecific isozyme [Macaca fascicularis]', dbxrefs=['BioProject:PRJNA690070']),\n",
       " SeqRecord(seq=Seq('MISPFLVLAVGTCLTSSLVPEKEKDPKYWRNQAQETLKYALELQKLNTNVAKNV...VLF'), id='XP_039330133.1', name='XP_039330133', description='alkaline phosphatase, tissue-nonspecific isozyme isoform X1 [Saimiri boliviensis boliviensis]', dbxrefs=['BioProject:PRJNA699579']),\n",
       " SeqRecord(seq=Seq('MSSCSWEMGQLHHNPGEETRLEMDKFPFVALSKTYNTNAQVPDSAGTATAYLCG...ILF'), id='XP_037856105.1', name='XP_037856105', description='alkaline phosphatase, tissue-nonspecific isozyme isoform X4 [Chlorocebus sabaeus]', dbxrefs=['BioProject:PRJNA680339']),\n",
       " SeqRecord(seq=Seq('MISPFLVLAIGTCLTNSLVPEKEKDPKYWRDQAQETLKYALELQKLNTNVAKNV...ILF'), id='XP_037856035.1', name='XP_037856035', description='alkaline phosphatase, tissue-nonspecific isozyme isoform X1 [Chlorocebus sabaeus]', dbxrefs=['BioProject:PRJNA680339']),\n",
       " SeqRecord(seq=Seq('MFLGDGMGVSTVTATRILKGQLHHNPGEETRLEMDKFPFVALSKTYNTNAQVPD...ILF'), id='XP_037856000.1', name='XP_037856000', description='alkaline phosphatase, tissue-nonspecific isozyme isoform X3 [Chlorocebus sabaeus]', dbxrefs=['BioProject:PRJNA680339']),\n",
       " SeqRecord(seq=Seq('MPWSFRSSTPTWLRMSSCSWEMTYNTNAQVPDSAGTATAYLCGVKANEGTVGVS...VLF'), id='XP_037586579.1', name='XP_037586579', description='alkaline phosphatase, tissue-nonspecific isozyme isoform X3 [Cebus imitator]', dbxrefs=['BioProject:PRJNA328123']),\n",
       " SeqRecord(seq=Seq('MISPFLVLAIGTCLTSSLVPEKEKDPKYWRNQAQETLKYALELQKLNTNVAKNV...VLF'), id='XP_037586562.1', name='XP_037586562', description='alkaline phosphatase, tissue-nonspecific isozyme isoform X1 [Cebus imitator]', dbxrefs=['BioProject:PRJNA328123']),\n",
       " SeqRecord(seq=Seq('MISPFLVLAIGTCLTNSLVPEKEKDPKYWRNQAQETLKYALELQKLNTNVAKNV...ILF'), id='XP_035162547.1', name='XP_035162547', description='alkaline phosphatase, tissue-nonspecific isozyme isoform X1 [Callithrix jacchus]', dbxrefs=['BioProject:PRJNA635392']),\n",
       " SeqRecord(seq=Seq('MPWSFRSSTPTWLRMSSCSWEMGQLHHNPGEETRLEMDKFPFVALSKTYNTNAQ...ILF'), id='XP_033083840.1', name='XP_033083840', description='alkaline phosphatase, tissue-nonspecific isozyme isoform X2 [Trachypithecus francoisi]', dbxrefs=['BioProject:PRJNA614514']),\n",
       " SeqRecord(seq=Seq('MISPFLVLAIGTCLTNSLVPEKEKDPKYWRDQAQETLKYALELQKLNTNVAKNV...ILF'), id='XP_033083839.1', name='XP_033083839', description='alkaline phosphatase, tissue-nonspecific isozyme isoform X1 [Trachypithecus francoisi]', dbxrefs=['BioProject:PRJNA614514']),\n",
       " SeqRecord(seq=Seq('MPWSFRSSTPTWLRMSSCSWEMGQLHHNPGEETRLEMDKFPFVALSKTYNTNAQ...ILF'), id='XP_032615100.1', name='XP_032615100', description='alkaline phosphatase, tissue-nonspecific isozyme isoform X2 [Hylobates moloch]', dbxrefs=['BioProject:PRJNA600985']),\n",
       " SeqRecord(seq=Seq('MKQVLGCTMISPFLVLAIGTCLTNSLVPEKEKDPKYWRDQAQETLKYALELQKL...ILF'), id='XP_032615099.1', name='XP_032615099', description='alkaline phosphatase, tissue-nonspecific isozyme isoform X1 [Hylobates moloch]', dbxrefs=['BioProject:PRJNA600985']),\n",
       " SeqRecord(seq=Seq('MPWSFRSSTPTWLRMSSCSWEMGQLHHNPGEETRLEMDKFPFVALSKTYNTNAQ...VLF'), id='XP_032156584.1', name='XP_032156584', description='alkaline phosphatase, tissue-nonspecific isozyme isoform X3 [Sapajus apella]', dbxrefs=['BioProject:PRJNA599380']),\n",
       " SeqRecord(seq=Seq('MISPFLVLAIGTCLTSSLVPEKEKDPKYWRNQAQETLKYALELQKLNTNVAKNV...VLF'), id='XP_032156583.1', name='XP_032156583', description='alkaline phosphatase, tissue-nonspecific isozyme isoform X2 [Sapajus apella]', dbxrefs=['BioProject:PRJNA599380']),\n",
       " SeqRecord(seq=Seq('MPWSFRSSTPTWLRMSSCSWEMGQLHHNPGEETRLEMDKFPFVALSKTYNTNAQ...ILF'), id='XP_031521026.1', name='XP_031521026', description='alkaline phosphatase, tissue-nonspecific isozyme isoform X5 [Papio anubis]', dbxrefs=['BioProject:PRJNA576697']),\n",
       " SeqRecord(seq=Seq('MISPFLVLAIGTCLTNSLVPEKEKDPKYWRDQAQETLKYALELQKLNTNVAKNV...ILF'), id='XP_031521023.1', name='XP_031521023', description='alkaline phosphatase, tissue-nonspecific isozyme isoform X4 [Papio anubis]', dbxrefs=['BioProject:PRJNA576697']),\n",
       " SeqRecord(seq=Seq('MPAASLGDQGHSGTESLPSQHLQPTWVKDELMDEKGKEKEKDPKYWRDQAQETL...ILF'), id='XP_031521022.1', name='XP_031521022', description='alkaline phosphatase, tissue-nonspecific isozyme isoform X2 [Papio anubis]', dbxrefs=['BioProject:PRJNA576697']),\n",
       " SeqRecord(seq=Seq('MPAASLGDQGHSGTESLPSQHLQPTWVKDELMDEKGKEKEKDPKYWRDQAQETL...ILF'), id='XP_031521018.1', name='XP_031521018', description='alkaline phosphatase, tissue-nonspecific isozyme isoform X1 [Papio anubis]', dbxrefs=['BioProject:PRJNA576697']),\n",
       " SeqRecord(seq=Seq('MPWSFRSSTPTWLRMSSCSWEMGQLHHNPGEETRLEMDKFPFVALSKTYNTNAQ...ILF'), id='XP_030661091.1', name='XP_030661091', description='alkaline phosphatase, tissue-nonspecific isozyme isoform X2 [Nomascus leucogenys]', dbxrefs=['BioProject:PRJNA564096']),\n",
       " SeqRecord(seq=Seq('MPWSFRSSTPTWLRMSSCSWEMTYNTNAQVPDSAGTATAYLCGVKANEGTVGVS...ILF'), id='XP_025210047.1', name='XP_025210047', description='alkaline phosphatase, tissue-nonspecific isozyme isoform X4 [Theropithecus gelada]', dbxrefs=['BioProject:PRJNA477372']),\n",
       " SeqRecord(seq=Seq('MFLGDGMGVSTVTATRILKGQLHHNPGEETRLEMDKFPFVALSKTYNTNAQVPD...ILF'), id='XP_025210038.1', name='XP_025210038', description='alkaline phosphatase, tissue-nonspecific isozyme isoform X3 [Theropithecus gelada]', dbxrefs=['BioProject:PRJNA477372']),\n",
       " SeqRecord(seq=Seq('MPWSFRSSTPTWLRMSSCSWEMGQLHHNPGEETRLEMDKFPFVALSKTYNTNAQ...ILF'), id='XP_025210030.1', name='XP_025210030', description='alkaline phosphatase, tissue-nonspecific isozyme isoform X2 [Theropithecus gelada]', dbxrefs=['BioProject:PRJNA477372']),\n",
       " SeqRecord(seq=Seq('MISPFVVLAIGTCLTNSLVPEKEKDPKYWRDQAQETLKYALELQKLNTNVAKNV...ILF'), id='XP_025210024.1', name='XP_025210024', description='alkaline phosphatase, tissue-nonspecific isozyme isoform X1 [Theropithecus gelada]', dbxrefs=['BioProject:PRJNA477372']),\n",
       " SeqRecord(seq=Seq('MISPFLVLAIGTCLTNSLVPEKEKDPKYWRDQAQETLKYALELQKLNTNVAKNV...VLF'), id='XP_002811389.2', name='XP_002811389', description='alkaline phosphatase, tissue-nonspecific isozyme [Pongo abelii]', dbxrefs=['BioProject:PRJNA37793']),\n",
       " SeqRecord(seq=Seq('MISAFLILAIGTCLTNSFVPEKEKDPEYWRRQAQQTLKHALGLQKLNTNVAKNV...ILF'), id='XP_012657049.2', name='XP_012657049', description='alkaline phosphatase, tissue-nonspecific isozyme isoform X1 [Otolemur garnettii]', dbxrefs=['BioProject:PRJNA169348']),\n",
       " SeqRecord(seq=Seq('MISPFLVLAIGTCLTNSLVPEKEKDPKYWRDQAQETLKYALELQKLNTNVAKNV...ILF'), id='XP_017742028.1', name='XP_017742028', description='PREDICTED: alkaline phosphatase, tissue-nonspecific isozyme isoform X2 [Rhinopithecus bieti]', dbxrefs=['BioProject:PRJNA339282']),\n",
       " SeqRecord(seq=Seq('MISPFLVLAIGTCLTNSLVPEKEKDPKYWRDQAQETLKYALELQKLNTNVAKNV...ILF'), id='XP_017742025.1', name='XP_017742025', description='PREDICTED: alkaline phosphatase, tissue-nonspecific isozyme isoform X1 [Rhinopithecus bieti]', dbxrefs=['BioProject:PRJNA339282']),\n",
       " SeqRecord(seq=Seq('MISPFLVLAIGTCLTNSLVPEKEKDPKYWRDQAQETLKYALKLQKLNTNVAKNV...VLF'), id='XP_016811347.1', name='XP_016811347', description='alkaline phosphatase, tissue-nonspecific isozyme isoform X1 [Pan troglodytes]', dbxrefs=['BioProject:PRJNA10627']),\n",
       " SeqRecord(seq=Seq('MFLGDGMGVSTVTAARILKGQLHHNPGEETRLEMDKFPFVALSKTYNTNAQVPD...VLF'), id='XP_016811339.1', name='XP_016811339', description='alkaline phosphatase, tissue-nonspecific isozyme isoform X3 [Pan troglodytes]', dbxrefs=['BioProject:PRJNA10627']),\n",
       " SeqRecord(seq=Seq('MISPFLVLAIGTCLTNSLVPEKEKDPKYWRDQAQETLKYALKLQKLNTNVAKNV...VLF'), id='XP_016811335.1', name='XP_016811335', description='alkaline phosphatase, tissue-nonspecific isozyme isoform X2 [Pan troglodytes]', dbxrefs=['BioProject:PRJNA10627']),\n",
       " SeqRecord(seq=Seq('MSSCSWEMGQLHHNPGEETRLEMDKFPFVALSKTYNTNAQVPDSAGTATAYLCG...VLF'), id='XP_014199352.1', name='XP_014199352', description='alkaline phosphatase, tissue-nonspecific isozyme isoform X4 [Pan paniscus]', dbxrefs=['BioProject:PRJNA633582']),\n",
       " SeqRecord(seq=Seq('MPWGFRSSTQMWPRMSSCSWEMGQLHHNPGEETMLEMDKFPFVALSKTYNTNAQ...ILF'), id='XP_012657050.1', name='XP_012657050', description='alkaline phosphatase, tissue-nonspecific isozyme isoform X2 [Otolemur garnettii]', dbxrefs=['BioProject:PRJNA169348']),\n",
       " SeqRecord(seq=Seq('MPWGFRSSTPTWPRMSSCSWEMGQLHHNTGEETKLEMDKFPFVALSKTYNTNAQ...SLF'), id='XP_012624163.1', name='XP_012624163', description='alkaline phosphatase, tissue-nonspecific isozyme isoform X2 [Microcebus murinus]', dbxrefs=['BioProject:PRJNA285159']),\n",
       " SeqRecord(seq=Seq('MISAFLVLAIGTCLANSLVPEKEKDPKYWRDQAQQTLKHALGLQKLNTNVAKNV...SLF'), id='XP_012624161.1', name='XP_012624161', description='alkaline phosphatase, tissue-nonspecific isozyme isoform X1 [Microcebus murinus]', dbxrefs=['BioProject:PRJNA285159']),\n",
       " SeqRecord(seq=Seq('MPWGFRSSTPTWPRMSSCSWEMGQLHHNPGEETKLEMDKFPFVALSKTYNTNAQ...SLF'), id='XP_012506390.1', name='XP_012506390', description='PREDICTED: alkaline phosphatase, tissue-nonspecific isozyme isoform X3 [Propithecus coquereli]', dbxrefs=['BioProject:PRJNA281642']),\n",
       " SeqRecord(seq=Seq('MFLGDGMGVSTVTAARILKGQLHHNPGEETKLEMDKFPFVALSKTYNTNAQVPD...SLF'), id='XP_012506389.1', name='XP_012506389', description='PREDICTED: alkaline phosphatase, tissue-nonspecific isozyme isoform X2 [Propithecus coquereli]', dbxrefs=['BioProject:PRJNA281642']),\n",
       " SeqRecord(seq=Seq('MISAFLVLAIGTCLTNSLVPEKEKDPKYWRDQAQQTLKHALGLQKLNTNVAKNV...SLF'), id='XP_012506388.1', name='XP_012506388', description='PREDICTED: alkaline phosphatase, tissue-nonspecific isozyme isoform X1 [Propithecus coquereli]', dbxrefs=['BioProject:PRJNA281642']),\n",
       " SeqRecord(seq=Seq('MPWSFRSSTPTWLRMSSCSWEMGQLHHNPGEETRLEMDKFPFVALSKTYNTNAQ...VLF'), id='XP_012295598.1', name='XP_012295598', description='alkaline phosphatase, tissue-nonspecific isozyme isoform X2 [Aotus nancymaae]', dbxrefs=['BioProject:PRJNA282745']),\n",
       " SeqRecord(seq=Seq('MISPFLVLAIGTCLTNSLVPEKEKDPKYWRNQAQETLKYALELQKLNTNVAKNV...VLF'), id='XP_012295596.1', name='XP_012295596', description='alkaline phosphatase, tissue-nonspecific isozyme isoform X1 [Aotus nancymaae]', dbxrefs=['BioProject:PRJNA282745']),\n",
       " SeqRecord(seq=Seq('MFLGDGMGVSTVTATRILKGQLHHNPGEETRLEMDKFPFVALSKTYNTNAQVPD...ILF'), id='XP_011935677.1', name='XP_011935677', description='PREDICTED: alkaline phosphatase, tissue-nonspecific isozyme isoform X5 [Cercocebus atys]', dbxrefs=['BioProject:PRJNA279144']),\n",
       " SeqRecord(seq=Seq('MISPFLVLAIGTCLTNSLVPEKEKDPKYWRDQAQETLKYALELQKLNTNVAKNV...ILF'), id='XP_011935672.1', name='XP_011935672', description='PREDICTED: alkaline phosphatase, tissue-nonspecific isozyme isoform X2 [Cercocebus atys]', dbxrefs=['BioProject:PRJNA279144']),\n",
       " SeqRecord(seq=Seq('MISPFLVLAIGTCLTNSLVPEKEKDPKYWRDQAQETLKYALELQKLNTNVAKNV...SPT'), id='XP_011935671.1', name='XP_011935671', description='PREDICTED: alkaline phosphatase, tissue-nonspecific isozyme isoform X1 [Cercocebus atys]', dbxrefs=['BioProject:PRJNA279144']),\n",
       " SeqRecord(seq=Seq('MISPFLVLAIGTCLTNSLVPGMLGDTGTLSGRRAKVLPIPSRNCLGMSEIDALN...ILF'), id='XP_011845537.1', name='XP_011845537', description='PREDICTED: alkaline phosphatase, tissue-nonspecific isozyme [Mandrillus leucophaeus]', dbxrefs=['BioProject:PRJNA279492']),\n",
       " SeqRecord(seq=Seq('MPWSFRSSTPTWLRMSSCSWEMTYNTNAQVPDSAGTATAYLCGVKANEGTVGVS...ILF'), id='XP_011789365.1', name='XP_011789365', description='PREDICTED: alkaline phosphatase, tissue-nonspecific isozyme isoform X4 [Colobus angolensis palliatus]', dbxrefs=['BioProject:PRJNA279495']),\n",
       " SeqRecord(seq=Seq('MFLGDGMGVSTVTATRILKGQLHHNPGEETRLEMDKFPFVALSKTYNTNAQVPD...ILF'), id='XP_011789364.1', name='XP_011789364', description='PREDICTED: alkaline phosphatase, tissue-nonspecific isozyme isoform X3 [Colobus angolensis palliatus]', dbxrefs=['BioProject:PRJNA279495']),\n",
       " SeqRecord(seq=Seq('MPWSFRSSTPTWLRMSSCSWEMGQLRHNPGEETRLEMDKFPFVALSKTYNTNAQ...VLF'), id='XP_010343782.1', name='XP_010343782', description='alkaline phosphatase, tissue-nonspecific isozyme isoform X2 [Saimiri boliviensis boliviensis]', dbxrefs=['BioProject:PRJNA699579']),\n",
       " SeqRecord(seq=Seq('MPWSFRSSTPTWLRMSSCSWEMGQLHHNPGEETRLEMDKFPFVALSKTYNTNAQ...ILF'), id='XP_008998772.1', name='XP_008998772', description='alkaline phosphatase, tissue-nonspecific isozyme isoform X3 [Callithrix jacchus]', dbxrefs=['BioProject:PRJNA635392']),\n",
       " SeqRecord(seq=Seq('MISPFLVLAIGTCLTNSLVPEKEKDPKYWRNQAQETLKYALELQKLNTNVAKNV...ILF'), id='XP_008998771.1', name='XP_008998771', description='alkaline phosphatase, tissue-nonspecific isozyme isoform X2 [Callithrix jacchus]', dbxrefs=['BioProject:PRJNA635392']),\n",
       " SeqRecord(seq=Seq('MWLRMSSCSWEMTYNTNAQVPDSAGTATAYLCGVKANEGTVGVSAATERSRCNT...MLF'), id='XP_008060915.1', name='XP_008060915', description='alkaline phosphatase, tissue-nonspecific isozyme isoform X3 [Carlito syrichta]', dbxrefs=['BioProject:PRJNA236776']),\n",
       " SeqRecord(seq=Seq('MWLRMSSCSWEMGQLHNNPGEETRLEMDKFPFVALSKTYNTNAQVPDSAGTATA...MLF'), id='XP_008060914.1', name='XP_008060914', description='alkaline phosphatase, tissue-nonspecific isozyme isoform X2 [Carlito syrichta]', dbxrefs=['BioProject:PRJNA236776']),\n",
       " SeqRecord(seq=Seq('MISPFLVLVIGTCLTHCLVPEKEKDPKYWRDQAQQTLKHALGLQKLNTNVAKNV...MLF'), id='XP_008060913.1', name='XP_008060913', description='alkaline phosphatase, tissue-nonspecific isozyme isoform X1 [Carlito syrichta]', dbxrefs=['BioProject:PRJNA236776']),\n",
       " SeqRecord(seq=Seq('MISPFLVLAIGTCLSNSLVPEKEKDPKYWRDQAQETLKYALKLQRLNTNVAKNV...VLF'), id='XP_004024893.1', name='XP_004024893', description='alkaline phosphatase, tissue-nonspecific isozyme [Gorilla gorilla gorilla]', dbxrefs=['BioProject:PRJNA564096']),\n",
       " SeqRecord(seq=Seq('MKQVLGCTMISPFLVLAIGTCLTSSLVPEKEKDPKYWRDQAQETLKYALELQKL...ILF'), id='XP_003271616.1', name='XP_003271616', description='alkaline phosphatase, tissue-nonspecific isozyme isoform X1 [Nomascus leucogenys]', dbxrefs=['BioProject:PRJNA564096'])]"
      ]
     },
     "execution_count": 41,
     "metadata": {},
     "output_type": "execute_result"
    }
   ],
   "source": [
    "seq_records"
   ]
  },
  {
   "cell_type": "markdown",
   "id": "83e76525-0819-4b56-8b19-4ce06a6c2d36",
   "metadata": {},
   "source": [
    "* Copy the output to the cell below"
   ]
  },
  {
   "cell_type": "raw",
   "id": "2250f086-44ec-4b4b-a3d0-d940af12254a",
   "metadata": {},
   "source": [
    "0:\tNP_001358344.1\t(805 aa)\tangiotensin-converting enzyme 2 isoform 1 precursor [Homo sapiens]\n",
    "\tNP_001358344.1\t(805 aa)\tangiotensin-converting enzyme 2 isoform 1 precursor [Homo sapiens]\t*** the same as sequence 0 (excluded) ***\n",
    "1:\tNP_001129168.1\t(805 aa)\tangiotensin-converting enzyme 2 precursor [Macaca mulatta]\n",
    "2:\tXP_016798468.1\t(805 aa)\tangiotensin-converting enzyme 2 isoform X1 [Pan troglodytes]\n",
    "3:\tXP_007989304.2\t(805 aa)\tangiotensin-converting enzyme 2 [Chlorocebus sabaeus]\n",
    "4:\tXP_008987241.1\t(805 aa)\tangiotensin-converting enzyme 2 [Callithrix jacchus]\n",
    "5:\tXP_011891198.1\t(805 aa)\tPREDICTED: angiotensin-converting enzyme 2 [Cercocebus atys]\n",
    "6:\tXP_005593094.1\t(805 aa)\tPREDICTED: angiotensin-converting enzyme 2 [Macaca fascicularis]\n",
    "7:\tXP_011733505.1\t(805 aa)\tangiotensin-converting enzyme 2 [Macaca nemestrina]\n",
    "8:\tXP_021788732.1\t(805 aa)\tangiotensin-converting enzyme 2 [Papio anubis]\n",
    "9:\tXP_025227847.1\t(805 aa)\tangiotensin-converting enzyme 2 [Theropithecus gelada]\n",
    "10:\tXP_011850923.1\t(805 aa)\tPREDICTED: angiotensin-converting enzyme 2 [Mandrillus leucophaeus]\n",
    "11:\tXP_033056809.1\t(805 aa)\tLOW QUALITY PROTEIN: angiotensin-converting enzyme 2 [Trachypithecus francoisi]\n",
    "12:\tXP_017744069.1\t(724 aa)\tPREDICTED: angiotensin-converting enzyme 2 [Rhinopithecus bieti]\n",
    "13:\tXP_010364367.2\t(805 aa)\tangiotensin-converting enzyme 2 [Rhinopithecus roxellana]\n",
    "14:\tXP_023054821.1\t(805 aa)\tangiotensin-converting enzyme 2 [Piliocolobus tephrosceles]\n",
    "15:\tXP_018874749.1\t(805 aa)\tangiotensin-converting enzyme 2 [Gorilla gorilla gorilla]\n",
    "16:\tXP_008972428.2\t(805 aa)\tangiotensin-converting enzyme 2 isoform X1 [Pan paniscus]\n",
    "17:\tNP_001124604.1\t(805 aa)\tangiotensin-converting enzyme 2 precursor [Pongo abelii]\n",
    "18:\tXP_003261132.2\t(805 aa)\tangiotensin-converting enzyme 2 [Nomascus leucogenys]\n",
    "19:\tXP_032612508.1\t(805 aa)\tangiotensin-converting enzyme 2 [Hylobates moloch]\n",
    "20:\tXP_010334925.2\t(805 aa)\tangiotensin-converting enzyme 2 isoform X1 [Saimiri boliviensis boliviensis]\n",
    "21:\tXP_032141854.1\t(805 aa)\tangiotensin-converting enzyme 2 [Sapajus apella]\n",
    "22:\tXP_017367865.1\t(805 aa)\tangiotensin-converting enzyme 2 [Cebus imitator]\n",
    "23:\tXP_012290105.1\t(805 aa)\tangiotensin-converting enzyme 2 [Aotus nancymaae]\n",
    "24:\tXP_008062810.1\t(805 aa)\tangiotensin-converting enzyme 2 [Carlito syrichta]\n",
    "25:\tXP_012494185.1\t(826 aa)\tPREDICTED: angiotensin-converting enzyme 2 [Propithecus coquereli]\n",
    "26:\tXP_020140826.1\t(851 aa)\tangiotensin-converting enzyme 2 [Microcebus murinus]\n",
    "27:\tXP_003791912.1\t(805 aa)\tangiotensin-converting enzyme 2 [Otolemur garnettii]\n",
    "\n",
    "\tTotal:\t28 unique sequences (1 excluded)"
   ]
  },
  {
   "cell_type": "markdown",
   "id": "3eb7ab81-1fc0-498e-8a45-538ce1c80261",
   "metadata": {},
   "source": [
    "* The following cell writes the sequences to the file `ALPL.fasta` (fasta format)."
   ]
  },
  {
   "cell_type": "code",
   "execution_count": 8,
   "id": "97a2e5fb-e47f-43e9-a1c2-2c89c23cac94",
   "metadata": {},
   "outputs": [
    {
     "name": "stdout",
     "output_type": "stream",
     "text": [
      "ACE2 orthologs: unique primate sequences\n",
      "\n",
      "0:\tNP_001358344.1\t(805 aa)\tangiotensin-converting enzyme 2 isoform 1 precursor [Homo sapiens]\n",
      "1:\tNP_001129168.1\t(805 aa)\tangiotensin-converting enzyme 2 precursor [Macaca mulatta]\n",
      "2:\tXP_016798468.1\t(805 aa)\tangiotensin-converting enzyme 2 isoform X1 [Pan troglodytes]\n",
      "3:\tXP_007989304.2\t(805 aa)\tangiotensin-converting enzyme 2 [Chlorocebus sabaeus]\n",
      "4:\tXP_008987241.1\t(805 aa)\tangiotensin-converting enzyme 2 [Callithrix jacchus]\n",
      "5:\tXP_011891198.1\t(805 aa)\tPREDICTED: angiotensin-converting enzyme 2 [Cercocebus atys]\n",
      "6:\tXP_005593094.1\t(805 aa)\tPREDICTED: angiotensin-converting enzyme 2 [Macaca fascicularis]\n",
      "7:\tXP_011733505.1\t(805 aa)\tangiotensin-converting enzyme 2 [Macaca nemestrina]\n",
      "8:\tXP_021788732.1\t(805 aa)\tangiotensin-converting enzyme 2 [Papio anubis]\n",
      "9:\tXP_025227847.1\t(805 aa)\tangiotensin-converting enzyme 2 [Theropithecus gelada]\n",
      "10:\tXP_011850923.1\t(805 aa)\tPREDICTED: angiotensin-converting enzyme 2 [Mandrillus leucophaeus]\n",
      "11:\tXP_033056809.1\t(805 aa)\tLOW QUALITY PROTEIN: angiotensin-converting enzyme 2 [Trachypithecus francoisi]\n",
      "12:\tXP_017744069.1\t(805 aa)\tPREDICTED: angiotensin-converting enzyme 2 [Rhinopithecus bieti]\n",
      "13:\tXP_010364367.2\t(805 aa)\tangiotensin-converting enzyme 2 [Rhinopithecus roxellana]\n",
      "14:\tXP_023054821.1\t(805 aa)\tangiotensin-converting enzyme 2 [Piliocolobus tephrosceles]\n",
      "15:\tXP_018874749.1\t(805 aa)\tangiotensin-converting enzyme 2 [Gorilla gorilla gorilla]\n",
      "16:\tXP_008972428.2\t(805 aa)\tangiotensin-converting enzyme 2 isoform X1 [Pan paniscus]\n",
      "17:\tNP_001124604.1\t(805 aa)\tangiotensin-converting enzyme 2 precursor [Pongo abelii]\n",
      "18:\tXP_003261132.2\t(805 aa)\tangiotensin-converting enzyme 2 [Nomascus leucogenys]\n",
      "19:\tXP_032612508.1\t(805 aa)\tangiotensin-converting enzyme 2 [Hylobates moloch]\n",
      "20:\tXP_010334925.2\t(805 aa)\tangiotensin-converting enzyme 2 isoform X1 [Saimiri boliviensis boliviensis]\n",
      "21:\tXP_032141854.1\t(805 aa)\tangiotensin-converting enzyme 2 [Sapajus apella]\n",
      "22:\tXP_017367865.1\t(805 aa)\tangiotensin-converting enzyme 2 [Cebus imitator]\n",
      "23:\tXP_012290105.1\t(805 aa)\tangiotensin-converting enzyme 2 [Aotus nancymaae]\n",
      "24:\tXP_008062810.1\t(805 aa)\tangiotensin-converting enzyme 2 [Carlito syrichta]\n",
      "25:\tXP_012494185.1\t(805 aa)\tPREDICTED: angiotensin-converting enzyme 2 [Propithecus coquereli]\n",
      "26:\tXP_020140826.1\t(805 aa)\tangiotensin-converting enzyme 2 [Microcebus murinus]\n",
      "27:\tXP_003791912.1\t(805 aa)\tangiotensin-converting enzyme 2 [Otolemur garnettii]\n",
      "\n",
      "ACE2.fasta saved!\n"
     ]
    }
   ],
   "source": [
    "# write the sequences to a fasta file\n",
    "print('{0} orthologs: unique primate sequences\\n'.format(gene))\n",
    "i = 0\n",
    "with open(\"fasta/{0}.fasta\".format(gene), \"w\") as output:\n",
    "    for seq_record in seq_records:\n",
    "        print(\"{3}:\\t{0}\\t({1} aa)\\t{2}\".format(seq_record.id, len(seq), seq_record.description, i))\n",
    "        SeqIO.write(seq_record, output, \"fasta\")\n",
    "        i += 1\n",
    "print(\"\\n{0}.fasta saved!\".format(gene))"
   ]
  },
  {
   "cell_type": "markdown",
   "id": "f144aaf2-dfdb-4d29-bc0f-efb9e10ec3fd",
   "metadata": {},
   "source": [
    "* The following cell aligns the sequences and writes them to the file `ALPL.aln` (also in fasta format).  To look at the alignment open it in [this viewer application](https://alignmentviewer.org/).  (Hannah: you may not be able to run this step.  Just skip it and repeat the sequence processing above for the other genes.)"
   ]
  },
  {
   "cell_type": "code",
   "execution_count": 9,
   "id": "06b24b03-2bde-4df8-b791-328a1fe15c71",
   "metadata": {},
   "outputs": [
    {
     "name": "stdout",
     "output_type": "stream",
     "text": [
      "ACE2 orthologs\n",
      "\n"
     ]
    },
    {
     "ename": "ApplicationError",
     "evalue": "Non-zero return code 127 from 'muscle -in fasta/ACE2.fasta', message '/bin/sh: muscle: command not found'",
     "output_type": "error",
     "traceback": [
      "\u001b[0;31m---------------------------------------------------------------------------\u001b[0m",
      "\u001b[0;31mApplicationError\u001b[0m                          Traceback (most recent call last)",
      "Input \u001b[0;32mIn [9]\u001b[0m, in \u001b[0;36m<cell line: 4>\u001b[0;34m()\u001b[0m\n\u001b[1;32m      2\u001b[0m \u001b[38;5;28mprint\u001b[39m(\u001b[38;5;124m'\u001b[39m\u001b[38;5;132;01m{0}\u001b[39;00m\u001b[38;5;124m orthologs\u001b[39m\u001b[38;5;130;01m\\n\u001b[39;00m\u001b[38;5;124m'\u001b[39m\u001b[38;5;241m.\u001b[39mformat(gene))\n\u001b[1;32m      3\u001b[0m muscle_cline \u001b[38;5;241m=\u001b[39m MuscleCommandline(\u001b[38;5;28minput\u001b[39m\u001b[38;5;241m=\u001b[39m\u001b[38;5;124m'\u001b[39m\u001b[38;5;124mfasta/\u001b[39m\u001b[38;5;132;01m{0}\u001b[39;00m\u001b[38;5;124m.fasta\u001b[39m\u001b[38;5;124m'\u001b[39m\u001b[38;5;241m.\u001b[39mformat(gene))\n\u001b[0;32m----> 4\u001b[0m stdout, stderr \u001b[38;5;241m=\u001b[39m \u001b[43mmuscle_cline\u001b[49m\u001b[43m(\u001b[49m\u001b[43m)\u001b[49m\n\u001b[1;32m      5\u001b[0m align \u001b[38;5;241m=\u001b[39m AlignIO\u001b[38;5;241m.\u001b[39mread(StringIO(stdout), \u001b[38;5;124m'\u001b[39m\u001b[38;5;124mfasta\u001b[39m\u001b[38;5;124m'\u001b[39m)\n\u001b[1;32m      6\u001b[0m AlignIO\u001b[38;5;241m.\u001b[39mwrite(align, \u001b[38;5;124m'\u001b[39m\u001b[38;5;124maln/\u001b[39m\u001b[38;5;132;01m{0}\u001b[39;00m\u001b[38;5;124m.aln\u001b[39m\u001b[38;5;124m'\u001b[39m\u001b[38;5;241m.\u001b[39mformat(gene), \u001b[38;5;124m'\u001b[39m\u001b[38;5;124mfasta\u001b[39m\u001b[38;5;124m'\u001b[39m)\n",
      "File \u001b[0;32m/Library/Frameworks/Python.framework/Versions/3.10/lib/python3.10/site-packages/Bio/Application/__init__.py:574\u001b[0m, in \u001b[0;36mAbstractCommandline.__call__\u001b[0;34m(self, stdin, stdout, stderr, cwd, env)\u001b[0m\n\u001b[1;32m    571\u001b[0m     stderr_arg\u001b[38;5;241m.\u001b[39mclose()\n\u001b[1;32m    573\u001b[0m \u001b[38;5;28;01mif\u001b[39;00m return_code:\n\u001b[0;32m--> 574\u001b[0m     \u001b[38;5;28;01mraise\u001b[39;00m ApplicationError(return_code, \u001b[38;5;28mstr\u001b[39m(\u001b[38;5;28mself\u001b[39m), stdout_str, stderr_str)\n\u001b[1;32m    575\u001b[0m \u001b[38;5;28;01mreturn\u001b[39;00m stdout_str, stderr_str\n",
      "\u001b[0;31mApplicationError\u001b[0m: Non-zero return code 127 from 'muscle -in fasta/ACE2.fasta', message '/bin/sh: muscle: command not found'"
     ]
    }
   ],
   "source": [
    "# align sequences\n",
    "print('{0} orthologs\\n'.format(gene))\n",
    "muscle_cline = MuscleCommandline(input='fasta/{0}.fasta'.format(gene))\n",
    "stdout, stderr = muscle_cline()\n",
    "align = AlignIO.read(StringIO(stdout), 'fasta')\n",
    "AlignIO.write(align, 'aln/{0}.aln'.format(gene), 'fasta')\n",
    "print(align)\n",
    "print(\"\\n{0}.aln saved!\".format(gene))"
   ]
  },
  {
   "cell_type": "markdown",
   "id": "7b7d1326-4d64-4982-8823-75da74b52d13",
   "metadata": {},
   "source": [
    "* Repeat for other genes."
   ]
  },
  {
   "cell_type": "code",
   "execution_count": 10,
   "id": "bb6cd792-0608-4c4e-bc63-055d825cb675",
   "metadata": {},
   "outputs": [],
   "source": [
    "!open ."
   ]
  },
  {
   "cell_type": "code",
   "execution_count": null,
   "id": "f515d4ed-60b7-4cee-ac94-eddcf63e6dcd",
   "metadata": {},
   "outputs": [],
   "source": []
  }
 ],
 "metadata": {
  "kernelspec": {
   "display_name": "Python 3 (ipykernel)",
   "language": "python",
   "name": "python3"
  },
  "language_info": {
   "codemirror_mode": {
    "name": "ipython",
    "version": 3
   },
   "file_extension": ".py",
   "mimetype": "text/x-python",
   "name": "python",
   "nbconvert_exporter": "python",
   "pygments_lexer": "ipython3",
   "version": "3.10.5"
  }
 },
 "nbformat": 4,
 "nbformat_minor": 5
}
