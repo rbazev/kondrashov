{
 "cells": [
  {
   "cell_type": "markdown",
   "id": "9a45b18f-1438-4270-b25d-30d7ccd63703",
   "metadata": {},
   "source": [
    "# Analysis outline\n",
    "\n",
    "The analysis has the following components:\n",
    "\n",
    "1. [orthologs.ipynb](orthologs.ipynb) collect primate orthologs of each human gene from NCBI, remove redundant sequences, save them to a `*.fasta` file.  \n",
    "\n",
    "1. [align.ipynb](align.ipynb) align orthologous sequences in each `*.fasta` file and save it to a `*.aln` file.\n",
    "\n",
    "1. [pathogen.ipynb](pathogen.ipynb) extract pathogenic variants from ClinVar data. \n",
    "\n",
    "1. [clean_up.ipynb](clean_up.ipynb) establish connections between transcripts in ClinVar data and proteins in ortholog collections.\n",
    "\n",
    "1. [find_CPDs.ipynb](find_CPDs.ipynb) find putative CPDs."
   ]
  },
  {
   "cell_type": "markdown",
   "id": "ceda640e-c21f-44b0-b8d2-86b39dbd05e7",
   "metadata": {},
   "source": [
    "# Set up\n",
    "\n",
    "Run the following cell.  It loads some required functions."
   ]
  },
  {
   "cell_type": "code",
   "execution_count": 1,
   "id": "df64b292-2ea7-4ec3-babb-abbbae732351",
   "metadata": {},
   "outputs": [],
   "source": [
    "run kondrashov"
   ]
  },
  {
   "cell_type": "markdown",
   "id": "ffcca603-accf-420a-a3a9-d49bf3a9614e",
   "metadata": {},
   "source": [
    "Run the following two cell.  The first displays the path to the current folder.  The second displays the contents of that folder.  (Note: your output will be different from mine.)"
   ]
  },
  {
   "cell_type": "code",
   "execution_count": 2,
   "id": "934dbbd3-1eef-4618-b572-a80f624d91d8",
   "metadata": {},
   "outputs": [
    {
     "data": {
      "text/plain": [
       "'/Users/arnav/hhh Dropbox/arnav mehta/Mac/Documents/GitHub/kondrashov'"
      ]
     },
     "execution_count": 2,
     "metadata": {},
     "output_type": "execute_result"
    }
   ],
   "source": [
    "pwd"
   ]
  },
  {
   "cell_type": "code",
   "execution_count": 35,
   "id": "84c3cf8a-b8b4-4271-a00a-a2ef84db450d",
   "metadata": {},
   "outputs": [
    {
     "name": "stdout",
     "output_type": "stream",
     "text": [
      "ACE2 ortholog.ipynb    clean_up.ipynb         orthologs-Copy1.ipynb\r\n",
      "README.md              \u001b[34mfasta\u001b[m\u001b[m/                 orthologs.ipynb\r\n",
      "align.ipynb            find_CPDs.ipynb        pathogen.ipynb\r\n",
      "\u001b[34maln\u001b[m\u001b[m/                   kondrashov.py\r\n"
     ]
    }
   ],
   "source": [
    "ls"
   ]
  },
  {
   "cell_type": "markdown",
   "id": "8fdedeb9-2cd8-4fa0-9f33-de8b64d54eb9",
   "metadata": {},
   "source": [
    "If there is no folder called `fasta`, create it by running the following command."
   ]
  },
  {
   "cell_type": "code",
   "execution_count": 36,
   "id": "f93c1b3d-b6d9-4726-ac4c-f0c521e28a71",
   "metadata": {},
   "outputs": [
    {
     "name": "stdout",
     "output_type": "stream",
     "text": [
      "mkdir: fasta: File exists\r\n"
     ]
    }
   ],
   "source": [
    "mkdir fasta"
   ]
  },
  {
   "cell_type": "markdown",
   "id": "8daf83b6-5449-42f4-a9d5-f380cd467e01",
   "metadata": {},
   "source": [
    "If there is no folder called `aln`, create it by running the following command."
   ]
  },
  {
   "cell_type": "code",
   "execution_count": 37,
   "id": "80aa7acc-3303-470d-b7d1-8ab75c7dbf0b",
   "metadata": {},
   "outputs": [
    {
     "name": "stdout",
     "output_type": "stream",
     "text": [
      "mkdir: aln: File exists\r\n"
     ]
    }
   ],
   "source": [
    "mkdir aln"
   ]
  },
  {
   "cell_type": "markdown",
   "id": "516732c7-a4b4-42f1-862b-8d57b2ecd1a4",
   "metadata": {},
   "source": [
    "Rerun the `ls` command above to confirm that you have created those folders successfully. \n",
    "\n",
    "The following defines a function that gets the species name from a NCBI sequence record."
   ]
  },
  {
   "cell_type": "markdown",
   "id": "3ee2f223-394b-4031-9ced-488b29665361",
   "metadata": {},
   "source": [
    "# Get protein sequences for primate orthologs of human genes\n",
    "\n",
    "**Note: this is a new version of the `orthologs.ipynb` notebook that prevents unique human sequences from being dropped.**\n",
    "\n",
    "* Enter the gene name you are working on in the following cell.  In this page I'll use ALPL as an example."
   ]
  },
  {
   "cell_type": "markdown",
   "id": "77288b91-3273-479a-8dd4-a830e4efb43e",
   "metadata": {},
   "source": [
    "## AR"
   ]
  },
  {
   "cell_type": "code",
   "execution_count": 3,
   "id": "e9553276-0e66-4d33-97cf-e8e9e4c8f043",
   "metadata": {},
   "outputs": [],
   "source": [
    "# enter gene name here\n",
    "gene = 'AR'"
   ]
  },
  {
   "cell_type": "markdown",
   "id": "926c4fe2-d68b-4158-bc44-bac377ca58d1",
   "metadata": {},
   "source": [
    "* In the [NCBI query page](https://www.ncbi.nlm.nih.gov/labs/gquery/) search for `Homo sapiens ALPL`.  \n",
    "\n",
    "* When the search results come up ([this is the page for ALPL](https://www.ncbi.nlm.nih.gov/labs/gquery/all/?term=Homo+sapiens+ALPL)) click on `Orthologs`.  Here's what the output looks like for [ALPL](https://www.ncbi.nlm.nih.gov/gene/249/ortholog/?scope=9443&term=ALPL).\n",
    "\n",
    "* Use the Taxonomy Tree to select **mammals > placentals > primates**.  For ALPL, this reduces the number of orthologs from 335 to 29.\n",
    "\n",
    "* In the list of sequences click to select all (box labelled `0 selected`).\n",
    "\n",
    "* Click on `Add to cart`.  The items appear in a box with a shopping cart symbol.  Click on that box.\n",
    "\n",
    "* A popup window appears.  Click on `Protein alignment`.  Choose `all sequences per gene`.  Click `Align`.\n",
    "\n",
    "* Select all the accession numbers in the box (XP_039330133.1, XP_037856105.1, etc) and copy them.\n",
    "\n",
    "* Run the following cell (it pulls the names from the clipboard and puts them on a list)."
   ]
  },
  {
   "cell_type": "code",
   "execution_count": 4,
   "id": "e7898deb-d92d-4028-b302-64413fb9cb30",
   "metadata": {
    "scrolled": true
   },
   "outputs": [
    {
     "name": "stdout",
     "output_type": "stream",
     "text": [
      "AR orthologs: 57 primate sequences (retrieved on 2022-07-21)\n",
      "\n",
      "['XP_045240204.1', 'XP_035145654.1', 'XP_024783077.2', 'XP_034805436.1', 'XP_033057282.1', 'XP_032612996.1', 'XP_032612995.1', 'XP_032612994.1', 'XP_032111718.1', 'XP_032111716.1', 'XP_032111715.1', 'XP_021788817.2', 'XP_003917866.2', 'XP_030790396.1', 'XP_030663287.1', 'XP_030663286.1', 'XP_030663285.1', 'XP_030663284.1', 'XP_025227877.1', 'XP_025227876.1', 'XP_025227875.1', 'XP_024646999.1', 'XP_024208738.1', 'XP_024096028.1', 'XP_024096027.1', 'XP_024096026.1', 'XP_023363561.1', 'XP_023054209.1', 'XP_023054208.1', 'XP_023054207.1', 'NP_001334993.1', 'NP_001334992.1', 'NP_001334990.1', 'XP_018875276.1', 'XP_017375691.1', 'XP_016798174.1', 'XP_012591725.1', 'XP_012499360.1', 'XP_012316262.1', 'XP_012316261.1', 'XP_011731144.1', 'XP_011916275.1', 'XP_011817378.1', 'XP_011835931.1', 'XP_011835925.1', 'XP_009233214.1', 'XP_008062492.1', 'XP_007990129.1', 'XP_005593867.1', 'NP_001266892.1', 'XP_003801358.1', 'XP_002762998.1', 'NP_001124649.1', 'NP_001028083.1', 'NP_001011645.1', 'NP_001009012.1', 'NP_000035.2']\n"
     ]
    }
   ],
   "source": [
    "# copy IDs from NCBI ortholog protein alignment dialog (all sequences per gene)\n",
    "tmp = pd.read_clipboard(sep= '/n', names=['id'])\n",
    "seq_ids = tmp['id'].tolist()\n",
    "print('{0} orthologs: {1} primate sequences (retrieved on {2})\\n'.format(gene, len(seq_ids), date.today()))\n",
    "print(seq_ids)"
   ]
  },
  {
   "cell_type": "code",
   "execution_count": 5,
   "id": "487b8eac-3530-4c2a-bd04-9783b1d0622d",
   "metadata": {},
   "outputs": [
    {
     "name": "stdout",
     "output_type": "stream",
     "text": [
      "AR orthologs: 57 primate sequences\n",
      "\n",
      "['XP_045240204.1', 'XP_035145654.1', 'XP_024783077.2', 'XP_034805436.1', 'XP_033057282.1', 'XP_032612996.1', 'XP_032612995.1', 'XP_032612994.1', 'XP_032111718.1', 'XP_032111716.1', 'XP_032111715.1', 'XP_021788817.2', 'XP_003917866.2', 'XP_030790396.1', 'XP_030663287.1', 'XP_030663286.1', 'XP_030663285.1', 'XP_030663284.1', 'XP_025227877.1', 'XP_025227876.1', 'XP_025227875.1', 'XP_024646999.1', 'XP_024208738.1', 'XP_024096028.1', 'XP_024096027.1', 'XP_024096026.1', 'XP_023363561.1', 'XP_023054209.1', 'XP_023054208.1', 'XP_023054207.1', 'NP_001334993.1', 'NP_001334992.1', 'NP_001334990.1', 'XP_018875276.1', 'XP_017375691.1', 'XP_016798174.1', 'XP_012591725.1', 'XP_012499360.1', 'XP_012316262.1', 'XP_012316261.1', 'XP_011731144.1', 'XP_011916275.1', 'XP_011817378.1', 'XP_011835931.1', 'XP_011835925.1', 'XP_009233214.1', 'XP_008062492.1', 'XP_007990129.1', 'XP_005593867.1', 'NP_001266892.1', 'XP_003801358.1', 'XP_002762998.1', 'NP_001124649.1', 'NP_001028083.1', 'NP_001011645.1', 'NP_001009012.1', 'NP_000035.2']\n"
     ]
    }
   ],
   "source": [
    "# you can do it by hand if you already have all the sequences\n",
    "seq_ids = ['XP_045240204.1', 'XP_035145654.1', 'XP_024783077.2', 'XP_034805436.1', 'XP_033057282.1', 'XP_032612996.1', 'XP_032612995.1', 'XP_032612994.1', 'XP_032111718.1', 'XP_032111716.1', 'XP_032111715.1', 'XP_021788817.2', 'XP_003917866.2', 'XP_030790396.1', 'XP_030663287.1', 'XP_030663286.1', 'XP_030663285.1', 'XP_030663284.1', 'XP_025227877.1', 'XP_025227876.1', 'XP_025227875.1', 'XP_024646999.1', 'XP_024208738.1', 'XP_024096028.1', 'XP_024096027.1', 'XP_024096026.1', 'XP_023363561.1', 'XP_023054209.1', 'XP_023054208.1', 'XP_023054207.1', 'NP_001334993.1', 'NP_001334992.1', 'NP_001334990.1', 'XP_018875276.1', 'XP_017375691.1', 'XP_016798174.1', 'XP_012591725.1', 'XP_012499360.1', 'XP_012316262.1', 'XP_012316261.1', 'XP_011731144.1', 'XP_011916275.1', 'XP_011817378.1', 'XP_011835931.1', 'XP_011835925.1', 'XP_009233214.1', 'XP_008062492.1', 'XP_007990129.1', 'XP_005593867.1', 'NP_001266892.1', 'XP_003801358.1', 'XP_002762998.1', 'NP_001124649.1', 'NP_001028083.1', 'NP_001011645.1', 'NP_001009012.1', 'NP_000035.2']\n",
    "print('{0} orthologs: {1} primate sequences\\n'.format(gene, len(seq_ids)))\n",
    "print(seq_ids)"
   ]
  },
  {
   "cell_type": "markdown",
   "id": "d8513078-e3ad-4ccc-b444-84143326d3b9",
   "metadata": {},
   "source": [
    "* Run the next cell.  It pulls the sequences from NCBI and grabs any unique human sequences.  Then it flags any redundant sequences and drops those.  For ALPL it drops 84 sequences and we end up with 57."
   ]
  },
  {
   "cell_type": "code",
   "execution_count": 6,
   "id": "302f3ad9-2625-4a9a-b405-aee686e2d9e2",
   "metadata": {},
   "outputs": [
    {
     "name": "stdout",
     "output_type": "stream",
     "text": [
      "AR orthologs: all primate sequences\n",
      "\n",
      "0:\tNP_001334993.1\t(572 aa)\tandrogen receptor isoform 5 [Homo sapiens]\n",
      "1:\tNP_001334992.1\t(648 aa)\tandrogen receptor isoform 4 [Homo sapiens]\n",
      "2:\tNP_001334990.1\t(644 aa)\tandrogen receptor isoform 3 [Homo sapiens]\n",
      "3:\tNP_001011645.1\t(388 aa)\tandrogen receptor isoform 2 [Homo sapiens]\n",
      "4:\tNP_000035.2\t(920 aa)\tandrogen receptor isoform 1 [Homo sapiens]\n",
      "5:\tXP_045240204.1\t(622 aa)\tandrogen receptor isoform X2 [Macaca fascicularis]\n",
      "6:\tXP_035145654.1\t(627 aa)\tandrogen receptor isoform X2 [Callithrix jacchus]\n",
      "7:\tXP_024783077.2\t(882 aa)\tandrogen receptor isoform X2 [Pan paniscus]\n",
      "8:\tXP_034805436.1\t(907 aa)\tandrogen receptor isoform X1 [Pan paniscus]\n",
      "9:\tXP_033057282.1\t(383 aa)\tLOW QUALITY PROTEIN: androgen receptor [Trachypithecus francoisi]\n",
      "10:\tXP_032612996.1\t(615 aa)\tandrogen receptor isoform X3 [Hylobates moloch]\n",
      "11:\tXP_032612995.1\t(618 aa)\tandrogen receptor isoform X2 [Hylobates moloch]\n",
      "12:\tXP_032612994.1\t(891 aa)\tandrogen receptor isoform X1 [Hylobates moloch]\n",
      "13:\tXP_032111718.1\t(618 aa)\tandrogen receptor isoform X3 [Sapajus apella]\n",
      "14:\tXP_032111716.1\t(388 aa)\tandrogen receptor isoform X2 [Sapajus apella]\n",
      "15:\tXP_032111715.1\t(890 aa)\tandrogen receptor isoform X1 [Sapajus apella]\n",
      "16:\tXP_021788817.2\t(624 aa)\tandrogen receptor isoform X2 [Papio anubis]\n",
      "17:\tXP_003917866.2\t(896 aa)\tandrogen receptor isoform X1 [Papio anubis]\n",
      "18:\tXP_030790396.1\t(904 aa)\tandrogen receptor [Rhinopithecus roxellana]\n",
      "19:\tXP_030663287.1\t(551 aa)\tandrogen receptor isoform X4 [Nomascus leucogenys]\n",
      "20:\tXP_030663286.1\t(623 aa)\tandrogen receptor isoform X3 [Nomascus leucogenys]\n",
      "21:\tXP_030663285.1\t(626 aa)\tandrogen receptor isoform X2 [Nomascus leucogenys]\n",
      "22:\tXP_030663284.1\t(899 aa)\tandrogen receptor isoform X1 [Nomascus leucogenys]\n",
      "23:\tXP_025227877.1\t(622 aa)\tandrogen receptor isoform X3 [Theropithecus gelada]\n",
      "24:\tXP_025227876.1\t(626 aa)\tandrogen receptor isoform X2 [Theropithecus gelada]\n",
      "25:\tXP_025227875.1\t(898 aa)\tandrogen receptor isoform X1 [Theropithecus gelada]\n",
      "26:\tXP_024646999.1\t(625 aa)\tandrogen receptor isoform X2 [Macaca nemestrina]\n",
      "27:\tXP_024208738.1\t(641 aa)\tandrogen receptor isoform X2 [Pan troglodytes]\n",
      "28:\tXP_024096028.1\t(632 aa)\tandrogen receptor isoform X4 [Pongo abelii]\n",
      "29:\tXP_024096027.1\t(636 aa)\tandrogen receptor isoform X3 [Pongo abelii]\n",
      "30:\tXP_024096026.1\t(895 aa)\tandrogen receptor isoform X2 [Pongo abelii]\n",
      "31:\tXP_023363561.1\t(591 aa)\tandrogen receptor isoform X2 [Otolemur garnettii]\n",
      "32:\tXP_023054209.1\t(624 aa)\tandrogen receptor isoform X3 [Piliocolobus tephrosceles]\n",
      "33:\tXP_023054208.1\t(627 aa)\tandrogen receptor isoform X2 [Piliocolobus tephrosceles]\n",
      "34:\tXP_023054207.1\t(900 aa)\tandrogen receptor isoform X1 [Piliocolobus tephrosceles]\n",
      "\tNP_001334993.1\t(572 aa)\tandrogen receptor isoform 5 [Homo sapiens]\t*** the same as sequence 0 (excluded) ***\n",
      "\tNP_001334992.1\t(648 aa)\tandrogen receptor isoform 4 [Homo sapiens]\t*** the same as sequence 1 (excluded) ***\n",
      "\tNP_001334990.1\t(644 aa)\tandrogen receptor isoform 3 [Homo sapiens]\t*** the same as sequence 2 (excluded) ***\n",
      "35:\tXP_018875276.1\t(902 aa)\tandrogen receptor [Gorilla gorilla gorilla]\n",
      "36:\tXP_017375691.1\t(887 aa)\tandrogen receptor [Cebus imitator]\n",
      "\tXP_016798174.1\t(388 aa)\tandrogen receptor isoform X1 [Pan troglodytes]\t*** the same as sequence 3 (excluded) ***\n",
      "37:\tXP_012591725.1\t(887 aa)\tandrogen receptor [Microcebus murinus]\n",
      "38:\tXP_012499360.1\t(886 aa)\tPREDICTED: androgen receptor [Propithecus coquereli]\n",
      "39:\tXP_012316262.1\t(749 aa)\tandrogen receptor isoform X2 [Aotus nancymaae]\n",
      "40:\tXP_012316261.1\t(887 aa)\tandrogen receptor isoform X1 [Aotus nancymaae]\n",
      "41:\tXP_011731144.1\t(898 aa)\tandrogen receptor isoform X1 [Macaca nemestrina]\n",
      "42:\tXP_011916275.1\t(897 aa)\tPREDICTED: androgen receptor [Cercocebus atys]\n",
      "43:\tXP_011817378.1\t(897 aa)\tPREDICTED: androgen receptor [Colobus angolensis palliatus]\n",
      "44:\tXP_011835931.1\t(388 aa)\tPREDICTED: androgen receptor isoform X2 [Mandrillus leucophaeus]\n",
      "45:\tXP_011835925.1\t(894 aa)\tPREDICTED: androgen receptor isoform X1 [Mandrillus leucophaeus]\n",
      "46:\tXP_009233214.1\t(908 aa)\tandrogen receptor isoform X1 [Pongo abelii]\n",
      "47:\tXP_008062492.1\t(887 aa)\tandrogen receptor [Carlito syrichta]\n",
      "48:\tXP_007990129.1\t(900 aa)\tandrogen receptor [Chlorocebus sabaeus]\n",
      "49:\tXP_005593867.1\t(895 aa)\tandrogen receptor isoform X1 [Macaca fascicularis]\n",
      "50:\tNP_001266892.1\t(918 aa)\tandrogen receptor [Saimiri boliviensis]\n",
      "51:\tXP_003801358.1\t(897 aa)\tandrogen receptor isoform X1 [Otolemur garnettii]\n",
      "52:\tXP_002762998.1\t(887 aa)\tandrogen receptor isoform X1 [Callithrix jacchus]\n",
      "\tNP_001124649.1\t(388 aa)\tandrogen receptor [Pongo abelii]\t*** the same as sequence 3 (excluded) ***\n",
      "53:\tNP_001028083.1\t(895 aa)\tandrogen receptor [Macaca mulatta]\n",
      "\tNP_001011645.1\t(388 aa)\tandrogen receptor isoform 2 [Homo sapiens]\t*** the same as sequence 3 (excluded) ***\n",
      "54:\tNP_001009012.1\t(911 aa)\tandrogen receptor [Pan troglodytes]\n",
      "\tNP_000035.2\t(920 aa)\tandrogen receptor isoform 1 [Homo sapiens]\t*** the same as sequence 4 (excluded) ***\n",
      "\n",
      "\tTotal:\t55 unique sequences (7 excluded)\n"
     ]
    }
   ],
   "source": [
    "# 1. Collect unique human sequences\n",
    "print('{0} orthologs: all primate sequences\\n'.format(gene))\n",
    "all_sequences = []\n",
    "seq_records = []\n",
    "inc = 0\n",
    "exc = 0\n",
    "with Entrez.efetch(\n",
    "    db=\"protein\", rettype=\"gb\", retmode=\"text\", id=seq_ids,\n",
    ") as handle:\n",
    "    for seq_record in SeqIO.parse(handle, \"gb\"):\n",
    "        sp = get_species(seq_record)\n",
    "        if sp == 'Homo sapiens':\n",
    "            seq = seq_record.seq\n",
    "            if seq in all_sequences:\n",
    "                print(\"\\t{0}\\t({1} aa)\\t{2}\\t*** the same as sequence {3} (excluded) ***\".format(seq_record.id, len(seq), seq_record.description, all_sequences.index(seq)))\n",
    "                exc += 1\n",
    "            else:\n",
    "                all_sequences.append(seq)\n",
    "                print(\"{3}:\\t{0}\\t({1} aa)\\t{2}\".format(seq_record.id, len(seq), seq_record.description, inc))\n",
    "                seq_records.append(seq_record)\n",
    "                inc += 1\n",
    "# # 2. Collect other unique sequences\n",
    "with Entrez.efetch(\n",
    "    db=\"protein\", rettype=\"gb\", retmode=\"text\", id=seq_ids,\n",
    ") as handle:\n",
    "    for seq_record in SeqIO.parse(handle, \"gb\"):\n",
    "        seq = seq_record.seq\n",
    "        if seq in all_sequences:\n",
    "            print(\"\\t{0}\\t({1} aa)\\t{2}\\t*** the same as sequence {3} (excluded) ***\".format(seq_record.id, len(seq), seq_record.description, all_sequences.index(seq)))\n",
    "            exc += 1\n",
    "        else:\n",
    "            all_sequences.append(seq)\n",
    "            print(\"{3}:\\t{0}\\t({1} aa)\\t{2}\".format(seq_record.id, len(seq), seq_record.description, inc))\n",
    "            seq_records.append(seq_record)\n",
    "            inc += 1\n",
    "print('\\n\\tTotal:\\t', inc, ' unique sequences (', exc, ' excluded)', sep='')"
   ]
  },
  {
   "cell_type": "code",
   "execution_count": 41,
   "id": "d8bf98bf-82d0-4da5-bdef-d412aa2629d3",
   "metadata": {},
   "outputs": [
    {
     "data": {
      "text/plain": [
       "[SeqRecord(seq=Seq('MISPFLVLAIGTCLTNSLVPEKEKDPKYWRDQAQETLKYALELQKLNTNVAKNV...VLF'), id='NP_001356734.1', name='NP_001356734', description='alkaline phosphatase, tissue-nonspecific isozyme isoform 1 preproprotein [Homo sapiens]', dbxrefs=[]),\n",
       " SeqRecord(seq=Seq('MPWSFRSSTPTWLRMSSCSWEMGQLHHNPGEETRLEMDKFPFVALSKTYNTNAQ...VLF'), id='XP_016856392.1', name='XP_016856392', description='alkaline phosphatase, tissue-nonspecific isozyme isoform X1 [Homo sapiens]', dbxrefs=['BioProject:PRJNA168']),\n",
       " SeqRecord(seq=Seq('MPWSFRSSTPTWLRMSSCSWEMTYNTNAQVPDSAGTATAYLCGVKANEGTVGVS...VLF'), id='NP_001170991.1', name='NP_001170991', description='alkaline phosphatase, tissue-nonspecific isozyme isoform 3 [Homo sapiens]', dbxrefs=[]),\n",
       " SeqRecord(seq=Seq('MFLGDGMGVSTVTAARILKGQLHHNPGEETRLEMDKFPFVALSKTYNTNAQVPD...VLF'), id='NP_001120973.2', name='NP_001120973', description='alkaline phosphatase, tissue-nonspecific isozyme isoform 2 [Homo sapiens]', dbxrefs=[]),\n",
       " SeqRecord(seq=Seq('MISPFLVLAIGTCLTNSLVPEKEKDPKYWRDQAQETLKYALELQKLNTNVAKNV...ILF'), id='XP_045234812.1', name='XP_045234812', description='alkaline phosphatase, tissue-nonspecific isozyme [Macaca fascicularis]', dbxrefs=['BioProject:PRJNA690070']),\n",
       " SeqRecord(seq=Seq('MISPFLVLAVGTCLTSSLVPEKEKDPKYWRNQAQETLKYALELQKLNTNVAKNV...VLF'), id='XP_039330133.1', name='XP_039330133', description='alkaline phosphatase, tissue-nonspecific isozyme isoform X1 [Saimiri boliviensis boliviensis]', dbxrefs=['BioProject:PRJNA699579']),\n",
       " SeqRecord(seq=Seq('MSSCSWEMGQLHHNPGEETRLEMDKFPFVALSKTYNTNAQVPDSAGTATAYLCG...ILF'), id='XP_037856105.1', name='XP_037856105', description='alkaline phosphatase, tissue-nonspecific isozyme isoform X4 [Chlorocebus sabaeus]', dbxrefs=['BioProject:PRJNA680339']),\n",
       " SeqRecord(seq=Seq('MISPFLVLAIGTCLTNSLVPEKEKDPKYWRDQAQETLKYALELQKLNTNVAKNV...ILF'), id='XP_037856035.1', name='XP_037856035', description='alkaline phosphatase, tissue-nonspecific isozyme isoform X1 [Chlorocebus sabaeus]', dbxrefs=['BioProject:PRJNA680339']),\n",
       " SeqRecord(seq=Seq('MFLGDGMGVSTVTATRILKGQLHHNPGEETRLEMDKFPFVALSKTYNTNAQVPD...ILF'), id='XP_037856000.1', name='XP_037856000', description='alkaline phosphatase, tissue-nonspecific isozyme isoform X3 [Chlorocebus sabaeus]', dbxrefs=['BioProject:PRJNA680339']),\n",
       " SeqRecord(seq=Seq('MPWSFRSSTPTWLRMSSCSWEMTYNTNAQVPDSAGTATAYLCGVKANEGTVGVS...VLF'), id='XP_037586579.1', name='XP_037586579', description='alkaline phosphatase, tissue-nonspecific isozyme isoform X3 [Cebus imitator]', dbxrefs=['BioProject:PRJNA328123']),\n",
       " SeqRecord(seq=Seq('MISPFLVLAIGTCLTSSLVPEKEKDPKYWRNQAQETLKYALELQKLNTNVAKNV...VLF'), id='XP_037586562.1', name='XP_037586562', description='alkaline phosphatase, tissue-nonspecific isozyme isoform X1 [Cebus imitator]', dbxrefs=['BioProject:PRJNA328123']),\n",
       " SeqRecord(seq=Seq('MISPFLVLAIGTCLTNSLVPEKEKDPKYWRNQAQETLKYALELQKLNTNVAKNV...ILF'), id='XP_035162547.1', name='XP_035162547', description='alkaline phosphatase, tissue-nonspecific isozyme isoform X1 [Callithrix jacchus]', dbxrefs=['BioProject:PRJNA635392']),\n",
       " SeqRecord(seq=Seq('MPWSFRSSTPTWLRMSSCSWEMGQLHHNPGEETRLEMDKFPFVALSKTYNTNAQ...ILF'), id='XP_033083840.1', name='XP_033083840', description='alkaline phosphatase, tissue-nonspecific isozyme isoform X2 [Trachypithecus francoisi]', dbxrefs=['BioProject:PRJNA614514']),\n",
       " SeqRecord(seq=Seq('MISPFLVLAIGTCLTNSLVPEKEKDPKYWRDQAQETLKYALELQKLNTNVAKNV...ILF'), id='XP_033083839.1', name='XP_033083839', description='alkaline phosphatase, tissue-nonspecific isozyme isoform X1 [Trachypithecus francoisi]', dbxrefs=['BioProject:PRJNA614514']),\n",
       " SeqRecord(seq=Seq('MPWSFRSSTPTWLRMSSCSWEMGQLHHNPGEETRLEMDKFPFVALSKTYNTNAQ...ILF'), id='XP_032615100.1', name='XP_032615100', description='alkaline phosphatase, tissue-nonspecific isozyme isoform X2 [Hylobates moloch]', dbxrefs=['BioProject:PRJNA600985']),\n",
       " SeqRecord(seq=Seq('MKQVLGCTMISPFLVLAIGTCLTNSLVPEKEKDPKYWRDQAQETLKYALELQKL...ILF'), id='XP_032615099.1', name='XP_032615099', description='alkaline phosphatase, tissue-nonspecific isozyme isoform X1 [Hylobates moloch]', dbxrefs=['BioProject:PRJNA600985']),\n",
       " SeqRecord(seq=Seq('MPWSFRSSTPTWLRMSSCSWEMGQLHHNPGEETRLEMDKFPFVALSKTYNTNAQ...VLF'), id='XP_032156584.1', name='XP_032156584', description='alkaline phosphatase, tissue-nonspecific isozyme isoform X3 [Sapajus apella]', dbxrefs=['BioProject:PRJNA599380']),\n",
       " SeqRecord(seq=Seq('MISPFLVLAIGTCLTSSLVPEKEKDPKYWRNQAQETLKYALELQKLNTNVAKNV...VLF'), id='XP_032156583.1', name='XP_032156583', description='alkaline phosphatase, tissue-nonspecific isozyme isoform X2 [Sapajus apella]', dbxrefs=['BioProject:PRJNA599380']),\n",
       " SeqRecord(seq=Seq('MPWSFRSSTPTWLRMSSCSWEMGQLHHNPGEETRLEMDKFPFVALSKTYNTNAQ...ILF'), id='XP_031521026.1', name='XP_031521026', description='alkaline phosphatase, tissue-nonspecific isozyme isoform X5 [Papio anubis]', dbxrefs=['BioProject:PRJNA576697']),\n",
       " SeqRecord(seq=Seq('MISPFLVLAIGTCLTNSLVPEKEKDPKYWRDQAQETLKYALELQKLNTNVAKNV...ILF'), id='XP_031521023.1', name='XP_031521023', description='alkaline phosphatase, tissue-nonspecific isozyme isoform X4 [Papio anubis]', dbxrefs=['BioProject:PRJNA576697']),\n",
       " SeqRecord(seq=Seq('MPAASLGDQGHSGTESLPSQHLQPTWVKDELMDEKGKEKEKDPKYWRDQAQETL...ILF'), id='XP_031521022.1', name='XP_031521022', description='alkaline phosphatase, tissue-nonspecific isozyme isoform X2 [Papio anubis]', dbxrefs=['BioProject:PRJNA576697']),\n",
       " SeqRecord(seq=Seq('MPAASLGDQGHSGTESLPSQHLQPTWVKDELMDEKGKEKEKDPKYWRDQAQETL...ILF'), id='XP_031521018.1', name='XP_031521018', description='alkaline phosphatase, tissue-nonspecific isozyme isoform X1 [Papio anubis]', dbxrefs=['BioProject:PRJNA576697']),\n",
       " SeqRecord(seq=Seq('MPWSFRSSTPTWLRMSSCSWEMGQLHHNPGEETRLEMDKFPFVALSKTYNTNAQ...ILF'), id='XP_030661091.1', name='XP_030661091', description='alkaline phosphatase, tissue-nonspecific isozyme isoform X2 [Nomascus leucogenys]', dbxrefs=['BioProject:PRJNA564096']),\n",
       " SeqRecord(seq=Seq('MPWSFRSSTPTWLRMSSCSWEMTYNTNAQVPDSAGTATAYLCGVKANEGTVGVS...ILF'), id='XP_025210047.1', name='XP_025210047', description='alkaline phosphatase, tissue-nonspecific isozyme isoform X4 [Theropithecus gelada]', dbxrefs=['BioProject:PRJNA477372']),\n",
       " SeqRecord(seq=Seq('MFLGDGMGVSTVTATRILKGQLHHNPGEETRLEMDKFPFVALSKTYNTNAQVPD...ILF'), id='XP_025210038.1', name='XP_025210038', description='alkaline phosphatase, tissue-nonspecific isozyme isoform X3 [Theropithecus gelada]', dbxrefs=['BioProject:PRJNA477372']),\n",
       " SeqRecord(seq=Seq('MPWSFRSSTPTWLRMSSCSWEMGQLHHNPGEETRLEMDKFPFVALSKTYNTNAQ...ILF'), id='XP_025210030.1', name='XP_025210030', description='alkaline phosphatase, tissue-nonspecific isozyme isoform X2 [Theropithecus gelada]', dbxrefs=['BioProject:PRJNA477372']),\n",
       " SeqRecord(seq=Seq('MISPFVVLAIGTCLTNSLVPEKEKDPKYWRDQAQETLKYALELQKLNTNVAKNV...ILF'), id='XP_025210024.1', name='XP_025210024', description='alkaline phosphatase, tissue-nonspecific isozyme isoform X1 [Theropithecus gelada]', dbxrefs=['BioProject:PRJNA477372']),\n",
       " SeqRecord(seq=Seq('MISPFLVLAIGTCLTNSLVPEKEKDPKYWRDQAQETLKYALELQKLNTNVAKNV...VLF'), id='XP_002811389.2', name='XP_002811389', description='alkaline phosphatase, tissue-nonspecific isozyme [Pongo abelii]', dbxrefs=['BioProject:PRJNA37793']),\n",
       " SeqRecord(seq=Seq('MISAFLILAIGTCLTNSFVPEKEKDPEYWRRQAQQTLKHALGLQKLNTNVAKNV...ILF'), id='XP_012657049.2', name='XP_012657049', description='alkaline phosphatase, tissue-nonspecific isozyme isoform X1 [Otolemur garnettii]', dbxrefs=['BioProject:PRJNA169348']),\n",
       " SeqRecord(seq=Seq('MISPFLVLAIGTCLTNSLVPEKEKDPKYWRDQAQETLKYALELQKLNTNVAKNV...ILF'), id='XP_017742028.1', name='XP_017742028', description='PREDICTED: alkaline phosphatase, tissue-nonspecific isozyme isoform X2 [Rhinopithecus bieti]', dbxrefs=['BioProject:PRJNA339282']),\n",
       " SeqRecord(seq=Seq('MISPFLVLAIGTCLTNSLVPEKEKDPKYWRDQAQETLKYALELQKLNTNVAKNV...ILF'), id='XP_017742025.1', name='XP_017742025', description='PREDICTED: alkaline phosphatase, tissue-nonspecific isozyme isoform X1 [Rhinopithecus bieti]', dbxrefs=['BioProject:PRJNA339282']),\n",
       " SeqRecord(seq=Seq('MISPFLVLAIGTCLTNSLVPEKEKDPKYWRDQAQETLKYALKLQKLNTNVAKNV...VLF'), id='XP_016811347.1', name='XP_016811347', description='alkaline phosphatase, tissue-nonspecific isozyme isoform X1 [Pan troglodytes]', dbxrefs=['BioProject:PRJNA10627']),\n",
       " SeqRecord(seq=Seq('MFLGDGMGVSTVTAARILKGQLHHNPGEETRLEMDKFPFVALSKTYNTNAQVPD...VLF'), id='XP_016811339.1', name='XP_016811339', description='alkaline phosphatase, tissue-nonspecific isozyme isoform X3 [Pan troglodytes]', dbxrefs=['BioProject:PRJNA10627']),\n",
       " SeqRecord(seq=Seq('MISPFLVLAIGTCLTNSLVPEKEKDPKYWRDQAQETLKYALKLQKLNTNVAKNV...VLF'), id='XP_016811335.1', name='XP_016811335', description='alkaline phosphatase, tissue-nonspecific isozyme isoform X2 [Pan troglodytes]', dbxrefs=['BioProject:PRJNA10627']),\n",
       " SeqRecord(seq=Seq('MSSCSWEMGQLHHNPGEETRLEMDKFPFVALSKTYNTNAQVPDSAGTATAYLCG...VLF'), id='XP_014199352.1', name='XP_014199352', description='alkaline phosphatase, tissue-nonspecific isozyme isoform X4 [Pan paniscus]', dbxrefs=['BioProject:PRJNA633582']),\n",
       " SeqRecord(seq=Seq('MPWGFRSSTQMWPRMSSCSWEMGQLHHNPGEETMLEMDKFPFVALSKTYNTNAQ...ILF'), id='XP_012657050.1', name='XP_012657050', description='alkaline phosphatase, tissue-nonspecific isozyme isoform X2 [Otolemur garnettii]', dbxrefs=['BioProject:PRJNA169348']),\n",
       " SeqRecord(seq=Seq('MPWGFRSSTPTWPRMSSCSWEMGQLHHNTGEETKLEMDKFPFVALSKTYNTNAQ...SLF'), id='XP_012624163.1', name='XP_012624163', description='alkaline phosphatase, tissue-nonspecific isozyme isoform X2 [Microcebus murinus]', dbxrefs=['BioProject:PRJNA285159']),\n",
       " SeqRecord(seq=Seq('MISAFLVLAIGTCLANSLVPEKEKDPKYWRDQAQQTLKHALGLQKLNTNVAKNV...SLF'), id='XP_012624161.1', name='XP_012624161', description='alkaline phosphatase, tissue-nonspecific isozyme isoform X1 [Microcebus murinus]', dbxrefs=['BioProject:PRJNA285159']),\n",
       " SeqRecord(seq=Seq('MPWGFRSSTPTWPRMSSCSWEMGQLHHNPGEETKLEMDKFPFVALSKTYNTNAQ...SLF'), id='XP_012506390.1', name='XP_012506390', description='PREDICTED: alkaline phosphatase, tissue-nonspecific isozyme isoform X3 [Propithecus coquereli]', dbxrefs=['BioProject:PRJNA281642']),\n",
       " SeqRecord(seq=Seq('MFLGDGMGVSTVTAARILKGQLHHNPGEETKLEMDKFPFVALSKTYNTNAQVPD...SLF'), id='XP_012506389.1', name='XP_012506389', description='PREDICTED: alkaline phosphatase, tissue-nonspecific isozyme isoform X2 [Propithecus coquereli]', dbxrefs=['BioProject:PRJNA281642']),\n",
       " SeqRecord(seq=Seq('MISAFLVLAIGTCLTNSLVPEKEKDPKYWRDQAQQTLKHALGLQKLNTNVAKNV...SLF'), id='XP_012506388.1', name='XP_012506388', description='PREDICTED: alkaline phosphatase, tissue-nonspecific isozyme isoform X1 [Propithecus coquereli]', dbxrefs=['BioProject:PRJNA281642']),\n",
       " SeqRecord(seq=Seq('MPWSFRSSTPTWLRMSSCSWEMGQLHHNPGEETRLEMDKFPFVALSKTYNTNAQ...VLF'), id='XP_012295598.1', name='XP_012295598', description='alkaline phosphatase, tissue-nonspecific isozyme isoform X2 [Aotus nancymaae]', dbxrefs=['BioProject:PRJNA282745']),\n",
       " SeqRecord(seq=Seq('MISPFLVLAIGTCLTNSLVPEKEKDPKYWRNQAQETLKYALELQKLNTNVAKNV...VLF'), id='XP_012295596.1', name='XP_012295596', description='alkaline phosphatase, tissue-nonspecific isozyme isoform X1 [Aotus nancymaae]', dbxrefs=['BioProject:PRJNA282745']),\n",
       " SeqRecord(seq=Seq('MFLGDGMGVSTVTATRILKGQLHHNPGEETRLEMDKFPFVALSKTYNTNAQVPD...ILF'), id='XP_011935677.1', name='XP_011935677', description='PREDICTED: alkaline phosphatase, tissue-nonspecific isozyme isoform X5 [Cercocebus atys]', dbxrefs=['BioProject:PRJNA279144']),\n",
       " SeqRecord(seq=Seq('MISPFLVLAIGTCLTNSLVPEKEKDPKYWRDQAQETLKYALELQKLNTNVAKNV...ILF'), id='XP_011935672.1', name='XP_011935672', description='PREDICTED: alkaline phosphatase, tissue-nonspecific isozyme isoform X2 [Cercocebus atys]', dbxrefs=['BioProject:PRJNA279144']),\n",
       " SeqRecord(seq=Seq('MISPFLVLAIGTCLTNSLVPEKEKDPKYWRDQAQETLKYALELQKLNTNVAKNV...SPT'), id='XP_011935671.1', name='XP_011935671', description='PREDICTED: alkaline phosphatase, tissue-nonspecific isozyme isoform X1 [Cercocebus atys]', dbxrefs=['BioProject:PRJNA279144']),\n",
       " SeqRecord(seq=Seq('MISPFLVLAIGTCLTNSLVPGMLGDTGTLSGRRAKVLPIPSRNCLGMSEIDALN...ILF'), id='XP_011845537.1', name='XP_011845537', description='PREDICTED: alkaline phosphatase, tissue-nonspecific isozyme [Mandrillus leucophaeus]', dbxrefs=['BioProject:PRJNA279492']),\n",
       " SeqRecord(seq=Seq('MPWSFRSSTPTWLRMSSCSWEMTYNTNAQVPDSAGTATAYLCGVKANEGTVGVS...ILF'), id='XP_011789365.1', name='XP_011789365', description='PREDICTED: alkaline phosphatase, tissue-nonspecific isozyme isoform X4 [Colobus angolensis palliatus]', dbxrefs=['BioProject:PRJNA279495']),\n",
       " SeqRecord(seq=Seq('MFLGDGMGVSTVTATRILKGQLHHNPGEETRLEMDKFPFVALSKTYNTNAQVPD...ILF'), id='XP_011789364.1', name='XP_011789364', description='PREDICTED: alkaline phosphatase, tissue-nonspecific isozyme isoform X3 [Colobus angolensis palliatus]', dbxrefs=['BioProject:PRJNA279495']),\n",
       " SeqRecord(seq=Seq('MPWSFRSSTPTWLRMSSCSWEMGQLRHNPGEETRLEMDKFPFVALSKTYNTNAQ...VLF'), id='XP_010343782.1', name='XP_010343782', description='alkaline phosphatase, tissue-nonspecific isozyme isoform X2 [Saimiri boliviensis boliviensis]', dbxrefs=['BioProject:PRJNA699579']),\n",
       " SeqRecord(seq=Seq('MPWSFRSSTPTWLRMSSCSWEMGQLHHNPGEETRLEMDKFPFVALSKTYNTNAQ...ILF'), id='XP_008998772.1', name='XP_008998772', description='alkaline phosphatase, tissue-nonspecific isozyme isoform X3 [Callithrix jacchus]', dbxrefs=['BioProject:PRJNA635392']),\n",
       " SeqRecord(seq=Seq('MISPFLVLAIGTCLTNSLVPEKEKDPKYWRNQAQETLKYALELQKLNTNVAKNV...ILF'), id='XP_008998771.1', name='XP_008998771', description='alkaline phosphatase, tissue-nonspecific isozyme isoform X2 [Callithrix jacchus]', dbxrefs=['BioProject:PRJNA635392']),\n",
       " SeqRecord(seq=Seq('MWLRMSSCSWEMTYNTNAQVPDSAGTATAYLCGVKANEGTVGVSAATERSRCNT...MLF'), id='XP_008060915.1', name='XP_008060915', description='alkaline phosphatase, tissue-nonspecific isozyme isoform X3 [Carlito syrichta]', dbxrefs=['BioProject:PRJNA236776']),\n",
       " SeqRecord(seq=Seq('MWLRMSSCSWEMGQLHNNPGEETRLEMDKFPFVALSKTYNTNAQVPDSAGTATA...MLF'), id='XP_008060914.1', name='XP_008060914', description='alkaline phosphatase, tissue-nonspecific isozyme isoform X2 [Carlito syrichta]', dbxrefs=['BioProject:PRJNA236776']),\n",
       " SeqRecord(seq=Seq('MISPFLVLVIGTCLTHCLVPEKEKDPKYWRDQAQQTLKHALGLQKLNTNVAKNV...MLF'), id='XP_008060913.1', name='XP_008060913', description='alkaline phosphatase, tissue-nonspecific isozyme isoform X1 [Carlito syrichta]', dbxrefs=['BioProject:PRJNA236776']),\n",
       " SeqRecord(seq=Seq('MISPFLVLAIGTCLSNSLVPEKEKDPKYWRDQAQETLKYALKLQRLNTNVAKNV...VLF'), id='XP_004024893.1', name='XP_004024893', description='alkaline phosphatase, tissue-nonspecific isozyme [Gorilla gorilla gorilla]', dbxrefs=['BioProject:PRJNA564096']),\n",
       " SeqRecord(seq=Seq('MKQVLGCTMISPFLVLAIGTCLTSSLVPEKEKDPKYWRDQAQETLKYALELQKL...ILF'), id='XP_003271616.1', name='XP_003271616', description='alkaline phosphatase, tissue-nonspecific isozyme isoform X1 [Nomascus leucogenys]', dbxrefs=['BioProject:PRJNA564096'])]"
      ]
     },
     "execution_count": 41,
     "metadata": {},
     "output_type": "execute_result"
    }
   ],
   "source": [
    "seq_records"
   ]
  },
  {
   "cell_type": "markdown",
   "id": "83e76525-0819-4b56-8b19-4ce06a6c2d36",
   "metadata": {},
   "source": [
    "* Copy the output to the cell below"
   ]
  },
  {
   "cell_type": "raw",
   "id": "2250f086-44ec-4b4b-a3d0-d940af12254a",
   "metadata": {},
   "source": [
    "AR orthologs: all primate sequences\n",
    "\n",
    "0:\tNP_001334993.1\t(572 aa)\tandrogen receptor isoform 5 [Homo sapiens]\n",
    "1:\tNP_001334992.1\t(648 aa)\tandrogen receptor isoform 4 [Homo sapiens]\n",
    "2:\tNP_001334990.1\t(644 aa)\tandrogen receptor isoform 3 [Homo sapiens]\n",
    "3:\tNP_001011645.1\t(388 aa)\tandrogen receptor isoform 2 [Homo sapiens]\n",
    "4:\tNP_000035.2\t(920 aa)\tandrogen receptor isoform 1 [Homo sapiens]\n",
    "5:\tXP_045240204.1\t(622 aa)\tandrogen receptor isoform X2 [Macaca fascicularis]\n",
    "6:\tXP_035145654.1\t(627 aa)\tandrogen receptor isoform X2 [Callithrix jacchus]\n",
    "7:\tXP_024783077.2\t(882 aa)\tandrogen receptor isoform X2 [Pan paniscus]\n",
    "8:\tXP_034805436.1\t(907 aa)\tandrogen receptor isoform X1 [Pan paniscus]\n",
    "9:\tXP_033057282.1\t(383 aa)\tLOW QUALITY PROTEIN: androgen receptor [Trachypithecus francoisi]\n",
    "10:\tXP_032612996.1\t(615 aa)\tandrogen receptor isoform X3 [Hylobates moloch]\n",
    "11:\tXP_032612995.1\t(618 aa)\tandrogen receptor isoform X2 [Hylobates moloch]\n",
    "12:\tXP_032612994.1\t(891 aa)\tandrogen receptor isoform X1 [Hylobates moloch]\n",
    "13:\tXP_032111718.1\t(618 aa)\tandrogen receptor isoform X3 [Sapajus apella]\n",
    "14:\tXP_032111716.1\t(388 aa)\tandrogen receptor isoform X2 [Sapajus apella]\n",
    "15:\tXP_032111715.1\t(890 aa)\tandrogen receptor isoform X1 [Sapajus apella]\n",
    "16:\tXP_021788817.2\t(624 aa)\tandrogen receptor isoform X2 [Papio anubis]\n",
    "17:\tXP_003917866.2\t(896 aa)\tandrogen receptor isoform X1 [Papio anubis]\n",
    "18:\tXP_030790396.1\t(904 aa)\tandrogen receptor [Rhinopithecus roxellana]\n",
    "19:\tXP_030663287.1\t(551 aa)\tandrogen receptor isoform X4 [Nomascus leucogenys]\n",
    "20:\tXP_030663286.1\t(623 aa)\tandrogen receptor isoform X3 [Nomascus leucogenys]\n",
    "21:\tXP_030663285.1\t(626 aa)\tandrogen receptor isoform X2 [Nomascus leucogenys]\n",
    "22:\tXP_030663284.1\t(899 aa)\tandrogen receptor isoform X1 [Nomascus leucogenys]\n",
    "23:\tXP_025227877.1\t(622 aa)\tandrogen receptor isoform X3 [Theropithecus gelada]\n",
    "24:\tXP_025227876.1\t(626 aa)\tandrogen receptor isoform X2 [Theropithecus gelada]\n",
    "25:\tXP_025227875.1\t(898 aa)\tandrogen receptor isoform X1 [Theropithecus gelada]\n",
    "26:\tXP_024646999.1\t(625 aa)\tandrogen receptor isoform X2 [Macaca nemestrina]\n",
    "27:\tXP_024208738.1\t(641 aa)\tandrogen receptor isoform X2 [Pan troglodytes]\n",
    "28:\tXP_024096028.1\t(632 aa)\tandrogen receptor isoform X4 [Pongo abelii]\n",
    "29:\tXP_024096027.1\t(636 aa)\tandrogen receptor isoform X3 [Pongo abelii]\n",
    "30:\tXP_024096026.1\t(895 aa)\tandrogen receptor isoform X2 [Pongo abelii]\n",
    "31:\tXP_023363561.1\t(591 aa)\tandrogen receptor isoform X2 [Otolemur garnettii]\n",
    "32:\tXP_023054209.1\t(624 aa)\tandrogen receptor isoform X3 [Piliocolobus tephrosceles]\n",
    "33:\tXP_023054208.1\t(627 aa)\tandrogen receptor isoform X2 [Piliocolobus tephrosceles]\n",
    "34:\tXP_023054207.1\t(900 aa)\tandrogen receptor isoform X1 [Piliocolobus tephrosceles]\n",
    "\tNP_001334993.1\t(572 aa)\tandrogen receptor isoform 5 [Homo sapiens]\t*** the same as sequence 0 (excluded) ***\n",
    "\tNP_001334992.1\t(648 aa)\tandrogen receptor isoform 4 [Homo sapiens]\t*** the same as sequence 1 (excluded) ***\n",
    "\tNP_001334990.1\t(644 aa)\tandrogen receptor isoform 3 [Homo sapiens]\t*** the same as sequence 2 (excluded) ***\n",
    "35:\tXP_018875276.1\t(902 aa)\tandrogen receptor [Gorilla gorilla gorilla]\n",
    "36:\tXP_017375691.1\t(887 aa)\tandrogen receptor [Cebus imitator]\n",
    "\tXP_016798174.1\t(388 aa)\tandrogen receptor isoform X1 [Pan troglodytes]\t*** the same as sequence 3 (excluded) ***\n",
    "37:\tXP_012591725.1\t(887 aa)\tandrogen receptor [Microcebus murinus]\n",
    "38:\tXP_012499360.1\t(886 aa)\tPREDICTED: androgen receptor [Propithecus coquereli]\n",
    "39:\tXP_012316262.1\t(749 aa)\tandrogen receptor isoform X2 [Aotus nancymaae]\n",
    "40:\tXP_012316261.1\t(887 aa)\tandrogen receptor isoform X1 [Aotus nancymaae]\n",
    "41:\tXP_011731144.1\t(898 aa)\tandrogen receptor isoform X1 [Macaca nemestrina]\n",
    "42:\tXP_011916275.1\t(897 aa)\tPREDICTED: androgen receptor [Cercocebus atys]\n",
    "43:\tXP_011817378.1\t(897 aa)\tPREDICTED: androgen receptor [Colobus angolensis palliatus]\n",
    "44:\tXP_011835931.1\t(388 aa)\tPREDICTED: androgen receptor isoform X2 [Mandrillus leucophaeus]\n",
    "45:\tXP_011835925.1\t(894 aa)\tPREDICTED: androgen receptor isoform X1 [Mandrillus leucophaeus]\n",
    "46:\tXP_009233214.1\t(908 aa)\tandrogen receptor isoform X1 [Pongo abelii]\n",
    "47:\tXP_008062492.1\t(887 aa)\tandrogen receptor [Carlito syrichta]\n",
    "48:\tXP_007990129.1\t(900 aa)\tandrogen receptor [Chlorocebus sabaeus]\n",
    "49:\tXP_005593867.1\t(895 aa)\tandrogen receptor isoform X1 [Macaca fascicularis]\n",
    "50:\tNP_001266892.1\t(918 aa)\tandrogen receptor [Saimiri boliviensis]\n",
    "51:\tXP_003801358.1\t(897 aa)\tandrogen receptor isoform X1 [Otolemur garnettii]\n",
    "52:\tXP_002762998.1\t(887 aa)\tandrogen receptor isoform X1 [Callithrix jacchus]\n",
    "\tNP_001124649.1\t(388 aa)\tandrogen receptor [Pongo abelii]\t*** the same as sequence 3 (excluded) ***\n",
    "53:\tNP_001028083.1\t(895 aa)\tandrogen receptor [Macaca mulatta]\n",
    "\tNP_001011645.1\t(388 aa)\tandrogen receptor isoform 2 [Homo sapiens]\t*** the same as sequence 3 (excluded) ***\n",
    "54:\tNP_001009012.1\t(911 aa)\tandrogen receptor [Pan troglodytes]\n",
    "\tNP_000035.2\t(920 aa)\tandrogen receptor isoform 1 [Homo sapiens]\t*** the same as sequence 4 (excluded) ***\n",
    "\n",
    "\tTotal:\t55 unique sequences (7 excluded)\n"
   ]
  },
  {
   "cell_type": "markdown",
   "id": "3eb7ab81-1fc0-498e-8a45-538ce1c80261",
   "metadata": {},
   "source": [
    "* The following cell writes the sequences to the file `ALPL.fasta` (fasta format)."
   ]
  },
  {
   "cell_type": "code",
   "execution_count": 7,
   "id": "97a2e5fb-e47f-43e9-a1c2-2c89c23cac94",
   "metadata": {},
   "outputs": [
    {
     "name": "stdout",
     "output_type": "stream",
     "text": [
      "AR orthologs: unique primate sequences\n",
      "\n",
      "0:\tNP_001334993.1\t(920 aa)\tandrogen receptor isoform 5 [Homo sapiens]\n",
      "1:\tNP_001334992.1\t(920 aa)\tandrogen receptor isoform 4 [Homo sapiens]\n",
      "2:\tNP_001334990.1\t(920 aa)\tandrogen receptor isoform 3 [Homo sapiens]\n",
      "3:\tNP_001011645.1\t(920 aa)\tandrogen receptor isoform 2 [Homo sapiens]\n",
      "4:\tNP_000035.2\t(920 aa)\tandrogen receptor isoform 1 [Homo sapiens]\n",
      "5:\tXP_045240204.1\t(920 aa)\tandrogen receptor isoform X2 [Macaca fascicularis]\n",
      "6:\tXP_035145654.1\t(920 aa)\tandrogen receptor isoform X2 [Callithrix jacchus]\n",
      "7:\tXP_024783077.2\t(920 aa)\tandrogen receptor isoform X2 [Pan paniscus]\n",
      "8:\tXP_034805436.1\t(920 aa)\tandrogen receptor isoform X1 [Pan paniscus]\n",
      "9:\tXP_033057282.1\t(920 aa)\tLOW QUALITY PROTEIN: androgen receptor [Trachypithecus francoisi]\n",
      "10:\tXP_032612996.1\t(920 aa)\tandrogen receptor isoform X3 [Hylobates moloch]\n",
      "11:\tXP_032612995.1\t(920 aa)\tandrogen receptor isoform X2 [Hylobates moloch]\n",
      "12:\tXP_032612994.1\t(920 aa)\tandrogen receptor isoform X1 [Hylobates moloch]\n",
      "13:\tXP_032111718.1\t(920 aa)\tandrogen receptor isoform X3 [Sapajus apella]\n",
      "14:\tXP_032111716.1\t(920 aa)\tandrogen receptor isoform X2 [Sapajus apella]\n",
      "15:\tXP_032111715.1\t(920 aa)\tandrogen receptor isoform X1 [Sapajus apella]\n",
      "16:\tXP_021788817.2\t(920 aa)\tandrogen receptor isoform X2 [Papio anubis]\n",
      "17:\tXP_003917866.2\t(920 aa)\tandrogen receptor isoform X1 [Papio anubis]\n",
      "18:\tXP_030790396.1\t(920 aa)\tandrogen receptor [Rhinopithecus roxellana]\n",
      "19:\tXP_030663287.1\t(920 aa)\tandrogen receptor isoform X4 [Nomascus leucogenys]\n",
      "20:\tXP_030663286.1\t(920 aa)\tandrogen receptor isoform X3 [Nomascus leucogenys]\n",
      "21:\tXP_030663285.1\t(920 aa)\tandrogen receptor isoform X2 [Nomascus leucogenys]\n",
      "22:\tXP_030663284.1\t(920 aa)\tandrogen receptor isoform X1 [Nomascus leucogenys]\n",
      "23:\tXP_025227877.1\t(920 aa)\tandrogen receptor isoform X3 [Theropithecus gelada]\n",
      "24:\tXP_025227876.1\t(920 aa)\tandrogen receptor isoform X2 [Theropithecus gelada]\n",
      "25:\tXP_025227875.1\t(920 aa)\tandrogen receptor isoform X1 [Theropithecus gelada]\n",
      "26:\tXP_024646999.1\t(920 aa)\tandrogen receptor isoform X2 [Macaca nemestrina]\n",
      "27:\tXP_024208738.1\t(920 aa)\tandrogen receptor isoform X2 [Pan troglodytes]\n",
      "28:\tXP_024096028.1\t(920 aa)\tandrogen receptor isoform X4 [Pongo abelii]\n",
      "29:\tXP_024096027.1\t(920 aa)\tandrogen receptor isoform X3 [Pongo abelii]\n",
      "30:\tXP_024096026.1\t(920 aa)\tandrogen receptor isoform X2 [Pongo abelii]\n",
      "31:\tXP_023363561.1\t(920 aa)\tandrogen receptor isoform X2 [Otolemur garnettii]\n",
      "32:\tXP_023054209.1\t(920 aa)\tandrogen receptor isoform X3 [Piliocolobus tephrosceles]\n",
      "33:\tXP_023054208.1\t(920 aa)\tandrogen receptor isoform X2 [Piliocolobus tephrosceles]\n",
      "34:\tXP_023054207.1\t(920 aa)\tandrogen receptor isoform X1 [Piliocolobus tephrosceles]\n",
      "35:\tXP_018875276.1\t(920 aa)\tandrogen receptor [Gorilla gorilla gorilla]\n",
      "36:\tXP_017375691.1\t(920 aa)\tandrogen receptor [Cebus imitator]\n",
      "37:\tXP_012591725.1\t(920 aa)\tandrogen receptor [Microcebus murinus]\n",
      "38:\tXP_012499360.1\t(920 aa)\tPREDICTED: androgen receptor [Propithecus coquereli]\n",
      "39:\tXP_012316262.1\t(920 aa)\tandrogen receptor isoform X2 [Aotus nancymaae]\n",
      "40:\tXP_012316261.1\t(920 aa)\tandrogen receptor isoform X1 [Aotus nancymaae]\n",
      "41:\tXP_011731144.1\t(920 aa)\tandrogen receptor isoform X1 [Macaca nemestrina]\n",
      "42:\tXP_011916275.1\t(920 aa)\tPREDICTED: androgen receptor [Cercocebus atys]\n",
      "43:\tXP_011817378.1\t(920 aa)\tPREDICTED: androgen receptor [Colobus angolensis palliatus]\n",
      "44:\tXP_011835931.1\t(920 aa)\tPREDICTED: androgen receptor isoform X2 [Mandrillus leucophaeus]\n",
      "45:\tXP_011835925.1\t(920 aa)\tPREDICTED: androgen receptor isoform X1 [Mandrillus leucophaeus]\n",
      "46:\tXP_009233214.1\t(920 aa)\tandrogen receptor isoform X1 [Pongo abelii]\n",
      "47:\tXP_008062492.1\t(920 aa)\tandrogen receptor [Carlito syrichta]\n",
      "48:\tXP_007990129.1\t(920 aa)\tandrogen receptor [Chlorocebus sabaeus]\n",
      "49:\tXP_005593867.1\t(920 aa)\tandrogen receptor isoform X1 [Macaca fascicularis]\n",
      "50:\tNP_001266892.1\t(920 aa)\tandrogen receptor [Saimiri boliviensis]\n",
      "51:\tXP_003801358.1\t(920 aa)\tandrogen receptor isoform X1 [Otolemur garnettii]\n",
      "52:\tXP_002762998.1\t(920 aa)\tandrogen receptor isoform X1 [Callithrix jacchus]\n",
      "53:\tNP_001028083.1\t(920 aa)\tandrogen receptor [Macaca mulatta]\n",
      "54:\tNP_001009012.1\t(920 aa)\tandrogen receptor [Pan troglodytes]\n",
      "\n",
      "AR.fasta saved!\n"
     ]
    }
   ],
   "source": [
    "# write the sequences to a fasta file\n",
    "print('{0} orthologs: unique primate sequences\\n'.format(gene))\n",
    "i = 0\n",
    "with open(\"fasta/{0}.fasta\".format(gene), \"w\") as output:\n",
    "    for seq_record in seq_records:\n",
    "        print(\"{3}:\\t{0}\\t({1} aa)\\t{2}\".format(seq_record.id, len(seq), seq_record.description, i))\n",
    "        SeqIO.write(seq_record, output, \"fasta\")\n",
    "        i += 1\n",
    "print(\"\\n{0}.fasta saved!\".format(gene))"
   ]
  },
  {
   "cell_type": "markdown",
   "id": "f144aaf2-dfdb-4d29-bc0f-efb9e10ec3fd",
   "metadata": {},
   "source": [
    "* The following cell aligns the sequences and writes them to the file `ALPL.aln` (also in fasta format).  To look at the alignment open it in [this viewer application](https://alignmentviewer.org/).  (Hannah: you may not be able to run this step.  Just skip it and repeat the sequence processing above for the other genes.)"
   ]
  },
  {
   "cell_type": "code",
   "execution_count": 8,
   "id": "06b24b03-2bde-4df8-b791-328a1fe15c71",
   "metadata": {},
   "outputs": [
    {
     "name": "stdout",
     "output_type": "stream",
     "text": [
      "AR orthologs\n",
      "\n"
     ]
    },
    {
     "ename": "ApplicationError",
     "evalue": "Non-zero return code 127 from 'muscle -in fasta/AR.fasta', message '/bin/sh: muscle: command not found'",
     "output_type": "error",
     "traceback": [
      "\u001b[0;31m---------------------------------------------------------------------------\u001b[0m",
      "\u001b[0;31mApplicationError\u001b[0m                          Traceback (most recent call last)",
      "Input \u001b[0;32mIn [8]\u001b[0m, in \u001b[0;36m<cell line: 4>\u001b[0;34m()\u001b[0m\n\u001b[1;32m      2\u001b[0m \u001b[38;5;28mprint\u001b[39m(\u001b[38;5;124m'\u001b[39m\u001b[38;5;132;01m{0}\u001b[39;00m\u001b[38;5;124m orthologs\u001b[39m\u001b[38;5;130;01m\\n\u001b[39;00m\u001b[38;5;124m'\u001b[39m\u001b[38;5;241m.\u001b[39mformat(gene))\n\u001b[1;32m      3\u001b[0m muscle_cline \u001b[38;5;241m=\u001b[39m MuscleCommandline(\u001b[38;5;28minput\u001b[39m\u001b[38;5;241m=\u001b[39m\u001b[38;5;124m'\u001b[39m\u001b[38;5;124mfasta/\u001b[39m\u001b[38;5;132;01m{0}\u001b[39;00m\u001b[38;5;124m.fasta\u001b[39m\u001b[38;5;124m'\u001b[39m\u001b[38;5;241m.\u001b[39mformat(gene))\n\u001b[0;32m----> 4\u001b[0m stdout, stderr \u001b[38;5;241m=\u001b[39m \u001b[43mmuscle_cline\u001b[49m\u001b[43m(\u001b[49m\u001b[43m)\u001b[49m\n\u001b[1;32m      5\u001b[0m align \u001b[38;5;241m=\u001b[39m AlignIO\u001b[38;5;241m.\u001b[39mread(StringIO(stdout), \u001b[38;5;124m'\u001b[39m\u001b[38;5;124mfasta\u001b[39m\u001b[38;5;124m'\u001b[39m)\n\u001b[1;32m      6\u001b[0m AlignIO\u001b[38;5;241m.\u001b[39mwrite(align, \u001b[38;5;124m'\u001b[39m\u001b[38;5;124maln/\u001b[39m\u001b[38;5;132;01m{0}\u001b[39;00m\u001b[38;5;124m.aln\u001b[39m\u001b[38;5;124m'\u001b[39m\u001b[38;5;241m.\u001b[39mformat(gene), \u001b[38;5;124m'\u001b[39m\u001b[38;5;124mfasta\u001b[39m\u001b[38;5;124m'\u001b[39m)\n",
      "File \u001b[0;32m/Library/Frameworks/Python.framework/Versions/3.10/lib/python3.10/site-packages/Bio/Application/__init__.py:574\u001b[0m, in \u001b[0;36mAbstractCommandline.__call__\u001b[0;34m(self, stdin, stdout, stderr, cwd, env)\u001b[0m\n\u001b[1;32m    571\u001b[0m     stderr_arg\u001b[38;5;241m.\u001b[39mclose()\n\u001b[1;32m    573\u001b[0m \u001b[38;5;28;01mif\u001b[39;00m return_code:\n\u001b[0;32m--> 574\u001b[0m     \u001b[38;5;28;01mraise\u001b[39;00m ApplicationError(return_code, \u001b[38;5;28mstr\u001b[39m(\u001b[38;5;28mself\u001b[39m), stdout_str, stderr_str)\n\u001b[1;32m    575\u001b[0m \u001b[38;5;28;01mreturn\u001b[39;00m stdout_str, stderr_str\n",
      "\u001b[0;31mApplicationError\u001b[0m: Non-zero return code 127 from 'muscle -in fasta/AR.fasta', message '/bin/sh: muscle: command not found'"
     ]
    }
   ],
   "source": [
    "# align sequences\n",
    "print('{0} orthologs\\n'.format(gene))\n",
    "muscle_cline = MuscleCommandline(input='fasta/{0}.fasta'.format(gene))\n",
    "stdout, stderr = muscle_cline()\n",
    "align = AlignIO.read(StringIO(stdout), 'fasta')\n",
    "AlignIO.write(align, 'aln/{0}.aln'.format(gene), 'fasta')\n",
    "print(align)\n",
    "print(\"\\n{0}.aln saved!\".format(gene))"
   ]
  },
  {
   "cell_type": "markdown",
   "id": "7b7d1326-4d64-4982-8823-75da74b52d13",
   "metadata": {},
   "source": [
    "* Repeat for other genes."
   ]
  },
  {
   "cell_type": "code",
   "execution_count": 10,
   "id": "bb6cd792-0608-4c4e-bc63-055d825cb675",
   "metadata": {},
   "outputs": [],
   "source": [
    "!open ."
   ]
  },
  {
   "cell_type": "code",
   "execution_count": null,
   "id": "f515d4ed-60b7-4cee-ac94-eddcf63e6dcd",
   "metadata": {},
   "outputs": [],
   "source": []
  }
 ],
 "metadata": {
  "kernelspec": {
   "display_name": "Python 3 (ipykernel)",
   "language": "python",
   "name": "python3"
  },
  "language_info": {
   "codemirror_mode": {
    "name": "ipython",
    "version": 3
   },
   "file_extension": ".py",
   "mimetype": "text/x-python",
   "name": "python",
   "nbconvert_exporter": "python",
   "pygments_lexer": "ipython3",
   "version": "3.10.5"
  }
 },
 "nbformat": 4,
 "nbformat_minor": 5
}
