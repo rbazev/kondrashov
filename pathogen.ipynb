{
 "cells": [
  {
   "cell_type": "markdown",
   "id": "627af2ed-835c-4719-9242-3226f4396dca",
   "metadata": {
    "tags": []
   },
   "source": [
    "## Extract pathogenic variants from ClinVar data\n",
    "\n",
    "I renamed the folder `clinvar`.  I then survey all *Clinical significance* categories in the data."
   ]
  },
  {
   "cell_type": "code",
   "execution_count": 1,
   "id": "5e343e05-0adb-407b-ae52-565d1968ba32",
   "metadata": {},
   "outputs": [],
   "source": [
    "run kondrashov"
   ]
  },
  {
   "cell_type": "code",
   "execution_count": 2,
   "id": "81cde8dc-3bfa-4975-abc9-72da43c5ac3a",
   "metadata": {
    "tags": []
   },
   "outputs": [
    {
     "name": "stdout",
     "output_type": "stream",
     "text": [
      "ABCD1 325 325\n",
      "ALPL 187 512\n",
      "AR 189 701\n",
      "ATP7B 509 1210\n",
      "BTK 160 1370\n",
      "CASR 770 2140\n",
      "CBS 228 2368\n",
      "CFTR 1289 3657\n",
      "CYBB 151 3808\n",
      "F7 50 3858\n",
      "F8 363 4221\n",
      "F9 181 4402\n",
      "G6PD 119 4521\n",
      "GALT 300 4821\n",
      "GBA 160 4981\n",
      "GJB1 415 5396\n",
      "HBB 473 5869\n",
      "HPRT1 56 5925\n",
      "IL2RG 115 6040\n",
      "KCNH2 1084 7124\n",
      "KCNQ1 673 7797\n",
      "L1CAM 148 7945\n",
      "LDLR 1459 9404\n",
      "MPZ 289 9693\n",
      "MYH7 1625 11318\n",
      "TYR 139 11457\n",
      "PAH 602 12059\n",
      "PMM2 109 12168\n",
      "RHO 198 12366\n",
      "TP53 1054 13420\n",
      "TTR 147 13567\n",
      "VWF 583 14150\n"
     ]
    }
   ],
   "source": [
    "signif = []\n",
    "for gene in loci:\n",
    "    vardata = pd.read_table('clinvar/' + gene + '_clinvar.txt.txt', sep='\\t')\n",
    "    n = len(vardata)\n",
    "    for i in range(n):\n",
    "        tmp = vardata['Clinical significance (Last reviewed)'][i]\n",
    "        signif.append(tmp.split('(Last')[0])\n",
    "    print(gene, n, len(signif))"
   ]
  },
  {
   "cell_type": "code",
   "execution_count": 3,
   "id": "4d048cf7-714a-434c-ae6c-6f1b46e26210",
   "metadata": {},
   "outputs": [
    {
     "data": {
      "text/plain": [
       "Uncertain significance                                       6400\n",
       "Pathogenic                                                   2562\n",
       "Likely pathogenic                                            1721\n",
       "Conflicting interpretations of pathogenicity                 1178\n",
       "not provided                                                  769\n",
       "Pathogenic/Likely pathogenic                                  691\n",
       "Likely benign                                                 285\n",
       "other                                                         237\n",
       "Benign                                                        126\n",
       "Benign/Likely benign                                           65\n",
       "Pathogenic, other                                              63\n",
       "drug response                                                  16\n",
       "no interpretation for the single variant                       12\n",
       "Pathogenic, drug response                                      10\n",
       "Pathogenic/Likely pathogenic, drug response                     6\n",
       "Conflicting interpretations of pathogenicity, other             3\n",
       "Conflicting interpretations of pathogenicity, risk factor       2\n",
       "Pathogenic/Likely pathogenic, other                             1\n",
       "Likely pathogenic, drug response                                1\n",
       "Pathogenic, risk factor                                         1\n",
       "Pathogenic/Likely pathogenic, risk factor                       1\n",
       "dtype: int64"
      ]
     },
     "execution_count": 3,
     "metadata": {},
     "output_type": "execute_result"
    }
   ],
   "source": [
    "categs = pd.Series(signif).value_counts()\n",
    "categs"
   ]
  },
  {
   "cell_type": "markdown",
   "id": "0214a4c3-c2ea-46ef-ac9e-bebb907a73e0",
   "metadata": {},
   "source": [
    "We then construct a condition to isolate *Pathogenic* and *Likely pathogenic* variants only."
   ]
  },
  {
   "cell_type": "code",
   "execution_count": 4,
   "id": "868528cd-b2fc-498f-833a-ecc2921f1835",
   "metadata": {},
   "outputs": [
    {
     "name": "stdout",
     "output_type": "stream",
     "text": [
      "Pathogenic\n",
      "Likely pathogenic\n",
      "Pathogenic/Likely pathogenic\n",
      "Pathogenic, other\n",
      "Pathogenic, drug response\n",
      "Pathogenic/Likely pathogenic, drug response\n",
      "Pathogenic/Likely pathogenic, other\n",
      "Likely pathogenic, drug response\n",
      "Pathogenic, risk factor\n",
      "Pathogenic/Likely pathogenic, risk factor\n"
     ]
    }
   ],
   "source": [
    "clin = categs.index.tolist()\n",
    "for i in clin:\n",
    "    if (i[:4]=='Path') or (i[:11]=='Likely path'):\n",
    "        print(i)"
   ]
  },
  {
   "cell_type": "markdown",
   "id": "8c42b759-2131-4bcc-96b8-c4b72174b766",
   "metadata": {},
   "source": [
    "The following categories are not included."
   ]
  },
  {
   "cell_type": "code",
   "execution_count": 5,
   "id": "043e5723-9bd1-494a-8594-db891ec37a78",
   "metadata": {},
   "outputs": [
    {
     "name": "stdout",
     "output_type": "stream",
     "text": [
      "Uncertain significance\n",
      "Conflicting interpretations of pathogenicity\n",
      "not provided\n",
      "Likely benign\n",
      "other\n",
      "Benign\n",
      "Benign/Likely benign\n",
      "drug response\n",
      "no interpretation for the single variant\n",
      "Conflicting interpretations of pathogenicity, other\n",
      "Conflicting interpretations of pathogenicity, risk factor\n"
     ]
    }
   ],
   "source": [
    "for i in clin:\n",
    "    if (i[:4]=='Path') or (i[:11]=='Likely path'):\n",
    "        pass\n",
    "    else:\n",
    "        print(i)"
   ]
  },
  {
   "cell_type": "markdown",
   "id": "7b6b74af-557c-435d-9f3f-9868c0a9fe9c",
   "metadata": {},
   "source": [
    "Finally, we generate new spreadsheets with only pathogenic entries in a new folder `pathogenic`.  **We focus on those data from now on.**"
   ]
  },
  {
   "cell_type": "code",
   "execution_count": 6,
   "id": "04b1d6cb-6fa8-4b85-b0a7-fe9e30f6e9c0",
   "metadata": {},
   "outputs": [],
   "source": [
    "!mkdir pathogenic"
   ]
  },
  {
   "cell_type": "code",
   "execution_count": 7,
   "id": "d640c475-d2ca-4fd8-ba37-72e6c3915d0c",
   "metadata": {
    "tags": []
   },
   "outputs": [
    {
     "name": "stdout",
     "output_type": "stream",
     "text": [
      "ABCD1 325 134\n",
      "ALPL 187 76\n",
      "AR 189 132\n",
      "ATP7B 509 185\n",
      "BTK 160 102\n",
      "CASR 770 109\n",
      "CBS 228 68\n",
      "CFTR 1289 391\n",
      "CYBB 151 55\n",
      "F7 50 26\n",
      "F8 363 269\n",
      "F9 181 138\n",
      "G6PD 119 53\n",
      "GALT 300 174\n",
      "GBA 160 103\n",
      "GJB1 415 111\n",
      "HBB 473 127\n",
      "HPRT1 56 46\n",
      "IL2RG 115 55\n",
      "KCNH2 1084 206\n",
      "KCNQ1 673 210\n",
      "L1CAM 148 54\n",
      "LDLR 1459 808\n",
      "MPZ 289 97\n",
      "MYH7 1625 270\n",
      "TYR 139 72\n",
      "PAH 602 358\n",
      "PMM2 109 56\n",
      "RHO 198 105\n",
      "TP53 1054 241\n",
      "TTR 147 77\n",
      "VWF 583 149\n"
     ]
    }
   ],
   "source": [
    "for gene in loci:\n",
    "    pathog = []\n",
    "    vardata = pd.read_table('clinvar/' + gene + '_clinvar.txt.txt', sep='\\t')\n",
    "    n = len(vardata)\n",
    "    for i in range(n):\n",
    "        signif = vardata['Clinical significance (Last reviewed)'][i]\n",
    "        if (signif[:4]=='Path') or (signif[:11]=='Likely path'):\n",
    "            pathog.append(True)\n",
    "        else:\n",
    "            pathog.append(False)\n",
    "    vardata['Pathogenic'] = pathog\n",
    "    print(gene, n, sum(pathog))\n",
    "    tmp = vardata[vardata['Pathogenic']==True]\n",
    "    del tmp['Pathogenic']\n",
    "    tmp.to_csv('pathogenic/' + gene + '_clinvar.csv', index=False)"
   ]
  },
  {
   "cell_type": "code",
   "execution_count": 8,
   "id": "2b58b3c5-e183-4b48-8272-2a5494f2d368",
   "metadata": {},
   "outputs": [
    {
     "name": "stdout",
     "output_type": "stream",
     "text": [
      "ABCD1_clinvar.csv  CYBB_clinvar.csv   HBB_clinvar.csv    MYH7_clinvar.csv\n",
      "ALPL_clinvar.csv   F7_clinvar.csv     HPRT1_clinvar.csv  PAH_clinvar.csv\n",
      "AR_clinvar.csv     F8_clinvar.csv     IL2RG_clinvar.csv  PMM2_clinvar.csv\n",
      "ATP7B_clinvar.csv  F9_clinvar.csv     KCNH2_clinvar.csv  RHO_clinvar.csv\n",
      "BTK_clinvar.csv    G6PD_clinvar.csv   KCNQ1_clinvar.csv  TP53_clinvar.csv\n",
      "CASR_clinvar.csv   GALT_clinvar.csv   L1CAM_clinvar.csv  TTR_clinvar.csv\n",
      "CBS_clinvar.csv    GBA_clinvar.csv    LDLR_clinvar.csv   TYR_clinvar.csv\n",
      "CFTR_clinvar.csv   GJB1_clinvar.csv   MPZ_clinvar.csv    VWF_clinvar.csv\n"
     ]
    }
   ],
   "source": [
    "ls pathogenic/"
   ]
  },
  {
   "cell_type": "code",
   "execution_count": 1,
   "id": "249eed26-bda0-4cee-b29d-99cf0794c5bb",
   "metadata": {},
   "outputs": [],
   "source": [
    "!open ."
   ]
  },
  {
   "cell_type": "code",
   "execution_count": null,
   "id": "9ecc906a-df95-4d3b-bf7a-442bd9d8434d",
   "metadata": {},
   "outputs": [],
   "source": []
  }
 ],
 "metadata": {
  "kernelspec": {
   "display_name": "Python 3",
   "language": "python",
   "name": "python3"
  },
  "language_info": {
   "codemirror_mode": {
    "name": "ipython",
    "version": 3
   },
   "file_extension": ".py",
   "mimetype": "text/x-python",
   "name": "python",
   "nbconvert_exporter": "python",
   "pygments_lexer": "ipython3",
   "version": "3.7.10"
  }
 },
 "nbformat": 4,
 "nbformat_minor": 5
}
